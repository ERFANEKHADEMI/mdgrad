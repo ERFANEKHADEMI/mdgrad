{
 "cells": [
  {
   "cell_type": "code",
   "execution_count": 1,
   "metadata": {},
   "outputs": [
    {
     "data": {
      "application/vnd.jupyter.widget-view+json": {
       "model_id": "3ef01cfb18ed4d5b8a7efc4df49b2c66",
       "version_major": 2,
       "version_minor": 0
      },
      "text/plain": [
       "_ColormakerRegistry()"
      ]
     },
     "metadata": {},
     "output_type": "display_data"
    }
   ],
   "source": [
    "import os\n",
    "import numpy as np\n",
    "import matplotlib.pyplot as plt\n",
    "import sys \n",
    "\n",
    "NFF_PATH = '/home/wwj/Repo/playgrounds/NeuralForceField/'\n",
    "ODE_PATH = '/home/wwj/Repo/projects/torchdiffeq/'\n",
    "\n",
    "sys.path.insert(0, NFF_PATH)\n",
    "sys.path.insert(0, ODE_PATH)\n",
    "sys.path.insert(0, '../..')\n",
    "\n",
    "import torch\n",
    "from torch.optim import Adam\n",
    "from torchdiffeq import odeint_adjoint as odeint\n",
    "from torchmd.ode import ODE, NHCHAIN_ODE\n",
    "from torchmd.hamiltoinians import PairPot, MLP, LennardJones, Buck, LennardJones69\n",
    "from torchmd.utils import *\n",
    "\n",
    "from nff.utils.scatter import compute_grad\n",
    "from nff.nn.layers import GaussianSmearing\n",
    "from ase import Atoms\n",
    "\n",
    "import ase\n",
    "from ase.neighborlist import neighbor_list\n",
    "from ase.lattice.cubic import FaceCenteredCubic\n",
    "from ase.geometry import wrap_positions\n",
    "\n",
    "from ase.md.velocitydistribution import MaxwellBoltzmannDistribution\n",
    "from ase import units"
   ]
  },
  {
   "cell_type": "code",
   "execution_count": null,
   "metadata": {},
   "outputs": [],
   "source": []
  },
  {
   "cell_type": "code",
   "execution_count": null,
   "metadata": {},
   "outputs": [],
   "source": []
  },
  {
   "cell_type": "code",
   "execution_count": 2,
   "metadata": {},
   "outputs": [],
   "source": [
    "# ASE Unit initialization"
   ]
  },
  {
   "cell_type": "code",
   "execution_count": 3,
   "metadata": {},
   "outputs": [],
   "source": [
    "# Argon \n",
    "\n",
    "# epsilon\n",
    "# epsilon = 1.65 * 10**(-21) * 6.241509*10**18\n",
    "\n",
    "# rho = (18/1.784)* units.mol * ( 1 /10**27 )\n",
    "# L = (4/rho) ** (1/3)\n",
    "\n",
    "# DEVICE = 0\n",
    "# CUTOFF = 12.5\n",
    "# size = 4\n",
    "# atoms = FaceCenteredCubic(directions=[[1, 0, 0], [0, 1, 0], [0, 0, 1]],\n",
    "#                           symbol='Ar',\n",
    "#                           size=(size, size, size),\n",
    "#                           latticeconstant= L,\n",
    "#                           pbc=True)\n",
    "# #NATOMS = atoms.get_number_of_atoms()\n",
    "# N = atoms.get_number_of_atoms()\n",
    "\n",
    "# mass = atoms.get_masses()"
   ]
  },
  {
   "cell_type": "code",
   "execution_count": 4,
   "metadata": {},
   "outputs": [],
   "source": [
    "DEVICE = 0\n",
    "CUTOFF = 3.0\n",
    "size = 4\n",
    "\n",
    "L = (4/0.844)**(1/3)\n",
    "\n",
    "atoms = FaceCenteredCubic(directions=[[1, 0, 0], [0, 1, 0], [0, 0, 1]],\n",
    "                          symbol='H',\n",
    "                          size=(size, size, size),\n",
    "                          latticeconstant= L,\n",
    "                          pbc=True)\n",
    "#NATOMS = atoms.get_number_of_atoms()\n",
    "N = atoms.get_number_of_atoms()\n",
    "\n",
    "mass = atoms.get_masses()"
   ]
  },
  {
   "cell_type": "code",
   "execution_count": 254,
   "metadata": {},
   "outputs": [
    {
     "data": {
      "text/plain": [
       "0.8439999999999999"
      ]
     },
     "execution_count": 254,
     "metadata": {},
     "output_type": "execute_result"
    }
   ],
   "source": [
    "atoms.get_number_of_atoms()/ atoms.get_volume()"
   ]
  },
  {
   "cell_type": "code",
   "execution_count": 5,
   "metadata": {},
   "outputs": [
    {
     "data": {
      "text/plain": [
       "array([1.008, 1.008, 1.008, 1.008, 1.008, 1.008, 1.008, 1.008, 1.008,\n",
       "       1.008, 1.008, 1.008, 1.008, 1.008, 1.008, 1.008, 1.008, 1.008,\n",
       "       1.008, 1.008, 1.008, 1.008, 1.008, 1.008, 1.008, 1.008, 1.008,\n",
       "       1.008, 1.008, 1.008, 1.008, 1.008, 1.008, 1.008, 1.008, 1.008,\n",
       "       1.008, 1.008, 1.008, 1.008, 1.008, 1.008, 1.008, 1.008, 1.008,\n",
       "       1.008, 1.008, 1.008, 1.008, 1.008, 1.008, 1.008, 1.008, 1.008,\n",
       "       1.008, 1.008, 1.008, 1.008, 1.008, 1.008, 1.008, 1.008, 1.008,\n",
       "       1.008, 1.008, 1.008, 1.008, 1.008, 1.008, 1.008, 1.008, 1.008,\n",
       "       1.008, 1.008, 1.008, 1.008, 1.008, 1.008, 1.008, 1.008, 1.008,\n",
       "       1.008, 1.008, 1.008, 1.008, 1.008, 1.008, 1.008, 1.008, 1.008,\n",
       "       1.008, 1.008, 1.008, 1.008, 1.008, 1.008, 1.008, 1.008, 1.008,\n",
       "       1.008, 1.008, 1.008, 1.008, 1.008, 1.008, 1.008, 1.008, 1.008,\n",
       "       1.008, 1.008, 1.008, 1.008, 1.008, 1.008, 1.008, 1.008, 1.008,\n",
       "       1.008, 1.008, 1.008, 1.008, 1.008, 1.008, 1.008, 1.008, 1.008,\n",
       "       1.008, 1.008, 1.008, 1.008, 1.008, 1.008, 1.008, 1.008, 1.008,\n",
       "       1.008, 1.008, 1.008, 1.008, 1.008, 1.008, 1.008, 1.008, 1.008,\n",
       "       1.008, 1.008, 1.008, 1.008, 1.008, 1.008, 1.008, 1.008, 1.008,\n",
       "       1.008, 1.008, 1.008, 1.008, 1.008, 1.008, 1.008, 1.008, 1.008,\n",
       "       1.008, 1.008, 1.008, 1.008, 1.008, 1.008, 1.008, 1.008, 1.008,\n",
       "       1.008, 1.008, 1.008, 1.008, 1.008, 1.008, 1.008, 1.008, 1.008,\n",
       "       1.008, 1.008, 1.008, 1.008, 1.008, 1.008, 1.008, 1.008, 1.008,\n",
       "       1.008, 1.008, 1.008, 1.008, 1.008, 1.008, 1.008, 1.008, 1.008,\n",
       "       1.008, 1.008, 1.008, 1.008, 1.008, 1.008, 1.008, 1.008, 1.008,\n",
       "       1.008, 1.008, 1.008, 1.008, 1.008, 1.008, 1.008, 1.008, 1.008,\n",
       "       1.008, 1.008, 1.008, 1.008, 1.008, 1.008, 1.008, 1.008, 1.008,\n",
       "       1.008, 1.008, 1.008, 1.008, 1.008, 1.008, 1.008, 1.008, 1.008,\n",
       "       1.008, 1.008, 1.008, 1.008, 1.008, 1.008, 1.008, 1.008, 1.008,\n",
       "       1.008, 1.008, 1.008, 1.008, 1.008, 1.008, 1.008, 1.008, 1.008,\n",
       "       1.008, 1.008, 1.008, 1.008])"
      ]
     },
     "execution_count": 5,
     "metadata": {},
     "output_type": "execute_result"
    }
   ],
   "source": [
    "mass \n"
   ]
  },
  {
   "cell_type": "code",
   "execution_count": 255,
   "metadata": {},
   "outputs": [
    {
     "data": {
      "application/vnd.jupyter.widget-view+json": {
       "model_id": "23807d0655624d45878071eaa9bd9576",
       "version_major": 2,
       "version_minor": 0
      },
      "text/plain": [
       "NGLWidget()"
      ]
     },
     "metadata": {},
     "output_type": "display_data"
    }
   ],
   "source": [
    "show_ase(atoms)"
   ]
  },
  {
   "cell_type": "code",
   "execution_count": 256,
   "metadata": {},
   "outputs": [],
   "source": [
    "# Define a Hamiltonian: Pairwise LJ potentials "
   ]
  },
  {
   "cell_type": "code",
   "execution_count": 257,
   "metadata": {},
   "outputs": [],
   "source": [
    "lj_params = {'epsilon': 1.0, \n",
    "             'sigma': 1.0}\n",
    "\n",
    "model = PairPot(LennardJones, lj_params,\n",
    "                cell=torch.Tensor(atoms.get_cell()).diag(), \n",
    "                device=DEVICE,\n",
    "                cutoff=CUTOFF,\n",
    "                ).to(DEVICE)\n"
   ]
  },
  {
   "cell_type": "code",
   "execution_count": 266,
   "metadata": {},
   "outputs": [
    {
     "data": {
      "text/plain": [
       "tensor(1.2553)"
      ]
     },
     "execution_count": 266,
     "metadata": {},
     "output_type": "execute_result"
    }
   ],
   "source": [
    "p.reshape(-1, 3).pow(2).sum(-1).mean() / 3"
   ]
  },
  {
   "cell_type": "markdown",
   "metadata": {},
   "source": [
    "# intialize a vectorized tensor as initial conditions for the solver"
   ]
  },
  {
   "cell_type": "code",
   "execution_count": 267,
   "metadata": {},
   "outputs": [],
   "source": [
    "T= 1.8\n",
    "\n",
    "# declare position and momentum as initial values\n",
    "xyz = torch.Tensor(atoms.get_positions())\n",
    "xyz = xyz.reshape(-1)\n",
    "\n",
    "# generate random velocity \n",
    "MaxwellBoltzmannDistribution(atoms, T)\n",
    "\n",
    "p = torch.Tensor( atoms.get_velocities().reshape(-1)) #.to(DEVICE)\n",
    "p_v = torch.Tensor([0.0] * 5)\n",
    "pq = torch.cat((p, xyz, p_v)).to(DEVICE)\n",
    "pq.requires_grad= True"
   ]
  },
  {
   "cell_type": "markdown",
   "metadata": {},
   "source": [
    "# Integrating EOM"
   ]
  },
  {
   "cell_type": "code",
   "execution_count": 268,
   "metadata": {},
   "outputs": [
    {
     "name": "stdout",
     "output_type": "stream",
     "text": [
      "CPU times: user 35.2 s, sys: 34.3 s, total: 1min 9s\n",
      "Wall time: 8.64 s\n"
     ]
    }
   ],
   "source": [
    "%%time\n",
    "f_x = NHCHAIN_ODE(model, \n",
    "        mass, \n",
    "        Q=10.0, \n",
    "        T=T,\n",
    "        num_chains=5, \n",
    "        device=DEVICE).to(DEVICE)\n",
    "\n",
    "# update frequency \n",
    "interval = 20\n",
    "traj = []\n",
    "for i in range(30):\n",
    "    t = torch.Tensor([0.002 * i for i in range(interval)]).to(DEVICE)\n",
    "    pq = odeint(f_x, pq, t, method='rk4')\n",
    "    traj.append(pq.detach())\n",
    "    pq = pq.detach()[-1]\n",
    "    \n",
    "    # wrap coordinates \n",
    "    xyz = pq[N*3: N*6].reshape(-1, 3).detach().cpu().numpy()\n",
    "    xyz = torch.Tensor( wrap_positions( xyz, atoms.get_cell()) ).reshape(-1)\n",
    "    pq[N*3: N*6] = xyz.to(DEVICE)\n",
    "    \n",
    "    #traj.append(pq.detach())\n",
    "\n",
    "traj = torch.cat(traj)"
   ]
  },
  {
   "cell_type": "markdown",
   "metadata": {},
   "source": [
    "# Dump and visualize movies"
   ]
  },
  {
   "cell_type": "code",
   "execution_count": 269,
   "metadata": {},
   "outputs": [],
   "source": [
    "dump_mov(traj[:, :N*6 ], atoms, \"./metadta/LJ_1.pdb\")\n",
    "view = show_pdb(\"./metadta/LJ_1.pdb\")"
   ]
  },
  {
   "cell_type": "code",
   "execution_count": 270,
   "metadata": {},
   "outputs": [
    {
     "data": {
      "application/vnd.jupyter.widget-view+json": {
       "model_id": "e322d89397fb4637a28c33a3fa6e3af1",
       "version_major": 2,
       "version_minor": 0
      },
      "text/plain": [
       "NGLWidget(max_frame=599)"
      ]
     },
     "metadata": {},
     "output_type": "display_data"
    }
   ],
   "source": [
    "view"
   ]
  },
  {
   "cell_type": "code",
   "execution_count": 271,
   "metadata": {},
   "outputs": [],
   "source": [
    "class Observable(torch.nn.Module):\n",
    "    def __init__(self):\n",
    "        super(Observable, self).__init__()\n",
    "    \n",
    "\n",
    "class rdf(Observable):\n",
    "    def __init__(self, atoms, nbins, device, cutoff):\n",
    "        super(rdf, self).__init__()\n",
    "        PI = np.pi\n",
    "        self.bins = torch.linspace(0, cutoff, nbins + 1).to(device)\n",
    "        \n",
    "        self.smear = GaussianSmearing(\n",
    "                    start=0.0,\n",
    "                    stop=self.bins[-1],\n",
    "                    n_gaussians=nbins,\n",
    "                    trainable=False\n",
    "                ).to(device)\n",
    "        self.volume = atoms.get_volume()\n",
    "        self.cutoff = cutoff\n",
    "        self.cell = torch.Tensor( atoms.get_cell()).diag().to(device)\n",
    "        self.vol_bins = 4 * PI /3*(self.bins[1:]**3 - self.bins[:-1]**3).to(device)\n",
    "        self.device = device \n",
    "        self.natoms = atoms.get_number_of_atoms()\n",
    "        self.nbins = nbins\n",
    "        \n",
    "        # scale cutoff to adjust smearing error of the last bin \n",
    "        self.cutoff += (self.bins[1] - self.bins[0]) * 2\n",
    "        \n",
    "        \n",
    "    def forward(self, xyz):\n",
    "        \n",
    "        if len(list( xyz.shape )) != 3 and xyz.shape[-1] != 3:\n",
    "            # Get positions \n",
    "            xyz = xyz[:, self.natoms * 3:].reshape(-1, self.natoms, 3)\n",
    "\n",
    "        # Compute RDF         \n",
    "        dis_mat = xyz[:, None, :, :] - xyz[:, :, None, :]\n",
    "        offsets = -dis_mat.ge(0.5 * self.cell).to(torch.float).to(self.device) + \\\n",
    "                        dis_mat.lt(-0.5 * self.cell).to(torch.float).to(self.device)\n",
    "        dis_mat = dis_mat + offsets * self.cell\n",
    "\n",
    "        dis_sq = dis_mat.pow(2).sum(-1)\n",
    "        mask = (dis_sq < (self.cutoff) ** 2) & (dis_sq != 0)\n",
    "        \n",
    "        print(mask.shape)\n",
    "        # comput\n",
    "        pair_dis = dis_sq[mask].sqrt()\n",
    "\n",
    "        N_count = mask.sum()\n",
    "        count = self.smear(pair_dis.squeeze()[..., None]).sum(0)\n",
    "        \n",
    "        print(pair_dis.shape)\n",
    "        norm = count.sum() # normalization factor for histogram \n",
    "        count = count / norm # normalize to get probability distributions \n",
    "        rdf =  count / (2 * self.vol_bins / ( (2 * self.cutoff) ** 3)) # interactions are considered twice \n",
    "        \n",
    "        return self.bins, rdf "
   ]
  },
  {
   "cell_type": "code",
   "execution_count": 276,
   "metadata": {},
   "outputs": [],
   "source": [
    "obs = rdf(atoms, 35, 0, 3.0)"
   ]
  },
  {
   "cell_type": "code",
   "execution_count": 277,
   "metadata": {},
   "outputs": [
    {
     "name": "stdout",
     "output_type": "stream",
     "text": [
      "torch.Size([50, 256, 256])\n",
      "torch.Size([1439768])\n"
     ]
    }
   ],
   "source": [
    "traj = mdtraj.load_pdb(\"./metadta/LJ_1.pdb\")\n",
    "q = torch.Tensor(traj.xyz[500:][::2]).to(DEVICE) * 10.0\n",
    "bins, g1 = obs(q)"
   ]
  },
  {
   "cell_type": "code",
   "execution_count": 278,
   "metadata": {},
   "outputs": [],
   "source": [
    "# traj = mdtraj.load_pdb(\"./metadta/LJ_1.pdb\")\n",
    "# q = torch.Tensor(traj.xyz[500:][::2]).to(DEVICE) * 10.0\n",
    "# bins, g2 = obs(q)"
   ]
  },
  {
   "cell_type": "code",
   "execution_count": 279,
   "metadata": {},
   "outputs": [
    {
     "data": {
      "text/plain": [
       "[<matplotlib.lines.Line2D at 0x7f4a3609d390>]"
      ]
     },
     "execution_count": 279,
     "metadata": {},
     "output_type": "execute_result"
    },
    {
     "data": {
      "image/png": "[encoded data removed]",
      "text/plain": [
       "<Figure size 432x288 with 1 Axes>"
      ]
     },
     "metadata": {
      "needs_background": "light"
     },
     "output_type": "display_data"
    }
   ],
   "source": [
    "#plt.plot(g2.detach().cpu().numpy())\n",
    "plt.plot(g1.detach().cpu().numpy())"
   ]
  },
  {
   "cell_type": "code",
   "execution_count": 184,
   "metadata": {},
   "outputs": [],
   "source": [
    "def make_ase_traj(movie, ref_atoms):\n",
    "    \n",
    "    Natoms = ref_atoms.get_number_of_atoms()\n",
    "    \n",
    "    if movie.shape[-1] != Natoms * 3 * 2:\n",
    "        raise ValueError(\"Natom does not much the reference atoms object\")\n",
    "    \n",
    "    # strip to get xyz \n",
    "    movie = movie[:, Natoms*3:].reshape(-1, Natoms, 3).detach().cpu().numpy()\n",
    "    \n",
    "    atoms_list = []\n",
    "    for frame in movie:\n",
    "        sys = Atoms(ref_atoms.get_atomic_numbers(),\n",
    "               positions=frame.reshape(-1, 3), pbc=True, cell=ref_atoms.get_cell()) \n",
    "        sys.set_positions(sys.get_positions(wrap=True))\n",
    "        atoms_list.append(sys)\n",
    "    \n",
    "    return atoms_list "
   ]
  },
  {
   "cell_type": "code",
   "execution_count": null,
   "metadata": {},
   "outputs": [],
   "source": [
    "# the coordinates are not wrapped "
   ]
  }
 ],
 "metadata": {
  "kernelspec": {
   "display_name": "Python [conda env:nff]",
   "language": "python",
   "name": "conda-env-nff-py"
  },
  "language_info": {
   "codemirror_mode": {
    "name": "ipython",
    "version": 3
   },
   "file_extension": ".py",
   "mimetype": "text/x-python",
   "name": "python",
   "nbconvert_exporter": "python",
   "pygments_lexer": "ipython3",
   "version": "3.7.3"
  }
 },
 "nbformat": 4,
 "nbformat_minor": 2
}
