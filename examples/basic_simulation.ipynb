{
 "cells": [
  {
   "cell_type": "code",
   "execution_count": 5,
   "metadata": {},
   "outputs": [],
   "source": [
    "import os\n",
    "import sys \n",
    "import numpy as np\n",
    "import matplotlib.pyplot as plt\n",
    "import sys \n",
    "import mdtraj\n",
    "from nglview import show_ase, show_file, show_mdtraj\n",
    "import torch"
   ]
  },
  {
   "cell_type": "markdown",
   "metadata": {},
   "source": [
    "## Set up systems"
   ]
  },
  {
   "cell_type": "code",
   "execution_count": 45,
   "metadata": {},
   "outputs": [],
   "source": [
    "from ase.lattice.cubic import FaceCenteredCubic\n",
    "from ase import units\n",
    "\n",
    "size = 4\n",
    "L = 4.0\n",
    "device = 3\n",
    "\n",
    "from ase.lattice.cubic import FaceCenteredCubic\n",
    "from ase import units\n",
    "\n",
    "atoms = FaceCenteredCubic(directions=[[1, 0, 0], \n",
    "                                    [0, 1, 0], \n",
    "                                    [0, 0, 1]],\n",
    "                          symbol='H',\n",
    "                          size=(size, size, size),\n",
    "                          latticeconstant=L,\n",
    "                          pbc=True)\n",
    "\n",
    "from torchmd.system import System\n",
    "system = System(atoms, device=device)\n",
    "system.set_temperature(298.0)"
   ]
  },
  {
   "cell_type": "code",
   "execution_count": 46,
   "metadata": {},
   "outputs": [
    {
     "data": {
      "application/vnd.jupyter.widget-view+json": {
       "model_id": "7bf90807d6be472baed80b4882843b31",
       "version_major": 2,
       "version_minor": 0
      },
      "text/plain": [
       "NGLWidget()"
      ]
     },
     "metadata": {},
     "output_type": "display_data"
    }
   ],
   "source": [
    "show_ase(system)"
   ]
  },
  {
   "cell_type": "markdown",
   "metadata": {},
   "source": [
    "## Set up equations of motions"
   ]
  },
  {
   "cell_type": "code",
   "execution_count": 47,
   "metadata": {},
   "outputs": [],
   "source": [
    "\n",
    "# parameter for SchNet \n",
    "params = {\n",
    "    'n_atom_basis': 128,\n",
    "    'n_filters': 128,\n",
    "    'n_gaussians': 128,\n",
    "    'n_convolutions': 4,\n",
    "    'cutoff': 5.0,\n",
    "    'trainable_gauss': False\n",
    "}\n",
    "\n",
    "\n",
    "# Define prior potential \n",
    "lj_params = {'epsilon': 0.05, \n",
    "             'sigma': 2.5, \n",
    "             'power': 12}\n",
    "\n",
    "from torchmd.system import GNNPotentials,PairPotentials,System, Stack\n",
    "from torchmd.potentials import ExcludedVolume\n",
    "from nff.train import get_model\n",
    "\n",
    "\n",
    "pair = PairPotentials(ExcludedVolume, lj_params,\n",
    "                cell=torch.Tensor(system.get_cell_len()), \n",
    "                device=device,\n",
    "                cutoff=8.0,\n",
    "                ).to(device)\n",
    "\n",
    "model = get_model(params)\n",
    "GNN = GNNPotentials(model, system.get_batch(), system.get_cell_len(), cutoff=5.0, device=system.device)\n",
    "model = Stack({'gnn': GNN, 'pair': pair})\n",
    "\n",
    "\n",
    "from torchmd.md import NoseHooverChain \n",
    "diffeq =NoseHooverChain(model, \n",
    "            system,\n",
    "            Q=50.0, \n",
    "            T=298.0 * units.kB,\n",
    "            num_chains=5, \n",
    "            adjoint=True).to(device)"
   ]
  },
  {
   "cell_type": "markdown",
   "metadata": {},
   "source": [
    "## Set up observation function"
   ]
  },
  {
   "cell_type": "code",
   "execution_count": 48,
   "metadata": {},
   "outputs": [],
   "source": [
    "from torchmd.observable import rdf, vacf\n",
    "\n",
    "# Set up observable \n",
    "obs = rdf(system, nbins=100, r_range=(0, 5) )\n",
    "vacf_obs = vacf(system, t_range=10)"
   ]
  },
  {
   "cell_type": "markdown",
   "metadata": {},
   "source": [
    "## Simulate"
   ]
  },
  {
   "cell_type": "code",
   "execution_count": 49,
   "metadata": {},
   "outputs": [],
   "source": [
    "from torchmd.md import Simulations\n",
    "\n",
    "# Set up simulations \n",
    "sim = Simulations(system, diffeq)\n",
    "\n",
    "# Simulate \n",
    "v_t, q_t, pv_t = sim.simulate(steps=100, frequency=5, dt=0.25 *units.fs)"
   ]
  },
  {
   "cell_type": "markdown",
   "metadata": {},
   "source": [
    "## compute observables"
   ]
  },
  {
   "cell_type": "code",
   "execution_count": 50,
   "metadata": {},
   "outputs": [
    {
     "data": {
      "text/plain": [
       "[<matplotlib.lines.Line2D at 0x7f4bb0436b00>]"
      ]
     },
     "execution_count": 50,
     "metadata": {},
     "output_type": "execute_result"
    },
    {
     "data": {
      "image/png": "[encoded data removed]",
      "text/plain": [
       "<Figure size 432x288 with 1 Axes>"
      ]
     },
     "metadata": {
      "needs_background": "light"
     },
     "output_type": "display_data"
    }
   ],
   "source": [
    "# compute observable \n",
    "_, bins, g = obs(q_t)\n",
    "plt.plot(bins.detach().cpu().numpy()[1:],  g.detach().cpu().numpy() )"
   ]
  }
 ],
 "metadata": {
  "kernelspec": {
   "display_name": "Python [conda env:nff] *",
   "language": "python",
   "name": "conda-env-nff-py"
  },
  "language_info": {
   "codemirror_mode": {
    "name": "ipython",
    "version": 3
   },
   "file_extension": ".py",
   "mimetype": "text/x-python",
   "name": "python",
   "nbconvert_exporter": "python",
   "pygments_lexer": "ipython3",
   "version": "3.7.3"
  }
 },
 "nbformat": 4,
 "nbformat_minor": 2
}
