{
 "cells": [
  {
   "cell_type": "code",
   "execution_count": 1,
   "metadata": {},
   "outputs": [
    {
     "data": {
      "application/vnd.jupyter.widget-view+json": {
       "model_id": "462f0c11874b4334851c4fd83a31b77f",
       "version_major": 2,
       "version_minor": 0
      },
      "text/plain": [
       "_ColormakerRegistry()"
      ]
     },
     "metadata": {},
     "output_type": "display_data"
    }
   ],
   "source": [
    "import os\n",
    "import sys \n",
    "import numpy as np\n",
    "import matplotlib.pyplot as plt\n",
    "import sys \n",
    "import mdtraj\n",
    "from nglview import show_ase, show_file, show_mdtraj\n",
    "import torch\n",
    "from scripts.gnn_rdf_aa import *\n",
    "\n",
    "from scripts.infer_topology import generate_subgraphs"
   ]
  },
  {
   "cell_type": "code",
   "execution_count": 2,
   "metadata": {},
   "outputs": [],
   "source": [
    "#generate_subgraphs(atoms)"
   ]
  },
  {
   "cell_type": "code",
   "execution_count": 3,
   "metadata": {},
   "outputs": [],
   "source": []
  },
  {
   "cell_type": "code",
   "execution_count": 4,
   "metadata": {},
   "outputs": [],
   "source": [
    "from ase.geometry import wrap_positions\n",
    "\n",
    "box = np.load('../data/water_aimd/box_0.npy')[-1].reshape(-1, 3)\n",
    "xyz = np.load('../data/water_aimd/coord_0.npy')[-1].reshape(-1, 3)\n",
    "\n",
    "atoms = Atoms(positions=xyz, cell=box)\n",
    "z =  [8] * 64 + [1] * 64 * 2 \n",
    "\n",
    "positions = wrap_positions(xyz, box)\n",
    "atoms.set_positions(positions)\n",
    "atoms.set_atomic_numbers(z)\n",
    "\n",
    "from torchmd.system import System\n",
    "system = System(atoms, device=3)"
   ]
  },
  {
   "cell_type": "code",
   "execution_count": 5,
   "metadata": {},
   "outputs": [
    {
     "data": {
      "application/vnd.jupyter.widget-view+json": {
       "model_id": "6d58033d85e74e4cbf0e6a98ff1c0e17",
       "version_major": 2,
       "version_minor": 0
      },
      "text/plain": [
       "NGLWidget()"
      ]
     },
     "metadata": {},
     "output_type": "display_data"
    }
   ],
   "source": [
    "show_ase(atoms)"
   ]
  },
  {
   "cell_type": "code",
   "execution_count": 6,
   "metadata": {},
   "outputs": [],
   "source": [
    "# compute ADF \n",
    "\n",
    "from ase.geometry import wrap_positions\n",
    "\n",
    "atoms = Atoms(positions=xyz[:64], cell=box)\n",
    "z =  [8] * 64\n",
    "\n",
    "positions = wrap_positions(xyz[:64], box)\n",
    "atoms.set_positions(positions)\n",
    "atoms.set_atomic_numbers(z)\n",
    "\n",
    "from torchmd.system import System\n",
    "system = System(atoms, device=3)"
   ]
  },
  {
   "cell_type": "code",
   "execution_count": 28,
   "metadata": {},
   "outputs": [],
   "source": [
    "from scripts.gnn_rdf_cg_water_angle import angle_distribution\n",
    "\n",
    "cos_start = -0.99\n",
    "cos_end = 0.99\n",
    "\n",
    "angle_obs_train = angle_distribution(system, 60, (0, 3.12), cutoff=3.7)"
   ]
  },
  {
   "cell_type": "code",
   "execution_count": 29,
   "metadata": {},
   "outputs": [],
   "source": [
    "traj = np.load('../data/water_aimd/coord_0.npy')\n",
    "    "
   ]
  },
  {
   "cell_type": "code",
   "execution_count": 30,
   "metadata": {},
   "outputs": [],
   "source": [
    "device = 3\n",
    "traj = traj.reshape(100, -1, 3)\n",
    "o_traj = traj[:, :64, :]\n",
    "o_traj = torch.Tensor(o_traj).to(device)"
   ]
  },
  {
   "cell_type": "code",
   "execution_count": 31,
   "metadata": {},
   "outputs": [],
   "source": [
    "\n",
    "for i, snapshot in enumerate(o_traj):\n",
    "    bins, sim_angle_density, cos = angle_obs_train(snapshot)\n",
    "    \n",
    "    if i == 0:\n",
    "        all_angle_density = sim_angle_density\n",
    "    else:\n",
    "        all_angle_density += sim_angle_density\n",
    "        \n",
    "all_angle_density /= o_traj.shape[0]"
   ]
  },
  {
   "cell_type": "code",
   "execution_count": 32,
   "metadata": {},
   "outputs": [
    {
     "data": {
      "text/plain": [
       "tensor([4.1759e-43, 1.2648e-37, 1.4305e-32, 6.0743e-28, 9.7639e-24, 6.0089e-20,\n",
       "        1.4367e-16, 1.3586e-13, 5.1879e-11, 8.1977e-09, 5.5346e-07, 1.6705e-05,\n",
       "        2.3950e-04, 1.7460e-03, 6.9079e-03, 1.5847e-02, 2.3002e-02, 2.3953e-02,\n",
       "        2.1090e-02, 1.8690e-02, 1.8395e-02, 1.9898e-02, 2.2468e-02, 2.5183e-02,\n",
       "        2.7292e-02, 2.8998e-02, 3.0712e-02, 3.2438e-02, 3.4088e-02, 3.5355e-02,\n",
       "        3.5826e-02, 3.5803e-02, 3.5792e-02, 3.5859e-02, 3.5789e-02, 3.5267e-02,\n",
       "        3.4176e-02, 3.2740e-02, 3.1298e-02, 2.9654e-02, 2.7785e-02, 2.6011e-02,\n",
       "        2.4291e-02, 2.2534e-02, 2.0888e-02, 1.9275e-02, 1.7452e-02, 1.5944e-02,\n",
       "        1.4910e-02, 1.3798e-02, 1.2484e-02, 1.1164e-02, 9.8862e-03, 8.7304e-03,\n",
       "        7.7100e-03, 6.6165e-03, 5.2304e-03, 3.6387e-03, 2.1624e-03, 9.6441e-04],\n",
       "       device='cuda:3')"
      ]
     },
     "execution_count": 32,
     "metadata": {},
     "output_type": "execute_result"
    }
   ],
   "source": [
    "all_angle_density"
   ]
  },
  {
   "cell_type": "code",
   "execution_count": 33,
   "metadata": {},
   "outputs": [],
   "source": [
    "def plot_angle(sim_angle, exp_angle, cos_start, cos_angle, fname, path, nbins_angle):\n",
    "    bins = np.linspace(cos_start, cos_end, nbins_angle)\n",
    "    plt.plot( bins * 180/np.pi, sim_angle.detach().cpu(), linewidth=4, alpha=0.6, label='sim.' )\n",
    "    plt.plot( bins * 180/np.pi, exp_angle.detach().cpu(), linewidth=2,linestyle='--', c='black', label='exp.')\n",
    "    plt.show()\n",
    "    plt.savefig(path + '/angle_{}.jpg'.format(fname), bbox_inches='tight')\n",
    "    plt.close() "
   ]
  },
  {
   "cell_type": "code",
   "execution_count": 35,
   "metadata": {},
   "outputs": [
    {
     "data": {
      "image/png": "[encoded data removed]",
      "text/plain": [
       "<Figure size 432x288 with 1 Axes>"
      ]
     },
     "metadata": {
      "needs_background": "light"
     },
     "output_type": "display_data"
    }
   ],
   "source": [
    "plot_angle(all_angle_density, all_angle_density, 0, 3.14, \"test\", path=\"./metadta\", nbins_angle=60)"
   ]
  },
  {
   "cell_type": "code",
   "execution_count": null,
   "metadata": {},
   "outputs": [],
   "source": []
  }
 ],
 "metadata": {
  "kernelspec": {
   "display_name": "Python [conda env:nff] *",
   "language": "python",
   "name": "conda-env-nff-py"
  },
  "language_info": {
   "codemirror_mode": {
    "name": "ipython",
    "version": 3
   },
   "file_extension": ".py",
   "mimetype": "text/x-python",
   "name": "python",
   "nbconvert_exporter": "python",
   "pygments_lexer": "ipython3",
   "version": "3.7.3"
  }
 },
 "nbformat": 4,
 "nbformat_minor": 2
}
