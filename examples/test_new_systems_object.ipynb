{
 "cells": [
  {
   "cell_type": "code",
   "execution_count": 2,
   "metadata": {},
   "outputs": [
    {
     "data": {
      "application/vnd.jupyter.widget-view+json": {
       "model_id": "39dc3fe65d744e9eb115bd84224b814f",
       "version_major": 2,
       "version_minor": 0
      },
      "text/plain": [
       "_ColormakerRegistry()"
      ]
     },
     "metadata": {},
     "output_type": "display_data"
    }
   ],
   "source": [
    "import os\n",
    "import numpy as np\n",
    "import matplotlib.pyplot as plt\n",
    "import sys \n",
    "import mdtraj\n",
    "\n",
    "sys.path.insert(0, '/home/wwj/Repo/projects/torchdiffeq/')\n",
    "sys.path.insert(0, '../')\n",
    "\n",
    "import torch\n",
    "from torch.optim import Adam\n",
    "from torchmd.potentials import ExcludedVolume\n",
    "from torchmd.sovlers import odeint_adjoint, odeint\n",
    "from nglview import show_ase, show_file, show_mdtraj\n",
    "\n",
    "from ase import Atoms\n",
    "\n",
    "from torchmd.system import GNNPotentials,PairPot,System, Stack\n",
    "from torchmd.md import Simulations\n"
   ]
  },
  {
   "cell_type": "code",
   "execution_count": 16,
   "metadata": {},
   "outputs": [],
   "source": [
    "\n",
    "size = 1\n",
    "L = 19.73 / size\n",
    "device = 3"
   ]
  },
  {
   "cell_type": "code",
   "execution_count": null,
   "metadata": {},
   "outputs": [],
   "source": [
    "# create a small water box \n"
   ]
  },
  {
   "cell_type": "code",
   "execution_count": 4,
   "metadata": {},
   "outputs": [],
   "source": [
    "from nff.train import get_model\n",
    "\n",
    "params = {\n",
    "    'n_atom_basis': 128,\n",
    "    'n_filters': 129,\n",
    "    'n_gaussians': 128,\n",
    "    'n_convolutions': 32,\n",
    "    'cutoff': 5.0,\n",
    "    'trainable_gauss': False\n",
    "}\n",
    "\n",
    "\n",
    "# Define prior potential \n",
    "lj_params = {'epsilon': 0.005, \n",
    "             'sigma': 3.0, \n",
    "             'power': 12}\n"
   ]
  },
  {
   "cell_type": "code",
   "execution_count": 5,
   "metadata": {},
   "outputs": [],
   "source": [
    "from ase.lattice.cubic import FaceCenteredCubic\n",
    "from ase import units\n",
    "\n",
    "atoms = FaceCenteredCubic(directions=[[1, 0, 0], \n",
    "                                    [0, 1, 0], [0, 0, 1]],\n",
    "                          symbol='H',\n",
    "                          size=(size, size, size),\n",
    "                          latticeconstant= L,\n",
    "                          pbc=True)\n"
   ]
  },
  {
   "cell_type": "code",
   "execution_count": 6,
   "metadata": {},
   "outputs": [
    {
     "ename": "NameError",
     "evalue": "name 'system' is not defined",
     "output_type": "error",
     "traceback": [
      "\u001b[0;31m---------------------------------------------------------------------------\u001b[0m",
      "\u001b[0;31mNameError\u001b[0m                                 Traceback (most recent call last)",
      "\u001b[0;32m<ipython-input-6-364628efcae8>\u001b[0m in \u001b[0;36m<module>\u001b[0;34m\u001b[0m\n\u001b[0;32m----> 1\u001b[0;31m \u001b[0msystem\u001b[0m\u001b[0;34m.\u001b[0m\u001b[0mtraj\u001b[0m\u001b[0;34m\u001b[0m\u001b[0;34m\u001b[0m\u001b[0m\n\u001b[0m",
      "\u001b[0;31mNameError\u001b[0m: name 'system' is not defined"
     ]
    }
   ],
   "source": [
    "system.traj"
   ]
  },
  {
   "cell_type": "code",
   "execution_count": 7,
   "metadata": {},
   "outputs": [
    {
     "ename": "TypeError",
     "evalue": "__init__() got an unexpected keyword argument 'device'",
     "output_type": "error",
     "traceback": [
      "\u001b[0;31m---------------------------------------------------------------------------\u001b[0m",
      "\u001b[0;31mTypeError\u001b[0m                                 Traceback (most recent call last)",
      "\u001b[0;32m<ipython-input-7-efa818cef810>\u001b[0m in \u001b[0;36m<module>\u001b[0;34m\u001b[0m\n\u001b[1;32m     22\u001b[0m         \u001b[0mnum_chains\u001b[0m\u001b[0;34m=\u001b[0m\u001b[0;36m5\u001b[0m\u001b[0;34m,\u001b[0m\u001b[0;34m\u001b[0m\u001b[0;34m\u001b[0m\u001b[0m\n\u001b[1;32m     23\u001b[0m         \u001b[0mdevice\u001b[0m\u001b[0;34m=\u001b[0m\u001b[0mdevice\u001b[0m\u001b[0;34m,\u001b[0m\u001b[0;34m\u001b[0m\u001b[0;34m\u001b[0m\u001b[0m\n\u001b[0;32m---> 24\u001b[0;31m         adjoint=True).to(device)\n\u001b[0m",
      "\u001b[0;31mTypeError\u001b[0m: __init__() got an unexpected keyword argument 'device'"
     ]
    }
   ],
   "source": [
    "system = System(atoms, device=3)\n",
    "system.set_temperature(298.0)\n",
    "\n",
    "\n",
    "pair = PairPot(ExcludedVolume, lj_params,\n",
    "                cell=torch.Tensor(system.get_cell_len()), \n",
    "                device=device,\n",
    "                cutoff=8.0,\n",
    "                ).to(device)\n",
    "\n",
    "model = get_model(params)\n",
    "GNN = GNNPotentials(model, system.get_batch(), system.get_cell_len(), cutoff=5.0, device=system.device)\n",
    "\n",
    "model = Stack({'gnn': GNN, 'pair': pair})\n",
    "\n",
    "from torchmd.md import NoseHooverChain \n",
    "\n",
    "f_x = NoseHooverChain(model, \n",
    "        system.get_masses(), \n",
    "        Q=50.0, \n",
    "        T=298.0 * units.kB,\n",
    "        num_chains=5, \n",
    "        device=device,\n",
    "        adjoint=True).to(device)"
   ]
  },
  {
   "cell_type": "code",
   "execution_count": 15,
   "metadata": {},
   "outputs": [
    {
     "data": {
      "text/plain": [
       "\"System(symbols='H256', pbc=True, cell=[19.73, 19.73, 19.73], momenta=...)\""
      ]
     },
     "execution_count": 15,
     "metadata": {},
     "output_type": "execute_result"
    }
   ],
   "source": [
    "system.__"
   ]
  },
  {
   "cell_type": "code",
   "execution_count": 13,
   "metadata": {},
   "outputs": [
    {
     "data": {
      "text/plain": [
       "torchmd.system.System"
      ]
     },
     "execution_count": 13,
     "metadata": {},
     "output_type": "execute_result"
    }
   ],
   "source": [
    "TypeError"
   ]
  },
  {
   "cell_type": "code",
   "execution_count": 102,
   "metadata": {},
   "outputs": [
    {
     "data": {
      "text/plain": [
       "array([19.73, 19.73, 19.73])"
      ]
     },
     "execution_count": 102,
     "metadata": {},
     "output_type": "execute_result"
    }
   ],
   "source": [
    "system.get_cell_len()"
   ]
  },
  {
   "cell_type": "code",
   "execution_count": 103,
   "metadata": {},
   "outputs": [
    {
     "data": {
      "text/plain": [
       "{'nxyz': tensor([[ 1.0000,  0.0000,  0.0000,  0.0000],\n",
       "         [ 1.0000,  2.4662,  2.4662,  0.0000],\n",
       "         [ 1.0000,  2.4662,  0.0000,  2.4662],\n",
       "         ...,\n",
       "         [ 1.0000, 17.2638, 17.2638, 14.7975],\n",
       "         [ 1.0000, 17.2638, 14.7975, 17.2638],\n",
       "         [ 1.0000, 14.7975, 17.2638, 17.2638]]),\n",
       " 'num_atoms': tensor([256]),\n",
       " 'energy': 0.0}"
      ]
     },
     "execution_count": 103,
     "metadata": {},
     "output_type": "execute_result"
    }
   ],
   "source": [
    "system.get_batch()"
   ]
  },
  {
   "cell_type": "code",
   "execution_count": 108,
   "metadata": {},
   "outputs": [
    {
     "data": {
      "text/plain": [
       "0.025679644404907293"
      ]
     },
     "execution_count": 108,
     "metadata": {},
     "output_type": "execute_result"
    }
   ],
   "source": [
    "units.kB * 298"
   ]
  },
  {
   "cell_type": "code",
   "execution_count": 104,
   "metadata": {},
   "outputs": [],
   "source": [
    "sim = Simulations(system, f_x)"
   ]
  },
  {
   "cell_type": "code",
   "execution_count": 105,
   "metadata": {},
   "outputs": [
    {
     "name": "stdout",
     "output_type": "stream",
     "text": [
      "tensor([0.0000, 0.0982, 0.1965, 0.2947, 0.3929], device='cuda:3')\n"
     ]
    }
   ],
   "source": [
    "trajs = sim.simulate(steps=20, frequency=5)"
   ]
  },
  {
   "cell_type": "code",
   "execution_count": 106,
   "metadata": {},
   "outputs": [
    {
     "data": {
      "text/plain": [
       "array([0.12341952, 0.13180196, 0.03859412], dtype=float32)"
      ]
     },
     "execution_count": 106,
     "metadata": {},
     "output_type": "execute_result"
    }
   ],
   "source": [
    "system.traj[-1][0][0]"
   ]
  },
  {
   "cell_type": "code",
   "execution_count": 17,
   "metadata": {},
   "outputs": [
    {
     "data": {
      "text/plain": [
       "array([-0.09430567,  0.0977138 ,  0.04812827])"
      ]
     },
     "execution_count": 17,
     "metadata": {},
     "output_type": "execute_result"
    }
   ],
   "source": [
    "system.traj[0][0][0]"
   ]
  },
  {
   "cell_type": "code",
   "execution_count": 18,
   "metadata": {},
   "outputs": [
    {
     "data": {
      "text/plain": [
       "tensor([nan, nan, nan, nan, nan], device='cuda:3')"
      ]
     },
     "execution_count": 18,
     "metadata": {},
     "output_type": "execute_result"
    }
   ],
   "source": [
    "system.initial_conditions()[-1]"
   ]
  },
  {
   "cell_type": "code",
   "execution_count": 64,
   "metadata": {},
   "outputs": [
    {
     "data": {
      "text/plain": [
       "tensor([[0.0037],\n",
       "        [0.0041],\n",
       "        [0.0036],\n",
       "        ...,\n",
       "        [0.0041],\n",
       "        [0.0030],\n",
       "        [0.0032]], device='cuda:3', grad_fn=<MulBackward0>)"
      ]
     },
     "execution_count": 64,
     "metadata": {},
     "output_type": "execute_result"
    }
   ],
   "source": [
    "pair(trajs[1][1])"
   ]
  },
  {
   "cell_type": "code",
   "execution_count": 86,
   "metadata": {},
   "outputs": [],
   "source": [
    "E = GNN(trajs[1][4])"
   ]
  },
  {
   "cell_type": "code",
   "execution_count": 87,
   "metadata": {},
   "outputs": [
    {
     "ename": "RuntimeError",
     "evalue": "One of the differentiated Tensors appears to not have been used in the graph. Set allow_unused=True if this is the desired behavior.",
     "output_type": "error",
     "traceback": [
      "\u001b[0;31m---------------------------------------------------------------------------\u001b[0m",
      "\u001b[0;31mRuntimeError\u001b[0m                              Traceback (most recent call last)",
      "\u001b[0;32m<ipython-input-87-284078376255>\u001b[0m in \u001b[0;36m<module>\u001b[0;34m\u001b[0m\n\u001b[0;32m----> 1\u001b[0;31m \u001b[0mcompute_grad\u001b[0m\u001b[0;34m(\u001b[0m\u001b[0mE\u001b[0m\u001b[0;34m,\u001b[0m \u001b[0mtrajs\u001b[0m\u001b[0;34m[\u001b[0m\u001b[0;36m1\u001b[0m\u001b[0;34m]\u001b[0m\u001b[0;34m[\u001b[0m\u001b[0;36m4\u001b[0m\u001b[0;34m]\u001b[0m\u001b[0;34m)\u001b[0m\u001b[0;34m\u001b[0m\u001b[0;34m\u001b[0m\u001b[0m\n\u001b[0m",
      "\u001b[0;32m~/Repo/playgrounds/torchmd/nff/utils/scatter.py\u001b[0m in \u001b[0;36mcompute_grad\u001b[0;34m(inputs, output)\u001b[0m\n\u001b[1;32m     17\u001b[0m \u001b[0;34m\u001b[0m\u001b[0m\n\u001b[1;32m     18\u001b[0m     gradspred, = grad(output, inputs, grad_outputs=output.data.new(output.shape).fill_(1),\n\u001b[0;32m---> 19\u001b[0;31m                    create_graph=True, retain_graph=True)\n\u001b[0m\u001b[1;32m     20\u001b[0m \u001b[0;34m\u001b[0m\u001b[0m\n\u001b[1;32m     21\u001b[0m     \u001b[0;32mreturn\u001b[0m \u001b[0mgradspred\u001b[0m\u001b[0;34m\u001b[0m\u001b[0;34m\u001b[0m\u001b[0m\n",
      "\u001b[0;32m~/anaconda3/envs/nff/lib/python3.7/site-packages/torch/autograd/__init__.py\u001b[0m in \u001b[0;36mgrad\u001b[0;34m(outputs, inputs, grad_outputs, retain_graph, create_graph, only_inputs, allow_unused)\u001b[0m\n\u001b[1;32m    147\u001b[0m     return Variable._execution_engine.run_backward(\n\u001b[1;32m    148\u001b[0m         \u001b[0moutputs\u001b[0m\u001b[0;34m,\u001b[0m \u001b[0mgrad_outputs\u001b[0m\u001b[0;34m,\u001b[0m \u001b[0mretain_graph\u001b[0m\u001b[0;34m,\u001b[0m \u001b[0mcreate_graph\u001b[0m\u001b[0;34m,\u001b[0m\u001b[0;34m\u001b[0m\u001b[0;34m\u001b[0m\u001b[0m\n\u001b[0;32m--> 149\u001b[0;31m         inputs, allow_unused)\n\u001b[0m\u001b[1;32m    150\u001b[0m \u001b[0;34m\u001b[0m\u001b[0m\n\u001b[1;32m    151\u001b[0m \u001b[0;34m\u001b[0m\u001b[0m\n",
      "\u001b[0;31mRuntimeError\u001b[0m: One of the differentiated Tensors appears to not have been used in the graph. Set allow_unused=True if this is the desired behavior."
     ]
    }
   ],
   "source": [
    "compute_grad(E, trajs[1][4])"
   ]
  },
  {
   "cell_type": "code",
   "execution_count": 85,
   "metadata": {},
   "outputs": [
    {
     "data": {
      "text/plain": [
       "tensor([[-1.4299e-02, -2.4672e-02, -3.1856e-02],\n",
       "        [ 2.4149e+00,  2.4269e+00, -9.3615e-02],\n",
       "        [ 2.4010e+00, -6.3049e-02,  2.3937e+00],\n",
       "        [-6.4501e-02,  2.4274e+00,  2.4101e+00],\n",
       "        [ 4.9474e+00, -4.8080e-02, -8.4523e-02],\n",
       "        [ 7.3733e+00,  2.4034e+00, -1.3170e-01],\n",
       "        [ 7.3890e+00, -1.4063e-01,  2.3808e+00],\n",
       "        [ 4.9003e+00,  2.3764e+00,  2.3519e+00],\n",
       "        [ 9.8829e+00, -8.9019e-02, -6.6553e-02],\n",
       "        [ 1.2372e+01,  2.4087e+00, -9.8711e-02],\n",
       "        [ 1.2329e+01, -1.4503e-01,  2.4261e+00],\n",
       "        [ 9.9005e+00,  2.3270e+00,  2.3176e+00],\n",
       "        [ 1.4811e+01, -3.9825e-02, -6.8312e-02],\n",
       "        [ 1.7292e+01,  2.4485e+00, -5.2785e-02],\n",
       "        [ 1.7303e+01, -6.1432e-02,  2.4557e+00],\n",
       "        [ 1.4888e+01,  2.3920e+00,  2.3592e+00],\n",
       "        [-6.6838e-02,  4.8932e+00, -5.8865e-02],\n",
       "        [ 2.3889e+00,  7.4035e+00, -1.1835e-01],\n",
       "        [ 2.3308e+00,  4.9015e+00,  2.3652e+00],\n",
       "        [-1.5541e-01,  7.3598e+00,  2.4178e+00],\n",
       "        [ 4.9049e+00,  4.8723e+00, -1.7897e-01],\n",
       "        [ 7.3751e+00,  7.3879e+00, -2.1304e-01],\n",
       "        [ 7.3824e+00,  4.8962e+00,  2.2918e+00],\n",
       "        [ 4.8703e+00,  7.3904e+00,  2.2890e+00],\n",
       "        [ 9.8534e+00,  4.9049e+00, -1.8735e-01],\n",
       "        [ 1.2335e+01,  7.3845e+00, -1.7643e-01],\n",
       "        [ 1.2383e+01,  4.8758e+00,  2.2963e+00],\n",
       "        [ 9.9032e+00,  7.3850e+00,  2.2463e+00],\n",
       "        [ 1.4886e+01,  4.9072e+00, -1.0373e-01],\n",
       "        [ 1.7328e+01,  7.3918e+00, -6.5850e-02],\n",
       "        [ 1.7374e+01,  4.9228e+00,  2.3996e+00],\n",
       "        [ 1.4926e+01,  7.3828e+00,  2.3237e+00],\n",
       "        [-5.6603e-02,  9.8848e+00, -8.3513e-02],\n",
       "        [ 2.3804e+00,  1.2350e+01, -1.0852e-01],\n",
       "        [ 2.3484e+00,  9.9013e+00,  2.3228e+00],\n",
       "        [-1.3388e-01,  1.2357e+01,  2.3877e+00],\n",
       "        [ 4.9020e+00,  9.8363e+00, -2.0142e-01],\n",
       "        [ 7.3849e+00,  1.2378e+01, -2.2981e-01],\n",
       "        [ 7.3714e+00,  9.8902e+00,  2.2496e+00],\n",
       "        [ 4.9133e+00,  1.2366e+01,  2.3146e+00],\n",
       "        [ 9.8873e+00,  9.8776e+00, -2.1713e-01],\n",
       "        [ 1.2360e+01,  1.2351e+01, -1.7665e-01],\n",
       "        [ 1.2397e+01,  9.8911e+00,  2.3024e+00],\n",
       "        [ 9.8676e+00,  1.2396e+01,  2.2922e+00],\n",
       "        [ 1.4855e+01,  9.8842e+00, -1.4377e-01],\n",
       "        [ 1.7323e+01,  1.2328e+01, -7.3139e-02],\n",
       "        [ 1.7386e+01,  9.8869e+00,  2.3643e+00],\n",
       "        [ 1.4942e+01,  1.2393e+01,  2.3338e+00],\n",
       "        [-6.1380e-02,  1.4829e+01, -5.6907e-02],\n",
       "        [ 2.4422e+00,  1.7299e+01, -5.2110e-02],\n",
       "        [ 2.3734e+00,  1.4854e+01,  2.3779e+00],\n",
       "        [-6.8639e-02,  1.7317e+01,  2.4544e+00],\n",
       "        [ 4.9014e+00,  1.4858e+01, -1.2198e-01],\n",
       "        [ 7.3951e+00,  1.7339e+01, -7.2437e-02],\n",
       "        [ 7.3708e+00,  1.4927e+01,  2.3466e+00],\n",
       "        [ 4.9014e+00,  1.7351e+01,  2.3853e+00],\n",
       "        [ 9.8456e+00,  1.4885e+01, -1.3475e-01],\n",
       "        [ 1.2352e+01,  1.7328e+01, -6.7620e-02],\n",
       "        [ 1.2389e+01,  1.4890e+01,  2.3572e+00],\n",
       "        [ 9.9137e+00,  1.7378e+01,  2.3981e+00],\n",
       "        [ 1.4857e+01,  1.4834e+01, -7.5088e-02],\n",
       "        [ 1.7277e+01,  1.7297e+01, -4.6462e-02],\n",
       "        [ 1.7329e+01,  1.4818e+01,  2.4014e+00],\n",
       "        [ 1.4883e+01,  1.7327e+01,  2.3850e+00],\n",
       "        [-5.4393e-02, -5.1659e-02,  4.9166e+00],\n",
       "        [ 2.3607e+00,  2.3394e+00,  4.8637e+00],\n",
       "        [ 2.3759e+00, -1.3919e-01,  7.4038e+00],\n",
       "        [-8.9789e-02,  2.3473e+00,  7.3875e+00],\n",
       "        [ 4.8912e+00, -1.7449e-01,  4.9133e+00],\n",
       "        [ 7.3917e+00,  2.2782e+00,  4.8919e+00],\n",
       "        [ 7.3925e+00, -2.2342e-01,  7.3865e+00],\n",
       "        [ 4.8644e+00,  2.2756e+00,  7.3715e+00],\n",
       "        [ 9.8997e+00, -1.9166e-01,  4.9008e+00],\n",
       "        [ 1.2380e+01,  2.3255e+00,  4.8611e+00],\n",
       "        [ 1.2360e+01, -1.9047e-01,  7.3865e+00],\n",
       "        [ 9.9056e+00,  2.2855e+00,  7.3821e+00],\n",
       "        [ 1.4860e+01, -1.2431e-01,  4.9072e+00],\n",
       "        [ 1.7364e+01,  2.3940e+00,  4.9300e+00],\n",
       "        [ 1.7298e+01, -6.6449e-02,  7.3753e+00],\n",
       "        [ 1.4932e+01,  2.3388e+00,  7.4198e+00],\n",
       "        [-1.4751e-01,  4.9173e+00,  4.9162e+00],\n",
       "        [ 2.2745e+00,  7.3743e+00,  4.8569e+00],\n",
       "        [ 2.2694e+00,  4.8801e+00,  7.3885e+00],\n",
       "        [-2.0977e-01,  7.3721e+00,  7.3755e+00],\n",
       "        [ 4.8459e+00,  4.8723e+00,  4.8618e+00],\n",
       "        [ 7.3681e+00,  7.3562e+00,  4.8411e+00],\n",
       "        [ 7.3543e+00,  4.8211e+00,  7.3785e+00],\n",
       "        [ 4.8114e+00,  7.3591e+00,  7.3507e+00],\n",
       "        [ 9.9015e+00,  4.8598e+00,  4.8398e+00],\n",
       "        [ 1.2424e+01,  7.3903e+00,  4.8552e+00],\n",
       "        [ 1.2424e+01,  4.8510e+00,  7.3428e+00],\n",
       "        [ 9.9000e+00,  7.3953e+00,  7.3814e+00],\n",
       "        [ 1.4982e+01,  4.8810e+00,  4.8780e+00],\n",
       "        [ 1.7432e+01,  7.3778e+00,  4.8942e+00],\n",
       "        [ 1.7445e+01,  4.9117e+00,  7.4205e+00],\n",
       "        [ 1.5022e+01,  7.3783e+00,  7.3790e+00],\n",
       "        [-2.0091e-01,  9.8672e+00,  4.8908e+00],\n",
       "        [ 2.2919e+00,  1.2396e+01,  4.8769e+00],\n",
       "        [ 2.2598e+00,  9.8784e+00,  7.4001e+00],\n",
       "        [-1.8965e-01,  1.2369e+01,  7.4059e+00],\n",
       "        [ 4.8643e+00,  9.8959e+00,  4.8504e+00],\n",
       "        [ 7.3566e+00,  1.2415e+01,  4.8706e+00],\n",
       "        [ 7.3782e+00,  9.8904e+00,  7.3625e+00],\n",
       "        [ 4.8457e+00,  1.2398e+01,  7.3505e+00],\n",
       "        [ 9.9033e+00,  9.9003e+00,  4.8168e+00],\n",
       "        [ 1.2380e+01,  1.2425e+01,  4.8282e+00],\n",
       "        [ 1.2439e+01,  9.9048e+00,  7.3525e+00],\n",
       "        [ 9.9085e+00,  1.2428e+01,  7.3513e+00],\n",
       "        [ 1.4988e+01,  9.9008e+00,  4.8833e+00],\n",
       "        [ 1.7418e+01,  1.2350e+01,  4.8914e+00],\n",
       "        [ 1.7471e+01,  9.8804e+00,  7.3498e+00],\n",
       "        [ 1.4996e+01,  1.2371e+01,  7.3683e+00],\n",
       "        [-1.2283e-01,  1.4867e+01,  4.8974e+00],\n",
       "        [ 2.3845e+00,  1.7371e+01,  4.8945e+00],\n",
       "        [ 2.3377e+00,  1.4947e+01,  7.3821e+00],\n",
       "        [-7.5731e-02,  1.7326e+01,  7.4031e+00],\n",
       "        [ 4.8888e+00,  1.4953e+01,  4.8625e+00],\n",
       "        [ 7.3621e+00,  1.7465e+01,  4.9102e+00],\n",
       "        [ 7.3777e+00,  1.5029e+01,  7.3811e+00],\n",
       "        [ 4.8590e+00,  1.7454e+01,  7.3829e+00],\n",
       "        [ 9.9066e+00,  1.4981e+01,  4.8577e+00],\n",
       "        [ 1.2385e+01,  1.7417e+01,  4.8975e+00],\n",
       "        [ 1.2378e+01,  1.4988e+01,  7.3735e+00],\n",
       "        [ 9.8557e+00,  1.7487e+01,  7.3992e+00],\n",
       "        [ 1.4907e+01,  1.4886e+01,  4.8960e+00],\n",
       "        [ 1.7355e+01,  1.7348e+01,  4.9300e+00],\n",
       "        [ 1.7409e+01,  1.4899e+01,  7.3927e+00],\n",
       "        [ 1.4860e+01,  1.7393e+01,  7.3826e+00],\n",
       "        [-7.7159e-02, -6.8396e-02,  9.8800e+00],\n",
       "        [ 2.3340e+00,  2.3229e+00,  9.8840e+00],\n",
       "        [ 2.3932e+00, -1.0453e-01,  1.2336e+01],\n",
       "        [-1.2116e-01,  2.4088e+00,  1.2364e+01],\n",
       "        [ 4.9049e+00, -1.9031e-01,  9.8893e+00],\n",
       "        [ 7.3751e+00,  2.2533e+00,  9.9134e+00],\n",
       "        [ 7.3593e+00, -2.0812e-01,  1.2368e+01],\n",
       "        [ 4.8961e+00,  2.2976e+00,  1.2397e+01],\n",
       "        [ 9.8801e+00, -2.2720e-01,  9.8800e+00],\n",
       "        [ 1.2385e+01,  2.2818e+00,  9.8609e+00],\n",
       "        [ 1.2380e+01, -1.7333e-01,  1.2366e+01],\n",
       "        [ 9.8729e+00,  2.2924e+00,  1.2406e+01],\n",
       "        [ 1.4884e+01, -1.5157e-01,  9.8555e+00],\n",
       "        [ 1.7393e+01,  2.3929e+00,  9.8970e+00],\n",
       "        [ 1.7320e+01, -9.0322e-02,  1.2363e+01],\n",
       "        [ 1.4930e+01,  2.3075e+00,  1.2360e+01],\n",
       "        [-1.9819e-01,  4.9036e+00,  9.8507e+00],\n",
       "        [ 2.2736e+00,  7.3548e+00,  9.8636e+00],\n",
       "        [ 2.3273e+00,  4.8812e+00,  1.2394e+01],\n",
       "        [-2.1410e-01,  7.3941e+00,  1.2345e+01],\n",
       "        [ 4.8320e+00,  4.8470e+00,  9.8992e+00],\n",
       "        [ 7.3580e+00,  7.3539e+00,  9.9316e+00],\n",
       "        [ 7.3701e+00,  4.8435e+00,  1.2446e+01],\n",
       "        [ 4.8493e+00,  7.3715e+00,  1.2426e+01],\n",
       "        [ 9.9024e+00,  4.7884e+00,  9.8811e+00],\n",
       "        [ 1.2441e+01,  7.3672e+00,  9.8715e+00],\n",
       "        [ 1.2403e+01,  4.8710e+00,  1.2395e+01],\n",
       "        [ 9.8820e+00,  7.3605e+00,  1.2443e+01],\n",
       "        [ 1.4984e+01,  4.8424e+00,  9.8884e+00],\n",
       "        [ 1.7453e+01,  7.3803e+00,  9.8788e+00],\n",
       "        [ 1.7421e+01,  4.9200e+00,  1.2352e+01],\n",
       "        [ 1.4998e+01,  7.3945e+00,  1.2406e+01],\n",
       "        [-2.1242e-01,  9.8610e+00,  9.8959e+00],\n",
       "        [ 2.3035e+00,  1.2402e+01,  9.8478e+00],\n",
       "        [ 2.2780e+00,  9.8998e+00,  1.2379e+01],\n",
       "        [-1.4631e-01,  1.2369e+01,  1.2348e+01],\n",
       "        [ 4.8199e+00,  9.9075e+00,  9.8971e+00],\n",
       "        [ 7.3370e+00,  1.2456e+01,  9.9202e+00],\n",
       "        [ 7.3599e+00,  9.9286e+00,  1.2459e+01],\n",
       "        [ 4.8457e+00,  1.2416e+01,  1.2419e+01],\n",
       "        [ 9.9209e+00,  9.9055e+00,  9.8915e+00],\n",
       "        [ 1.2409e+01,  1.2413e+01,  9.9069e+00],\n",
       "        [ 1.2432e+01,  9.8818e+00,  1.2429e+01],\n",
       "        [ 9.9043e+00,  1.2428e+01,  1.2407e+01],\n",
       "        [ 1.5009e+01,  9.8804e+00,  9.8890e+00],\n",
       "        [ 1.7429e+01,  1.2370e+01,  9.8621e+00],\n",
       "        [ 1.7452e+01,  9.8441e+00,  1.2368e+01],\n",
       "        [ 1.4941e+01,  1.2404e+01,  1.2382e+01],\n",
       "        [-1.4626e-01,  1.4877e+01,  9.8913e+00],\n",
       "        [ 2.3882e+00,  1.7411e+01,  9.8673e+00],\n",
       "        [ 2.3226e+00,  1.4916e+01,  1.2359e+01],\n",
       "        [-4.3390e-02,  1.7329e+01,  1.2342e+01],\n",
       "        [ 4.8757e+00,  1.4976e+01,  9.8894e+00],\n",
       "        [ 7.3907e+00,  1.7492e+01,  9.8661e+00],\n",
       "        [ 7.3734e+00,  1.4971e+01,  1.2406e+01],\n",
       "        [ 4.8973e+00,  1.7416e+01,  1.2326e+01],\n",
       "        [ 9.8835e+00,  1.5025e+01,  9.8689e+00],\n",
       "        [ 1.2375e+01,  1.7436e+01,  9.8781e+00],\n",
       "        [ 1.2382e+01,  1.4978e+01,  1.2386e+01],\n",
       "        [ 9.8524e+00,  1.7467e+01,  1.2349e+01],\n",
       "        [ 1.4934e+01,  1.4952e+01,  9.8772e+00],\n",
       "        [ 1.7320e+01,  1.7359e+01,  9.8693e+00],\n",
       "        [ 1.7369e+01,  1.4854e+01,  1.2348e+01],\n",
       "        [ 1.4879e+01,  1.7367e+01,  1.2347e+01],\n",
       "        [-6.8645e-02, -3.2132e-02,  1.4841e+01],\n",
       "        [ 2.3632e+00,  2.3879e+00,  1.4891e+01],\n",
       "        [ 2.4267e+00, -3.9134e-02,  1.7281e+01],\n",
       "        [-4.7189e-02,  2.4395e+00,  1.7310e+01],\n",
       "        [ 4.9034e+00, -1.2933e-01,  1.4880e+01],\n",
       "        [ 7.4179e+00,  2.3107e+00,  1.4949e+01],\n",
       "        [ 7.4091e+00, -4.2401e-02,  1.7339e+01],\n",
       "        [ 4.9152e+00,  2.3663e+00,  1.7357e+01],\n",
       "        [ 9.8659e+00, -1.4443e-01,  1.4891e+01],\n",
       "        [ 1.2403e+01,  2.3492e+00,  1.4909e+01],\n",
       "        [ 1.2378e+01, -5.6721e-02,  1.7319e+01],\n",
       "        [ 9.8496e+00,  2.4163e+00,  1.7424e+01],\n",
       "        [ 1.4841e+01, -5.6180e-02,  1.4859e+01],\n",
       "        [ 1.7351e+01,  2.4210e+00,  1.4865e+01],\n",
       "        [ 1.7291e+01, -7.2190e-03,  1.7294e+01],\n",
       "        [ 1.4880e+01,  2.4024e+00,  1.7355e+01],\n",
       "        [-1.1297e-01,  4.9161e+00,  1.4871e+01],\n",
       "        [ 2.3721e+00,  7.4152e+00,  1.4947e+01],\n",
       "        [ 2.4062e+00,  4.9019e+00,  1.7355e+01],\n",
       "        [-6.4379e-02,  7.3981e+00,  1.7334e+01],\n",
       "        [ 4.9090e+00,  4.8838e+00,  1.4947e+01],\n",
       "        [ 7.3892e+00,  7.3684e+00,  1.5018e+01],\n",
       "        [ 7.3993e+00,  4.9071e+00,  1.7466e+01],\n",
       "        [ 4.8814e+00,  7.3979e+00,  1.7441e+01],\n",
       "        [ 9.8571e+00,  4.8931e+00,  1.5003e+01],\n",
       "        [ 1.2380e+01,  7.3803e+00,  1.4981e+01],\n",
       "        [ 1.2357e+01,  4.9095e+00,  1.7411e+01],\n",
       "        [ 9.8959e+00,  7.4003e+00,  1.7486e+01],\n",
       "        [ 1.4919e+01,  4.8986e+00,  1.4887e+01],\n",
       "        [ 1.7393e+01,  7.3968e+00,  1.4913e+01],\n",
       "        [ 1.7303e+01,  4.9050e+00,  1.7331e+01],\n",
       "        [ 1.4883e+01,  7.3746e+00,  1.7424e+01],\n",
       "        [-1.6852e-01,  9.8551e+00,  1.4884e+01],\n",
       "        [ 2.3429e+00,  1.2391e+01,  1.4930e+01],\n",
       "        [ 2.3874e+00,  9.8574e+00,  1.7394e+01],\n",
       "        [-5.8363e-02,  1.2330e+01,  1.7316e+01],\n",
       "        [ 4.8731e+00,  9.8981e+00,  1.4951e+01],\n",
       "        [ 7.3670e+00,  1.2378e+01,  1.4995e+01],\n",
       "        [ 7.4032e+00,  9.9058e+00,  1.7502e+01],\n",
       "        [ 4.9280e+00,  1.2369e+01,  1.7443e+01],\n",
       "        [ 9.8948e+00,  9.8892e+00,  1.5009e+01],\n",
       "        [ 1.2391e+01,  1.2391e+01,  1.4964e+01],\n",
       "        [ 1.2385e+01,  9.8776e+00,  1.7459e+01],\n",
       "        [ 9.8849e+00,  1.2390e+01,  1.7448e+01],\n",
       "        [ 1.4935e+01,  9.8658e+00,  1.4936e+01],\n",
       "        [ 1.7376e+01,  1.2363e+01,  1.4863e+01],\n",
       "        [ 1.7306e+01,  9.8738e+00,  1.7358e+01],\n",
       "        [ 1.4882e+01,  1.2340e+01,  1.7342e+01],\n",
       "        [-7.7431e-02,  1.4844e+01,  1.4847e+01],\n",
       "        [ 2.4043e+00,  1.7325e+01,  1.4830e+01],\n",
       "        [ 2.3778e+00,  1.4838e+01,  1.7348e+01],\n",
       "        [-1.7556e-02,  1.7289e+01,  1.7283e+01],\n",
       "        [ 4.9072e+00,  1.4934e+01,  1.4909e+01],\n",
       "        [ 7.3810e+00,  1.7393e+01,  1.4864e+01],\n",
       "        [ 7.3914e+00,  1.4883e+01,  1.7404e+01],\n",
       "        [ 4.9168e+00,  1.7328e+01,  1.7330e+01],\n",
       "        [ 9.8507e+00,  1.4932e+01,  1.4962e+01],\n",
       "        [ 1.2357e+01,  1.7355e+01,  1.4864e+01],\n",
       "        [ 1.2338e+01,  1.4851e+01,  1.7384e+01],\n",
       "        [ 9.8832e+00,  1.7317e+01,  1.7346e+01],\n",
       "        [ 1.4869e+01,  1.4909e+01,  1.4881e+01],\n",
       "        [ 1.7319e+01,  1.7306e+01,  1.4847e+01],\n",
       "        [ 1.7288e+01,  1.4828e+01,  1.7296e+01],\n",
       "        [ 1.4829e+01,  1.7313e+01,  1.7322e+01]], device='cuda:3',\n",
       "       grad_fn=<SelectBackward>)"
      ]
     },
     "execution_count": 85,
     "metadata": {},
     "output_type": "execute_result"
    }
   ],
   "source": [
    "trajs[1][1]"
   ]
  },
  {
   "cell_type": "code",
   "execution_count": 1,
   "metadata": {},
   "outputs": [
    {
     "ename": "NameError",
     "evalue": "name 'system' is not defined",
     "output_type": "error",
     "traceback": [
      "\u001b[0;31m---------------------------------------------------------------------------\u001b[0m",
      "\u001b[0;31mNameError\u001b[0m                                 Traceback (most recent call last)",
      "\u001b[0;32m<ipython-input-1-fddd02e259b5>\u001b[0m in \u001b[0;36m<module>\u001b[0;34m\u001b[0m\n\u001b[0;32m----> 1\u001b[0;31m \u001b[0msystem\u001b[0m\u001b[0;34m.\u001b[0m\u001b[0mget_velocities\u001b[0m\u001b[0;34m(\u001b[0m\u001b[0;34m)\u001b[0m\u001b[0;34m\u001b[0m\u001b[0;34m\u001b[0m\u001b[0m\n\u001b[0m",
      "\u001b[0;31mNameError\u001b[0m: name 'system' is not defined"
     ]
    }
   ],
   "source": [
    "system.get_velocities()"
   ]
  },
  {
   "cell_type": "code",
   "execution_count": 168,
   "metadata": {},
   "outputs": [
    {
     "data": {
      "text/plain": [
       "Observable()"
      ]
     },
     "execution_count": 168,
     "metadata": {},
     "output_type": "execute_result"
    }
   ],
   "source": [
    "# \n",
    "Observable(system)"
   ]
  },
  {
   "cell_type": "code",
   "execution_count": 169,
   "metadata": {},
   "outputs": [],
   "source": [
    "obs = rdf(system , 10, 5.0)"
   ]
  },
  {
   "cell_type": "code",
   "execution_count": null,
   "metadata": {},
   "outputs": [],
   "source": []
  }
 ],
 "metadata": {
  "kernelspec": {
   "display_name": "nff",
   "language": "python",
   "name": "nff"
  },
  "language_info": {
   "codemirror_mode": {
    "name": "ipython",
    "version": 3
   },
   "file_extension": ".py",
   "mimetype": "text/x-python",
   "name": "python",
   "nbconvert_exporter": "python",
   "pygments_lexer": "ipython3",
   "version": "3.7.3"
  }
 },
 "nbformat": 4,
 "nbformat_minor": 2
}
