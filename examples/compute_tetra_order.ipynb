{
 "cells": [
  {
   "cell_type": "code",
   "execution_count": 18,
   "metadata": {},
   "outputs": [],
   "source": [
    "import os\n",
    "import sys \n",
    "import numpy as np\n",
    "import matplotlib.pyplot as plt\n",
    "import sys \n",
    "import mdtraj\n",
    "from nglview import show_ase, show_file, show_mdtraj\n",
    "import torch\n",
    "\n",
    "import ase\n",
    "from ase import Atoms\n",
    "from ase.constraints import FixBondLengths\n",
    "from ase.calculators.tip3p import TIP3P, rOH, angleHOH\n",
    "from ase.md import Langevin\n",
    "import ase.units as units\n",
    "from ase.io.trajectory import Trajectory\n",
    "import numpy as np\n",
    "\n",
    "from scripts.infer_topology import generate_subgraphs\n",
    "\n",
    "from scripts.pretrain import pretrain_aimd\n",
    "from torchmd.interface import Stack, GNNPotentials, GNNPotentialsTrain, PairPotentials\n",
    "from torchmd.system import System\n",
    "from torchmd.potentials import ExcludedVolume, LennardJones\n",
    "from torchmd.observable import Angles\n",
    "from nff.train import get_model"
   ]
  },
  {
   "cell_type": "code",
   "execution_count": 11,
   "metadata": {},
   "outputs": [],
   "source": [
    "from ase.lattice.cubic import FaceCenteredCubic, Diamond"
   ]
  },
  {
   "cell_type": "code",
   "execution_count": 56,
   "metadata": {},
   "outputs": [],
   "source": [
    "def get_unit_len(rho, mass, N_unitcell):\n",
    "    \n",
    "    Na = 6.02214086 * 10**23 # avogadro number \n",
    "\n",
    "    N = (rho * 10**6 / mass) * Na  # number of molecules in 1m^3 of water \n",
    "\n",
    "    rho = N / (10 ** 30) # number density in 1 A^3\n",
    " \n",
    "    L = (N_unitcell / rho) ** (1/3)\n",
    "    \n",
    "    return L "
   ]
  },
  {
   "cell_type": "code",
   "execution_count": 114,
   "metadata": {},
   "outputs": [
    {
     "data": {
      "text/plain": [
       "5.4466872010888405"
      ]
     },
     "execution_count": 114,
     "metadata": {},
     "output_type": "execute_result"
    }
   ],
   "source": [
    "get_unit_len(2.309, 28.0855, 8)"
   ]
  },
  {
   "cell_type": "code",
   "execution_count": 115,
   "metadata": {},
   "outputs": [
    {
     "data": {
      "text/plain": [
       "5.4326069473229746"
      ]
     },
     "execution_count": 115,
     "metadata": {},
     "output_type": "execute_result"
    }
   ],
   "source": [
    "get_unit_len(2.327, 28.0855, 8)"
   ]
  },
  {
   "cell_type": "code",
   "execution_count": 116,
   "metadata": {},
   "outputs": [],
   "source": [
    "size = 5\n",
    "\n",
    "atoms = Diamond(directions=[[1, 0, 0], [0, 1, 0], [0, 0, 1]],\n",
    "                              symbol='Si',\n",
    "                              size=(size, size, size),\n",
    "                              latticeconstant=5.4326069473229746,\n",
    "                              pbc=True)"
   ]
  },
  {
   "cell_type": "code",
   "execution_count": 117,
   "metadata": {},
   "outputs": [],
   "source": [
    "    xnew = np.linspace(start, end, nbins)\n",
    "        # initialize observable function \n",
    "    obs = rdf(system, nbins, (start, end) )"
   ]
  },
  {
   "cell_type": "code",
   "execution_count": null,
   "metadata": {},
   "outputs": [],
   "source": []
  },
  {
   "cell_type": "code",
   "execution_count": null,
   "metadata": {},
   "outputs": [],
   "source": []
  },
  {
   "cell_type": "code",
   "execution_count": 118,
   "metadata": {},
   "outputs": [],
   "source": [
    "xyz = torch.Tensor( atoms.get_positions() )[None, ...]"
   ]
  },
  {
   "cell_type": "code",
   "execution_count": 119,
   "metadata": {},
   "outputs": [],
   "source": [
    "system = System(atoms, device='cpu')"
   ]
  },
  {
   "cell_type": "code",
   "execution_count": 120,
   "metadata": {},
   "outputs": [],
   "source": [
    "# compute tetrahedron order parameter \n",
    "\n",
    "angle_obs = Angles(system, 100, (0.0, 3.1), cutoff=3.25)\n",
    "cos_angle = angle_obs(xyz)\n",
    "tetra_order  = 1 -  (3/8) * (cos_angle + 1/3).pow(2).mean()"
   ]
  },
  {
   "cell_type": "code",
   "execution_count": 121,
   "metadata": {},
   "outputs": [],
   "source": [
    "from torchmd.observable import rdf \n",
    "\n",
    "start = 0.0\n",
    "end = 10.0\n",
    "nbins = 200\n",
    "\n",
    "xnew = np.linspace(start, end, nbins)\n",
    "    # initialize observable function \n",
    "obs = rdf(system, nbins, (start, end) )"
   ]
  },
  {
   "cell_type": "code",
   "execution_count": 122,
   "metadata": {},
   "outputs": [],
   "source": [
    "_, bins , g = obs(xyz)"
   ]
  },
  {
   "cell_type": "code",
   "execution_count": 123,
   "metadata": {},
   "outputs": [
    {
     "data": {
      "text/plain": [
       "[<matplotlib.lines.Line2D at 0x7fbb59f8ea90>]"
      ]
     },
     "execution_count": 123,
     "metadata": {},
     "output_type": "execute_result"
    },
    {
     "data": {
      "image/png": "[encoded data removed]",
      "text/plain": [
       "<Figure size 432x288 with 1 Axes>"
      ]
     },
     "metadata": {
      "needs_background": "light"
     },
     "output_type": "display_data"
    }
   ],
   "source": [
    "plt.plot(xnew, g.numpy())"
   ]
  },
  {
   "cell_type": "code",
   "execution_count": 124,
   "metadata": {},
   "outputs": [],
   "source": [
    "rdf_data = np.stack( (xnew, g.numpy()), -1)"
   ]
  },
  {
   "cell_type": "code",
   "execution_count": 125,
   "metadata": {},
   "outputs": [],
   "source": [
    "np.savetxt('../data/a-Si/102K_2.327_exp.csv', rdf_data, delimiter=\",\")"
   ]
  },
  {
   "cell_type": "code",
   "execution_count": 126,
   "metadata": {},
   "outputs": [],
   "source": [
    "data1 = np.loadtxt('../data/a-Si/800K_2.309_exp.csv',  delimiter=\",\")"
   ]
  },
  {
   "cell_type": "code",
   "execution_count": 127,
   "metadata": {},
   "outputs": [],
   "source": [
    "data2 = np.loadtxt('../data/a-Si/102K_2.327_exp.csv',  delimiter=\",\")"
   ]
  },
  {
   "cell_type": "code",
   "execution_count": 128,
   "metadata": {},
   "outputs": [
    {
     "data": {
      "text/plain": [
       "[<matplotlib.lines.Line2D at 0x7fbb59f06e80>]"
      ]
     },
     "execution_count": 128,
     "metadata": {},
     "output_type": "execute_result"
    },
    {
     "data": {
      "image/png": "[encoded data removed]",
      "text/plain": [
       "<Figure size 432x288 with 1 Axes>"
      ]
     },
     "metadata": {
      "needs_background": "light"
     },
     "output_type": "display_data"
    }
   ],
   "source": [
    "plt.plot(data1[:, 1])\n",
    "plt.plot(data2[:, 1])"
   ]
  },
  {
   "cell_type": "code",
   "execution_count": null,
   "metadata": {},
   "outputs": [],
   "source": []
  }
 ],
 "metadata": {
  "kernelspec": {
   "display_name": "Python [conda env:nff] *",
   "language": "python",
   "name": "conda-env-nff-py"
  },
  "language_info": {
   "codemirror_mode": {
    "name": "ipython",
    "version": 3
   },
   "file_extension": ".py",
   "mimetype": "text/x-python",
   "name": "python",
   "nbconvert_exporter": "python",
   "pygments_lexer": "ipython3",
   "version": "3.7.3"
  }
 },
 "nbformat": 4,
 "nbformat_minor": 2
}
