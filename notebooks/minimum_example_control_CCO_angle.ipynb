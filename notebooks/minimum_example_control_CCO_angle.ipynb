{
 "cells": [
  {
   "cell_type": "code",
   "execution_count": 28,
   "metadata": {},
   "outputs": [],
   "source": [
    "# Paper Name: Differential Learning and Control for Molecular Dynamics \n",
    "\n",
    "# Abstract: \n",
    "\n",
    "# Introduction: \n",
    "\n",
    "# Method: "
   ]
  },
  {
   "cell_type": "code",
   "execution_count": null,
   "metadata": {},
   "outputs": [],
   "source": [
    "# Example Notebook to do Adjoint integration fro backpropagate throught Molecular Dynamics for Learning and Control "
   ]
  },
  {
   "cell_type": "code",
   "execution_count": 3,
   "metadata": {},
   "outputs": [],
   "source": [
    "import os\n",
    "import shutil\n",
    "import numpy as np\n",
    "import matplotlib.pyplot as plt\n",
    "import sys \n",
    "\n",
    "NFF_PATH = '/home/wwj/Repo/playgrounds/NeuralForceField/'\n",
    "ODE_PATH = '/home/wwj/Repo/projects/torchdiffeq/'\n",
    "\n",
    "sys.path.insert(0, NFF_PATH)\n",
    "sys.path.insert(0, ODE_PATH)\n",
    "\n",
    "import torch\n",
    "from torch.optim import Adam\n",
    "from torch.utils.data import DataLoader\n",
    "from nff.data import Dataset, split_train_validation_test, collate_dicts, to_tensor\n",
    "from nff.train import Trainer, get_trainer, get_model, load_model, loss, hooks, metrics, evaluate\n",
    "from nff.utils import batch_to\n",
    "from torchdiffeq import odeint"
   ]
  },
  {
   "cell_type": "markdown",
   "metadata": {},
   "source": [
    "# Train a Ethanol molecules "
   ]
  },
  {
   "cell_type": "code",
   "execution_count": 4,
   "metadata": {},
   "outputs": [],
   "source": [
    "dataset = Dataset.from_file(NFF_PATH + 'tutorials/data/dataset.pth.tar')\n",
    "train, val, test = split_train_validation_test(dataset, val_size=0.2, test_size=0.2)\n",
    "train_loader = DataLoader(train, batch_size=1, collate_fn=collate_dicts)\n",
    "val_loader = DataLoader(val, batch_size=1, collate_fn=collate_dicts)\n",
    "test_loader = DataLoader(test, batch_size=1, collate_fn=collate_dicts)\n",
    "\n",
    "loss_fn = loss.build_mse_loss(loss_coef={'energy': 0.01, 'energy_grad': 1})"
   ]
  },
  {
   "cell_type": "code",
   "execution_count": 5,
   "metadata": {},
   "outputs": [],
   "source": [
    "params = {\n",
    "    'n_atom_basis': 256,\n",
    "    'n_filters': 256,\n",
    "    'n_gaussians': 32,\n",
    "    'n_convolutions': 4,\n",
    "    'cutoff': 5.0,\n",
    "    'trainable_gauss': True\n",
    "}\n",
    "\n",
    "model = get_model(params)\n",
    "trainable_params = filter(lambda p: p.requires_grad, model.parameters())\n",
    "optimizer = Adam(trainable_params, lr=3e-4)\n",
    "\n",
    "train_metrics = [\n",
    "    metrics.MeanAbsoluteError('energy'),\n",
    "    metrics.MeanAbsoluteError('energy_grad')\n",
    "]"
   ]
  },
  {
   "cell_type": "code",
   "execution_count": 6,
   "metadata": {},
   "outputs": [],
   "source": [
    "OUTDIR='ode'\n",
    "\n",
    "train_hooks = [\n",
    "    hooks.MaxEpochHook(100),\n",
    "    hooks.CSVHook(\n",
    "        OUTDIR,\n",
    "        metrics=train_metrics,\n",
    "    ),\n",
    "    hooks.PrintingHook(\n",
    "        OUTDIR,\n",
    "        metrics=train_metrics,\n",
    "        separator = ' | ',\n",
    "        time_strf='%M:%S'\n",
    "    ),\n",
    "    hooks.ReduceLROnPlateauHook(\n",
    "        optimizer=optimizer,\n",
    "        patience=30,\n",
    "        factor=0.5,\n",
    "        min_lr=1e-7,\n",
    "        window_length=1,\n",
    "        stop_after_min=True\n",
    "    )\n",
    "]\n",
    "\n",
    "T = Trainer(\n",
    "    model_path=OUTDIR,\n",
    "    model=model,\n",
    "    loss_fn=loss_fn,\n",
    "    optimizer=optimizer,\n",
    "    train_loader=train_loader,\n",
    "    validation_loader=val_loader,\n",
    "    checkpoint_interval=1,\n",
    "    hooks=train_hooks\n",
    ")"
   ]
  },
  {
   "cell_type": "code",
   "execution_count": 7,
   "metadata": {},
   "outputs": [
    {
     "name": "stdout",
     "output_type": "stream",
     "text": [
      " Time | Epoch | Learning rate | Train loss | Validation loss | MAE_energy | MAE_energy_grad | GPU Memory (MB)\n",
      "26:41 |     1 |     3.000e-04 |   108.5575 |         81.3195 |     4.7210 |          6.2875 |               0\n",
      "26:55 |     2 |     3.000e-04 |    32.0311 |         47.6523 |     6.9382 |          4.9648 |               0\n",
      "27:08 |     3 |     3.000e-04 |    23.5014 |         32.1302 |     5.6344 |          4.0935 |               0\n",
      "27:22 |     4 |     3.000e-04 |    18.8905 |         25.3770 |     4.3476 |          3.6474 |               0\n",
      "27:35 |     5 |     3.000e-04 |    15.3698 |         20.0746 |     3.5514 |          3.2997 |               0\n",
      "27:49 |     6 |     3.000e-04 |    13.0227 |         16.0783 |     2.8791 |          3.0008 |               0\n",
      "28:02 |     7 |     3.000e-04 |    11.4575 |         13.3461 |     2.2604 |          2.7626 |               0\n",
      "28:15 |     8 |     3.000e-04 |    10.2671 |         11.6989 |     1.5124 |          2.5894 |               0\n",
      "28:28 |     9 |     3.000e-04 |     9.2662 |         10.8415 |     0.7559 |          2.4939 |               0\n",
      "28:41 |    10 |     3.000e-04 |     8.4239 |         10.4501 |     0.5642 |          2.4517 |               0\n"
     ]
    }
   ],
   "source": [
    "T.train(device=1, n_epochs=10)"
   ]
  },
  {
   "cell_type": "markdown",
   "metadata": {},
   "source": [
    "# Write a Symplectic differential equation (Hamiltonian Equations of motions )"
   ]
  },
  {
   "cell_type": "code",
   "execution_count": 10,
   "metadata": {},
   "outputs": [],
   "source": [
    "from nff.utils.scatter import compute_grad\n",
    "from torchdiffeq import odeint_adjoint as odeint\n",
    "from nff.nn.graphop import batch_and_sum\n",
    "from ase import Atoms\n",
    "\n",
    "class ODE(torch.nn.Module):\n",
    "\n",
    "    def __init__(self, model):\n",
    "        super().__init__()\n",
    "        self.model = model  # declarce model that outputs a dictionary with key ['energy']\n",
    "        atoms = Atoms(numbers=batch['nxyz'][:, 0].detach().cpu().numpy())#.get_mass()\n",
    "        self.mass = torch.Tensor(atoms.get_masses()).to(DEVICE)\n",
    "        \n",
    "    def forward(self, t, pq):\n",
    "        # pq are the canonical momentum and position variables\n",
    "        with torch.set_grad_enabled(True):\n",
    "            pq.requires_grad = True\n",
    "            N = int(pq.shape[0]//2)\n",
    "            \n",
    "            p = pq[:N]\n",
    "            q = pq[N:]\n",
    "            \n",
    "            q = q.reshape(-1, 3)\n",
    "            r, N, q = model.convolve(batch, q)\n",
    "            r = model.atomwisereadout(r)\n",
    "            results = batch_and_sum(r, N, list(batch.keys()), q)\n",
    "            \n",
    "            # compute momentum and forces \n",
    "            v = (p.reshape(-1, 3) / self.mass[:, None]).reshape(-1)\n",
    "            f = -compute_grad(inputs=q, output=results[\"energy\"]).reshape(-1)\n",
    "        return torch.cat((f, v))"
   ]
  },
  {
   "cell_type": "code",
   "execution_count": 16,
   "metadata": {},
   "outputs": [],
   "source": [
    "# Initialize initial data:\n",
    "# get model and batch \n",
    "\n",
    "DEVICE = 1\n",
    "model = T.get_best_model().to(DEVICE)\n",
    "batch = batch_to( next(iter(train_loader)), DEVICE )\n",
    "batch.pop(\"energy_grad\") # remove the energy_grad label\n",
    "\n",
    "# declare a time variables as a tensor (you do not need to make the time step even)\n",
    "t = torch.Tensor([0.05 * i for i in range(15)]).to(DEVICE)\n",
    "t.requires_grad=True\n",
    "\n",
    "# declare position and momentum as initial values\n",
    "# velocity is zero \n",
    "xyz = batch['nxyz'][:, 1:4].reshape(-1)\n",
    "p = torch.zeros(xyz.shape[0]).to(DEVICE)\n",
    "pq = torch.cat((p, xyz))\n",
    "pq.requires_grad= True\n",
    "\n",
    "f_x = ODE(model)"
   ]
  },
  {
   "cell_type": "code",
   "execution_count": 17,
   "metadata": {},
   "outputs": [],
   "source": [
    "# Train a model that controls the C-C-O angle"
   ]
  },
  {
   "cell_type": "code",
   "execution_count": 18,
   "metadata": {},
   "outputs": [],
   "source": [
    "from ase import io \n",
    "from datetime import datetime"
   ]
  },
  {
   "cell_type": "code",
   "execution_count": 20,
   "metadata": {},
   "outputs": [
    {
     "name": "stdout",
     "output_type": "stream",
     "text": [
      "epoch 0\n",
      "epoch 0 Finish integration\n",
      "epoch 0 backpropgate through simulations\n",
      "epoch 0 loss: 0.5952353477478027\n",
      "17.672934 seconds\n",
      "epoch 1\n",
      "epoch 1 Finish integration\n",
      "epoch 1 backpropgate through simulations\n",
      "epoch 1 loss: 0.5751432776451111\n",
      "17.529625 seconds\n",
      "epoch 2\n",
      "epoch 2 Finish integration\n",
      "epoch 2 backpropgate through simulations\n",
      "epoch 2 loss: 0.5150354504585266\n",
      "16.594074 seconds\n",
      "epoch 3\n",
      "epoch 3 Finish integration\n",
      "epoch 3 backpropgate through simulations\n",
      "epoch 3 loss: 0.4469428062438965\n",
      "16.181444 seconds\n",
      "epoch 4\n",
      "epoch 4 Finish integration\n",
      "epoch 4 backpropgate through simulations\n",
      "epoch 4 loss: 0.4807685613632202\n",
      "16.38183 seconds\n",
      "epoch 5\n",
      "epoch 5 Finish integration\n",
      "epoch 5 backpropgate through simulations\n",
      "epoch 5 loss: 0.3609917461872101\n",
      "16.161476 seconds\n",
      "epoch 6\n",
      "epoch 6 Finish integration\n",
      "epoch 6 backpropgate through simulations\n",
      "epoch 6 loss: 0.39178863167762756\n",
      "17.056332 seconds\n",
      "epoch 7\n",
      "epoch 7 Finish integration\n",
      "epoch 7 backpropgate through simulations\n",
      "epoch 7 loss: 0.3412429392337799\n",
      "17.32182 seconds\n",
      "epoch 8\n",
      "epoch 8 Finish integration\n",
      "epoch 8 backpropgate through simulations\n",
      "epoch 8 loss: 0.31174910068511963\n",
      "16.736087 seconds\n",
      "epoch 9\n",
      "epoch 9 Finish integration\n",
      "epoch 9 backpropgate through simulations\n",
      "epoch 9 loss: 0.28367844223976135\n",
      "16.950793 seconds\n"
     ]
    }
   ],
   "source": [
    "from ase import io \n",
    "from ase import Atoms\n",
    "from datetime import datetime\n",
    "\n",
    "# define optimizer \n",
    "trainable_params = filter(lambda p: p.requires_grad, f_x.parameters())\n",
    "optimizer = Adam(trainable_params, lr=1e-4)\n",
    "\n",
    "for i in range(10):\n",
    "    print('epoch {}'.format(i))\n",
    "    current_time = datetime.now() \n",
    "    \n",
    "    if i != 0:\n",
    "        pq = torch.Tensor(x[-1, :].detach().cpu().numpy()).to(DEVICE)\n",
    "    \n",
    "    x = odeint(f_x, pq, t)\n",
    "    print('epoch {} Finish integration'.format(i))\n",
    "    \n",
    "    # control CCO angle \n",
    "    xyz = x[:, 27:].reshape(-1, 9, 3)\n",
    "    d1 = xyz[:, 1, :] - xyz[:, 0, :] \n",
    "    d2 = xyz[:, 2, :] - xyz[:, 0, :]\n",
    "    dot = (d2 * d1).sum(1) / (d2.pow(2).sum(-1).sqrt() * d1.pow(2).sum(-1).sqrt())\n",
    "    loss = (dot.acos() - 2.8).pow(2).mean() # force the angle to be 90 degrees  \n",
    "    \n",
    "    loss.backward()\n",
    "    print('epoch {} backpropgate through simulations'.format(i))\n",
    "    optimizer.step()\n",
    "    optimizer.zero_grad()\n",
    "    print('epoch {} loss: {}'.format(i,loss.item()) )\n",
    "    \n",
    "    dt = (datetime.now() - current_time)\n",
    "    print( \"{} seconds\".format(dt.total_seconds())) \n",
    "    \n",
    "    # saving trajectory \n",
    "    traj = x[:, 27:].detach().cpu().numpy()\n",
    "    io.write(\"./CCO_ode_angle{}.pdb\".format(i),[Atoms(numbers=batch['nxyz'][:, 0].detach().cpu().numpy(),\n",
    "               positions=frame.reshape(-1, 3)) for frame in traj] )"
   ]
  },
  {
   "cell_type": "markdown",
   "metadata": {},
   "source": [
    "# Visualize Trained Traj"
   ]
  },
  {
   "cell_type": "code",
   "execution_count": 1,
   "metadata": {},
   "outputs": [
    {
     "data": {
      "application/vnd.jupyter.widget-view+json": {
       "model_id": "e56e10bd86fd4137ac588fcf162521ea",
       "version_major": 2,
       "version_minor": 0
      },
      "text/plain": [
       "_ColormakerRegistry()"
      ]
     },
     "metadata": {},
     "output_type": "display_data"
    }
   ],
   "source": [
    "import mdtraj\n",
    "from nglview import show_ase, show_file, show_mdtraj\n",
    "\n",
    "# plot the angle as a function trajectory \n",
    "traj = mdtraj.join( [ mdtraj.load_pdb(\"CCO_ode_angle{}.pdb\".format(i)) for i in range(10)] )\n",
    "view = show_mdtraj(traj)\n",
    "traj.save_pdb('./learned_traj.pdb')"
   ]
  },
  {
   "cell_type": "code",
   "execution_count": 3,
   "metadata": {},
   "outputs": [
    {
     "data": {
      "application/vnd.jupyter.widget-view+json": {
       "model_id": "25173b9e6d4e4097a4a24e636058ec2c",
       "version_major": 2,
       "version_minor": 0
      },
      "text/plain": [
       "NGLWidget(max_frame=149)"
      ]
     },
     "metadata": {},
     "output_type": "display_data"
    }
   ],
   "source": [
    "# require nglview\n",
    "view"
   ]
  },
  {
   "cell_type": "code",
   "execution_count": 27,
   "metadata": {},
   "outputs": [
    {
     "data": {
      "text/plain": [
       "[<matplotlib.lines.Line2D at 0x7f17d7ea9da0>]"
      ]
     },
     "execution_count": 27,
     "metadata": {},
     "output_type": "execute_result"
    },
    {
     "data": {
      "image/png": "[encoded data removed]",
      "text/plain": [
       "<Figure size 432x288 with 1 Axes>"
      ]
     },
     "metadata": {
      "needs_background": "light"
     },
     "output_type": "display_data"
    }
   ],
   "source": [
    "xyz = torch.Tensor( traj.xyz )\n",
    "d1 = xyz[:, 1, :] - xyz[:, 0, :] \n",
    "d2 = xyz[:, 2, :] - xyz[:, 0, :]\n",
    "dot = (d2 * d1).sum(1) / (d2.pow(2).sum(-1).sqrt() * d1.pow(2).sum(-1).sqrt())\n",
    "\n",
    "plt.ylabel(\"$\\phi$ (rad)\")\n",
    "#plt.ylim(1.8, 3.0)\n",
    "\n",
    "plt.xlabel(\"time steps\")\n",
    "plt.plot( dot.acos() )"
   ]
  }
 ],
 "metadata": {
  "kernelspec": {
   "display_name": "Python [conda env:nff]",
   "language": "python",
   "name": "conda-env-nff-py"
  },
  "language_info": {
   "codemirror_mode": {
    "name": "ipython",
    "version": 3
   },
   "file_extension": ".py",
   "mimetype": "text/x-python",
   "name": "python",
   "nbconvert_exporter": "python",
   "pygments_lexer": "ipython3",
   "version": "3.7.3"
  }
 },
 "nbformat": 4,
 "nbformat_minor": 2
}
