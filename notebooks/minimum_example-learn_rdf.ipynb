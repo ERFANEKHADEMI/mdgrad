{
 "cells": [
  {
   "cell_type": "code",
   "execution_count": 15,
   "metadata": {},
   "outputs": [],
   "source": [
    "import os\n",
    "import numpy as np\n",
    "import matplotlib.pyplot as plt\n",
    "import sys \n",
    "import mdtraj\n",
    "\n",
    "NFF_PATH = '/home/wwj/Repo/playgrounds/NeuralForceField/'\n",
    "ODE_PATH = '/home/wwj/Repo/projects/torchdiffeq/'\n",
    "\n",
    "sys.path.insert(0, NFF_PATH)\n",
    "sys.path.insert(0, ODE_PATH)\n",
    "sys.path.insert(0, '../..')\n",
    "\n",
    "import torch\n",
    "from torch.optim import Adam\n",
    "from torchdiffeq import odeint_adjoint as odeint\n",
    "from torchmd.ode import ODE\n",
    "from torchmd.hamiltoinians import PairPot, MLP, LennardJones\n",
    "from torchmd.observable import DiffRDF\n",
    "from torchmd.utils import dump_mov\n",
    "from nglview import show_ase, show_file, show_mdtraj\n",
    "\n",
    "from nff.utils.scatter import compute_grad\n",
    "from nff.nn.layers import GaussianSmearing\n",
    "from ase import Atoms"
   ]
  },
  {
   "cell_type": "markdown",
   "metadata": {},
   "source": [
    "# Construct a Lattice for simulations "
   ]
  },
  {
   "cell_type": "code",
   "execution_count": 3,
   "metadata": {},
   "outputs": [],
   "source": [
    "import ase\n",
    "from ase.neighborlist import neighbor_list\n",
    "from ase.lattice.cubic import FaceCenteredCubic\n",
    "\n",
    "DEVICE = 3\n",
    "CUTOFF = 2.5\n",
    "size = 3\n",
    "atoms = FaceCenteredCubic(directions=[[1, 0, 0], [0, 1, 0], [0, 0, 1]],\n",
    "                          symbol='H',\n",
    "                          size=(size, size, size),\n",
    "                          latticeconstant=0.8442 * 2,\n",
    "                          pbc=True)\n",
    "NATOMS = atoms.get_number_of_atoms()\n",
    "\n",
    "mass = atoms.get_masses()"
   ]
  },
  {
   "cell_type": "code",
   "execution_count": 4,
   "metadata": {},
   "outputs": [
    {
     "data": {
      "application/vnd.jupyter.widget-view+json": {
       "model_id": "eafbbef3f938487bb523fd50f5599a53",
       "version_major": 2,
       "version_minor": 0
      },
      "text/plain": [
       "NGLWidget()"
      ]
     },
     "metadata": {},
     "output_type": "display_data"
    }
   ],
   "source": [
    "show_ase(atoms)"
   ]
  },
  {
   "cell_type": "markdown",
   "metadata": {},
   "source": [
    "# Run MD and get training data"
   ]
  },
  {
   "cell_type": "code",
   "execution_count": 5,
   "metadata": {},
   "outputs": [],
   "source": [
    "lj_params = {'epsilon': 1.0, \n",
    "             'sigma': 1.0}\n",
    "\n",
    "model = PairPot(LennardJones, lj_params,\n",
    "                cell=torch.Tensor(atoms.get_cell()).diag(), \n",
    "                device=DEVICE,\n",
    "                cutoff=CUTOFF).to(DEVICE)\n",
    "\n",
    "# model = PairPot(MLP, mlp_params,\n",
    "#                 cell=torch.Tensor(atoms.get_cell()).diag(), \n",
    "#                 device=DEVICE,\n",
    "#                 cutoff=CUTOFF).to(DEVICE)"
   ]
  },
  {
   "cell_type": "code",
   "execution_count": 6,
   "metadata": {},
   "outputs": [],
   "source": [
    "xyz = torch.Tensor(atoms.get_positions()).to(DEVICE)\n",
    "xyz.requires_grad=True\n",
    "\n",
    "e = model(xyz)\n",
    "#e.backward()"
   ]
  },
  {
   "cell_type": "code",
   "execution_count": 8,
   "metadata": {},
   "outputs": [],
   "source": [
    "# declare position and momentum as initial values\n",
    "xyz = torch.Tensor(atoms.get_positions())\n",
    "xyz = xyz.reshape(-1)\n",
    "\n",
    "# generate random velocity \n",
    "p = torch.rand(xyz.shape[0]) * 6#.to(DEVICE)\n",
    "pq = torch.cat((p, xyz)).to(DEVICE)\n",
    "pq.requires_grad= True"
   ]
  },
  {
   "cell_type": "code",
   "execution_count": 9,
   "metadata": {},
   "outputs": [],
   "source": [
    "model = PairPot(LennardJones, lj_params, cell=torch.Tensor(atoms.get_cell()).diag(), device=DEVICE, cutoff=CUTOFF).to(DEVICE)\n",
    "#model = PairPot(LennardJones, lj_params, cell=torch.Tensor(atoms.get_cell()).diag(), device=DEVICE, cutoff=CUTOFF).to(DEVICE)"
   ]
  },
  {
   "cell_type": "code",
   "execution_count": 10,
   "metadata": {},
   "outputs": [
    {
     "name": "stdout",
     "output_type": "stream",
     "text": [
      "CPU times: user 3.69 s, sys: 1.05 s, total: 4.74 s\n",
      "Wall time: 4.87 s\n"
     ]
    }
   ],
   "source": [
    "%%time\n",
    "f_x = ODE(model, mass, DEVICE).to(DEVICE)\n",
    "t = torch.Tensor([0.05 * i for i in range(10)]).to(DEVICE)\n",
    "x = odeint(f_x, pq, t)"
   ]
  },
  {
   "cell_type": "code",
   "execution_count": 11,
   "metadata": {},
   "outputs": [],
   "source": [
    "movie = x[:, NATOMS*3:].reshape(-1, NATOMS, 3).detach().cpu().numpy()"
   ]
  },
  {
   "cell_type": "code",
   "execution_count": 16,
   "metadata": {},
   "outputs": [],
   "source": [
    "dump_mov(movie, atoms)\n",
    "traj = mdtraj.load_pdb(\"LJ.pdb\") \n",
    "view = show_mdtraj(traj)"
   ]
  },
  {
   "cell_type": "code",
   "execution_count": 17,
   "metadata": {},
   "outputs": [],
   "source": [
    "view.add_unitcell()"
   ]
  },
  {
   "cell_type": "code",
   "execution_count": 18,
   "metadata": {},
   "outputs": [
    {
     "data": {
      "application/vnd.jupyter.widget-view+json": {
       "model_id": "4bc25ed4c3eb476daef48b60c5a137d1",
       "version_major": 2,
       "version_minor": 0
      },
      "text/plain": [
       "NGLWidget(max_frame=9)"
      ]
     },
     "metadata": {},
     "output_type": "display_data"
    }
   ],
   "source": [
    "view"
   ]
  },
  {
   "cell_type": "code",
   "execution_count": 1693,
   "metadata": {},
   "outputs": [],
   "source": [
    "# Differentiable pair distributions "
   ]
  },
  {
   "cell_type": "code",
   "execution_count": 32,
   "metadata": {},
   "outputs": [],
   "source": [
    "Nbins = 32\n",
    "\n",
    "dis_bin = torch.linspace(0, CUTOFF, Nbins + 1).to(DEVICE)\n",
    "smear = GaussianSmearing(\n",
    "                    start=0.0,\n",
    "                    stop=dis_bin[-2],\n",
    "                    n_gaussians=Nbins,\n",
    "                    trainable=False\n",
    "                ).to(DEVICE)"
   ]
  },
  {
   "cell_type": "code",
   "execution_count": 33,
   "metadata": {},
   "outputs": [],
   "source": [
    "# systme parameters\n",
    "PI = torch.Tensor([np.pi]).to(DEVICE)\n",
    "cell = torch.Tensor(atoms.get_cell()).diag().to(DEVICE)\n",
    "box_volume = torch.Tensor([atoms.get_volume()]).to(DEVICE)\n",
    "vol = 4* PI /3*(dis_bin[1:]**3 - dis_bin[:-1]**3).to(DEVICE)\n",
    "Natoms = atoms.get_number_of_atoms()\n",
    "\n",
    "frames = x[:, Natoms*3:].reshape(-1, Natoms, 3)\n",
    "\n",
    "rdf = DiffRDF(frames, cell, box_volume, dis_bin, smear, cutoff=CUTOFF, vol=vol, device=DEVICE, skip=1)"
   ]
  },
  {
   "cell_type": "code",
   "execution_count": 34,
   "metadata": {},
   "outputs": [
    {
     "data": {
      "image/png": "[encoded data removed]",
      "text/plain": [
       "<Figure size 432x288 with 1 Axes>"
      ]
     },
     "metadata": {
      "needs_background": "light"
     },
     "output_type": "display_data"
    }
   ],
   "source": [
    "plt.plot(dis_bin[:-1].detach().cpu().numpy(), \n",
    "                rdf.detach().cpu().numpy())\n",
    "#plt.plot(dis_bin[:-1].detach().cpu().numpy(), target_rdf)\n",
    "plt.show()"
   ]
  },
  {
   "cell_type": "code",
   "execution_count": 35,
   "metadata": {},
   "outputs": [],
   "source": [
    "np.save('rdf_3x3x3.npy', rdf.detach().cpu().numpy())\n",
    "target_rdf = np.load('rdf_3x3x3.npy')"
   ]
  },
  {
   "cell_type": "markdown",
   "metadata": {},
   "source": [
    "# Training "
   ]
  },
  {
   "cell_type": "code",
   "execution_count": null,
   "metadata": {
    "scrolled": true
   },
   "outputs": [
    {
     "name": "stdout",
     "output_type": "stream",
     "text": [
      "11.509045600891113\n"
     ]
    },
    {
     "data": {
      "image/png": "[encoded data removed]",
      "text/plain": [
       "<Figure size 432x288 with 1 Axes>"
      ]
     },
     "metadata": {
      "needs_background": "light"
     },
     "output_type": "display_data"
    },
    {
     "name": "stdout",
     "output_type": "stream",
     "text": [
      "10.056242942810059\n"
     ]
    }
   ],
   "source": [
    "# Wrap everyhing together: \n",
    "from datetime import datetime\n",
    "\n",
    "# %%time\n",
    "\n",
    "# define model\n",
    "\n",
    "DEVICE = 3\n",
    "\n",
    "lj_params = {'epsilon': 1.05, \n",
    "             'sigma': 0.8}\n",
    "\n",
    "mlp_params = {'D_in': 1,\n",
    "              'H': 32, \n",
    "              'num_layers': 2,\n",
    "              'act': 'relu',\n",
    "              'D_out': 1}\n",
    "\n",
    "# model = PairPot(LennardJones, lj_params,\n",
    "#                 cell=torch.Tensor(atoms.get_cell()).diag(), \n",
    "#                 device=DEVICE, \n",
    "#                 cutoff=CUTOFF).to(DEVICE)\n",
    "\n",
    "model = PairPot(MLP, mlp_params,\n",
    "                cell=torch.Tensor(atoms.get_cell()).diag(), \n",
    "                device=DEVICE, \n",
    "                cutoff=CUTOFF).to(DEVICE)\n",
    "\n",
    "f_x = ODE(model, mass, DEVICE).to(DEVICE)\n",
    "\n",
    "# define optimizer \n",
    "trainable_params = filter(lambda p: p.requires_grad, f_x.parameters())\n",
    "#optimizer = torch.optim.SGD(trainable_params, lr=3e-4)\n",
    "optimizer = torch.optim.Adam(trainable_params, lr=1e-2)\n",
    "\n",
    "for i in range(200):\n",
    "    \n",
    "    current_time = datetime.now() \n",
    "    \n",
    "    xyz = torch.Tensor(atoms.get_positions()).reshape(-1)\n",
    "    # generate random velocity \n",
    "    p = torch.rand(xyz.shape[0]) * 6 #.to(DEVICE)\n",
    "    print(p.pow(2).mean().item())\n",
    "\n",
    "    pq = torch.cat((p, xyz)).to(DEVICE)\n",
    "    pq.requires_grad= True\n",
    "    t = torch.Tensor([0.05 * i for i in range(25)]).to(DEVICE)\n",
    "    x = odeint(f_x, pq, t)\n",
    "    \n",
    "    frames = x[:, Natoms*3:].reshape(-1, Natoms, 3)\n",
    "    rdf = DiffRDF(frames, cell, box_volume, dis_bin, smear, cutoff=CUTOFF, vol=vol, device=DEVICE, skip=5) \n",
    "    \n",
    "    plt.title(\"epoch {}\".format(i))\n",
    "    plt.plot(rdf.detach().cpu().numpy())\n",
    "    plt.plot(target_rdf)\n",
    "    plt.show()\n",
    "    \n",
    "    loss = (rdf - torch.Tensor(target_rdf).to(DEVICE)).pow(2).mean()\n",
    "    print(loss.item())\n",
    "    loss.backward()\n",
    "    \n",
    "    dt = (datetime.now() - current_time)\n",
    "    print( \"{} seconds\".format(dt.total_seconds())) \n",
    "    \n",
    "    \n",
    "    f_x.model.model.__class__ is LennardJones:\n",
    "        print(\"epsilon: {}  sigma: {}\".format(f_x.model.model.epsilon.item(), \n",
    "                                          f_x.model.model.sigma.item()))\n",
    "    \n",
    "    optimizer.step()\n",
    "    optimizer.zero_grad()\n",
    "    \n",
    "    "
   ]
  }
 ],
 "metadata": {
  "kernelspec": {
   "display_name": "Python [conda env:nff] *",
   "language": "python",
   "name": "conda-env-nff-py"
  },
  "language_info": {
   "codemirror_mode": {
    "name": "ipython",
    "version": 3
   },
   "file_extension": ".py",
   "mimetype": "text/x-python",
   "name": "python",
   "nbconvert_exporter": "python",
   "pygments_lexer": "ipython3",
   "version": "3.7.3"
  },
  "widgets": {
   "application/vnd.jupyter.widget-state+json": {
    "state": {
     "000983f5867f45f4a02e1341b43b11b6": {
      "model_module": "@jupyter-widgets/controls",
      "model_module_version": "1.5.0",
      "model_name": "ButtonModel",
      "state": {
       "icon": "compress",
       "layout": "IPY_MODEL_4798d8a9ff78449e8cf046ae0f8ae16f",
       "style": "IPY_MODEL_feb00edf98a94546a5d010e4f6083012"
      }
     },
     "014a649b0a464c26b6f91db786f63572": {
      "model_module": "@jupyter-widgets/base",
      "model_module_version": "1.2.0",
      "model_name": "LayoutModel",
      "state": {}
     },
     "018e25077ebe4f359ec1eaef6fd1d82f": {
      "model_module": "@jupyter-widgets/controls",
      "model_module_version": "1.5.0",
      "model_name": "IntSliderModel",
      "state": {
       "layout": "IPY_MODEL_be4422fa30384922be13a1bd71f60c1d",
       "max": 0,
       "style": "IPY_MODEL_ef00e4a1839244fcbd9cf3c970aefce7"
      }
     },
     "01a35442ae334908808e3e6fff0a2289": {
      "model_module": "@jupyter-widgets/controls",
      "model_module_version": "1.5.0",
      "model_name": "ImageModel",
      "state": {
       "layout": "IPY_MODEL_0e7099181cee47b985522ea023f6dd34",
       "width": "900.0"
      }
     },
     "01a6be1e3ec24233abf367fedb75b735": {
      "model_module": "@jupyter-widgets/controls",
      "model_module_version": "1.5.0",
      "model_name": "ButtonStyleModel",
      "state": {}
     },
     "01ab5dabf1c54e8697b0b27e4ca95d98": {
      "model_module": "@jupyter-widgets/controls",
      "model_module_version": "1.5.0",
      "model_name": "LinkModel",
      "state": {
       "source": [
        "IPY_MODEL_07306369a76a4b94bb6c0829eb28ec4a",
        "value"
       ],
       "target": [
        "IPY_MODEL_7ddb8764deb24be5ae66d74121aa2aff",
        "value"
       ]
      }
     },
     "023d1a46033b4421b27426f8341ae5b4": {
      "model_module": "@jupyter-widgets/base",
      "model_module_version": "1.2.0",
      "model_name": "LayoutModel",
      "state": {}
     },
     "0351dbe513344fdabea2e00331dc0fe2": {
      "model_module": "@jupyter-widgets/controls",
      "model_module_version": "1.5.0",
      "model_name": "PlayModel",
      "state": {
       "layout": "IPY_MODEL_9a761a94086049c7a2224c0502d45f7b",
       "max": 0,
       "style": "IPY_MODEL_50fa0d07fc8b4ca18ae16385e4bacec4"
      }
     },
     "03848e28fb3b4194b86effe9e6719448": {
      "model_module": "@jupyter-widgets/controls",
      "model_module_version": "1.5.0",
      "model_name": "DescriptionStyleModel",
      "state": {
       "description_width": ""
      }
     },
     "03ce59c3425f481284025a62a7afacf6": {
      "model_module": "@jupyter-widgets/controls",
      "model_module_version": "1.5.0",
      "model_name": "LinkModel",
      "state": {
       "source": [
        "IPY_MODEL_cdcf4af4adba41849411e5c0d29e9ffe",
        "max"
       ],
       "target": [
        "IPY_MODEL_6b0b292c068947b38342d48d4603e8d3",
        "max_frame"
       ]
      }
     },
     "03cec4135d0c47a5974232f6a6ece4c5": {
      "model_module": "@jupyter-widgets/base",
      "model_module_version": "1.2.0",
      "model_name": "LayoutModel",
      "state": {}
     },
     "03cfa1ea9e49448da2c0cdcc34d9e5fc": {
      "model_module": "@jupyter-widgets/controls",
      "model_module_version": "1.5.0",
      "model_name": "ImageModel",
      "state": {
       "layout": "IPY_MODEL_af0ac1e9c6b9432ca1018c162a0a5a3d",
       "width": "900.0"
      }
     },
     "03fd44048fc345eb863b98fa928d658b": {
      "model_module": "@jupyter-widgets/base",
      "model_module_version": "1.2.0",
      "model_name": "LayoutModel",
      "state": {}
     },
     "04a95c66e4fd4abf9a743740a829102e": {
      "model_module": "nglview-js-widgets",
      "model_module_version": "2.7.1",
      "model_name": "NGLModel",
      "state": {
       "_camera_orientation": [
        11.823360930884071,
        0,
        0,
        0,
        0,
        11.823360930884071,
        0,
        0,
        0,
        0,
        11.823360930884071,
        0,
        -0.6884999871253967,
        -0.6884999871253967,
        -0.6884999871253967,
        1
       ],
       "_camera_str": "orthographic",
       "_gui_theme": null,
       "_ibtn_fullscreen": "IPY_MODEL_2229c9383de74dcf9a19b41abbd11829",
       "_igui": null,
       "_iplayer": "IPY_MODEL_931ea9f2ebaa4a4694a7dca781e30378",
       "_ngl_color_dict": {},
       "_ngl_coordinate_resource": {},
       "_ngl_full_stage_parameters": {
        "ambientColor": 14540253,
        "ambientIntensity": 0.2,
        "backgroundColor": "white",
        "cameraEyeSep": 0.3,
        "cameraFov": 40,
        "cameraType": "perspective",
        "clipDist": 10,
        "clipFar": 100,
        "clipNear": 0,
        "fogFar": 100,
        "fogNear": 50,
        "hoverTimeout": 0,
        "impostor": true,
        "lightColor": 14540253,
        "lightIntensity": 1,
        "mousePreset": "default",
        "panSpeed": 1,
        "quality": "medium",
        "rotateSpeed": 2,
        "sampleLevel": 0,
        "tooltip": true,
        "workerDefault": true,
        "zoomSpeed": 1.2
       },
       "_ngl_msg_archive": [
        {
         "args": [
          {
           "binary": false,
           "data": "CRYST1    1.836    1.836    1.836  90.00  90.00  90.00 P 1\nMODEL     1\nATOM      0    H MOL     1       0.000   0.000   0.000  1.00  0.00           H  \nATOM      1    H MOL     1       0.459   0.459   0.000  1.00  0.00           H  \nATOM      2    H MOL     1       0.459   0.000   0.459  1.00  0.00           H  \nATOM      3    H MOL     1       0.000   0.459   0.459  1.00  0.00           H  \nATOM      4    H MOL     1       0.918   0.000   0.000  1.00  0.00           H  \nATOM      5    H MOL     1       1.377   0.459   0.000  1.00  0.00           H  \nATOM      6    H MOL     1       1.377   0.000   0.459  1.00  0.00           H  \nATOM      7    H MOL     1       0.918   0.459   0.459  1.00  0.00           H  \nATOM      8    H MOL     1       0.000   0.918   0.000  1.00  0.00           H  \nATOM      9    H MOL     1       0.459   1.377   0.000  1.00  0.00           H  \nATOM     10    H MOL     1       0.459   0.918   0.459  1.00  0.00           H  \nATOM     11    H MOL     1       0.000   1.377   0.459  1.00  0.00           H  \nATOM     12    H MOL     1       0.918   0.918   0.000  1.00  0.00           H  \nATOM     13    H MOL     1       1.377   1.377   0.000  1.00  0.00           H  \nATOM     14    H MOL     1       1.377   0.918   0.459  1.00  0.00           H  \nATOM     15    H MOL     1       0.918   1.377   0.459  1.00  0.00           H  \nATOM     16    H MOL     1       0.000   0.000   0.918  1.00  0.00           H  \nATOM     17    H MOL     1       0.459   0.459   0.918  1.00  0.00           H  \nATOM     18    H MOL     1       0.459   0.000   1.377  1.00  0.00           H  \nATOM     19    H MOL     1       0.000   0.459   1.377  1.00  0.00           H  \nATOM     20    H MOL     1       0.918   0.000   0.918  1.00  0.00           H  \nATOM     21    H MOL     1       1.377   0.459   0.918  1.00  0.00           H  \nATOM     22    H MOL     1       1.377   0.000   1.377  1.00  0.00           H  \nATOM     23    H MOL     1       0.918   0.459   1.377  1.00  0.00           H  \nATOM     24    H MOL     1       0.000   0.918   0.918  1.00  0.00           H  \nATOM     25    H MOL     1       0.459   1.377   0.918  1.00  0.00           H  \nATOM     26    H MOL     1       0.459   0.918   1.377  1.00  0.00           H  \nATOM     27    H MOL     1       0.000   1.377   1.377  1.00  0.00           H  \nATOM     28    H MOL     1       0.918   0.918   0.918  1.00  0.00           H  \nATOM     29    H MOL     1       1.377   1.377   0.918  1.00  0.00           H  \nATOM     30    H MOL     1       1.377   0.918   1.377  1.00  0.00           H  \nATOM     31    H MOL     1       0.918   1.377   1.377  1.00  0.00           H  \nENDMDL\n",
           "type": "blob"
          }
         ],
         "kwargs": {
          "defaultRepresentation": true,
          "ext": "pdb"
         },
         "methodName": "loadFile",
         "reconstruc_color_scheme": false,
         "target": "Stage",
         "type": "call_method"
        }
       ],
       "_ngl_original_stage_parameters": {
        "ambientColor": 14540253,
        "ambientIntensity": 0.2,
        "backgroundColor": "white",
        "cameraEyeSep": 0.3,
        "cameraFov": 40,
        "cameraType": "perspective",
        "clipDist": 10,
        "clipFar": 100,
        "clipNear": 0,
        "fogFar": 100,
        "fogNear": 50,
        "hoverTimeout": 0,
        "impostor": true,
        "lightColor": 14540253,
        "lightIntensity": 1,
        "mousePreset": "default",
        "panSpeed": 1,
        "quality": "medium",
        "rotateSpeed": 2,
        "sampleLevel": 0,
        "tooltip": true,
        "workerDefault": true,
        "zoomSpeed": 1.2
       },
       "_ngl_repr_dict": {
        "0": {
         "0": {
          "params": {
           "aspectRatio": 1.5,
           "assembly": "default",
           "bondScale": 0.3,
           "bondSpacing": 0.75,
           "clipCenter": {
            "x": 0,
            "y": 0,
            "z": 0
           },
           "clipNear": 0,
           "clipRadius": 0,
           "colorMode": "hcl",
           "colorReverse": false,
           "colorScale": "",
           "colorScheme": "element",
           "colorValue": 9474192,
           "cylinderOnly": false,
           "defaultAssembly": "",
           "depthWrite": true,
           "diffuse": 16777215,
           "diffuseInterior": false,
           "disableImpostor": false,
           "disablePicking": false,
           "flatShaded": false,
           "interiorColor": 2236962,
           "interiorDarkening": 0,
           "lazy": false,
           "lineOnly": false,
           "linewidth": 2,
           "matrix": {
            "elements": [
             1,
             0,
             0,
             0,
             0,
             1,
             0,
             0,
             0,
             0,
             1,
             0,
             0,
             0,
             0,
             1
            ]
           },
           "metalness": 0,
           "multipleBond": "off",
           "opacity": 1,
           "openEnded": true,
           "quality": "high",
           "radialSegments": 20,
           "radiusData": {},
           "radiusScale": 2,
           "radiusSize": 0.15,
           "radiusType": "size",
           "roughness": 0.4,
           "sele": "",
           "side": "double",
           "sphereDetail": 2,
           "useInteriorColor": true,
           "visible": true,
           "wireframe": false
          },
          "type": "ball+stick"
         }
        }
       },
       "_ngl_serialize": false,
       "_ngl_version": "2.0.0-dev.36",
       "_ngl_view_id": [
        "FE450B9D-3555-46FA-AE82-0D0696E71A5B"
       ],
       "_player_dict": {},
       "_scene_position": {},
       "_scene_rotation": {},
       "_synced_model_ids": [],
       "_synced_repr_model_ids": [],
       "_view_height": "",
       "_view_width": "",
       "background": "white",
       "frame": 0,
       "gui_style": null,
       "layout": "IPY_MODEL_ea6eb3ed55384e348965a44edf653809",
       "max_frame": 0,
       "n_components": 1,
       "picked": {}
      }
     },
     "05935b143dad449dbf60d10e8b8b88bd": {
      "model_module": "@jupyter-widgets/controls",
      "model_module_version": "1.5.0",
      "model_name": "SliderStyleModel",
      "state": {
       "description_width": ""
      }
     },
     "05f19aed27d749e0bf2d097c3a5fcf6f": {
      "model_module": "@jupyter-widgets/base",
      "model_module_version": "1.2.0",
      "model_name": "LayoutModel",
      "state": {}
     },
     "05f4f59406a74950adb1082e8b718280": {
      "model_module": "@jupyter-widgets/controls",
      "model_module_version": "1.5.0",
      "model_name": "LinkModel",
      "state": {
       "source": [
        "IPY_MODEL_3019a2b283334e57ac655bd383473aae",
        "max"
       ],
       "target": [
        "IPY_MODEL_04a95c66e4fd4abf9a743740a829102e",
        "max_frame"
       ]
      }
     },
     "064ec2c5e692402780720c9da8155788": {
      "model_module": "nglview-js-widgets",
      "model_module_version": "2.7.1",
      "model_name": "NGLModel",
      "state": {
       "_camera_orientation": [
        -1.4357620034725465,
        -0.8005157922145284,
        -11.777743441084338,
        0,
        -0.46991007237060917,
        11.85900625250133,
        -0.7487548699165316,
        0,
        11.79556063192736,
        0.3749983970022062,
        -1.4634220884545337,
        0,
        -1.0709999799728394,
        -1.0709999799728394,
        -1.0709999799728394,
        1
       ],
       "_camera_str": "orthographic",
       "_gui_theme": null,
       "_ibtn_fullscreen": "IPY_MODEL_9dfbca854cdc458e876f7f35d76bb091",
       "_igui": null,
       "_iplayer": "IPY_MODEL_f818ad409c864091ba92ebd2b1377779",
       "_ngl_color_dict": {},
       "_ngl_coordinate_resource": {},
       "_ngl_full_stage_parameters": {
        "ambientColor": 14540253,
        "ambientIntensity": 0.2,
        "backgroundColor": "white",
        "cameraEyeSep": 0.3,
        "cameraFov": 40,
        "cameraType": "perspective",
        "clipDist": 10,
        "clipFar": 100,
        "clipNear": 0,
        "fogFar": 100,
        "fogNear": 50,
        "hoverTimeout": 0,
        "impostor": true,
        "lightColor": 14540253,
        "lightIntensity": 1,
        "mousePreset": "default",
        "panSpeed": 1,
        "quality": "medium",
        "rotateSpeed": 2,
        "sampleLevel": 0,
        "tooltip": true,
        "workerDefault": true,
        "zoomSpeed": 1.2
       },
       "_ngl_msg_archive": [
        {
         "args": [
          {
           "binary": false,
           "data": "CRYST1    2.856    2.856    2.856  90.00  90.00  90.00 P 1\nMODEL     1\nATOM      0    H MOL     1       0.000   0.000   0.000  1.00  0.00           H  \nATOM      1    H MOL     1       0.714   0.714   0.000  1.00  0.00           H  \nATOM      2    H MOL     1       0.714   0.000   0.714  1.00  0.00           H  \nATOM      3    H MOL     1       0.000   0.714   0.714  1.00  0.00           H  \nATOM      4    H MOL     1       1.428   0.000   0.000  1.00  0.00           H  \nATOM      5    H MOL     1       2.142   0.714   0.000  1.00  0.00           H  \nATOM      6    H MOL     1       2.142   0.000   0.714  1.00  0.00           H  \nATOM      7    H MOL     1       1.428   0.714   0.714  1.00  0.00           H  \nATOM      8    H MOL     1       0.000   1.428   0.000  1.00  0.00           H  \nATOM      9    H MOL     1       0.714   2.142   0.000  1.00  0.00           H  \nATOM     10    H MOL     1       0.714   1.428   0.714  1.00  0.00           H  \nATOM     11    H MOL     1       0.000   2.142   0.714  1.00  0.00           H  \nATOM     12    H MOL     1       1.428   1.428   0.000  1.00  0.00           H  \nATOM     13    H MOL     1       2.142   2.142   0.000  1.00  0.00           H  \nATOM     14    H MOL     1       2.142   1.428   0.714  1.00  0.00           H  \nATOM     15    H MOL     1       1.428   2.142   0.714  1.00  0.00           H  \nATOM     16    H MOL     1       0.000   0.000   1.428  1.00  0.00           H  \nATOM     17    H MOL     1       0.714   0.714   1.428  1.00  0.00           H  \nATOM     18    H MOL     1       0.714   0.000   2.142  1.00  0.00           H  \nATOM     19    H MOL     1       0.000   0.714   2.142  1.00  0.00           H  \nATOM     20    H MOL     1       1.428   0.000   1.428  1.00  0.00           H  \nATOM     21    H MOL     1       2.142   0.714   1.428  1.00  0.00           H  \nATOM     22    H MOL     1       2.142   0.000   2.142  1.00  0.00           H  \nATOM     23    H MOL     1       1.428   0.714   2.142  1.00  0.00           H  \nATOM     24    H MOL     1       0.000   1.428   1.428  1.00  0.00           H  \nATOM     25    H MOL     1       0.714   2.142   1.428  1.00  0.00           H  \nATOM     26    H MOL     1       0.714   1.428   2.142  1.00  0.00           H  \nATOM     27    H MOL     1       0.000   2.142   2.142  1.00  0.00           H  \nATOM     28    H MOL     1       1.428   1.428   1.428  1.00  0.00           H  \nATOM     29    H MOL     1       2.142   2.142   1.428  1.00  0.00           H  \nATOM     30    H MOL     1       2.142   1.428   2.142  1.00  0.00           H  \nATOM     31    H MOL     1       1.428   2.142   2.142  1.00  0.00           H  \nENDMDL\n",
           "type": "blob"
          }
         ],
         "kwargs": {
          "defaultRepresentation": true,
          "ext": "pdb"
         },
         "methodName": "loadFile",
         "reconstruc_color_scheme": false,
         "target": "Stage",
         "type": "call_method"
        }
       ],
       "_ngl_original_stage_parameters": {
        "ambientColor": 14540253,
        "ambientIntensity": 0.2,
        "backgroundColor": "white",
        "cameraEyeSep": 0.3,
        "cameraFov": 40,
        "cameraType": "perspective",
        "clipDist": 10,
        "clipFar": 100,
        "clipNear": 0,
        "fogFar": 100,
        "fogNear": 50,
        "hoverTimeout": 0,
        "impostor": true,
        "lightColor": 14540253,
        "lightIntensity": 1,
        "mousePreset": "default",
        "panSpeed": 1,
        "quality": "medium",
        "rotateSpeed": 2,
        "sampleLevel": 0,
        "tooltip": true,
        "workerDefault": true,
        "zoomSpeed": 1.2
       },
       "_ngl_repr_dict": {
        "0": {
         "0": {
          "params": {
           "aspectRatio": 1.5,
           "assembly": "default",
           "bondScale": 0.3,
           "bondSpacing": 0.75,
           "clipCenter": {
            "x": 0,
            "y": 0,
            "z": 0
           },
           "clipNear": 0,
           "clipRadius": 0,
           "colorMode": "hcl",
           "colorReverse": false,
           "colorScale": "",
           "colorScheme": "element",
           "colorValue": 9474192,
           "cylinderOnly": false,
           "defaultAssembly": "",
           "depthWrite": true,
           "diffuse": 16777215,
           "diffuseInterior": false,
           "disableImpostor": false,
           "disablePicking": false,
           "flatShaded": false,
           "interiorColor": 2236962,
           "interiorDarkening": 0,
           "lazy": false,
           "lineOnly": false,
           "linewidth": 2,
           "matrix": {
            "elements": [
             1,
             0,
             0,
             0,
             0,
             1,
             0,
             0,
             0,
             0,
             1,
             0,
             0,
             0,
             0,
             1
            ]
           },
           "metalness": 0,
           "multipleBond": "off",
           "opacity": 1,
           "openEnded": true,
           "quality": "high",
           "radialSegments": 20,
           "radiusData": {},
           "radiusScale": 2,
           "radiusSize": 0.15,
           "radiusType": "size",
           "roughness": 0.4,
           "sele": "",
           "side": "double",
           "sphereDetail": 2,
           "useInteriorColor": true,
           "visible": true,
           "wireframe": false
          },
          "type": "ball+stick"
         }
        }
       },
       "_ngl_serialize": false,
       "_ngl_version": "2.0.0-dev.36",
       "_ngl_view_id": [
        "8CA31135-3DF3-4218-A373-01508598A10D"
       ],
       "_player_dict": {},
       "_scene_position": {},
       "_scene_rotation": {},
       "_synced_model_ids": [],
       "_synced_repr_model_ids": [],
       "_view_height": "",
       "_view_width": "",
       "background": "white",
       "frame": 0,
       "gui_style": null,
       "layout": "IPY_MODEL_cd4882335c5e4c3684b668af8b63df7f",
       "max_frame": 0,
       "n_components": 1,
       "picked": {}
      }
     },
     "06fc26dc636948a59d78c1889a69ac54": {
      "model_module": "@jupyter-widgets/controls",
      "model_module_version": "1.5.0",
      "model_name": "SliderStyleModel",
      "state": {
       "description_width": ""
      }
     },
     "07306369a76a4b94bb6c0829eb28ec4a": {
      "model_module": "@jupyter-widgets/controls",
      "model_module_version": "1.5.0",
      "model_name": "PlayModel",
      "state": {
       "layout": "IPY_MODEL_cd28d5e05130493d9d8de7f120808bb4",
       "max": 4,
       "style": "IPY_MODEL_a13c3db380f34cf48a5e5a659867124e",
       "value": 4
      }
     },
     "07ca7a2ac1a34098ab1f4a7ee9290c13": {
      "model_module": "@jupyter-widgets/base",
      "model_module_version": "1.2.0",
      "model_name": "LayoutModel",
      "state": {}
     },
     "082496908ac9437982145be019dfc3be": {
      "model_module": "@jupyter-widgets/base",
      "model_module_version": "1.2.0",
      "model_name": "LayoutModel",
      "state": {}
     },
     "0852e88c0ef0418394106aaa4cf3120c": {
      "model_module": "@jupyter-widgets/base",
      "model_module_version": "1.2.0",
      "model_name": "LayoutModel",
      "state": {}
     },
     "085400a735304d808dfe3fa2e63c1071": {
      "model_module": "@jupyter-widgets/controls",
      "model_module_version": "1.5.0",
      "model_name": "HBoxModel",
      "state": {
       "children": [
        "IPY_MODEL_b818839b61f943d7b39a8e3809285863",
        "IPY_MODEL_28ac3a1f20df4e0083759774f7494fa6"
       ],
       "layout": "IPY_MODEL_595f4fda9fd64b55a14543c8e9f0407f"
      }
     },
     "08855dc0711f457c8e1894b33f4fb70b": {
      "model_module": "nglview-js-widgets",
      "model_module_version": "2.7.1",
      "model_name": "NGLModel",
      "state": {
       "_camera_orientation": [
        -15.097939486423412,
        -1.051681024809041,
        2.0439939321558103,
        0,
        -1.061585765745667,
        15.234984396296774,
        -0.0026485636499378796,
        0,
        -2.0388672920519673,
        -0.14470098472319154,
        -15.13452353722302,
        0,
        -1.0709999799728394,
        -1.0709999799728394,
        -1.0709999799728394,
        1
       ],
       "_camera_str": "orthographic",
       "_gui_theme": null,
       "_ibtn_fullscreen": "IPY_MODEL_b00fdf89c77042b3a8e5a0e55fddde4b",
       "_igui": null,
       "_iplayer": "IPY_MODEL_d49ac5f5da9449c98d7b09fb0a4eecce",
       "_ngl_color_dict": {},
       "_ngl_coordinate_resource": {},
       "_ngl_full_stage_parameters": {
        "ambientColor": 14540253,
        "ambientIntensity": 0.2,
        "backgroundColor": "white",
        "cameraEyeSep": 0.3,
        "cameraFov": 40,
        "cameraType": "perspective",
        "clipDist": 10,
        "clipFar": 100,
        "clipNear": 0,
        "fogFar": 100,
        "fogNear": 50,
        "hoverTimeout": 0,
        "impostor": true,
        "lightColor": 14540253,
        "lightIntensity": 1,
        "mousePreset": "default",
        "panSpeed": 1,
        "quality": "medium",
        "rotateSpeed": 2,
        "sampleLevel": 0,
        "tooltip": true,
        "workerDefault": true,
        "zoomSpeed": 1.2
       },
       "_ngl_msg_archive": [
        {
         "args": [
          {
           "binary": false,
           "data": "MODEL        0\nATOM      1  H   MOL A   1       0.000   0.000   0.000  1.00  0.00          H   \nATOM      2  H   MOL A   1       0.714   0.714   0.000  1.00  0.00          H   \nATOM      3  H   MOL A   1       0.714   0.000   0.714  1.00  0.00          H   \nATOM      4  H   MOL A   1       0.000   0.714   0.714  1.00  0.00          H   \nATOM      5  H   MOL A   1       1.428   0.000   0.000  1.00  0.00          H   \nATOM      6  H   MOL A   1       2.142   0.714   0.000  1.00  0.00          H   \nATOM      7  H   MOL A   1       2.142   0.000   0.714  1.00  0.00          H   \nATOM      8  H   MOL A   1       1.428   0.714   0.714  1.00  0.00          H   \nATOM      9  H   MOL A   1       0.000   1.428   0.000  1.00  0.00          H   \nATOM     10  H   MOL A   1       0.714   2.142   0.000  1.00  0.00          H   \nATOM     11  H   MOL A   1       0.714   1.428   0.714  1.00  0.00          H   \nATOM     12  H   MOL A   1       0.000   2.142   0.714  1.00  0.00          H   \nATOM     13  H   MOL A   1       1.428   1.428   0.000  1.00  0.00          H   \nATOM     14  H   MOL A   1       2.142   2.142   0.000  1.00  0.00          H   \nATOM     15  H   MOL A   1       2.142   1.428   0.714  1.00  0.00          H   \nATOM     16  H   MOL A   1       1.428   2.142   0.714  1.00  0.00          H   \nATOM     17  H   MOL A   1       0.000   0.000   1.428  1.00  0.00          H   \nATOM     18  H   MOL A   1       0.714   0.714   1.428  1.00  0.00          H   \nATOM     19  H   MOL A   1       0.714   0.000   2.142  1.00  0.00          H   \nATOM     20  H   MOL A   1       0.000   0.714   2.142  1.00  0.00          H   \nATOM     21  H   MOL A   1       1.428   0.000   1.428  1.00  0.00          H   \nATOM     22  H   MOL A   1       2.142   0.714   1.428  1.00  0.00          H   \nATOM     23  H   MOL A   1       2.142   0.000   2.142  1.00  0.00          H   \nATOM     24  H   MOL A   1       1.428   0.714   2.142  1.00  0.00          H   \nATOM     25  H   MOL A   1       0.000   1.428   1.428  1.00  0.00          H   \nATOM     26  H   MOL A   1       0.714   2.142   1.428  1.00  0.00          H   \nATOM     27  H   MOL A   1       0.714   1.428   2.142  1.00  0.00          H   \nATOM     28  H   MOL A   1       0.000   2.142   2.142  1.00  0.00          H   \nATOM     29  H   MOL A   1       1.428   1.428   1.428  1.00  0.00          H   \nATOM     30  H   MOL A   1       2.142   2.142   1.428  1.00  0.00          H   \nATOM     31  H   MOL A   1       2.142   1.428   2.142  1.00  0.00          H   \nATOM     32  H   MOL A   1       1.428   2.142   2.142  1.00  0.00          H   \nTER      33      MOL A   1\nENDMDL\nEND\n",
           "type": "blob"
          }
         ],
         "kwargs": {
          "defaultRepresentation": true,
          "ext": "pdb"
         },
         "methodName": "loadFile",
         "reconstruc_color_scheme": false,
         "target": "Stage",
         "type": "call_method"
        }
       ],
       "_ngl_original_stage_parameters": {
        "ambientColor": 14540253,
        "ambientIntensity": 0.2,
        "backgroundColor": "white",
        "cameraEyeSep": 0.3,
        "cameraFov": 40,
        "cameraType": "perspective",
        "clipDist": 10,
        "clipFar": 100,
        "clipNear": 0,
        "fogFar": 100,
        "fogNear": 50,
        "hoverTimeout": 0,
        "impostor": true,
        "lightColor": 14540253,
        "lightIntensity": 1,
        "mousePreset": "default",
        "panSpeed": 1,
        "quality": "medium",
        "rotateSpeed": 2,
        "sampleLevel": 0,
        "tooltip": true,
        "workerDefault": true,
        "zoomSpeed": 1.2
       },
       "_ngl_repr_dict": {
        "0": {
         "0": {
          "params": {
           "aspectRatio": 1.5,
           "assembly": "default",
           "bondScale": 0.3,
           "bondSpacing": 0.75,
           "clipCenter": {
            "x": 0,
            "y": 0,
            "z": 0
           },
           "clipNear": 0,
           "clipRadius": 0,
           "colorMode": "hcl",
           "colorReverse": false,
           "colorScale": "",
           "colorScheme": "element",
           "colorValue": 9474192,
           "cylinderOnly": false,
           "defaultAssembly": "",
           "depthWrite": true,
           "diffuse": 16777215,
           "diffuseInterior": false,
           "disableImpostor": false,
           "disablePicking": false,
           "flatShaded": false,
           "interiorColor": 2236962,
           "interiorDarkening": 0,
           "lazy": false,
           "lineOnly": false,
           "linewidth": 2,
           "matrix": {
            "elements": [
             1,
             0,
             0,
             0,
             0,
             1,
             0,
             0,
             0,
             0,
             1,
             0,
             0,
             0,
             0,
             1
            ]
           },
           "metalness": 0,
           "multipleBond": "off",
           "opacity": 1,
           "openEnded": true,
           "quality": "high",
           "radialSegments": 20,
           "radiusData": {},
           "radiusScale": 2,
           "radiusSize": 0.15,
           "radiusType": "size",
           "roughness": 0.4,
           "sele": "",
           "side": "double",
           "sphereDetail": 2,
           "useInteriorColor": true,
           "visible": true,
           "wireframe": false
          },
          "type": "ball+stick"
         }
        }
       },
       "_ngl_serialize": false,
       "_ngl_version": "2.0.0-dev.36",
       "_ngl_view_id": [
        "27B1F6EC-20E3-4BF5-A2A7-3B442065C89D"
       ],
       "_player_dict": {},
       "_scene_position": {},
       "_scene_rotation": {},
       "_synced_model_ids": [],
       "_synced_repr_model_ids": [],
       "_view_height": "",
       "_view_width": "",
       "background": "white",
       "frame": 4,
       "gui_style": null,
       "layout": "IPY_MODEL_1b3fcb45d7e94c4b9f160966b280e4de",
       "max_frame": 4,
       "n_components": 1,
       "picked": {}
      }
     },
     "09533ace67b944e0abba177f1af50d24": {
      "model_module": "@jupyter-widgets/controls",
      "model_module_version": "1.5.0",
      "model_name": "IntSliderModel",
      "state": {
       "layout": "IPY_MODEL_115316a23c50477a914b4d1eb2e445f7",
       "max": 9,
       "style": "IPY_MODEL_9912bafa93ef47f78767f400c9b84d61",
       "value": 4
      }
     },
     "0adf0f069bc44cf09175541ecb228bbd": {
      "model_module": "@jupyter-widgets/base",
      "model_module_version": "1.2.0",
      "model_name": "LayoutModel",
      "state": {
       "width": "34px"
      }
     },
     "0afb1f1a7de64fabb17bd3f30a59ff44": {
      "model_module": "@jupyter-widgets/controls",
      "model_module_version": "1.5.0",
      "model_name": "DescriptionStyleModel",
      "state": {
       "description_width": ""
      }
     },
     "0b74097e1ec04cda91c8ec7e6fbe81c7": {
      "model_module": "@jupyter-widgets/controls",
      "model_module_version": "1.5.0",
      "model_name": "DescriptionStyleModel",
      "state": {
       "description_width": ""
      }
     },
     "0bdfe695765048e1871a1f5ee205a0f2": {
      "model_module": "@jupyter-widgets/controls",
      "model_module_version": "1.5.0",
      "model_name": "ButtonModel",
      "state": {
       "icon": "compress",
       "layout": "IPY_MODEL_c04971b0ba51422599917e03d9e64f1d",
       "style": "IPY_MODEL_712cc5e6be2e485a90cb626c37a4a7bf"
      }
     },
     "0c3551933ac74267b5fbbead19ced971": {
      "model_module": "@jupyter-widgets/base",
      "model_module_version": "1.2.0",
      "model_name": "LayoutModel",
      "state": {}
     },
     "0c80780d085948478a269e30d02bd935": {
      "model_module": "@jupyter-widgets/controls",
      "model_module_version": "1.5.0",
      "model_name": "ImageModel",
      "state": {
       "layout": "IPY_MODEL_32ae2a41294b400081fc536180537414",
       "width": "900.0"
      }
     },
     "0cdb2b258d75466388f1b59751b05cf0": {
      "model_module": "@jupyter-widgets/base",
      "model_module_version": "1.2.0",
      "model_name": "LayoutModel",
      "state": {}
     },
     "0d3f3bbc17dc44a58a078a02594cf82c": {
      "model_module": "@jupyter-widgets/base",
      "model_module_version": "1.2.0",
      "model_name": "LayoutModel",
      "state": {
       "width": "34px"
      }
     },
     "0d87fced7a4b434db6062a87fecbad3a": {
      "model_module": "@jupyter-widgets/controls",
      "model_module_version": "1.5.0",
      "model_name": "DescriptionStyleModel",
      "state": {
       "description_width": ""
      }
     },
     "0e41a516ecba4cb891552a5656986b59": {
      "model_module": "@jupyter-widgets/controls",
      "model_module_version": "1.5.0",
      "model_name": "LinkModel",
      "state": {
       "source": [
        "IPY_MODEL_df5bf4b469ec40b69132522820c4329c",
        "max"
       ],
       "target": [
        "IPY_MODEL_943fbe0567e64a3d8dc3b431d9830198",
        "max_frame"
       ]
      }
     },
     "0e7099181cee47b985522ea023f6dd34": {
      "model_module": "@jupyter-widgets/base",
      "model_module_version": "1.2.0",
      "model_name": "LayoutModel",
      "state": {}
     },
     "0eb117045ca440b0a8b663e8e36c4bda": {
      "model_module": "@jupyter-widgets/controls",
      "model_module_version": "1.5.0",
      "model_name": "LinkModel",
      "state": {
       "source": [
        "IPY_MODEL_4c5ade1957aa49a7a0899ab01bdd39ae",
        "max"
       ],
       "target": [
        "IPY_MODEL_841bec608ba9458ba312036c6c9f40fc",
        "max_frame"
       ]
      }
     },
     "0f3fc75ab74d4935ba6d672e90207a52": {
      "model_module": "nglview-js-widgets",
      "model_module_version": "2.7.1",
      "model_name": "NGLModel",
      "state": {
       "_camera_orientation": [
        -0.9274931032581483,
        0.10970640338045515,
        -15.243340905352742,
        0,
        0.018199587926627216,
        15.271527488472652,
        0.10880189407950681,
        0,
        15.24372481471451,
        -0.011557777178689966,
        -0.927599643908308,
        0,
        -1.0709999799728394,
        -1.0709999799728394,
        -1.0709999799728394,
        1
       ],
       "_camera_str": "orthographic",
       "_gui_theme": null,
       "_ibtn_fullscreen": "IPY_MODEL_771973c323774aa7ad07e8679ac28455",
       "_igui": null,
       "_iplayer": "IPY_MODEL_1ba31ca705c94538a0fcc2f64eb95a38",
       "_ngl_color_dict": {},
       "_ngl_coordinate_resource": {},
       "_ngl_full_stage_parameters": {
        "ambientColor": 14540253,
        "ambientIntensity": 0.2,
        "backgroundColor": "white",
        "cameraEyeSep": 0.3,
        "cameraFov": 40,
        "cameraType": "perspective",
        "clipDist": 10,
        "clipFar": 100,
        "clipNear": 0,
        "fogFar": 100,
        "fogNear": 50,
        "hoverTimeout": 0,
        "impostor": true,
        "lightColor": 14540253,
        "lightIntensity": 1,
        "mousePreset": "default",
        "panSpeed": 1,
        "quality": "medium",
        "rotateSpeed": 2,
        "sampleLevel": 0,
        "tooltip": true,
        "workerDefault": true,
        "zoomSpeed": 1.2
       },
       "_ngl_msg_archive": [
        {
         "args": [
          {
           "binary": false,
           "data": "MODEL        0\nATOM      1  H   MOL A   1       0.000   0.000   0.000  1.00  0.00          H   \nATOM      2  H   MOL A   1       0.714   0.714   0.000  1.00  0.00          H   \nATOM      3  H   MOL A   1       0.714   0.000   0.714  1.00  0.00          H   \nATOM      4  H   MOL A   1       0.000   0.714   0.714  1.00  0.00          H   \nATOM      5  H   MOL A   1       1.428   0.000   0.000  1.00  0.00          H   \nATOM      6  H   MOL A   1       2.142   0.714   0.000  1.00  0.00          H   \nATOM      7  H   MOL A   1       2.142   0.000   0.714  1.00  0.00          H   \nATOM      8  H   MOL A   1       1.428   0.714   0.714  1.00  0.00          H   \nATOM      9  H   MOL A   1       0.000   1.428   0.000  1.00  0.00          H   \nATOM     10  H   MOL A   1       0.714   2.142   0.000  1.00  0.00          H   \nATOM     11  H   MOL A   1       0.714   1.428   0.714  1.00  0.00          H   \nATOM     12  H   MOL A   1       0.000   2.142   0.714  1.00  0.00          H   \nATOM     13  H   MOL A   1       1.428   1.428   0.000  1.00  0.00          H   \nATOM     14  H   MOL A   1       2.142   2.142   0.000  1.00  0.00          H   \nATOM     15  H   MOL A   1       2.142   1.428   0.714  1.00  0.00          H   \nATOM     16  H   MOL A   1       1.428   2.142   0.714  1.00  0.00          H   \nATOM     17  H   MOL A   1       0.000   0.000   1.428  1.00  0.00          H   \nATOM     18  H   MOL A   1       0.714   0.714   1.428  1.00  0.00          H   \nATOM     19  H   MOL A   1       0.714   0.000   2.142  1.00  0.00          H   \nATOM     20  H   MOL A   1       0.000   0.714   2.142  1.00  0.00          H   \nATOM     21  H   MOL A   1       1.428   0.000   1.428  1.00  0.00          H   \nATOM     22  H   MOL A   1       2.142   0.714   1.428  1.00  0.00          H   \nATOM     23  H   MOL A   1       2.142   0.000   2.142  1.00  0.00          H   \nATOM     24  H   MOL A   1       1.428   0.714   2.142  1.00  0.00          H   \nATOM     25  H   MOL A   1       0.000   1.428   1.428  1.00  0.00          H   \nATOM     26  H   MOL A   1       0.714   2.142   1.428  1.00  0.00          H   \nATOM     27  H   MOL A   1       0.714   1.428   2.142  1.00  0.00          H   \nATOM     28  H   MOL A   1       0.000   2.142   2.142  1.00  0.00          H   \nATOM     29  H   MOL A   1       1.428   1.428   1.428  1.00  0.00          H   \nATOM     30  H   MOL A   1       2.142   2.142   1.428  1.00  0.00          H   \nATOM     31  H   MOL A   1       2.142   1.428   2.142  1.00  0.00          H   \nATOM     32  H   MOL A   1       1.428   2.142   2.142  1.00  0.00          H   \nTER      33      MOL A   1\nENDMDL\nEND\n",
           "type": "blob"
          }
         ],
         "kwargs": {
          "defaultRepresentation": true,
          "ext": "pdb"
         },
         "methodName": "loadFile",
         "reconstruc_color_scheme": false,
         "target": "Stage",
         "type": "call_method"
        }
       ],
       "_ngl_original_stage_parameters": {
        "ambientColor": 14540253,
        "ambientIntensity": 0.2,
        "backgroundColor": "white",
        "cameraEyeSep": 0.3,
        "cameraFov": 40,
        "cameraType": "perspective",
        "clipDist": 10,
        "clipFar": 100,
        "clipNear": 0,
        "fogFar": 100,
        "fogNear": 50,
        "hoverTimeout": 0,
        "impostor": true,
        "lightColor": 14540253,
        "lightIntensity": 1,
        "mousePreset": "default",
        "panSpeed": 1,
        "quality": "medium",
        "rotateSpeed": 2,
        "sampleLevel": 0,
        "tooltip": true,
        "workerDefault": true,
        "zoomSpeed": 1.2
       },
       "_ngl_repr_dict": {
        "0": {
         "0": {
          "params": {
           "aspectRatio": 1.5,
           "assembly": "default",
           "bondScale": 0.3,
           "bondSpacing": 0.75,
           "clipCenter": {
            "x": 0,
            "y": 0,
            "z": 0
           },
           "clipNear": 0,
           "clipRadius": 0,
           "colorMode": "hcl",
           "colorReverse": false,
           "colorScale": "",
           "colorScheme": "element",
           "colorValue": 9474192,
           "cylinderOnly": false,
           "defaultAssembly": "",
           "depthWrite": true,
           "diffuse": 16777215,
           "diffuseInterior": false,
           "disableImpostor": false,
           "disablePicking": false,
           "flatShaded": false,
           "interiorColor": 2236962,
           "interiorDarkening": 0,
           "lazy": false,
           "lineOnly": false,
           "linewidth": 2,
           "matrix": {
            "elements": [
             1,
             0,
             0,
             0,
             0,
             1,
             0,
             0,
             0,
             0,
             1,
             0,
             0,
             0,
             0,
             1
            ]
           },
           "metalness": 0,
           "multipleBond": "off",
           "opacity": 1,
           "openEnded": true,
           "quality": "high",
           "radialSegments": 20,
           "radiusData": {},
           "radiusScale": 2,
           "radiusSize": 0.15,
           "radiusType": "size",
           "roughness": 0.4,
           "sele": "",
           "side": "double",
           "sphereDetail": 2,
           "useInteriorColor": true,
           "visible": true,
           "wireframe": false
          },
          "type": "ball+stick"
         }
        }
       },
       "_ngl_serialize": false,
       "_ngl_version": "2.0.0-dev.36",
       "_ngl_view_id": [
        "51F5C0E9-369A-418B-930C-D06AB379E858"
       ],
       "_player_dict": {},
       "_scene_position": {},
       "_scene_rotation": {},
       "_synced_model_ids": [],
       "_synced_repr_model_ids": [],
       "_view_height": "",
       "_view_width": "",
       "background": "white",
       "frame": 4,
       "gui_style": null,
       "layout": "IPY_MODEL_e016275b53784b209221fea4f1e4c0c4",
       "max_frame": 4,
       "n_components": 1,
       "picked": {}
      }
     },
     "101ea6776ace48e7a6a5b0eb7a8250f7": {
      "model_module": "@jupyter-widgets/controls",
      "model_module_version": "1.5.0",
      "model_name": "LinkModel",
      "state": {
       "source": [
        "IPY_MODEL_609f35daacf14941b3699a266ad02df2",
        "value"
       ],
       "target": [
        "IPY_MODEL_f078b430faf24993bcf069231512d873",
        "value"
       ]
      }
     },
     "10435ee096ea46cdb760c3b3a7838caa": {
      "model_module": "@jupyter-widgets/controls",
      "model_module_version": "1.5.0",
      "model_name": "LinkModel",
      "state": {
       "source": [
        "IPY_MODEL_b818839b61f943d7b39a8e3809285863",
        "value"
       ],
       "target": [
        "IPY_MODEL_7e2696d74b40450ca3f5438a07e8f45c",
        "frame"
       ]
      }
     },
     "10e44e77bab24dc2bccecd343206a6c2": {
      "model_module": "@jupyter-widgets/controls",
      "model_module_version": "1.5.0",
      "model_name": "HBoxModel",
      "state": {
       "children": [
        "IPY_MODEL_648c8e29c4894c6cbae3dd72be95011a",
        "IPY_MODEL_81a2c1c672f54df680a2ba6a8b6deb84"
       ],
       "layout": "IPY_MODEL_07ca7a2ac1a34098ab1f4a7ee9290c13"
      }
     },
     "11101331020f41829b9b200e3747da9f": {
      "model_module": "@jupyter-widgets/controls",
      "model_module_version": "1.5.0",
      "model_name": "LinkModel",
      "state": {
       "source": [
        "IPY_MODEL_dbfb521742554c439d16bb3c691b4346",
        "max"
       ],
       "target": [
        "IPY_MODEL_fcd99ed5f36947a7a770bdc6143238b8",
        "max_frame"
       ]
      }
     },
     "115316a23c50477a914b4d1eb2e445f7": {
      "model_module": "@jupyter-widgets/base",
      "model_module_version": "1.2.0",
      "model_name": "LayoutModel",
      "state": {}
     },
     "11a38008a402422983bfcbf22e4b5b2e": {
      "model_module": "@jupyter-widgets/base",
      "model_module_version": "1.2.0",
      "model_name": "LayoutModel",
      "state": {}
     },
     "11fcba7ae3b945eeaed42225e12278ad": {
      "model_module": "nglview-js-widgets",
      "model_module_version": "2.7.1",
      "model_name": "NGLModel",
      "state": {
       "_camera_orientation": [
        -10.89491794515467,
        7.207830308119783,
        5.612018921210158,
        0,
        3.5625854918882576,
        -4.6904325417718775,
        12.9404265130018,
        0,
        8.411632346676736,
        11.322271679074019,
        1.788132110305128,
        0,
        -0.22949999570846558,
        -0.22949999570846558,
        -0.22949999570846558,
        1
       ],
       "_camera_str": "orthographic",
       "_gui_theme": null,
       "_ibtn_fullscreen": "IPY_MODEL_000983f5867f45f4a02e1341b43b11b6",
       "_igui": null,
       "_iplayer": "IPY_MODEL_a731fbf2f6b34935be5c3d428381d08c",
       "_ngl_color_dict": {},
       "_ngl_coordinate_resource": {},
       "_ngl_full_stage_parameters": {
        "ambientColor": 14540253,
        "ambientIntensity": 0.2,
        "backgroundColor": "white",
        "cameraEyeSep": 0.3,
        "cameraFov": 40,
        "cameraType": "perspective",
        "clipDist": 10,
        "clipFar": 100,
        "clipNear": 0,
        "fogFar": 100,
        "fogNear": 50,
        "hoverTimeout": 0,
        "impostor": true,
        "lightColor": 14540253,
        "lightIntensity": 1,
        "mousePreset": "default",
        "panSpeed": 1,
        "quality": "medium",
        "rotateSpeed": 2,
        "sampleLevel": 0,
        "tooltip": true,
        "workerDefault": true,
        "zoomSpeed": 1.2
       },
       "_ngl_msg_archive": [
        {
         "args": [
          {
           "binary": false,
           "data": "CRYST1    0.918    0.918    0.918  90.00  90.00  90.00 P 1\nMODEL     1\nATOM      0    H MOL     1       0.000   0.000   0.000  1.00  0.00           H  \nATOM      1    H MOL     1       0.459   0.459   0.000  1.00  0.00           H  \nATOM      2    H MOL     1       0.459   0.000   0.459  1.00  0.00           H  \nATOM      3    H MOL     1       0.000   0.459   0.459  1.00  0.00           H  \nENDMDL\n",
           "type": "blob"
          }
         ],
         "kwargs": {
          "defaultRepresentation": true,
          "ext": "pdb"
         },
         "methodName": "loadFile",
         "reconstruc_color_scheme": false,
         "target": "Stage",
         "type": "call_method"
        }
       ],
       "_ngl_original_stage_parameters": {
        "ambientColor": 14540253,
        "ambientIntensity": 0.2,
        "backgroundColor": "white",
        "cameraEyeSep": 0.3,
        "cameraFov": 40,
        "cameraType": "perspective",
        "clipDist": 10,
        "clipFar": 100,
        "clipNear": 0,
        "fogFar": 100,
        "fogNear": 50,
        "hoverTimeout": 0,
        "impostor": true,
        "lightColor": 14540253,
        "lightIntensity": 1,
        "mousePreset": "default",
        "panSpeed": 1,
        "quality": "medium",
        "rotateSpeed": 2,
        "sampleLevel": 0,
        "tooltip": true,
        "workerDefault": true,
        "zoomSpeed": 1.2
       },
       "_ngl_repr_dict": {
        "0": {
         "0": {
          "params": {
           "aspectRatio": 1.5,
           "assembly": "default",
           "bondScale": 0.3,
           "bondSpacing": 0.75,
           "clipCenter": {
            "x": 0,
            "y": 0,
            "z": 0
           },
           "clipNear": 0,
           "clipRadius": 0,
           "colorMode": "hcl",
           "colorReverse": false,
           "colorScale": "",
           "colorScheme": "element",
           "colorValue": 9474192,
           "cylinderOnly": false,
           "defaultAssembly": "",
           "depthWrite": true,
           "diffuse": 16777215,
           "diffuseInterior": false,
           "disableImpostor": false,
           "disablePicking": false,
           "flatShaded": false,
           "interiorColor": 2236962,
           "interiorDarkening": 0,
           "lazy": false,
           "lineOnly": false,
           "linewidth": 2,
           "matrix": {
            "elements": [
             1,
             0,
             0,
             0,
             0,
             1,
             0,
             0,
             0,
             0,
             1,
             0,
             0,
             0,
             0,
             1
            ]
           },
           "metalness": 0,
           "multipleBond": "off",
           "opacity": 1,
           "openEnded": true,
           "quality": "high",
           "radialSegments": 20,
           "radiusData": {},
           "radiusScale": 2,
           "radiusSize": 0.15,
           "radiusType": "size",
           "roughness": 0.4,
           "sele": "",
           "side": "double",
           "sphereDetail": 2,
           "useInteriorColor": true,
           "visible": true,
           "wireframe": false
          },
          "type": "ball+stick"
         }
        }
       },
       "_ngl_serialize": false,
       "_ngl_version": "2.0.0-dev.36",
       "_ngl_view_id": [
        "EBDE1F23-A50C-47D1-A9FF-A22FF3AEECBB"
       ],
       "_player_dict": {},
       "_scene_position": {},
       "_scene_rotation": {},
       "_synced_model_ids": [],
       "_synced_repr_model_ids": [],
       "_view_height": "",
       "_view_width": "",
       "background": "white",
       "frame": 0,
       "gui_style": null,
       "layout": "IPY_MODEL_ef5894db7f994accbca4f795ec57a1e5",
       "max_frame": 0,
       "n_components": 1,
       "picked": {}
      }
     },
     "12c34913eaaf4003a7a037c916bb2bd6": {
      "model_module": "@jupyter-widgets/base",
      "model_module_version": "1.2.0",
      "model_name": "LayoutModel",
      "state": {}
     },
     "130c1fd1708a4870a5932b95db6e5a60": {
      "model_module": "@jupyter-widgets/controls",
      "model_module_version": "1.5.0",
      "model_name": "SliderStyleModel",
      "state": {
       "description_width": ""
      }
     },
     "131b8c182e0645fcaa408932fad6e9b9": {
      "model_module": "@jupyter-widgets/base",
      "model_module_version": "1.2.0",
      "model_name": "LayoutModel",
      "state": {}
     },
     "1330d2371e7d4e2d9917a2bae5caa50a": {
      "model_module": "@jupyter-widgets/base",
      "model_module_version": "1.2.0",
      "model_name": "LayoutModel",
      "state": {}
     },
     "135428d5b1464f16bc80181a9af0cfc2": {
      "model_module": "@jupyter-widgets/controls",
      "model_module_version": "1.5.0",
      "model_name": "ButtonModel",
      "state": {
       "icon": "compress",
       "layout": "IPY_MODEL_87825c3e76e74f60b830c3dec999c4bd",
       "style": "IPY_MODEL_61dac26737bb4bf18ca08a2eeb06e72d"
      }
     },
     "13590c21e3234243bdbca9067c28acde": {
      "model_module": "@jupyter-widgets/base",
      "model_module_version": "1.2.0",
      "model_name": "LayoutModel",
      "state": {}
     },
     "164cdecd38ca4e03af405d643d589fae": {
      "model_module": "@jupyter-widgets/base",
      "model_module_version": "1.2.0",
      "model_name": "LayoutModel",
      "state": {}
     },
     "16c288fae6af4da7b7f10e4660aab8c5": {
      "model_module": "@jupyter-widgets/base",
      "model_module_version": "1.2.0",
      "model_name": "LayoutModel",
      "state": {
       "width": "34px"
      }
     },
     "16e8f00fae72485d94f790124b8959ea": {
      "model_module": "@jupyter-widgets/base",
      "model_module_version": "1.2.0",
      "model_name": "LayoutModel",
      "state": {}
     },
     "17004d1e0d6c43c7a062c2ec8fd14865": {
      "model_module": "@jupyter-widgets/base",
      "model_module_version": "1.2.0",
      "model_name": "LayoutModel",
      "state": {}
     },
     "1766b6254382424482a172b046fe2ea5": {
      "model_module": "@jupyter-widgets/controls",
      "model_module_version": "1.5.0",
      "model_name": "LinkModel",
      "state": {
       "source": [
        "IPY_MODEL_0351dbe513344fdabea2e00331dc0fe2",
        "max"
       ],
       "target": [
        "IPY_MODEL_11fcba7ae3b945eeaed42225e12278ad",
        "max_frame"
       ]
      }
     },
     "1788d6d172c14710badd07ac710a0c5c": {
      "model_module": "@jupyter-widgets/controls",
      "model_module_version": "1.5.0",
      "model_name": "LinkModel",
      "state": {
       "source": [
        "IPY_MODEL_21df8c7aaf1141469839128a866c4a55",
        "max"
       ],
       "target": [
        "IPY_MODEL_fcd99ed5f36947a7a770bdc6143238b8",
        "max_frame"
       ]
      }
     },
     "187f21c3a37d4f5cb8b3f46ee8f0440b": {
      "model_module": "@jupyter-widgets/controls",
      "model_module_version": "1.5.0",
      "model_name": "LinkModel",
      "state": {
       "source": [
        "IPY_MODEL_394a5d4ef6ae4365810109d2e469bc51",
        "value"
       ],
       "target": [
        "IPY_MODEL_cdb0627079ca4994826ffeb7f442d654",
        "value"
       ]
      }
     },
     "18d6f8ccb0d2467ab907ab38b611e400": {
      "model_module": "@jupyter-widgets/controls",
      "model_module_version": "1.5.0",
      "model_name": "ImageModel",
      "state": {
       "layout": "IPY_MODEL_5347f970330249d58c729c394e20593a",
       "width": "900.0"
      }
     },
     "18e0240b2ca440c788be7ab486d98c3b": {
      "model_module": "@jupyter-widgets/base",
      "model_module_version": "1.2.0",
      "model_name": "LayoutModel",
      "state": {}
     },
     "19d77d24e86241e78da0c4510d6afee1": {
      "model_module": "@jupyter-widgets/controls",
      "model_module_version": "1.5.0",
      "model_name": "LinkModel",
      "state": {
       "source": [
        "IPY_MODEL_3e7ef5ef5e7a42fca583a38fb7243073",
        "max"
       ],
       "target": [
        "IPY_MODEL_943fbe0567e64a3d8dc3b431d9830198",
        "max_frame"
       ]
      }
     },
     "1b3fcb45d7e94c4b9f160966b280e4de": {
      "model_module": "@jupyter-widgets/base",
      "model_module_version": "1.2.0",
      "model_name": "LayoutModel",
      "state": {}
     },
     "1ba31ca705c94538a0fcc2f64eb95a38": {
      "model_module": "@jupyter-widgets/controls",
      "model_module_version": "1.5.0",
      "model_name": "HBoxModel",
      "state": {
       "children": [
        "IPY_MODEL_323133e0a73040bb88adb31a255e502b",
        "IPY_MODEL_ba4e6088e5994b098f1bbdb0f712f390"
       ],
       "layout": "IPY_MODEL_f991da76f74a4e46b972a101d70eeb8c"
      }
     },
     "1c2ba25f3f7844419e2bc9d4fc5d3ef5": {
      "model_module": "@jupyter-widgets/base",
      "model_module_version": "1.2.0",
      "model_name": "LayoutModel",
      "state": {
       "width": "34px"
      }
     },
     "1c9f1bebd1d747e5b6459ad680199a4a": {
      "model_module": "@jupyter-widgets/base",
      "model_module_version": "1.2.0",
      "model_name": "LayoutModel",
      "state": {}
     },
     "1ce8e98926d44bbca1101339e44e978d": {
      "model_module": "@jupyter-widgets/controls",
      "model_module_version": "1.5.0",
      "model_name": "ButtonModel",
      "state": {
       "icon": "compress",
       "layout": "IPY_MODEL_7f9535eb44d149f3b12e725b6c0f0087",
       "style": "IPY_MODEL_830e64eb0a0c420aa13623e01e6c7e0f"
      }
     },
     "1d514fcd30c8482892d46b9e5dbf9799": {
      "model_module": "@jupyter-widgets/controls",
      "model_module_version": "1.5.0",
      "model_name": "LinkModel",
      "state": {
       "source": [
        "IPY_MODEL_ff0bacfb9b964a3da1fe96d8aa93e6f1",
        "max"
       ],
       "target": [
        "IPY_MODEL_7d76bd00a3c54748b92cf22aa5d858f6",
        "max_frame"
       ]
      }
     },
     "1d62d16cd14048f1a63b120716fd3746": {
      "model_module": "nglview-js-widgets",
      "model_module_version": "2.7.1",
      "model_name": "NGLModel",
      "state": {
       "_camera_orientation": [
        -1.0418969526308797,
        7.019184325960009,
        0.0784963912136604,
        0,
        -7.019363828378405,
        -1.0424755238472287,
        0.04935354263590034,
        0,
        0.06034674879178309,
        -0.07039691409815643,
        7.0959186924269675,
        0,
        -1.0709999799728394,
        -1.0709999799728394,
        -1.0709999799728394,
        1
       ],
       "_camera_str": "orthographic",
       "_gui_theme": null,
       "_ibtn_fullscreen": "IPY_MODEL_95beb20a02104f9a9ab1f4899d4237db",
       "_igui": null,
       "_iplayer": "IPY_MODEL_3d3b60e5134c48cea80ba9f4526e459f",
       "_ngl_color_dict": {},
       "_ngl_coordinate_resource": {},
       "_ngl_full_stage_parameters": {
        "ambientColor": 14540253,
        "ambientIntensity": 0.2,
        "backgroundColor": "white",
        "cameraEyeSep": 0.3,
        "cameraFov": 40,
        "cameraType": "perspective",
        "clipDist": 10,
        "clipFar": 100,
        "clipNear": 0,
        "fogFar": 100,
        "fogNear": 50,
        "hoverTimeout": 0,
        "impostor": true,
        "lightColor": 14540253,
        "lightIntensity": 1,
        "mousePreset": "default",
        "panSpeed": 1,
        "quality": "medium",
        "rotateSpeed": 2,
        "sampleLevel": 0,
        "tooltip": true,
        "workerDefault": true,
        "zoomSpeed": 1.2
       },
       "_ngl_msg_archive": [
        {
         "args": [
          {
           "binary": false,
           "data": "MODEL        0\nATOM      1  H   MOL A   1       0.000   0.000   0.000  1.00  0.00          H   \nATOM      2  H   MOL A   1       0.714   0.714   0.000  1.00  0.00          H   \nATOM      3  H   MOL A   1       0.714   0.000   0.714  1.00  0.00          H   \nATOM      4  H   MOL A   1       0.000   0.714   0.714  1.00  0.00          H   \nATOM      5  H   MOL A   1       1.428   0.000   0.000  1.00  0.00          H   \nATOM      6  H   MOL A   1       2.142   0.714   0.000  1.00  0.00          H   \nATOM      7  H   MOL A   1       2.142   0.000   0.714  1.00  0.00          H   \nATOM      8  H   MOL A   1       1.428   0.714   0.714  1.00  0.00          H   \nATOM      9  H   MOL A   1       0.000   1.428   0.000  1.00  0.00          H   \nATOM     10  H   MOL A   1       0.714   2.142   0.000  1.00  0.00          H   \nATOM     11  H   MOL A   1       0.714   1.428   0.714  1.00  0.00          H   \nATOM     12  H   MOL A   1       0.000   2.142   0.714  1.00  0.00          H   \nATOM     13  H   MOL A   1       1.428   1.428   0.000  1.00  0.00          H   \nATOM     14  H   MOL A   1       2.142   2.142   0.000  1.00  0.00          H   \nATOM     15  H   MOL A   1       2.142   1.428   0.714  1.00  0.00          H   \nATOM     16  H   MOL A   1       1.428   2.142   0.714  1.00  0.00          H   \nATOM     17  H   MOL A   1       0.000   0.000   1.428  1.00  0.00          H   \nATOM     18  H   MOL A   1       0.714   0.714   1.428  1.00  0.00          H   \nATOM     19  H   MOL A   1       0.714   0.000   2.142  1.00  0.00          H   \nATOM     20  H   MOL A   1       0.000   0.714   2.142  1.00  0.00          H   \nATOM     21  H   MOL A   1       1.428   0.000   1.428  1.00  0.00          H   \nATOM     22  H   MOL A   1       2.142   0.714   1.428  1.00  0.00          H   \nATOM     23  H   MOL A   1       2.142   0.000   2.142  1.00  0.00          H   \nATOM     24  H   MOL A   1       1.428   0.714   2.142  1.00  0.00          H   \nATOM     25  H   MOL A   1       0.000   1.428   1.428  1.00  0.00          H   \nATOM     26  H   MOL A   1       0.714   2.142   1.428  1.00  0.00          H   \nATOM     27  H   MOL A   1       0.714   1.428   2.142  1.00  0.00          H   \nATOM     28  H   MOL A   1       0.000   2.142   2.142  1.00  0.00          H   \nATOM     29  H   MOL A   1       1.428   1.428   1.428  1.00  0.00          H   \nATOM     30  H   MOL A   1       2.142   2.142   1.428  1.00  0.00          H   \nATOM     31  H   MOL A   1       2.142   1.428   2.142  1.00  0.00          H   \nATOM     32  H   MOL A   1       1.428   2.142   2.142  1.00  0.00          H   \nTER      33      MOL A   1\nENDMDL\nEND\n",
           "type": "blob"
          }
         ],
         "kwargs": {
          "defaultRepresentation": true,
          "ext": "pdb"
         },
         "methodName": "loadFile",
         "reconstruc_color_scheme": false,
         "target": "Stage",
         "type": "call_method"
        }
       ],
       "_ngl_original_stage_parameters": {
        "ambientColor": 14540253,
        "ambientIntensity": 0.2,
        "backgroundColor": "white",
        "cameraEyeSep": 0.3,
        "cameraFov": 40,
        "cameraType": "perspective",
        "clipDist": 10,
        "clipFar": 100,
        "clipNear": 0,
        "fogFar": 100,
        "fogNear": 50,
        "hoverTimeout": 0,
        "impostor": true,
        "lightColor": 14540253,
        "lightIntensity": 1,
        "mousePreset": "default",
        "panSpeed": 1,
        "quality": "medium",
        "rotateSpeed": 2,
        "sampleLevel": 0,
        "tooltip": true,
        "workerDefault": true,
        "zoomSpeed": 1.2
       },
       "_ngl_repr_dict": {
        "0": {
         "0": {
          "params": {
           "aspectRatio": 1.5,
           "assembly": "default",
           "bondScale": 0.3,
           "bondSpacing": 0.75,
           "clipCenter": {
            "x": 0,
            "y": 0,
            "z": 0
           },
           "clipNear": 0,
           "clipRadius": 0,
           "colorMode": "hcl",
           "colorReverse": false,
           "colorScale": "",
           "colorScheme": "element",
           "colorValue": 9474192,
           "cylinderOnly": false,
           "defaultAssembly": "",
           "depthWrite": true,
           "diffuse": 16777215,
           "diffuseInterior": false,
           "disableImpostor": false,
           "disablePicking": false,
           "flatShaded": false,
           "interiorColor": 2236962,
           "interiorDarkening": 0,
           "lazy": false,
           "lineOnly": false,
           "linewidth": 2,
           "matrix": {
            "elements": [
             1,
             0,
             0,
             0,
             0,
             1,
             0,
             0,
             0,
             0,
             1,
             0,
             0,
             0,
             0,
             1
            ]
           },
           "metalness": 0,
           "multipleBond": "off",
           "opacity": 1,
           "openEnded": true,
           "quality": "high",
           "radialSegments": 20,
           "radiusData": {},
           "radiusScale": 2,
           "radiusSize": 0.15,
           "radiusType": "size",
           "roughness": 0.4,
           "sele": "",
           "side": "double",
           "sphereDetail": 2,
           "useInteriorColor": true,
           "visible": true,
           "wireframe": false
          },
          "type": "ball+stick"
         }
        }
       },
       "_ngl_serialize": false,
       "_ngl_version": "2.0.0-dev.36",
       "_ngl_view_id": [
        "51B38AA9-95FA-4F5C-8CAF-22F0AA42D404"
       ],
       "_player_dict": {},
       "_scene_position": {},
       "_scene_rotation": {},
       "_synced_model_ids": [],
       "_synced_repr_model_ids": [],
       "_view_height": "",
       "_view_width": "",
       "background": "white",
       "frame": 99,
       "gui_style": null,
       "layout": "IPY_MODEL_fd0a36d70d2943d28cd278610a526450",
       "max_frame": 99,
       "n_components": 1,
       "picked": {}
      }
     },
     "1d67ff51e039430a8dc0a7b9047ed4d0": {
      "model_module": "@jupyter-widgets/controls",
      "model_module_version": "1.5.0",
      "model_name": "HBoxModel",
      "state": {
       "children": [
        "IPY_MODEL_53fcd88449be450f83847a48d055e7e8",
        "IPY_MODEL_44266402920d438ebde9bec8e0bceb25"
       ],
       "layout": "IPY_MODEL_13590c21e3234243bdbca9067c28acde"
      }
     },
     "1e67474b7cb7421eb5d1d6969e57cf02": {
      "model_module": "@jupyter-widgets/base",
      "model_module_version": "1.2.0",
      "model_name": "LayoutModel",
      "state": {}
     },
     "1f39f65b1ccb473989d93d0e054bddae": {
      "model_module": "@jupyter-widgets/controls",
      "model_module_version": "1.5.0",
      "model_name": "HBoxModel",
      "state": {
       "children": [
        "IPY_MODEL_3e7ef5ef5e7a42fca583a38fb7243073",
        "IPY_MODEL_df5bf4b469ec40b69132522820c4329c"
       ],
       "layout": "IPY_MODEL_131b8c182e0645fcaa408932fad6e9b9"
      }
     },
     "1f528ad513a04d8491adabac7145e977": {
      "model_module": "@jupyter-widgets/controls",
      "model_module_version": "1.5.0",
      "model_name": "LinkModel",
      "state": {
       "source": [
        "IPY_MODEL_36ca4252a7c04bda929983d323768068",
        "max"
       ],
       "target": [
        "IPY_MODEL_dab0742bd71e4c4cabfa4baa93bd2cdf",
        "max_frame"
       ]
      }
     },
     "1f6f8f20c4e74f5598016003047d48bd": {
      "model_module": "@jupyter-widgets/base",
      "model_module_version": "1.2.0",
      "model_name": "LayoutModel",
      "state": {}
     },
     "1f71a376640741eba2690532a312aa4e": {
      "model_module": "@jupyter-widgets/controls",
      "model_module_version": "1.5.0",
      "model_name": "ButtonStyleModel",
      "state": {}
     },
     "2017b9d33ae44495a26c7cefa34fc4a0": {
      "model_module": "@jupyter-widgets/controls",
      "model_module_version": "1.5.0",
      "model_name": "ButtonModel",
      "state": {
       "icon": "compress",
       "layout": "IPY_MODEL_34df5c1cdc89448eabd7dd7914b8b7e4",
       "style": "IPY_MODEL_bcb43685074948428eec5df6f89c52c8"
      }
     },
     "20f0365692964fdbab572d556d0789f6": {
      "model_module": "@jupyter-widgets/controls",
      "model_module_version": "1.5.0",
      "model_name": "IntSliderModel",
      "state": {
       "layout": "IPY_MODEL_014a649b0a464c26b6f91db786f63572",
       "max": 0,
       "style": "IPY_MODEL_3fa14cc030e8458699718e90eaa1fd0f"
      }
     },
     "21216b65a3e9499bb3c7cca919c762d6": {
      "model_module": "@jupyter-widgets/base",
      "model_module_version": "1.2.0",
      "model_name": "LayoutModel",
      "state": {}
     },
     "21df8c7aaf1141469839128a866c4a55": {
      "model_module": "@jupyter-widgets/controls",
      "model_module_version": "1.5.0",
      "model_name": "IntSliderModel",
      "state": {
       "layout": "IPY_MODEL_05f19aed27d749e0bf2d097c3a5fcf6f",
       "max": 4,
       "style": "IPY_MODEL_262fb52ec8ba448c8908c610ceeaa29c"
      }
     },
     "2229c9383de74dcf9a19b41abbd11829": {
      "model_module": "@jupyter-widgets/controls",
      "model_module_version": "1.5.0",
      "model_name": "ButtonModel",
      "state": {
       "icon": "compress",
       "layout": "IPY_MODEL_16c288fae6af4da7b7f10e4660aab8c5",
       "style": "IPY_MODEL_de644eb83c3e48dda3231ce6673b86fa"
      }
     },
     "232d43b9536d40f7b10d89d11b740f9b": {
      "model_module": "@jupyter-widgets/base",
      "model_module_version": "1.2.0",
      "model_name": "LayoutModel",
      "state": {}
     },
     "23615f0a221245d08b7b9ddd8ce91408": {
      "model_module": "@jupyter-widgets/controls",
      "model_module_version": "1.5.0",
      "model_name": "LinkModel",
      "state": {
       "source": [
        "IPY_MODEL_5fcfa0cf40fd4ba88c074fbc04e6a7bc",
        "max"
       ],
       "target": [
        "IPY_MODEL_ab14bf5d9fca4fdfb4f52610535aec2e",
        "max_frame"
       ]
      }
     },
     "24e1f4b18d074da0aef73290ace4c675": {
      "model_module": "@jupyter-widgets/controls",
      "model_module_version": "1.5.0",
      "model_name": "HBoxModel",
      "state": {
       "children": [
        "IPY_MODEL_c2f9b1264908438c9897c993a0a43c29",
        "IPY_MODEL_09533ace67b944e0abba177f1af50d24"
       ],
       "layout": "IPY_MODEL_1e67474b7cb7421eb5d1d6969e57cf02"
      }
     },
     "25c01dae5a3c4c1db72ab19a1f1f4c6f": {
      "model_module": "@jupyter-widgets/controls",
      "model_module_version": "1.5.0",
      "model_name": "HBoxModel",
      "state": {
       "children": [
        "IPY_MODEL_ff0bacfb9b964a3da1fe96d8aa93e6f1",
        "IPY_MODEL_f0e2403069824cac9606e868de1698b9"
       ],
       "layout": "IPY_MODEL_5308248f1183400ba410976c96d03f69"
      }
     },
     "262fb52ec8ba448c8908c610ceeaa29c": {
      "model_module": "@jupyter-widgets/controls",
      "model_module_version": "1.5.0",
      "model_name": "SliderStyleModel",
      "state": {
       "description_width": ""
      }
     },
     "26f07185daad4c31bd9aefb87a5fca02": {
      "model_module": "@jupyter-widgets/base",
      "model_module_version": "1.2.0",
      "model_name": "LayoutModel",
      "state": {}
     },
     "28315f10df844483b00aa678ad85e88e": {
      "model_module": "@jupyter-widgets/controls",
      "model_module_version": "1.5.0",
      "model_name": "ButtonStyleModel",
      "state": {}
     },
     "28ac3a1f20df4e0083759774f7494fa6": {
      "model_module": "@jupyter-widgets/controls",
      "model_module_version": "1.5.0",
      "model_name": "IntSliderModel",
      "state": {
       "layout": "IPY_MODEL_d753863b407c432095e65ab57e7fa4ab",
       "max": 9,
       "style": "IPY_MODEL_c2ce8151d518474f8bc24e9b60c256ee",
       "value": 2
      }
     },
     "2b5173ba2f004cb7ad4a7f431bd1b942": {
      "model_module": "@jupyter-widgets/base",
      "model_module_version": "1.2.0",
      "model_name": "LayoutModel",
      "state": {}
     },
     "2cc10412cbcf48048f3869a416f77b73": {
      "model_module": "@jupyter-widgets/controls",
      "model_module_version": "1.5.0",
      "model_name": "DescriptionStyleModel",
      "state": {
       "description_width": ""
      }
     },
     "2d529d89b30a4462ab3c10d03714548d": {
      "model_module": "@jupyter-widgets/controls",
      "model_module_version": "1.5.0",
      "model_name": "LinkModel",
      "state": {
       "source": [
        "IPY_MODEL_e6a28fe3f5d54f338bd9d4a44d032f42",
        "max"
       ],
       "target": [
        "IPY_MODEL_751112a2a255448b97af6db087fcd76f",
        "max_frame"
       ]
      }
     },
     "2d5c3a81dfec4dc1a7037fd62f3358d1": {
      "model_module": "@jupyter-widgets/base",
      "model_module_version": "1.2.0",
      "model_name": "LayoutModel",
      "state": {}
     },
     "2e67408ed1f64ea8bcd7c4f1cf10d7e7": {
      "model_module": "@jupyter-widgets/controls",
      "model_module_version": "1.5.0",
      "model_name": "SliderStyleModel",
      "state": {
       "description_width": ""
      }
     },
     "2e85c4b6b3ea4d58a38c5bf391d955ea": {
      "model_module": "@jupyter-widgets/controls",
      "model_module_version": "1.5.0",
      "model_name": "PlayModel",
      "state": {
       "layout": "IPY_MODEL_16e8f00fae72485d94f790124b8959ea",
       "max": 99,
       "style": "IPY_MODEL_9103b5bda31e49bbb0fcd372edd30359",
       "value": 99
      }
     },
     "3019a2b283334e57ac655bd383473aae": {
      "model_module": "@jupyter-widgets/controls",
      "model_module_version": "1.5.0",
      "model_name": "IntSliderModel",
      "state": {
       "layout": "IPY_MODEL_2b5173ba2f004cb7ad4a7f431bd1b942",
       "max": 0,
       "style": "IPY_MODEL_8fd3ebdffd7442009e1569640287c207"
      }
     },
     "304937d284a8441d961e78d85fb243c9": {
      "model_module": "@jupyter-widgets/base",
      "model_module_version": "1.2.0",
      "model_name": "LayoutModel",
      "state": {}
     },
     "312076052f7f4b0f847bb23d9ef3d831": {
      "model_module": "@jupyter-widgets/controls",
      "model_module_version": "1.5.0",
      "model_name": "DescriptionStyleModel",
      "state": {
       "description_width": ""
      }
     },
     "315f61cc01114757a0aa58d675d86b37": {
      "model_module": "@jupyter-widgets/base",
      "model_module_version": "1.2.0",
      "model_name": "LayoutModel",
      "state": {}
     },
     "323133e0a73040bb88adb31a255e502b": {
      "model_module": "@jupyter-widgets/controls",
      "model_module_version": "1.5.0",
      "model_name": "PlayModel",
      "state": {
       "layout": "IPY_MODEL_d8404cb862f548d38427527ae0320eb2",
       "max": 4,
       "style": "IPY_MODEL_e0141e2e1a994851a01ab3e5f5db604b",
       "value": 4
      }
     },
     "32ae2a41294b400081fc536180537414": {
      "model_module": "@jupyter-widgets/base",
      "model_module_version": "1.2.0",
      "model_name": "LayoutModel",
      "state": {}
     },
     "32af7baef409482682a4c1c9bc4951f0": {
      "model_module": "@jupyter-widgets/base",
      "model_module_version": "1.2.0",
      "model_name": "LayoutModel",
      "state": {}
     },
     "33529417d2bf48c499ab5fbb6de9f11a": {
      "model_module": "@jupyter-widgets/base",
      "model_module_version": "1.2.0",
      "model_name": "LayoutModel",
      "state": {}
     },
     "347a2324c6564175aebba67a3219db62": {
      "model_module": "@jupyter-widgets/controls",
      "model_module_version": "1.5.0",
      "model_name": "IntSliderModel",
      "state": {
       "layout": "IPY_MODEL_3654e85305bb4a42a36e922381f1cce3",
       "max": 29,
       "style": "IPY_MODEL_130c1fd1708a4870a5932b95db6e5a60"
      }
     },
     "347cedc29ac041b7b6d9abf2f5fbd183": {
      "model_module": "@jupyter-widgets/controls",
      "model_module_version": "1.5.0",
      "model_name": "LinkModel",
      "state": {
       "source": [
        "IPY_MODEL_dbfb521742554c439d16bb3c691b4346",
        "value"
       ],
       "target": [
        "IPY_MODEL_21df8c7aaf1141469839128a866c4a55",
        "value"
       ]
      }
     },
     "34df5c1cdc89448eabd7dd7914b8b7e4": {
      "model_module": "@jupyter-widgets/base",
      "model_module_version": "1.2.0",
      "model_name": "LayoutModel",
      "state": {
       "width": "34px"
      }
     },
     "35335bd99a4c4e9285fe3482318962d8": {
      "model_module": "@jupyter-widgets/controls",
      "model_module_version": "1.5.0",
      "model_name": "LinkModel",
      "state": {
       "source": [
        "IPY_MODEL_8263044a38104358be87481d23504643",
        "max"
       ],
       "target": [
        "IPY_MODEL_c7c86ad6a0f84cc5baf0fe79fed38ea5",
        "max_frame"
       ]
      }
     },
     "3654e85305bb4a42a36e922381f1cce3": {
      "model_module": "@jupyter-widgets/base",
      "model_module_version": "1.2.0",
      "model_name": "LayoutModel",
      "state": {}
     },
     "3683a29915b64e1c8269514f3a741751": {
      "model_module": "@jupyter-widgets/base",
      "model_module_version": "1.2.0",
      "model_name": "LayoutModel",
      "state": {}
     },
     "36ca4252a7c04bda929983d323768068": {
      "model_module": "@jupyter-widgets/controls",
      "model_module_version": "1.5.0",
      "model_name": "PlayModel",
      "state": {
       "layout": "IPY_MODEL_62e6f22b8c004c5da82c8ad119901a32",
       "max": 19,
       "style": "IPY_MODEL_e4561b26d90d4eab91a4c04edfb48a84",
       "value": 19
      }
     },
     "36e7fff00ebb48969c6beadae7790130": {
      "model_module": "@jupyter-widgets/base",
      "model_module_version": "1.2.0",
      "model_name": "LayoutModel",
      "state": {}
     },
     "38ce0f8139d94149a1b13dc933493985": {
      "model_module": "@jupyter-widgets/controls",
      "model_module_version": "1.5.0",
      "model_name": "ImageModel",
      "state": {
       "layout": "IPY_MODEL_f8b2d174493b4e1195f322d70b1e6984",
       "width": "900.0"
      }
     },
     "394a5d4ef6ae4365810109d2e469bc51": {
      "model_module": "@jupyter-widgets/controls",
      "model_module_version": "1.5.0",
      "model_name": "PlayModel",
      "state": {
       "layout": "IPY_MODEL_9698e1e5b6e64479b3d637803a0e8815",
       "max": 9,
       "style": "IPY_MODEL_ef4d1dcea8bc490fbe950ec6a760004c",
       "value": 9
      }
     },
     "3a3129c3da5c49c5a16fc5457e699536": {
      "model_module": "@jupyter-widgets/base",
      "model_module_version": "1.2.0",
      "model_name": "LayoutModel",
      "state": {
       "width": "34px"
      }
     },
     "3a91e8dcbbe04d718befd904e20fafdf": {
      "model_module": "@jupyter-widgets/base",
      "model_module_version": "1.2.0",
      "model_name": "LayoutModel",
      "state": {
       "width": "34px"
      }
     },
     "3ab0df22e09242568190c6a539886cfe": {
      "model_module": "@jupyter-widgets/controls",
      "model_module_version": "1.5.0",
      "model_name": "LinkModel",
      "state": {
       "source": [
        "IPY_MODEL_648c8e29c4894c6cbae3dd72be95011a",
        "value"
       ],
       "target": [
        "IPY_MODEL_5207f4643b0e44c482840d9ea9332830",
        "frame"
       ]
      }
     },
     "3b32079225144ac68541d3abd7da53f8": {
      "model_module": "@jupyter-widgets/base",
      "model_module_version": "1.2.0",
      "model_name": "LayoutModel",
      "state": {
       "width": "34px"
      }
     },
     "3cb658ec3712482c8bed204ce0a97e07": {
      "model_module": "@jupyter-widgets/base",
      "model_module_version": "1.2.0",
      "model_name": "LayoutModel",
      "state": {}
     },
     "3d3b60e5134c48cea80ba9f4526e459f": {
      "model_module": "@jupyter-widgets/controls",
      "model_module_version": "1.5.0",
      "model_name": "HBoxModel",
      "state": {
       "children": [
        "IPY_MODEL_2e85c4b6b3ea4d58a38c5bf391d955ea",
        "IPY_MODEL_ff7eee6bf2634a8687d8eb0453d4517a"
       ],
       "layout": "IPY_MODEL_ed07d7652758420295d462a10ab668ee"
      }
     },
     "3d650ec6cfcf4c8f966b24b5a37ce921": {
      "model_module": "@jupyter-widgets/controls",
      "model_module_version": "1.5.0",
      "model_name": "LinkModel",
      "state": {
       "source": [
        "IPY_MODEL_cd4d664a993d4ed093ccc7aa90992ff6",
        "value"
       ],
       "target": [
        "IPY_MODEL_018e25077ebe4f359ec1eaef6fd1d82f",
        "value"
       ]
      }
     },
     "3e7ef5ef5e7a42fca583a38fb7243073": {
      "model_module": "@jupyter-widgets/controls",
      "model_module_version": "1.5.0",
      "model_name": "PlayModel",
      "state": {
       "layout": "IPY_MODEL_80dba5a566d64b27ae750758ca56fd64",
       "max": 0,
       "style": "IPY_MODEL_ef408bc0833249479cdc9059d117a5b9"
      }
     },
     "3eb379ba5d4b4003b74ef455cd3eb85f": {
      "model_module": "@jupyter-widgets/controls",
      "model_module_version": "1.5.0",
      "model_name": "IntSliderModel",
      "state": {
       "layout": "IPY_MODEL_a411a10cb0f24bb5a151e3a8a4048806",
       "max": 0,
       "style": "IPY_MODEL_41f66ca90e704979841fe50ee3d1044a"
      }
     },
     "3f21a7be45c04b149c31718f888408cb": {
      "model_module": "@jupyter-widgets/base",
      "model_module_version": "1.2.0",
      "model_name": "LayoutModel",
      "state": {}
     },
     "3f5604081f3a41a0862417016c2d25db": {
      "model_module": "@jupyter-widgets/controls",
      "model_module_version": "1.5.0",
      "model_name": "ImageModel",
      "state": {
       "layout": "IPY_MODEL_33529417d2bf48c499ab5fbb6de9f11a",
       "width": "900.0"
      }
     },
     "3f6cb8e6552c47eca452c98ec774939a": {
      "model_module": "@jupyter-widgets/base",
      "model_module_version": "1.2.0",
      "model_name": "LayoutModel",
      "state": {}
     },
     "3fa14cc030e8458699718e90eaa1fd0f": {
      "model_module": "@jupyter-widgets/controls",
      "model_module_version": "1.5.0",
      "model_name": "SliderStyleModel",
      "state": {
       "description_width": ""
      }
     },
     "4061cd674c5544d99f13d751b7b38aea": {
      "model_module": "nglview-js-widgets",
      "model_module_version": "2.7.1",
      "model_name": "NGLModel",
      "state": {
       "_camera_orientation": [
        -1.6271379939841628,
        -15.182915247821636,
        0.2514506598500023,
        0,
        -15.06626122437152,
        1.6457566963201289,
        1.8790898126098836,
        0,
        -1.8952349658736412,
        -0.04785793897811325,
        -15.153795397528212,
        0,
        -1.0709999799728394,
        -1.0709999799728394,
        -1.0709999799728394,
        1
       ],
       "_camera_str": "orthographic",
       "_gui_theme": null,
       "_ibtn_fullscreen": "IPY_MODEL_4dfaffa196f3466497ca6efc55e6d24c",
       "_igui": null,
       "_iplayer": "IPY_MODEL_b44374cc8e3c4e599ae8f6e74f3b5863",
       "_ngl_color_dict": {},
       "_ngl_coordinate_resource": {},
       "_ngl_full_stage_parameters": {
        "ambientColor": 14540253,
        "ambientIntensity": 0.2,
        "backgroundColor": "white",
        "cameraEyeSep": 0.3,
        "cameraFov": 40,
        "cameraType": "perspective",
        "clipDist": 10,
        "clipFar": 100,
        "clipNear": 0,
        "fogFar": 100,
        "fogNear": 50,
        "hoverTimeout": 0,
        "impostor": true,
        "lightColor": 14540253,
        "lightIntensity": 1,
        "mousePreset": "default",
        "panSpeed": 1,
        "quality": "medium",
        "rotateSpeed": 2,
        "sampleLevel": 0,
        "tooltip": true,
        "workerDefault": true,
        "zoomSpeed": 1.2
       },
       "_ngl_msg_archive": [
        {
         "args": [
          {
           "binary": false,
           "data": "MODEL        0\nATOM      1  H   MOL A   1       0.000   0.000   0.000  1.00  0.00          H   \nATOM      2  H   MOL A   1       0.714   0.714   0.000  1.00  0.00          H   \nATOM      3  H   MOL A   1       0.714   0.000   0.714  1.00  0.00          H   \nATOM      4  H   MOL A   1       0.000   0.714   0.714  1.00  0.00          H   \nATOM      5  H   MOL A   1       1.428   0.000   0.000  1.00  0.00          H   \nATOM      6  H   MOL A   1       2.142   0.714   0.000  1.00  0.00          H   \nATOM      7  H   MOL A   1       2.142   0.000   0.714  1.00  0.00          H   \nATOM      8  H   MOL A   1       1.428   0.714   0.714  1.00  0.00          H   \nATOM      9  H   MOL A   1       0.000   1.428   0.000  1.00  0.00          H   \nATOM     10  H   MOL A   1       0.714   2.142   0.000  1.00  0.00          H   \nATOM     11  H   MOL A   1       0.714   1.428   0.714  1.00  0.00          H   \nATOM     12  H   MOL A   1       0.000   2.142   0.714  1.00  0.00          H   \nATOM     13  H   MOL A   1       1.428   1.428   0.000  1.00  0.00          H   \nATOM     14  H   MOL A   1       2.142   2.142   0.000  1.00  0.00          H   \nATOM     15  H   MOL A   1       2.142   1.428   0.714  1.00  0.00          H   \nATOM     16  H   MOL A   1       1.428   2.142   0.714  1.00  0.00          H   \nATOM     17  H   MOL A   1       0.000   0.000   1.428  1.00  0.00          H   \nATOM     18  H   MOL A   1       0.714   0.714   1.428  1.00  0.00          H   \nATOM     19  H   MOL A   1       0.714   0.000   2.142  1.00  0.00          H   \nATOM     20  H   MOL A   1       0.000   0.714   2.142  1.00  0.00          H   \nATOM     21  H   MOL A   1       1.428   0.000   1.428  1.00  0.00          H   \nATOM     22  H   MOL A   1       2.142   0.714   1.428  1.00  0.00          H   \nATOM     23  H   MOL A   1       2.142   0.000   2.142  1.00  0.00          H   \nATOM     24  H   MOL A   1       1.428   0.714   2.142  1.00  0.00          H   \nATOM     25  H   MOL A   1       0.000   1.428   1.428  1.00  0.00          H   \nATOM     26  H   MOL A   1       0.714   2.142   1.428  1.00  0.00          H   \nATOM     27  H   MOL A   1       0.714   1.428   2.142  1.00  0.00          H   \nATOM     28  H   MOL A   1       0.000   2.142   2.142  1.00  0.00          H   \nATOM     29  H   MOL A   1       1.428   1.428   1.428  1.00  0.00          H   \nATOM     30  H   MOL A   1       2.142   2.142   1.428  1.00  0.00          H   \nATOM     31  H   MOL A   1       2.142   1.428   2.142  1.00  0.00          H   \nATOM     32  H   MOL A   1       1.428   2.142   2.142  1.00  0.00          H   \nTER      33      MOL A   1\nENDMDL\nEND\n",
           "type": "blob"
          }
         ],
         "kwargs": {
          "defaultRepresentation": true,
          "ext": "pdb"
         },
         "methodName": "loadFile",
         "reconstruc_color_scheme": false,
         "target": "Stage",
         "type": "call_method"
        }
       ],
       "_ngl_original_stage_parameters": {
        "ambientColor": 14540253,
        "ambientIntensity": 0.2,
        "backgroundColor": "white",
        "cameraEyeSep": 0.3,
        "cameraFov": 40,
        "cameraType": "perspective",
        "clipDist": 10,
        "clipFar": 100,
        "clipNear": 0,
        "fogFar": 100,
        "fogNear": 50,
        "hoverTimeout": 0,
        "impostor": true,
        "lightColor": 14540253,
        "lightIntensity": 1,
        "mousePreset": "default",
        "panSpeed": 1,
        "quality": "medium",
        "rotateSpeed": 2,
        "sampleLevel": 0,
        "tooltip": true,
        "workerDefault": true,
        "zoomSpeed": 1.2
       },
       "_ngl_repr_dict": {
        "0": {
         "0": {
          "params": {
           "aspectRatio": 1.5,
           "assembly": "default",
           "bondScale": 0.3,
           "bondSpacing": 0.75,
           "clipCenter": {
            "x": 0,
            "y": 0,
            "z": 0
           },
           "clipNear": 0,
           "clipRadius": 0,
           "colorMode": "hcl",
           "colorReverse": false,
           "colorScale": "",
           "colorScheme": "element",
           "colorValue": 9474192,
           "cylinderOnly": false,
           "defaultAssembly": "",
           "depthWrite": true,
           "diffuse": 16777215,
           "diffuseInterior": false,
           "disableImpostor": false,
           "disablePicking": false,
           "flatShaded": false,
           "interiorColor": 2236962,
           "interiorDarkening": 0,
           "lazy": false,
           "lineOnly": false,
           "linewidth": 2,
           "matrix": {
            "elements": [
             1,
             0,
             0,
             0,
             0,
             1,
             0,
             0,
             0,
             0,
             1,
             0,
             0,
             0,
             0,
             1
            ]
           },
           "metalness": 0,
           "multipleBond": "off",
           "opacity": 1,
           "openEnded": true,
           "quality": "high",
           "radialSegments": 20,
           "radiusData": {},
           "radiusScale": 2,
           "radiusSize": 0.15,
           "radiusType": "size",
           "roughness": 0.4,
           "sele": "",
           "side": "double",
           "sphereDetail": 2,
           "useInteriorColor": true,
           "visible": true,
           "wireframe": false
          },
          "type": "ball+stick"
         }
        }
       },
       "_ngl_serialize": false,
       "_ngl_version": "2.0.0-dev.36",
       "_ngl_view_id": [
        "ED3588F4-B37C-409D-8B1D-641A192B4184"
       ],
       "_player_dict": {},
       "_scene_position": {},
       "_scene_rotation": {},
       "_synced_model_ids": [],
       "_synced_repr_model_ids": [],
       "_view_height": "",
       "_view_width": "",
       "background": "white",
       "frame": 18,
       "gui_style": null,
       "layout": "IPY_MODEL_082496908ac9437982145be019dfc3be",
       "max_frame": 29,
       "n_components": 1,
       "picked": {}
      }
     },
     "41f66ca90e704979841fe50ee3d1044a": {
      "model_module": "@jupyter-widgets/controls",
      "model_module_version": "1.5.0",
      "model_name": "SliderStyleModel",
      "state": {
       "description_width": ""
      }
     },
     "425e64a3c92a42b2b9cad9bb827164bb": {
      "model_module": "@jupyter-widgets/controls",
      "model_module_version": "1.5.0",
      "model_name": "HBoxModel",
      "state": {
       "children": [
        "IPY_MODEL_dbfb521742554c439d16bb3c691b4346",
        "IPY_MODEL_21df8c7aaf1141469839128a866c4a55"
       ],
       "layout": "IPY_MODEL_18e0240b2ca440c788be7ab486d98c3b"
      }
     },
     "43c7c1a2caf2422b82eafc669517723e": {
      "model_module": "@jupyter-widgets/controls",
      "model_module_version": "1.5.0",
      "model_name": "LinkModel",
      "state": {
       "source": [
        "IPY_MODEL_ff0bacfb9b964a3da1fe96d8aa93e6f1",
        "value"
       ],
       "target": [
        "IPY_MODEL_f0e2403069824cac9606e868de1698b9",
        "value"
       ]
      }
     },
     "44266402920d438ebde9bec8e0bceb25": {
      "model_module": "@jupyter-widgets/controls",
      "model_module_version": "1.5.0",
      "model_name": "IntSliderModel",
      "state": {
       "layout": "IPY_MODEL_be4d77fc06b04eb0825a4a933c505933",
       "max": 0,
       "style": "IPY_MODEL_edb6e898697941d4b7096bf8ebedb053"
      }
     },
     "449af4441f934f6eafeede7fe30821bb": {
      "model_module": "@jupyter-widgets/base",
      "model_module_version": "1.2.0",
      "model_name": "LayoutModel",
      "state": {}
     },
     "453ff62121a144f987ad7252e75951c3": {
      "model_module": "@jupyter-widgets/base",
      "model_module_version": "1.2.0",
      "model_name": "LayoutModel",
      "state": {
       "width": "34px"
      }
     },
     "45ef030edcd341eebca88fa68d372a37": {
      "model_module": "@jupyter-widgets/controls",
      "model_module_version": "1.5.0",
      "model_name": "DescriptionStyleModel",
      "state": {
       "description_width": ""
      }
     },
     "466b6a0e65194963b820a9774049d2e0": {
      "model_module": "@jupyter-widgets/controls",
      "model_module_version": "1.5.0",
      "model_name": "ButtonStyleModel",
      "state": {}
     },
     "4798d8a9ff78449e8cf046ae0f8ae16f": {
      "model_module": "@jupyter-widgets/base",
      "model_module_version": "1.2.0",
      "model_name": "LayoutModel",
      "state": {
       "width": "34px"
      }
     },
     "493dbc4f11b447c2baa0cbb837c80f6a": {
      "model_module": "@jupyter-widgets/controls",
      "model_module_version": "1.5.0",
      "model_name": "LinkModel",
      "state": {
       "source": [
        "IPY_MODEL_53fcd88449be450f83847a48d055e7e8",
        "value"
       ],
       "target": [
        "IPY_MODEL_8be17601cd97428289c6dc0e5dcfe7c1",
        "frame"
       ]
      }
     },
     "4962f206a7de456da2eed7d7860c65e6": {
      "model_module": "@jupyter-widgets/base",
      "model_module_version": "1.2.0",
      "model_name": "LayoutModel",
      "state": {}
     },
     "49a8395a3b464dac888bd614cbe95ec5": {
      "model_module": "@jupyter-widgets/controls",
      "model_module_version": "1.5.0",
      "model_name": "LinkModel",
      "state": {
       "source": [
        "IPY_MODEL_fa87e5803879480b852e136cb37b4083",
        "value"
       ],
       "target": [
        "IPY_MODEL_3019a2b283334e57ac655bd383473aae",
        "value"
       ]
      }
     },
     "4bfbcf0f77dd4202814afc0353d307b4": {
      "model_module": "@jupyter-widgets/controls",
      "model_module_version": "1.5.0",
      "model_name": "LinkModel",
      "state": {
       "source": [
        "IPY_MODEL_81a2c1c672f54df680a2ba6a8b6deb84",
        "max"
       ],
       "target": [
        "IPY_MODEL_5207f4643b0e44c482840d9ea9332830",
        "max_frame"
       ]
      }
     },
     "4c5ade1957aa49a7a0899ab01bdd39ae": {
      "model_module": "@jupyter-widgets/controls",
      "model_module_version": "1.5.0",
      "model_name": "PlayModel",
      "state": {
       "layout": "IPY_MODEL_a9131aba5dce49b3a656cc915b57dbd9",
       "max": 29,
       "style": "IPY_MODEL_ac795900010345bd8db0ad9d7029d51d"
      }
     },
     "4c8b07fa330f44baafde9703e59e0728": {
      "model_module": "@jupyter-widgets/base",
      "model_module_version": "1.2.0",
      "model_name": "LayoutModel",
      "state": {}
     },
     "4c90e1e15a4d4fabbcda3ebe56acaed3": {
      "model_module": "nglview-js-widgets",
      "model_module_version": "2.7.1",
      "model_name": "NGLModel",
      "state": {
       "_camera_orientation": [
        -17.23075375549149,
        -0.6728630437073673,
        3.264928368010537,
        0,
        -1.2165681675207385,
        17.272734185860394,
        -2.860767824307409,
        0,
        -3.1036210815114518,
        -3.035010045326091,
        -17.004929494513608,
        0,
        -1.0709999799728394,
        -1.0709999799728394,
        -1.0709999799728394,
        1
       ],
       "_camera_str": "orthographic",
       "_gui_theme": null,
       "_ibtn_fullscreen": "IPY_MODEL_a2f55e8c8f47495aa77bff7ed3e09b3a",
       "_igui": null,
       "_iplayer": "IPY_MODEL_96beb977289745408b48eb4e397eb296",
       "_ngl_color_dict": {},
       "_ngl_coordinate_resource": {},
       "_ngl_full_stage_parameters": {
        "ambientColor": 14540253,
        "ambientIntensity": 0.2,
        "backgroundColor": "white",
        "cameraEyeSep": 0.3,
        "cameraFov": 40,
        "cameraType": "perspective",
        "clipDist": 10,
        "clipFar": 100,
        "clipNear": 0,
        "fogFar": 100,
        "fogNear": 50,
        "hoverTimeout": 0,
        "impostor": true,
        "lightColor": 14540253,
        "lightIntensity": 1,
        "mousePreset": "default",
        "panSpeed": 1,
        "quality": "medium",
        "rotateSpeed": 2,
        "sampleLevel": 0,
        "tooltip": true,
        "workerDefault": true,
        "zoomSpeed": 1.2
       },
       "_ngl_msg_archive": [
        {
         "args": [
          {
           "binary": false,
           "data": "MODEL        0\nATOM      1  H   MOL A   1       0.000   0.000   0.000  1.00  0.00          H   \nATOM      2  H   MOL A   1       0.714   0.714   0.000  1.00  0.00          H   \nATOM      3  H   MOL A   1       0.714   0.000   0.714  1.00  0.00          H   \nATOM      4  H   MOL A   1       0.000   0.714   0.714  1.00  0.00          H   \nATOM      5  H   MOL A   1       1.428   0.000   0.000  1.00  0.00          H   \nATOM      6  H   MOL A   1       2.142   0.714   0.000  1.00  0.00          H   \nATOM      7  H   MOL A   1       2.142   0.000   0.714  1.00  0.00          H   \nATOM      8  H   MOL A   1       1.428   0.714   0.714  1.00  0.00          H   \nATOM      9  H   MOL A   1       0.000   1.428   0.000  1.00  0.00          H   \nATOM     10  H   MOL A   1       0.714   2.142   0.000  1.00  0.00          H   \nATOM     11  H   MOL A   1       0.714   1.428   0.714  1.00  0.00          H   \nATOM     12  H   MOL A   1       0.000   2.142   0.714  1.00  0.00          H   \nATOM     13  H   MOL A   1       1.428   1.428   0.000  1.00  0.00          H   \nATOM     14  H   MOL A   1       2.142   2.142   0.000  1.00  0.00          H   \nATOM     15  H   MOL A   1       2.142   1.428   0.714  1.00  0.00          H   \nATOM     16  H   MOL A   1       1.428   2.142   0.714  1.00  0.00          H   \nATOM     17  H   MOL A   1       0.000   0.000   1.428  1.00  0.00          H   \nATOM     18  H   MOL A   1       0.714   0.714   1.428  1.00  0.00          H   \nATOM     19  H   MOL A   1       0.714   0.000   2.142  1.00  0.00          H   \nATOM     20  H   MOL A   1       0.000   0.714   2.142  1.00  0.00          H   \nATOM     21  H   MOL A   1       1.428   0.000   1.428  1.00  0.00          H   \nATOM     22  H   MOL A   1       2.142   0.714   1.428  1.00  0.00          H   \nATOM     23  H   MOL A   1       2.142   0.000   2.142  1.00  0.00          H   \nATOM     24  H   MOL A   1       1.428   0.714   2.142  1.00  0.00          H   \nATOM     25  H   MOL A   1       0.000   1.428   1.428  1.00  0.00          H   \nATOM     26  H   MOL A   1       0.714   2.142   1.428  1.00  0.00          H   \nATOM     27  H   MOL A   1       0.714   1.428   2.142  1.00  0.00          H   \nATOM     28  H   MOL A   1       0.000   2.142   2.142  1.00  0.00          H   \nATOM     29  H   MOL A   1       1.428   1.428   1.428  1.00  0.00          H   \nATOM     30  H   MOL A   1       2.142   2.142   1.428  1.00  0.00          H   \nATOM     31  H   MOL A   1       2.142   1.428   2.142  1.00  0.00          H   \nATOM     32  H   MOL A   1       1.428   2.142   2.142  1.00  0.00          H   \nTER      33      MOL A   1\nENDMDL\nEND\n",
           "type": "blob"
          }
         ],
         "kwargs": {
          "defaultRepresentation": true,
          "ext": "pdb"
         },
         "methodName": "loadFile",
         "reconstruc_color_scheme": false,
         "target": "Stage",
         "type": "call_method"
        }
       ],
       "_ngl_original_stage_parameters": {
        "ambientColor": 14540253,
        "ambientIntensity": 0.2,
        "backgroundColor": "white",
        "cameraEyeSep": 0.3,
        "cameraFov": 40,
        "cameraType": "perspective",
        "clipDist": 10,
        "clipFar": 100,
        "clipNear": 0,
        "fogFar": 100,
        "fogNear": 50,
        "hoverTimeout": 0,
        "impostor": true,
        "lightColor": 14540253,
        "lightIntensity": 1,
        "mousePreset": "default",
        "panSpeed": 1,
        "quality": "medium",
        "rotateSpeed": 2,
        "sampleLevel": 0,
        "tooltip": true,
        "workerDefault": true,
        "zoomSpeed": 1.2
       },
       "_ngl_repr_dict": {
        "0": {
         "0": {
          "params": {
           "aspectRatio": 1.5,
           "assembly": "default",
           "bondScale": 0.3,
           "bondSpacing": 0.75,
           "clipCenter": {
            "x": 0,
            "y": 0,
            "z": 0
           },
           "clipNear": 0,
           "clipRadius": 0,
           "colorMode": "hcl",
           "colorReverse": false,
           "colorScale": "",
           "colorScheme": "element",
           "colorValue": 9474192,
           "cylinderOnly": false,
           "defaultAssembly": "",
           "depthWrite": true,
           "diffuse": 16777215,
           "diffuseInterior": false,
           "disableImpostor": false,
           "disablePicking": false,
           "flatShaded": false,
           "interiorColor": 2236962,
           "interiorDarkening": 0,
           "lazy": false,
           "lineOnly": false,
           "linewidth": 2,
           "matrix": {
            "elements": [
             1,
             0,
             0,
             0,
             0,
             1,
             0,
             0,
             0,
             0,
             1,
             0,
             0,
             0,
             0,
             1
            ]
           },
           "metalness": 0,
           "multipleBond": "off",
           "opacity": 1,
           "openEnded": true,
           "quality": "high",
           "radialSegments": 20,
           "radiusData": {},
           "radiusScale": 2,
           "radiusSize": 0.15,
           "radiusType": "size",
           "roughness": 0.4,
           "sele": "",
           "side": "double",
           "sphereDetail": 2,
           "useInteriorColor": true,
           "visible": true,
           "wireframe": false
          },
          "type": "ball+stick"
         }
        }
       },
       "_ngl_serialize": false,
       "_ngl_version": "2.0.0-dev.36",
       "_ngl_view_id": [
        "7CDA8AB4-5387-4063-BBCE-EDE7C59C7DFA"
       ],
       "_player_dict": {},
       "_scene_position": {},
       "_scene_rotation": {},
       "_synced_model_ids": [],
       "_synced_repr_model_ids": [],
       "_view_height": "",
       "_view_width": "",
       "background": "white",
       "frame": 4,
       "gui_style": null,
       "layout": "IPY_MODEL_0cdb2b258d75466388f1b59751b05cf0",
       "max_frame": 4,
       "n_components": 1,
       "picked": {}
      }
     },
     "4cbb75144d5945d5b6c5c2bf453caf39": {
      "model_module": "@jupyter-widgets/controls",
      "model_module_version": "1.5.0",
      "model_name": "LinkModel",
      "state": {
       "source": [
        "IPY_MODEL_2e85c4b6b3ea4d58a38c5bf391d955ea",
        "max"
       ],
       "target": [
        "IPY_MODEL_1d62d16cd14048f1a63b120716fd3746",
        "max_frame"
       ]
      }
     },
     "4dfaffa196f3466497ca6efc55e6d24c": {
      "model_module": "@jupyter-widgets/controls",
      "model_module_version": "1.5.0",
      "model_name": "ButtonModel",
      "state": {
       "icon": "compress",
       "layout": "IPY_MODEL_93f2ea95bdaf4682a5c48d8c029b1aa3",
       "style": "IPY_MODEL_b38b39066d6a4ed9a252decc6815bfcc"
      }
     },
     "4e91ece038084f2c8c76c64d5516f533": {
      "model_module": "@jupyter-widgets/controls",
      "model_module_version": "1.5.0",
      "model_name": "ImageModel",
      "state": {
       "layout": "IPY_MODEL_bc56de5d29a941c098cd5088cc996aa2",
       "width": "900.0"
      }
     },
     "4f543fb9119a476eacfe271cd8a06104": {
      "model_module": "@jupyter-widgets/base",
      "model_module_version": "1.2.0",
      "model_name": "LayoutModel",
      "state": {}
     },
     "5064e1f5287b4b0ab6beb7ed6187400c": {
      "model_module": "@jupyter-widgets/base",
      "model_module_version": "1.2.0",
      "model_name": "LayoutModel",
      "state": {}
     },
     "50c852076eb3420da14fbcffec00a5ed": {
      "model_module": "@jupyter-widgets/base",
      "model_module_version": "1.2.0",
      "model_name": "LayoutModel",
      "state": {}
     },
     "50fa0d07fc8b4ca18ae16385e4bacec4": {
      "model_module": "@jupyter-widgets/controls",
      "model_module_version": "1.5.0",
      "model_name": "DescriptionStyleModel",
      "state": {
       "description_width": ""
      }
     },
     "514144e2e258463abae4030842000e3b": {
      "model_module": "@jupyter-widgets/controls",
      "model_module_version": "1.5.0",
      "model_name": "LinkModel",
      "state": {
       "source": [
        "IPY_MODEL_b818839b61f943d7b39a8e3809285863",
        "value"
       ],
       "target": [
        "IPY_MODEL_28ac3a1f20df4e0083759774f7494fa6",
        "value"
       ]
      }
     },
     "5207f4643b0e44c482840d9ea9332830": {
      "model_module": "nglview-js-widgets",
      "model_module_version": "2.7.1",
      "model_name": "NGLModel",
      "state": {
       "_camera_orientation": [
        -3.4006151778756437,
        0.12396598297408969,
        -38.42180200679015,
        0,
        -1.4843763801612764,
        38.542776847977706,
        0.25573464942718227,
        0,
        38.39331795737295,
        1.5011348653480874,
        -3.393250792678798,
        0,
        -6.574999809265137,
        -6.574999809265137,
        -6.574999809265137,
        1
       ],
       "_camera_str": "orthographic",
       "_gui_theme": null,
       "_ibtn_fullscreen": "IPY_MODEL_e7a7da1d2c254f59aeab7154e21d9321",
       "_igui": null,
       "_iplayer": "IPY_MODEL_10e44e77bab24dc2bccecd343206a6c2",
       "_ngl_color_dict": {},
       "_ngl_coordinate_resource": {},
       "_ngl_full_stage_parameters": {
        "ambientColor": 14540253,
        "ambientIntensity": 0.2,
        "backgroundColor": "white",
        "cameraEyeSep": 0.3,
        "cameraFov": 40,
        "cameraType": "perspective",
        "clipDist": 10,
        "clipFar": 100,
        "clipNear": 0,
        "fogFar": 100,
        "fogNear": 50,
        "hoverTimeout": 0,
        "impostor": true,
        "lightColor": 14540253,
        "lightIntensity": 1,
        "mousePreset": "default",
        "panSpeed": 1,
        "quality": "medium",
        "rotateSpeed": 2,
        "sampleLevel": 0,
        "tooltip": true,
        "workerDefault": true,
        "zoomSpeed": 1.2
       },
       "_ngl_msg_archive": [
        {
         "args": [
          {
           "binary": false,
           "data": "CRYST1   15.780   15.780   15.780  90.00  90.00  90.00 P 1\nMODEL     1\nATOM      0   Ar MOL     1       0.000   0.000   0.000  1.00  0.00          AR  \nATOM      1   Ar MOL     1       2.630   2.630   0.000  1.00  0.00          AR  \nATOM      2   Ar MOL     1       2.630   0.000   2.630  1.00  0.00          AR  \nATOM      3   Ar MOL     1       0.000   2.630   2.630  1.00  0.00          AR  \nATOM      4   Ar MOL     1       5.260   0.000   0.000  1.00  0.00          AR  \nATOM      5   Ar MOL     1       7.890   2.630   0.000  1.00  0.00          AR  \nATOM      6   Ar MOL     1       7.890   0.000   2.630  1.00  0.00          AR  \nATOM      7   Ar MOL     1       5.260   2.630   2.630  1.00  0.00          AR  \nATOM      8   Ar MOL     1      10.520   0.000   0.000  1.00  0.00          AR  \nATOM      9   Ar MOL     1      13.150   2.630   0.000  1.00  0.00          AR  \nATOM     10   Ar MOL     1      13.150   0.000   2.630  1.00  0.00          AR  \nATOM     11   Ar MOL     1      10.520   2.630   2.630  1.00  0.00          AR  \nATOM     12   Ar MOL     1       0.000   5.260   0.000  1.00  0.00          AR  \nATOM     13   Ar MOL     1       2.630   7.890   0.000  1.00  0.00          AR  \nATOM     14   Ar MOL     1       2.630   5.260   2.630  1.00  0.00          AR  \nATOM     15   Ar MOL     1       0.000   7.890   2.630  1.00  0.00          AR  \nATOM     16   Ar MOL     1       5.260   5.260   0.000  1.00  0.00          AR  \nATOM     17   Ar MOL     1       7.890   7.890   0.000  1.00  0.00          AR  \nATOM     18   Ar MOL     1       7.890   5.260   2.630  1.00  0.00          AR  \nATOM     19   Ar MOL     1       5.260   7.890   2.630  1.00  0.00          AR  \nATOM     20   Ar MOL     1      10.520   5.260   0.000  1.00  0.00          AR  \nATOM     21   Ar MOL     1      13.150   7.890   0.000  1.00  0.00          AR  \nATOM     22   Ar MOL     1      13.150   5.260   2.630  1.00  0.00          AR  \nATOM     23   Ar MOL     1      10.520   7.890   2.630  1.00  0.00          AR  \nATOM     24   Ar MOL     1       0.000  10.520   0.000  1.00  0.00          AR  \nATOM     25   Ar MOL     1       2.630  13.150   0.000  1.00  0.00          AR  \nATOM     26   Ar MOL     1       2.630  10.520   2.630  1.00  0.00          AR  \nATOM     27   Ar MOL     1       0.000  13.150   2.630  1.00  0.00          AR  \nATOM     28   Ar MOL     1       5.260  10.520   0.000  1.00  0.00          AR  \nATOM     29   Ar MOL     1       7.890  13.150   0.000  1.00  0.00          AR  \nATOM     30   Ar MOL     1       7.890  10.520   2.630  1.00  0.00          AR  \nATOM     31   Ar MOL     1       5.260  13.150   2.630  1.00  0.00          AR  \nATOM     32   Ar MOL     1      10.520  10.520   0.000  1.00  0.00          AR  \nATOM     33   Ar MOL     1      13.150  13.150   0.000  1.00  0.00          AR  \nATOM     34   Ar MOL     1      13.150  10.520   2.630  1.00  0.00          AR  \nATOM     35   Ar MOL     1      10.520  13.150   2.630  1.00  0.00          AR  \nATOM     36   Ar MOL     1       0.000   0.000   5.260  1.00  0.00          AR  \nATOM     37   Ar MOL     1       2.630   2.630   5.260  1.00  0.00          AR  \nATOM     38   Ar MOL     1       2.630   0.000   7.890  1.00  0.00          AR  \nATOM     39   Ar MOL     1       0.000   2.630   7.890  1.00  0.00          AR  \nATOM     40   Ar MOL     1       5.260   0.000   5.260  1.00  0.00          AR  \nATOM     41   Ar MOL     1       7.890   2.630   5.260  1.00  0.00          AR  \nATOM     42   Ar MOL     1       7.890   0.000   7.890  1.00  0.00          AR  \nATOM     43   Ar MOL     1       5.260   2.630   7.890  1.00  0.00          AR  \nATOM     44   Ar MOL     1      10.520   0.000   5.260  1.00  0.00          AR  \nATOM     45   Ar MOL     1      13.150   2.630   5.260  1.00  0.00          AR  \nATOM     46   Ar MOL     1      13.150   0.000   7.890  1.00  0.00          AR  \nATOM     47   Ar MOL     1      10.520   2.630   7.890  1.00  0.00          AR  \nATOM     48   Ar MOL     1       0.000   5.260   5.260  1.00  0.00          AR  \nATOM     49   Ar MOL     1       2.630   7.890   5.260  1.00  0.00          AR  \nATOM     50   Ar MOL     1       2.630   5.260   7.890  1.00  0.00          AR  \nATOM     51   Ar MOL     1       0.000   7.890   7.890  1.00  0.00          AR  \nATOM     52   Ar MOL     1       5.260   5.260   5.260  1.00  0.00          AR  \nATOM     53   Ar MOL     1       7.890   7.890   5.260  1.00  0.00          AR  \nATOM     54   Ar MOL     1       7.890   5.260   7.890  1.00  0.00          AR  \nATOM     55   Ar MOL     1       5.260   7.890   7.890  1.00  0.00          AR  \nATOM     56   Ar MOL     1      10.520   5.260   5.260  1.00  0.00          AR  \nATOM     57   Ar MOL     1      13.150   7.890   5.260  1.00  0.00          AR  \nATOM     58   Ar MOL     1      13.150   5.260   7.890  1.00  0.00          AR  \nATOM     59   Ar MOL     1      10.520   7.890   7.890  1.00  0.00          AR  \nATOM     60   Ar MOL     1       0.000  10.520   5.260  1.00  0.00          AR  \nATOM     61   Ar MOL     1       2.630  13.150   5.260  1.00  0.00          AR  \nATOM     62   Ar MOL     1       2.630  10.520   7.890  1.00  0.00          AR  \nATOM     63   Ar MOL     1       0.000  13.150   7.890  1.00  0.00          AR  \nATOM     64   Ar MOL     1       5.260  10.520   5.260  1.00  0.00          AR  \nATOM     65   Ar MOL     1       7.890  13.150   5.260  1.00  0.00          AR  \nATOM     66   Ar MOL     1       7.890  10.520   7.890  1.00  0.00          AR  \nATOM     67   Ar MOL     1       5.260  13.150   7.890  1.00  0.00          AR  \nATOM     68   Ar MOL     1      10.520  10.520   5.260  1.00  0.00          AR  \nATOM     69   Ar MOL     1      13.150  13.150   5.260  1.00  0.00          AR  \nATOM     70   Ar MOL     1      13.150  10.520   7.890  1.00  0.00          AR  \nATOM     71   Ar MOL     1      10.520  13.150   7.890  1.00  0.00          AR  \nATOM     72   Ar MOL     1       0.000   0.000  10.520  1.00  0.00          AR  \nATOM     73   Ar MOL     1       2.630   2.630  10.520  1.00  0.00          AR  \nATOM     74   Ar MOL     1       2.630   0.000  13.150  1.00  0.00          AR  \nATOM     75   Ar MOL     1       0.000   2.630  13.150  1.00  0.00          AR  \nATOM     76   Ar MOL     1       5.260   0.000  10.520  1.00  0.00          AR  \nATOM     77   Ar MOL     1       7.890   2.630  10.520  1.00  0.00          AR  \nATOM     78   Ar MOL     1       7.890   0.000  13.150  1.00  0.00          AR  \nATOM     79   Ar MOL     1       5.260   2.630  13.150  1.00  0.00          AR  \nATOM     80   Ar MOL     1      10.520   0.000  10.520  1.00  0.00          AR  \nATOM     81   Ar MOL     1      13.150   2.630  10.520  1.00  0.00          AR  \nATOM     82   Ar MOL     1      13.150   0.000  13.150  1.00  0.00          AR  \nATOM     83   Ar MOL     1      10.520   2.630  13.150  1.00  0.00          AR  \nATOM     84   Ar MOL     1       0.000   5.260  10.520  1.00  0.00          AR  \nATOM     85   Ar MOL     1       2.630   7.890  10.520  1.00  0.00          AR  \nATOM     86   Ar MOL     1       2.630   5.260  13.150  1.00  0.00          AR  \nATOM     87   Ar MOL     1       0.000   7.890  13.150  1.00  0.00          AR  \nATOM     88   Ar MOL     1       5.260   5.260  10.520  1.00  0.00          AR  \nATOM     89   Ar MOL     1       7.890   7.890  10.520  1.00  0.00          AR  \nATOM     90   Ar MOL     1       7.890   5.260  13.150  1.00  0.00          AR  \nATOM     91   Ar MOL     1       5.260   7.890  13.150  1.00  0.00          AR  \nATOM     92   Ar MOL     1      10.520   5.260  10.520  1.00  0.00          AR  \nATOM     93   Ar MOL     1      13.150   7.890  10.520  1.00  0.00          AR  \nATOM     94   Ar MOL     1      13.150   5.260  13.150  1.00  0.00          AR  \nATOM     95   Ar MOL     1      10.520   7.890  13.150  1.00  0.00          AR  \nATOM     96   Ar MOL     1       0.000  10.520  10.520  1.00  0.00          AR  \nATOM     97   Ar MOL     1       2.630  13.150  10.520  1.00  0.00          AR  \nATOM     98   Ar MOL     1       2.630  10.520  13.150  1.00  0.00          AR  \nATOM     99   Ar MOL     1       0.000  13.150  13.150  1.00  0.00          AR  \nATOM    100   Ar MOL     1       5.260  10.520  10.520  1.00  0.00          AR  \nATOM    101   Ar MOL     1       7.890  13.150  10.520  1.00  0.00          AR  \nATOM    102   Ar MOL     1       7.890  10.520  13.150  1.00  0.00          AR  \nATOM    103   Ar MOL     1       5.260  13.150  13.150  1.00  0.00          AR  \nATOM    104   Ar MOL     1      10.520  10.520  10.520  1.00  0.00          AR  \nATOM    105   Ar MOL     1      13.150  13.150  10.520  1.00  0.00          AR  \nATOM    106   Ar MOL     1      13.150  10.520  13.150  1.00  0.00          AR  \nATOM    107   Ar MOL     1      10.520  13.150  13.150  1.00  0.00          AR  \nENDMDL\n",
           "type": "blob"
          }
         ],
         "kwargs": {
          "defaultRepresentation": true,
          "ext": "pdb"
         },
         "methodName": "loadFile",
         "reconstruc_color_scheme": false,
         "target": "Stage",
         "type": "call_method"
        }
       ],
       "_ngl_original_stage_parameters": {
        "ambientColor": 14540253,
        "ambientIntensity": 0.2,
        "backgroundColor": "white",
        "cameraEyeSep": 0.3,
        "cameraFov": 40,
        "cameraType": "perspective",
        "clipDist": 10,
        "clipFar": 100,
        "clipNear": 0,
        "fogFar": 100,
        "fogNear": 50,
        "hoverTimeout": 0,
        "impostor": true,
        "lightColor": 14540253,
        "lightIntensity": 1,
        "mousePreset": "default",
        "panSpeed": 1,
        "quality": "medium",
        "rotateSpeed": 2,
        "sampleLevel": 0,
        "tooltip": true,
        "workerDefault": true,
        "zoomSpeed": 1.2
       },
       "_ngl_repr_dict": {
        "0": {
         "0": {
          "params": {
           "aspectRatio": 1.5,
           "assembly": "default",
           "bondScale": 0.3,
           "bondSpacing": 0.75,
           "clipCenter": {
            "x": 0,
            "y": 0,
            "z": 0
           },
           "clipNear": 0,
           "clipRadius": 0,
           "colorMode": "hcl",
           "colorReverse": false,
           "colorScale": "",
           "colorScheme": "element",
           "colorValue": 9474192,
           "cylinderOnly": false,
           "defaultAssembly": "",
           "depthWrite": true,
           "diffuse": 16777215,
           "diffuseInterior": false,
           "disableImpostor": false,
           "disablePicking": false,
           "flatShaded": false,
           "interiorColor": 2236962,
           "interiorDarkening": 0,
           "lazy": false,
           "lineOnly": false,
           "linewidth": 2,
           "matrix": {
            "elements": [
             1,
             0,
             0,
             0,
             0,
             1,
             0,
             0,
             0,
             0,
             1,
             0,
             0,
             0,
             0,
             1
            ]
           },
           "metalness": 0,
           "multipleBond": "off",
           "opacity": 1,
           "openEnded": true,
           "quality": "high",
           "radialSegments": 20,
           "radiusData": {},
           "radiusScale": 2,
           "radiusSize": 0.15,
           "radiusType": "size",
           "roughness": 0.4,
           "sele": "",
           "side": "double",
           "sphereDetail": 2,
           "useInteriorColor": true,
           "visible": true,
           "wireframe": false
          },
          "type": "ball+stick"
         }
        }
       },
       "_ngl_serialize": false,
       "_ngl_version": "2.0.0-dev.36",
       "_ngl_view_id": [
        "31861893-954D-4B99-82F4-60160F195B25",
        "54AB058C-5542-4932-87C4-E1C6F7E607A2",
        "3CE08953-1FAE-4B59-92C4-73CE2FECF029"
       ],
       "_player_dict": {},
       "_scene_position": {},
       "_scene_rotation": {},
       "_synced_model_ids": [],
       "_synced_repr_model_ids": [],
       "_view_height": "",
       "_view_width": "",
       "background": "white",
       "frame": 0,
       "gui_style": null,
       "layout": "IPY_MODEL_1f6f8f20c4e74f5598016003047d48bd",
       "max_frame": 0,
       "n_components": 1,
       "picked": {}
      }
     },
     "52e7c6c5a57543dd8d0a8fdbbc92c678": {
      "model_module": "@jupyter-widgets/controls",
      "model_module_version": "1.5.0",
      "model_name": "ButtonStyleModel",
      "state": {}
     },
     "5308248f1183400ba410976c96d03f69": {
      "model_module": "@jupyter-widgets/base",
      "model_module_version": "1.2.0",
      "model_name": "LayoutModel",
      "state": {}
     },
     "5347f970330249d58c729c394e20593a": {
      "model_module": "@jupyter-widgets/base",
      "model_module_version": "1.2.0",
      "model_name": "LayoutModel",
      "state": {}
     },
     "53fcd88449be450f83847a48d055e7e8": {
      "model_module": "@jupyter-widgets/controls",
      "model_module_version": "1.5.0",
      "model_name": "PlayModel",
      "state": {
       "layout": "IPY_MODEL_be5a412e6f4a4810bbffaefedf240bbd",
       "max": 0,
       "style": "IPY_MODEL_03848e28fb3b4194b86effe9e6719448"
      }
     },
     "54b7e58589e14e93a45b083884901efd": {
      "model_module": "@jupyter-widgets/base",
      "model_module_version": "1.2.0",
      "model_name": "LayoutModel",
      "state": {}
     },
     "553e987de45246929a61bd7e59c543cc": {
      "model_module": "@jupyter-widgets/controls",
      "model_module_version": "1.5.0",
      "model_name": "PlayModel",
      "state": {
       "layout": "IPY_MODEL_e43283f81bef4779a25d0ba0cc6218cf",
       "max": 4,
       "style": "IPY_MODEL_bd8107008fbb42fdba9dc2d077ff3559",
       "value": 4
      }
     },
     "55f5612fdad2425c9db85d514f2aff9e": {
      "model_module": "@jupyter-widgets/controls",
      "model_module_version": "1.5.0",
      "model_name": "LinkModel",
      "state": {
       "source": [
        "IPY_MODEL_c2f9b1264908438c9897c993a0a43c29",
        "value"
       ],
       "target": [
        "IPY_MODEL_09533ace67b944e0abba177f1af50d24",
        "value"
       ]
      }
     },
     "56516162c62a4e29ad87bf9527bbcbab": {
      "model_module": "@jupyter-widgets/controls",
      "model_module_version": "1.5.0",
      "model_name": "SliderStyleModel",
      "state": {
       "description_width": ""
      }
     },
     "5767e2a4f29e4c5b96908a0b75006bb1": {
      "model_module": "@jupyter-widgets/controls",
      "model_module_version": "1.5.0",
      "model_name": "ImageModel",
      "state": {
       "layout": "IPY_MODEL_b5a6f6f08eec4618bd68892486e01115",
       "width": "900.0"
      }
     },
     "595f4fda9fd64b55a14543c8e9f0407f": {
      "model_module": "@jupyter-widgets/base",
      "model_module_version": "1.2.0",
      "model_name": "LayoutModel",
      "state": {}
     },
     "599501e663ce4365b8928b0296712951": {
      "model_module": "@jupyter-widgets/base",
      "model_module_version": "1.2.0",
      "model_name": "LayoutModel",
      "state": {}
     },
     "5a1cfca4dbff4570bded521e0e8be617": {
      "model_module": "@jupyter-widgets/base",
      "model_module_version": "1.2.0",
      "model_name": "LayoutModel",
      "state": {
       "width": "34px"
      }
     },
     "5afab9aba57f4fc18275512baaf1802f": {
      "model_module": "@jupyter-widgets/controls",
      "model_module_version": "1.5.0",
      "model_name": "ButtonModel",
      "state": {
       "icon": "compress",
       "layout": "IPY_MODEL_71ad576acc474320b879a6dc7fadf800",
       "style": "IPY_MODEL_1f71a376640741eba2690532a312aa4e"
      }
     },
     "5bb9714e0a91431b9e047d9d48984e59": {
      "model_module": "@jupyter-widgets/base",
      "model_module_version": "1.2.0",
      "model_name": "LayoutModel",
      "state": {
       "width": "34px"
      }
     },
     "5c5d260052c5419b8f2eaf6682efe5ba": {
      "model_module": "@jupyter-widgets/controls",
      "model_module_version": "1.5.0",
      "model_name": "LinkModel",
      "state": {
       "source": [
        "IPY_MODEL_f9ab86a4cf8c49f2ab260f0053e076f1",
        "value"
       ],
       "target": [
        "IPY_MODEL_8234052850c0471f88c66da1fa5b04fb",
        "value"
       ]
      }
     },
     "5d11409865444fc59609663f1e6cd90c": {
      "model_module": "@jupyter-widgets/base",
      "model_module_version": "1.2.0",
      "model_name": "LayoutModel",
      "state": {}
     },
     "5e59af434f5c4ca2b011ad57dca474ff": {
      "model_module": "@jupyter-widgets/base",
      "model_module_version": "1.2.0",
      "model_name": "LayoutModel",
      "state": {}
     },
     "5eb1ee22a995493aafb786be131a8ede": {
      "model_module": "@jupyter-widgets/controls",
      "model_module_version": "1.5.0",
      "model_name": "LinkModel",
      "state": {
       "source": [
        "IPY_MODEL_394a5d4ef6ae4365810109d2e469bc51",
        "value"
       ],
       "target": [
        "IPY_MODEL_e997f9b1ba1d4b2280950f1b1eb80339",
        "frame"
       ]
      }
     },
     "5f3359ee9c1c4b71a72fa732b647ce9a": {
      "model_module": "@jupyter-widgets/base",
      "model_module_version": "1.2.0",
      "model_name": "LayoutModel",
      "state": {}
     },
     "5f516e68343f4132a760974e4692f7c8": {
      "model_module": "@jupyter-widgets/controls",
      "model_module_version": "1.5.0",
      "model_name": "ImageModel",
      "state": {
       "layout": "IPY_MODEL_5d11409865444fc59609663f1e6cd90c",
       "width": "900.0"
      }
     },
     "5fcfa0cf40fd4ba88c074fbc04e6a7bc": {
      "model_module": "@jupyter-widgets/controls",
      "model_module_version": "1.5.0",
      "model_name": "PlayModel",
      "state": {
       "layout": "IPY_MODEL_315f61cc01114757a0aa58d675d86b37",
       "max": 0,
       "style": "IPY_MODEL_ed193703ede34a9fb8e5f72778f29209"
      }
     },
     "609f35daacf14941b3699a266ad02df2": {
      "model_module": "@jupyter-widgets/controls",
      "model_module_version": "1.5.0",
      "model_name": "PlayModel",
      "state": {
       "layout": "IPY_MODEL_6bec128afe6c4b64a523d4e830223b6c",
       "max": 9,
       "style": "IPY_MODEL_312076052f7f4b0f847bb23d9ef3d831",
       "value": 9
      }
     },
     "61dac26737bb4bf18ca08a2eeb06e72d": {
      "model_module": "@jupyter-widgets/controls",
      "model_module_version": "1.5.0",
      "model_name": "ButtonStyleModel",
      "state": {}
     },
     "62e6f22b8c004c5da82c8ad119901a32": {
      "model_module": "@jupyter-widgets/base",
      "model_module_version": "1.2.0",
      "model_name": "LayoutModel",
      "state": {}
     },
     "63164c3edf034f27a33f8b635046d87b": {
      "model_module": "@jupyter-widgets/controls",
      "model_module_version": "1.5.0",
      "model_name": "LinkModel",
      "state": {
       "source": [
        "IPY_MODEL_dbfb521742554c439d16bb3c691b4346",
        "value"
       ],
       "target": [
        "IPY_MODEL_fcd99ed5f36947a7a770bdc6143238b8",
        "frame"
       ]
      }
     },
     "6456b59f18904127b50d93196a32eb6c": {
      "model_module": "@jupyter-widgets/controls",
      "model_module_version": "1.5.0",
      "model_name": "LinkModel",
      "state": {
       "source": [
        "IPY_MODEL_3eb379ba5d4b4003b74ef455cd3eb85f",
        "max"
       ],
       "target": [
        "IPY_MODEL_11fcba7ae3b945eeaed42225e12278ad",
        "max_frame"
       ]
      }
     },
     "648c8e29c4894c6cbae3dd72be95011a": {
      "model_module": "@jupyter-widgets/controls",
      "model_module_version": "1.5.0",
      "model_name": "PlayModel",
      "state": {
       "layout": "IPY_MODEL_4c8b07fa330f44baafde9703e59e0728",
       "max": 0,
       "style": "IPY_MODEL_ee24b8388e454d4792f06a85f1eaf621"
      }
     },
     "648d74e751274811aca5232d694d2593": {
      "model_module": "@jupyter-widgets/controls",
      "model_module_version": "1.5.0",
      "model_name": "ButtonModel",
      "state": {
       "icon": "compress",
       "layout": "IPY_MODEL_3b32079225144ac68541d3abd7da53f8",
       "style": "IPY_MODEL_fb0177857d2f4e50bc70e3ee4c77cd8d"
      }
     },
     "6505eb0adf254086b27b9ce7c86f5c45": {
      "model_module": "@jupyter-widgets/controls",
      "model_module_version": "1.5.0",
      "model_name": "LinkModel",
      "state": {
       "source": [
        "IPY_MODEL_fa87e5803879480b852e136cb37b4083",
        "value"
       ],
       "target": [
        "IPY_MODEL_04a95c66e4fd4abf9a743740a829102e",
        "frame"
       ]
      }
     },
     "65b39ad76d7c477f98de9d5626115832": {
      "model_module": "@jupyter-widgets/controls",
      "model_module_version": "1.5.0",
      "model_name": "LinkModel",
      "state": {
       "source": [
        "IPY_MODEL_553e987de45246929a61bd7e59c543cc",
        "max"
       ],
       "target": [
        "IPY_MODEL_4c90e1e15a4d4fabbcda3ebe56acaed3",
        "max_frame"
       ]
      }
     },
     "65f7ed19b8ce4f08870de6358d10fd80": {
      "model_module": "@jupyter-widgets/controls",
      "model_module_version": "1.5.0",
      "model_name": "LinkModel",
      "state": {
       "source": [
        "IPY_MODEL_323133e0a73040bb88adb31a255e502b",
        "max"
       ],
       "target": [
        "IPY_MODEL_0f3fc75ab74d4935ba6d672e90207a52",
        "max_frame"
       ]
      }
     },
     "661b08c8356c4706bc5c6fa34075dd93": {
      "model_module": "@jupyter-widgets/controls",
      "model_module_version": "1.5.0",
      "model_name": "HBoxModel",
      "state": {
       "children": [
        "IPY_MODEL_4c5ade1957aa49a7a0899ab01bdd39ae",
        "IPY_MODEL_347a2324c6564175aebba67a3219db62"
       ],
       "layout": "IPY_MODEL_9229b9bfdf364382a511db6dd8dde3d4"
      }
     },
     "673399a9a1304da39e7aaab9cfb47605": {
      "model_module": "@jupyter-widgets/controls",
      "model_module_version": "1.5.0",
      "model_name": "LinkModel",
      "state": {
       "source": [
        "IPY_MODEL_553e987de45246929a61bd7e59c543cc",
        "value"
       ],
       "target": [
        "IPY_MODEL_4c90e1e15a4d4fabbcda3ebe56acaed3",
        "frame"
       ]
      }
     },
     "696e695636874a08a46cc4ae6edd2bd7": {
      "model_module": "@jupyter-widgets/controls",
      "model_module_version": "1.5.0",
      "model_name": "LinkModel",
      "state": {
       "source": [
        "IPY_MODEL_018e25077ebe4f359ec1eaef6fd1d82f",
        "max"
       ],
       "target": [
        "IPY_MODEL_064ec2c5e692402780720c9da8155788",
        "max_frame"
       ]
      }
     },
     "6a56eedd801846559aa971ec0515b99a": {
      "model_module": "@jupyter-widgets/controls",
      "model_module_version": "1.5.0",
      "model_name": "LinkModel",
      "state": {
       "source": [
        "IPY_MODEL_07306369a76a4b94bb6c0829eb28ec4a",
        "max"
       ],
       "target": [
        "IPY_MODEL_08855dc0711f457c8e1894b33f4fb70b",
        "max_frame"
       ]
      }
     },
     "6a784a632b214ed9a77f7571b3ac46b5": {
      "model_module": "@jupyter-widgets/controls",
      "model_module_version": "1.5.0",
      "model_name": "DescriptionStyleModel",
      "state": {
       "description_width": ""
      }
     },
     "6a9662e79eba46149a4a11000d059dfc": {
      "model_module": "@jupyter-widgets/controls",
      "model_module_version": "1.5.0",
      "model_name": "LinkModel",
      "state": {
       "source": [
        "IPY_MODEL_609f35daacf14941b3699a266ad02df2",
        "value"
       ],
       "target": [
        "IPY_MODEL_ae2734d400504896b968becd5fa76d9a",
        "frame"
       ]
      }
     },
     "6acab471dfd2441d8c079cad26981227": {
      "model_module": "@jupyter-widgets/controls",
      "model_module_version": "1.5.0",
      "model_name": "ImageModel",
      "state": {
       "layout": "IPY_MODEL_80fb833a22e642d29e00b6a143a5f89f",
       "width": "900.0"
      }
     },
     "6af6ced209794a71a85055d4e2bca5b4": {
      "model_module": "@jupyter-widgets/base",
      "model_module_version": "1.2.0",
      "model_name": "LayoutModel",
      "state": {}
     },
     "6b0b292c068947b38342d48d4603e8d3": {
      "model_module": "nglview-js-widgets",
      "model_module_version": "2.7.1",
      "model_name": "NGLModel",
      "state": {
       "_camera_orientation": [
        -2.005361683825029,
        1.9368264002712736,
        -41.645335707465215,
        0,
        1.8810799961482751,
        41.6552274335453,
        1.8467061712345183,
        0,
        41.647890951887945,
        -1.7881524347765356,
        -2.0886474821916625,
        0,
        -6.574999809265137,
        -6.574999809265137,
        -6.574999809265137,
        1
       ],
       "_camera_str": "orthographic",
       "_gui_theme": null,
       "_ibtn_fullscreen": "IPY_MODEL_9dd0cd785b384446ae5eb0b243aff0dc",
       "_igui": null,
       "_iplayer": "IPY_MODEL_97575e3cca494fdea2774f9e234b8ed3",
       "_ngl_color_dict": {},
       "_ngl_coordinate_resource": {},
       "_ngl_full_stage_parameters": {
        "ambientColor": 14540253,
        "ambientIntensity": 0.2,
        "backgroundColor": "white",
        "cameraEyeSep": 0.3,
        "cameraFov": 40,
        "cameraType": "perspective",
        "clipDist": 10,
        "clipFar": 100,
        "clipNear": 0,
        "fogFar": 100,
        "fogNear": 50,
        "hoverTimeout": 0,
        "impostor": true,
        "lightColor": 14540253,
        "lightIntensity": 1,
        "mousePreset": "default",
        "panSpeed": 1,
        "quality": "medium",
        "rotateSpeed": 2,
        "sampleLevel": 0,
        "tooltip": true,
        "workerDefault": true,
        "zoomSpeed": 1.2
       },
       "_ngl_msg_archive": [
        {
         "args": [
          {
           "binary": false,
           "data": "MODEL        0\nATOM      1 Ar   MOL A   1       0.000   0.000   0.000  1.00  0.00          Ar  \nATOM      2 Ar   MOL A   1       2.630   2.630   0.000  1.00  0.00          Ar  \nATOM      3 Ar   MOL A   1       2.630   0.000   2.630  1.00  0.00          Ar  \nATOM      4 Ar   MOL A   1       0.000   2.630   2.630  1.00  0.00          Ar  \nATOM      5 Ar   MOL A   1       5.260   0.000   0.000  1.00  0.00          Ar  \nATOM      6 Ar   MOL A   1       7.890   2.630   0.000  1.00  0.00          Ar  \nATOM      7 Ar   MOL A   1       7.890   0.000   2.630  1.00  0.00          Ar  \nATOM      8 Ar   MOL A   1       5.260   2.630   2.630  1.00  0.00          Ar  \nATOM      9 Ar   MOL A   1      10.520   0.000   0.000  1.00  0.00          Ar  \nATOM     10 Ar   MOL A   1      13.150   2.630   0.000  1.00  0.00          Ar  \nATOM     11 Ar   MOL A   1      13.150   0.000   2.630  1.00  0.00          Ar  \nATOM     12 Ar   MOL A   1      10.520   2.630   2.630  1.00  0.00          Ar  \nATOM     13 Ar   MOL A   1       0.000   5.260   0.000  1.00  0.00          Ar  \nATOM     14 Ar   MOL A   1       2.630   7.890   0.000  1.00  0.00          Ar  \nATOM     15 Ar   MOL A   1       2.630   5.260   2.630  1.00  0.00          Ar  \nATOM     16 Ar   MOL A   1       0.000   7.890   2.630  1.00  0.00          Ar  \nATOM     17 Ar   MOL A   1       5.260   5.260   0.000  1.00  0.00          Ar  \nATOM     18 Ar   MOL A   1       7.890   7.890   0.000  1.00  0.00          Ar  \nATOM     19 Ar   MOL A   1       7.890   5.260   2.630  1.00  0.00          Ar  \nATOM     20 Ar   MOL A   1       5.260   7.890   2.630  1.00  0.00          Ar  \nATOM     21 Ar   MOL A   1      10.520   5.260   0.000  1.00  0.00          Ar  \nATOM     22 Ar   MOL A   1      13.150   7.890   0.000  1.00  0.00          Ar  \nATOM     23 Ar   MOL A   1      13.150   5.260   2.630  1.00  0.00          Ar  \nATOM     24 Ar   MOL A   1      10.520   7.890   2.630  1.00  0.00          Ar  \nATOM     25 Ar   MOL A   1       0.000  10.520   0.000  1.00  0.00          Ar  \nATOM     26 Ar   MOL A   1       2.630  13.150   0.000  1.00  0.00          Ar  \nATOM     27 Ar   MOL A   1       2.630  10.520   2.630  1.00  0.00          Ar  \nATOM     28 Ar   MOL A   1       0.000  13.150   2.630  1.00  0.00          Ar  \nATOM     29 Ar   MOL A   1       5.260  10.520   0.000  1.00  0.00          Ar  \nATOM     30 Ar   MOL A   1       7.890  13.150   0.000  1.00  0.00          Ar  \nATOM     31 Ar   MOL A   1       7.890  10.520   2.630  1.00  0.00          Ar  \nATOM     32 Ar   MOL A   1       5.260  13.150   2.630  1.00  0.00          Ar  \nATOM     33 Ar   MOL A   1      10.520  10.520   0.000  1.00  0.00          Ar  \nATOM     34 Ar   MOL A   1      13.150  13.150   0.000  1.00  0.00          Ar  \nATOM     35 Ar   MOL A   1      13.150  10.520   2.630  1.00  0.00          Ar  \nATOM     36 Ar   MOL A   1      10.520  13.150   2.630  1.00  0.00          Ar  \nATOM     37 Ar   MOL A   1       0.000   0.000   5.260  1.00  0.00          Ar  \nATOM     38 Ar   MOL A   1       2.630   2.630   5.260  1.00  0.00          Ar  \nATOM     39 Ar   MOL A   1       2.630   0.000   7.890  1.00  0.00          Ar  \nATOM     40 Ar   MOL A   1       0.000   2.630   7.890  1.00  0.00          Ar  \nATOM     41 Ar   MOL A   1       5.260   0.000   5.260  1.00  0.00          Ar  \nATOM     42 Ar   MOL A   1       7.890   2.630   5.260  1.00  0.00          Ar  \nATOM     43 Ar   MOL A   1       7.890   0.000   7.890  1.00  0.00          Ar  \nATOM     44 Ar   MOL A   1       5.260   2.630   7.890  1.00  0.00          Ar  \nATOM     45 Ar   MOL A   1      10.520   0.000   5.260  1.00  0.00          Ar  \nATOM     46 Ar   MOL A   1      13.150   2.630   5.260  1.00  0.00          Ar  \nATOM     47 Ar   MOL A   1      13.150   0.000   7.890  1.00  0.00          Ar  \nATOM     48 Ar   MOL A   1      10.520   2.630   7.890  1.00  0.00          Ar  \nATOM     49 Ar   MOL A   1       0.000   5.260   5.260  1.00  0.00          Ar  \nATOM     50 Ar   MOL A   1       2.630   7.890   5.260  1.00  0.00          Ar  \nATOM     51 Ar   MOL A   1       2.630   5.260   7.890  1.00  0.00          Ar  \nATOM     52 Ar   MOL A   1       0.000   7.890   7.890  1.00  0.00          Ar  \nATOM     53 Ar   MOL A   1       5.260   5.260   5.260  1.00  0.00          Ar  \nATOM     54 Ar   MOL A   1       7.890   7.890   5.260  1.00  0.00          Ar  \nATOM     55 Ar   MOL A   1       7.890   5.260   7.890  1.00  0.00          Ar  \nATOM     56 Ar   MOL A   1       5.260   7.890   7.890  1.00  0.00          Ar  \nATOM     57 Ar   MOL A   1      10.520   5.260   5.260  1.00  0.00          Ar  \nATOM     58 Ar   MOL A   1      13.150   7.890   5.260  1.00  0.00          Ar  \nATOM     59 Ar   MOL A   1      13.150   5.260   7.890  1.00  0.00          Ar  \nATOM     60 Ar   MOL A   1      10.520   7.890   7.890  1.00  0.00          Ar  \nATOM     61 Ar   MOL A   1       0.000  10.520   5.260  1.00  0.00          Ar  \nATOM     62 Ar   MOL A   1       2.630  13.150   5.260  1.00  0.00          Ar  \nATOM     63 Ar   MOL A   1       2.630  10.520   7.890  1.00  0.00          Ar  \nATOM     64 Ar   MOL A   1       0.000  13.150   7.890  1.00  0.00          Ar  \nATOM     65 Ar   MOL A   1       5.260  10.520   5.260  1.00  0.00          Ar  \nATOM     66 Ar   MOL A   1       7.890  13.150   5.260  1.00  0.00          Ar  \nATOM     67 Ar   MOL A   1       7.890  10.520   7.890  1.00  0.00          Ar  \nATOM     68 Ar   MOL A   1       5.260  13.150   7.890  1.00  0.00          Ar  \nATOM     69 Ar   MOL A   1      10.520  10.520   5.260  1.00  0.00          Ar  \nATOM     70 Ar   MOL A   1      13.150  13.150   5.260  1.00  0.00          Ar  \nATOM     71 Ar   MOL A   1      13.150  10.520   7.890  1.00  0.00          Ar  \nATOM     72 Ar   MOL A   1      10.520  13.150   7.890  1.00  0.00          Ar  \nATOM     73 Ar   MOL A   1       0.000   0.000  10.520  1.00  0.00          Ar  \nATOM     74 Ar   MOL A   1       2.630   2.630  10.520  1.00  0.00          Ar  \nATOM     75 Ar   MOL A   1       2.630   0.000  13.150  1.00  0.00          Ar  \nATOM     76 Ar   MOL A   1       0.000   2.630  13.150  1.00  0.00          Ar  \nATOM     77 Ar   MOL A   1       5.260   0.000  10.520  1.00  0.00          Ar  \nATOM     78 Ar   MOL A   1       7.890   2.630  10.520  1.00  0.00          Ar  \nATOM     79 Ar   MOL A   1       7.890   0.000  13.150  1.00  0.00          Ar  \nATOM     80 Ar   MOL A   1       5.260   2.630  13.150  1.00  0.00          Ar  \nATOM     81 Ar   MOL A   1      10.520   0.000  10.520  1.00  0.00          Ar  \nATOM     82 Ar   MOL A   1      13.150   2.630  10.520  1.00  0.00          Ar  \nATOM     83 Ar   MOL A   1      13.150   0.000  13.150  1.00  0.00          Ar  \nATOM     84 Ar   MOL A   1      10.520   2.630  13.150  1.00  0.00          Ar  \nATOM     85 Ar   MOL A   1       0.000   5.260  10.520  1.00  0.00          Ar  \nATOM     86 Ar   MOL A   1       2.630   7.890  10.520  1.00  0.00          Ar  \nATOM     87 Ar   MOL A   1       2.630   5.260  13.150  1.00  0.00          Ar  \nATOM     88 Ar   MOL A   1       0.000   7.890  13.150  1.00  0.00          Ar  \nATOM     89 Ar   MOL A   1       5.260   5.260  10.520  1.00  0.00          Ar  \nATOM     90 Ar   MOL A   1       7.890   7.890  10.520  1.00  0.00          Ar  \nATOM     91 Ar   MOL A   1       7.890   5.260  13.150  1.00  0.00          Ar  \nATOM     92 Ar   MOL A   1       5.260   7.890  13.150  1.00  0.00          Ar  \nATOM     93 Ar   MOL A   1      10.520   5.260  10.520  1.00  0.00          Ar  \nATOM     94 Ar   MOL A   1      13.150   7.890  10.520  1.00  0.00          Ar  \nATOM     95 Ar   MOL A   1      13.150   5.260  13.150  1.00  0.00          Ar  \nATOM     96 Ar   MOL A   1      10.520   7.890  13.150  1.00  0.00          Ar  \nATOM     97 Ar   MOL A   1       0.000  10.520  10.520  1.00  0.00          Ar  \nATOM     98 Ar   MOL A   1       2.630  13.150  10.520  1.00  0.00          Ar  \nATOM     99 Ar   MOL A   1       2.630  10.520  13.150  1.00  0.00          Ar  \nATOM    100 Ar   MOL A   1       0.000  13.150  13.150  1.00  0.00          Ar  \nATOM    101 Ar   MOL A   1       5.260  10.520  10.520  1.00  0.00          Ar  \nATOM    102 Ar   MOL A   1       7.890  13.150  10.520  1.00  0.00          Ar  \nATOM    103 Ar   MOL A   1       7.890  10.520  13.150  1.00  0.00          Ar  \nATOM    104 Ar   MOL A   1       5.260  13.150  13.150  1.00  0.00          Ar  \nATOM    105 Ar   MOL A   1      10.520  10.520  10.520  1.00  0.00          Ar  \nATOM    106 Ar   MOL A   1      13.150  13.150  10.520  1.00  0.00          Ar  \nATOM    107 Ar   MOL A   1      13.150  10.520  13.150  1.00  0.00          Ar  \nATOM    108 Ar   MOL A   1      10.520  13.150  13.150  1.00  0.00          Ar  \nTER     109      MOL A   1\nENDMDL\nEND\n",
           "type": "blob"
          }
         ],
         "kwargs": {
          "defaultRepresentation": true,
          "ext": "pdb"
         },
         "methodName": "loadFile",
         "reconstruc_color_scheme": false,
         "target": "Stage",
         "type": "call_method"
        }
       ],
       "_ngl_original_stage_parameters": {
        "ambientColor": 14540253,
        "ambientIntensity": 0.2,
        "backgroundColor": "white",
        "cameraEyeSep": 0.3,
        "cameraFov": 40,
        "cameraType": "perspective",
        "clipDist": 10,
        "clipFar": 100,
        "clipNear": 0,
        "fogFar": 100,
        "fogNear": 50,
        "hoverTimeout": 0,
        "impostor": true,
        "lightColor": 14540253,
        "lightIntensity": 1,
        "mousePreset": "default",
        "panSpeed": 1,
        "quality": "medium",
        "rotateSpeed": 2,
        "sampleLevel": 0,
        "tooltip": true,
        "workerDefault": true,
        "zoomSpeed": 1.2
       },
       "_ngl_repr_dict": {
        "0": {
         "0": {
          "params": {
           "aspectRatio": 1.5,
           "assembly": "default",
           "bondScale": 0.3,
           "bondSpacing": 0.75,
           "clipCenter": {
            "x": 0,
            "y": 0,
            "z": 0
           },
           "clipNear": 0,
           "clipRadius": 0,
           "colorMode": "hcl",
           "colorReverse": false,
           "colorScale": "",
           "colorScheme": "element",
           "colorValue": 9474192,
           "cylinderOnly": false,
           "defaultAssembly": "",
           "depthWrite": true,
           "diffuse": 16777215,
           "diffuseInterior": false,
           "disableImpostor": false,
           "disablePicking": false,
           "flatShaded": false,
           "interiorColor": 2236962,
           "interiorDarkening": 0,
           "lazy": false,
           "lineOnly": false,
           "linewidth": 2,
           "matrix": {
            "elements": [
             1,
             0,
             0,
             0,
             0,
             1,
             0,
             0,
             0,
             0,
             1,
             0,
             0,
             0,
             0,
             1
            ]
           },
           "metalness": 0,
           "multipleBond": "off",
           "opacity": 1,
           "openEnded": true,
           "quality": "high",
           "radialSegments": 20,
           "radiusData": {},
           "radiusScale": 2,
           "radiusSize": 0.15,
           "radiusType": "size",
           "roughness": 0.4,
           "sele": "",
           "side": "double",
           "sphereDetail": 2,
           "useInteriorColor": true,
           "visible": true,
           "wireframe": false
          },
          "type": "ball+stick"
         }
        }
       },
       "_ngl_serialize": false,
       "_ngl_version": "2.0.0-dev.36",
       "_ngl_view_id": [
        "18FBBB44-FF94-41CD-9545-A7F5C5E05504"
       ],
       "_player_dict": {},
       "_scene_position": {},
       "_scene_rotation": {},
       "_synced_model_ids": [],
       "_synced_repr_model_ids": [],
       "_view_height": "",
       "_view_width": "",
       "background": "white",
       "frame": 9,
       "gui_style": null,
       "layout": "IPY_MODEL_32af7baef409482682a4c1c9bc4951f0",
       "max_frame": 9,
       "n_components": 1,
       "picked": {}
      }
     },
     "6bec128afe6c4b64a523d4e830223b6c": {
      "model_module": "@jupyter-widgets/base",
      "model_module_version": "1.2.0",
      "model_name": "LayoutModel",
      "state": {}
     },
     "6bef035269b74b8986f1a0edb09caf55": {
      "model_module": "@jupyter-widgets/controls",
      "model_module_version": "1.5.0",
      "model_name": "SliderStyleModel",
      "state": {
       "description_width": ""
      }
     },
     "6d911cd32fba4006affb79dd2e43974d": {
      "model_module": "@jupyter-widgets/controls",
      "model_module_version": "1.5.0",
      "model_name": "LinkModel",
      "state": {
       "source": [
        "IPY_MODEL_36ca4252a7c04bda929983d323768068",
        "value"
       ],
       "target": [
        "IPY_MODEL_dab0742bd71e4c4cabfa4baa93bd2cdf",
        "frame"
       ]
      }
     },
     "6e8d2f82ba0b40daafcc1ed7137bb374": {
      "model_module": "@jupyter-widgets/controls",
      "model_module_version": "1.5.0",
      "model_name": "PlayModel",
      "state": {
       "layout": "IPY_MODEL_3cb658ec3712482c8bed204ce0a97e07",
       "max": 0,
       "style": "IPY_MODEL_0d87fced7a4b434db6062a87fecbad3a"
      }
     },
     "6f35efd6c4554eb79ec087a61c465f17": {
      "model_module": "@jupyter-widgets/base",
      "model_module_version": "1.2.0",
      "model_name": "LayoutModel",
      "state": {}
     },
     "712cc5e6be2e485a90cb626c37a4a7bf": {
      "model_module": "@jupyter-widgets/controls",
      "model_module_version": "1.5.0",
      "model_name": "ButtonStyleModel",
      "state": {}
     },
     "7149c80f3cc1415ea782d4fe4e747d01": {
      "model_module": "@jupyter-widgets/base",
      "model_module_version": "1.2.0",
      "model_name": "LayoutModel",
      "state": {}
     },
     "71ad576acc474320b879a6dc7fadf800": {
      "model_module": "@jupyter-widgets/base",
      "model_module_version": "1.2.0",
      "model_name": "LayoutModel",
      "state": {
       "width": "34px"
      }
     },
     "72fafe3a927b4a6a9e64580e203f09b2": {
      "model_module": "@jupyter-widgets/controls",
      "model_module_version": "1.5.0",
      "model_name": "LinkModel",
      "state": {
       "source": [
        "IPY_MODEL_7ddb8764deb24be5ae66d74121aa2aff",
        "max"
       ],
       "target": [
        "IPY_MODEL_08855dc0711f457c8e1894b33f4fb70b",
        "max_frame"
       ]
      }
     },
     "733b384e668d44749afbf9cf7615e595": {
      "model_module": "@jupyter-widgets/base",
      "model_module_version": "1.2.0",
      "model_name": "LayoutModel",
      "state": {}
     },
     "7486a3ec89cc4e2b8d146b8b352375bb": {
      "model_module": "@jupyter-widgets/controls",
      "model_module_version": "1.5.0",
      "model_name": "ImageModel",
      "state": {
       "layout": "IPY_MODEL_feceaf8cc7fc4c97b72143b587d00d90",
       "width": "900.0"
      }
     },
     "751112a2a255448b97af6db087fcd76f": {
      "model_module": "nglview-js-widgets",
      "model_module_version": "2.7.1",
      "model_name": "NGLModel",
      "state": {
       "_camera_orientation": [
        17.55025290148864,
        0,
        0,
        0,
        0,
        17.55025290148864,
        0,
        0,
        0,
        0,
        17.55025290148864,
        0,
        -1.0709999799728394,
        -1.0709999799728394,
        -1.0709999799728394,
        1
       ],
       "_camera_str": "orthographic",
       "_gui_theme": null,
       "_ibtn_fullscreen": "IPY_MODEL_be73302aabd64cb784f05c9530134db5",
       "_igui": null,
       "_iplayer": "IPY_MODEL_7adf7e537f7a4df4b9c7ce4e8fa8f55a",
       "_ngl_color_dict": {},
       "_ngl_coordinate_resource": {},
       "_ngl_full_stage_parameters": {
        "ambientColor": 14540253,
        "ambientIntensity": 0.2,
        "backgroundColor": "white",
        "cameraEyeSep": 0.3,
        "cameraFov": 40,
        "cameraType": "perspective",
        "clipDist": 10,
        "clipFar": 100,
        "clipNear": 0,
        "fogFar": 100,
        "fogNear": 50,
        "hoverTimeout": 0,
        "impostor": true,
        "lightColor": 14540253,
        "lightIntensity": 1,
        "mousePreset": "default",
        "panSpeed": 1,
        "quality": "medium",
        "rotateSpeed": 2,
        "sampleLevel": 0,
        "tooltip": true,
        "workerDefault": true,
        "zoomSpeed": 1.2
       },
       "_ngl_msg_archive": [
        {
         "args": [
          {
           "binary": false,
           "data": "MODEL        0\nATOM      1  H   MOL A   1       0.000   0.000   0.000  1.00  0.00          H   \nATOM      2  H   MOL A   1       0.714   0.714   0.000  1.00  0.00          H   \nATOM      3  H   MOL A   1       0.714   0.000   0.714  1.00  0.00          H   \nATOM      4  H   MOL A   1       0.000   0.714   0.714  1.00  0.00          H   \nATOM      5  H   MOL A   1       1.428   0.000   0.000  1.00  0.00          H   \nATOM      6  H   MOL A   1       2.142   0.714   0.000  1.00  0.00          H   \nATOM      7  H   MOL A   1       2.142   0.000   0.714  1.00  0.00          H   \nATOM      8  H   MOL A   1       1.428   0.714   0.714  1.00  0.00          H   \nATOM      9  H   MOL A   1       0.000   1.428   0.000  1.00  0.00          H   \nATOM     10  H   MOL A   1       0.714   2.142   0.000  1.00  0.00          H   \nATOM     11  H   MOL A   1       0.714   1.428   0.714  1.00  0.00          H   \nATOM     12  H   MOL A   1       0.000   2.142   0.714  1.00  0.00          H   \nATOM     13  H   MOL A   1       1.428   1.428   0.000  1.00  0.00          H   \nATOM     14  H   MOL A   1       2.142   2.142   0.000  1.00  0.00          H   \nATOM     15  H   MOL A   1       2.142   1.428   0.714  1.00  0.00          H   \nATOM     16  H   MOL A   1       1.428   2.142   0.714  1.00  0.00          H   \nATOM     17  H   MOL A   1       0.000   0.000   1.428  1.00  0.00          H   \nATOM     18  H   MOL A   1       0.714   0.714   1.428  1.00  0.00          H   \nATOM     19  H   MOL A   1       0.714   0.000   2.142  1.00  0.00          H   \nATOM     20  H   MOL A   1       0.000   0.714   2.142  1.00  0.00          H   \nATOM     21  H   MOL A   1       1.428   0.000   1.428  1.00  0.00          H   \nATOM     22  H   MOL A   1       2.142   0.714   1.428  1.00  0.00          H   \nATOM     23  H   MOL A   1       2.142   0.000   2.142  1.00  0.00          H   \nATOM     24  H   MOL A   1       1.428   0.714   2.142  1.00  0.00          H   \nATOM     25  H   MOL A   1       0.000   1.428   1.428  1.00  0.00          H   \nATOM     26  H   MOL A   1       0.714   2.142   1.428  1.00  0.00          H   \nATOM     27  H   MOL A   1       0.714   1.428   2.142  1.00  0.00          H   \nATOM     28  H   MOL A   1       0.000   2.142   2.142  1.00  0.00          H   \nATOM     29  H   MOL A   1       1.428   1.428   1.428  1.00  0.00          H   \nATOM     30  H   MOL A   1       2.142   2.142   1.428  1.00  0.00          H   \nATOM     31  H   MOL A   1       2.142   1.428   2.142  1.00  0.00          H   \nATOM     32  H   MOL A   1       1.428   2.142   2.142  1.00  0.00          H   \nTER      33      MOL A   1\nENDMDL\nEND\n",
           "type": "blob"
          }
         ],
         "kwargs": {
          "defaultRepresentation": true,
          "ext": "pdb"
         },
         "methodName": "loadFile",
         "reconstruc_color_scheme": false,
         "target": "Stage",
         "type": "call_method"
        }
       ],
       "_ngl_original_stage_parameters": {
        "ambientColor": 14540253,
        "ambientIntensity": 0.2,
        "backgroundColor": "white",
        "cameraEyeSep": 0.3,
        "cameraFov": 40,
        "cameraType": "perspective",
        "clipDist": 10,
        "clipFar": 100,
        "clipNear": 0,
        "fogFar": 100,
        "fogNear": 50,
        "hoverTimeout": 0,
        "impostor": true,
        "lightColor": 14540253,
        "lightIntensity": 1,
        "mousePreset": "default",
        "panSpeed": 1,
        "quality": "medium",
        "rotateSpeed": 2,
        "sampleLevel": 0,
        "tooltip": true,
        "workerDefault": true,
        "zoomSpeed": 1.2
       },
       "_ngl_repr_dict": {
        "0": {
         "0": {
          "params": {
           "aspectRatio": 1.5,
           "assembly": "default",
           "bondScale": 0.3,
           "bondSpacing": 0.75,
           "clipCenter": {
            "x": 0,
            "y": 0,
            "z": 0
           },
           "clipNear": 0,
           "clipRadius": 0,
           "colorMode": "hcl",
           "colorReverse": false,
           "colorScale": "",
           "colorScheme": "element",
           "colorValue": 9474192,
           "cylinderOnly": false,
           "defaultAssembly": "",
           "depthWrite": true,
           "diffuse": 16777215,
           "diffuseInterior": false,
           "disableImpostor": false,
           "disablePicking": false,
           "flatShaded": false,
           "interiorColor": 2236962,
           "interiorDarkening": 0,
           "lazy": false,
           "lineOnly": false,
           "linewidth": 2,
           "matrix": {
            "elements": [
             1,
             0,
             0,
             0,
             0,
             1,
             0,
             0,
             0,
             0,
             1,
             0,
             0,
             0,
             0,
             1
            ]
           },
           "metalness": 0,
           "multipleBond": "off",
           "opacity": 1,
           "openEnded": true,
           "quality": "high",
           "radialSegments": 20,
           "radiusData": {},
           "radiusScale": 2,
           "radiusSize": 0.15,
           "radiusType": "size",
           "roughness": 0.4,
           "sele": "",
           "side": "double",
           "sphereDetail": 2,
           "useInteriorColor": true,
           "visible": true,
           "wireframe": false
          },
          "type": "ball+stick"
         }
        }
       },
       "_ngl_serialize": false,
       "_ngl_version": "2.0.0-dev.36",
       "_ngl_view_id": [
        "E296272F-5F2A-4817-85DD-FC3742CE7FC5"
       ],
       "_player_dict": {},
       "_scene_position": {},
       "_scene_rotation": {},
       "_synced_model_ids": [],
       "_synced_repr_model_ids": [],
       "_view_height": "",
       "_view_width": "",
       "background": "white",
       "frame": 0,
       "gui_style": null,
       "layout": "IPY_MODEL_7a92eb87d92c486e8af9862aea984c23",
       "max_frame": 9,
       "n_components": 1,
       "picked": {}
      }
     },
     "752615963de7410e838e7ec56a771366": {
      "model_module": "@jupyter-widgets/controls",
      "model_module_version": "1.5.0",
      "model_name": "SliderStyleModel",
      "state": {
       "description_width": ""
      }
     },
     "771973c323774aa7ad07e8679ac28455": {
      "model_module": "@jupyter-widgets/controls",
      "model_module_version": "1.5.0",
      "model_name": "ButtonModel",
      "state": {
       "icon": "compress",
       "layout": "IPY_MODEL_d0349a46c734426b9de5bb3a52e28cc8",
       "style": "IPY_MODEL_85a63cc195ce4441b4bb7ef785f73d27"
      }
     },
     "7861a1014b8847068a0c75bc732f33d4": {
      "model_module": "@jupyter-widgets/controls",
      "model_module_version": "1.5.0",
      "model_name": "DescriptionStyleModel",
      "state": {
       "description_width": ""
      }
     },
     "791265dd6eef4fea87c6ccba8428c23b": {
      "model_module": "@jupyter-widgets/controls",
      "model_module_version": "1.5.0",
      "model_name": "LinkModel",
      "state": {
       "source": [
        "IPY_MODEL_f9ab86a4cf8c49f2ab260f0053e076f1",
        "value"
       ],
       "target": [
        "IPY_MODEL_4061cd674c5544d99f13d751b7b38aea",
        "frame"
       ]
      }
     },
     "7a92eb87d92c486e8af9862aea984c23": {
      "model_module": "@jupyter-widgets/base",
      "model_module_version": "1.2.0",
      "model_name": "LayoutModel",
      "state": {}
     },
     "7adf7e537f7a4df4b9c7ce4e8fa8f55a": {
      "model_module": "@jupyter-widgets/controls",
      "model_module_version": "1.5.0",
      "model_name": "HBoxModel",
      "state": {
       "children": [
        "IPY_MODEL_a7f1fac863d847729efa3036f7cbf979",
        "IPY_MODEL_e6a28fe3f5d54f338bd9d4a44d032f42"
       ],
       "layout": "IPY_MODEL_d5727585504c4b9a8809f7d4f31c41d9"
      }
     },
     "7d76bd00a3c54748b92cf22aa5d858f6": {
      "model_module": "nglview-js-widgets",
      "model_module_version": "2.7.1",
      "model_name": "NGLModel",
      "state": {
       "_camera_orientation": [
        3.4639637579201974,
        -1.020564232919747,
        -14.267793509378565,
        0,
        13.667368804427955,
        4.56779158115598,
        2.9914608355841588,
        0,
        4.220724220264695,
        -13.953646713801099,
        2.0228095162090325,
        0,
        -0.6884999871253967,
        -0.6884999871253967,
        -0.6884999871253967,
        1
       ],
       "_camera_str": "orthographic",
       "_gui_theme": null,
       "_ibtn_fullscreen": "IPY_MODEL_f4ca441a23a94b61ac20e5622e1e571c",
       "_igui": null,
       "_iplayer": "IPY_MODEL_25c01dae5a3c4c1db72ab19a1f1f4c6f",
       "_ngl_color_dict": {},
       "_ngl_coordinate_resource": {},
       "_ngl_full_stage_parameters": {
        "ambientColor": 14540253,
        "ambientIntensity": 0.2,
        "backgroundColor": "white",
        "cameraEyeSep": 0.3,
        "cameraFov": 40,
        "cameraType": "perspective",
        "clipDist": 10,
        "clipFar": 100,
        "clipNear": 0,
        "fogFar": 100,
        "fogNear": 50,
        "hoverTimeout": 0,
        "impostor": true,
        "lightColor": 14540253,
        "lightIntensity": 1,
        "mousePreset": "default",
        "panSpeed": 1,
        "quality": "medium",
        "rotateSpeed": 2,
        "sampleLevel": 0,
        "tooltip": true,
        "workerDefault": true,
        "zoomSpeed": 1.2
       },
       "_ngl_msg_archive": [
        {
         "args": [
          {
           "binary": false,
           "data": "MODEL        0\nATOM      1  H   MOL A   1       0.000   0.000   0.000  1.00  0.00          H   \nATOM      2  H   MOL A   1       0.459   0.459   0.000  1.00  0.00          H   \nATOM      3  H   MOL A   1       0.459   0.000   0.459  1.00  0.00          H   \nATOM      4  H   MOL A   1       0.000   0.459   0.459  1.00  0.00          H   \nATOM      5  H   MOL A   1       0.918   0.000   0.000  1.00  0.00          H   \nATOM      6  H   MOL A   1       1.377   0.459   0.000  1.00  0.00          H   \nATOM      7  H   MOL A   1       1.377   0.000   0.459  1.00  0.00          H   \nATOM      8  H   MOL A   1       0.918   0.459   0.459  1.00  0.00          H   \nATOM      9  H   MOL A   1       0.000   0.918   0.000  1.00  0.00          H   \nATOM     10  H   MOL A   1       0.459   1.377   0.000  1.00  0.00          H   \nATOM     11  H   MOL A   1       0.459   0.918   0.459  1.00  0.00          H   \nATOM     12  H   MOL A   1       0.000   1.377   0.459  1.00  0.00          H   \nATOM     13  H   MOL A   1       0.918   0.918   0.000  1.00  0.00          H   \nATOM     14  H   MOL A   1       1.377   1.377   0.000  1.00  0.00          H   \nATOM     15  H   MOL A   1       1.377   0.918   0.459  1.00  0.00          H   \nATOM     16  H   MOL A   1       0.918   1.377   0.459  1.00  0.00          H   \nATOM     17  H   MOL A   1       0.000   0.000   0.918  1.00  0.00          H   \nATOM     18  H   MOL A   1       0.459   0.459   0.918  1.00  0.00          H   \nATOM     19  H   MOL A   1       0.459   0.000   1.377  1.00  0.00          H   \nATOM     20  H   MOL A   1       0.000   0.459   1.377  1.00  0.00          H   \nATOM     21  H   MOL A   1       0.918   0.000   0.918  1.00  0.00          H   \nATOM     22  H   MOL A   1       1.377   0.459   0.918  1.00  0.00          H   \nATOM     23  H   MOL A   1       1.377   0.000   1.377  1.00  0.00          H   \nATOM     24  H   MOL A   1       0.918   0.459   1.377  1.00  0.00          H   \nATOM     25  H   MOL A   1       0.000   0.918   0.918  1.00  0.00          H   \nATOM     26  H   MOL A   1       0.459   1.377   0.918  1.00  0.00          H   \nATOM     27  H   MOL A   1       0.459   0.918   1.377  1.00  0.00          H   \nATOM     28  H   MOL A   1       0.000   1.377   1.377  1.00  0.00          H   \nATOM     29  H   MOL A   1       0.918   0.918   0.918  1.00  0.00          H   \nATOM     30  H   MOL A   1       1.377   1.377   0.918  1.00  0.00          H   \nATOM     31  H   MOL A   1       1.377   0.918   1.377  1.00  0.00          H   \nATOM     32  H   MOL A   1       0.918   1.377   1.377  1.00  0.00          H   \nTER      33      MOL A   1\nENDMDL\nEND\n",
           "type": "blob"
          }
         ],
         "kwargs": {
          "defaultRepresentation": true,
          "ext": "pdb"
         },
         "methodName": "loadFile",
         "reconstruc_color_scheme": false,
         "target": "Stage",
         "type": "call_method"
        }
       ],
       "_ngl_original_stage_parameters": {
        "ambientColor": 14540253,
        "ambientIntensity": 0.2,
        "backgroundColor": "white",
        "cameraEyeSep": 0.3,
        "cameraFov": 40,
        "cameraType": "perspective",
        "clipDist": 10,
        "clipFar": 100,
        "clipNear": 0,
        "fogFar": 100,
        "fogNear": 50,
        "hoverTimeout": 0,
        "impostor": true,
        "lightColor": 14540253,
        "lightIntensity": 1,
        "mousePreset": "default",
        "panSpeed": 1,
        "quality": "medium",
        "rotateSpeed": 2,
        "sampleLevel": 0,
        "tooltip": true,
        "workerDefault": true,
        "zoomSpeed": 1.2
       },
       "_ngl_repr_dict": {
        "0": {
         "0": {
          "params": {
           "aspectRatio": 1.5,
           "assembly": "default",
           "bondScale": 0.3,
           "bondSpacing": 0.75,
           "clipCenter": {
            "x": 0,
            "y": 0,
            "z": 0
           },
           "clipNear": 0,
           "clipRadius": 0,
           "colorMode": "hcl",
           "colorReverse": false,
           "colorScale": "",
           "colorScheme": "element",
           "colorValue": 9474192,
           "cylinderOnly": false,
           "defaultAssembly": "",
           "depthWrite": true,
           "diffuse": 16777215,
           "diffuseInterior": false,
           "disableImpostor": false,
           "disablePicking": false,
           "flatShaded": false,
           "interiorColor": 2236962,
           "interiorDarkening": 0,
           "lazy": false,
           "lineOnly": false,
           "linewidth": 2,
           "matrix": {
            "elements": [
             1,
             0,
             0,
             0,
             0,
             1,
             0,
             0,
             0,
             0,
             1,
             0,
             0,
             0,
             0,
             1
            ]
           },
           "metalness": 0,
           "multipleBond": "off",
           "opacity": 1,
           "openEnded": true,
           "quality": "high",
           "radialSegments": 20,
           "radiusData": {},
           "radiusScale": 2,
           "radiusSize": 0.15,
           "radiusType": "size",
           "roughness": 0.4,
           "sele": "",
           "side": "double",
           "sphereDetail": 2,
           "useInteriorColor": true,
           "visible": true,
           "wireframe": false
          },
          "type": "ball+stick"
         }
        }
       },
       "_ngl_serialize": false,
       "_ngl_version": "2.0.0-dev.36",
       "_ngl_view_id": [
        "BB0A7AF6-9481-425F-99B3-70623B0CCA7F"
       ],
       "_player_dict": {},
       "_scene_position": {},
       "_scene_rotation": {},
       "_synced_model_ids": [],
       "_synced_repr_model_ids": [],
       "_view_height": "",
       "_view_width": "",
       "background": "white",
       "frame": 1,
       "gui_style": null,
       "layout": "IPY_MODEL_4962f206a7de456da2eed7d7860c65e6",
       "max_frame": 1,
       "n_components": 1,
       "picked": {}
      }
     },
     "7ddb8764deb24be5ae66d74121aa2aff": {
      "model_module": "@jupyter-widgets/controls",
      "model_module_version": "1.5.0",
      "model_name": "IntSliderModel",
      "state": {
       "layout": "IPY_MODEL_11a38008a402422983bfcbf22e4b5b2e",
       "max": 4,
       "style": "IPY_MODEL_bd92cb4efaab49ca801b2c807b289c20",
       "value": 4
      }
     },
     "7df25367919b4a8a9d96641a7380c7c7": {
      "model_module": "@jupyter-widgets/controls",
      "model_module_version": "1.5.0",
      "model_name": "ButtonStyleModel",
      "state": {}
     },
     "7e2696d74b40450ca3f5438a07e8f45c": {
      "model_module": "nglview-js-widgets",
      "model_module_version": "2.7.1",
      "model_name": "NGLModel",
      "state": {
       "_camera_orientation": [
        -1.8779227392549958,
        -13.412099914345184,
        4.176650381793355,
        0,
        8.966015657908141,
        -4.388257433233271,
        -10.060277643313038,
        0,
        10.813852030902734,
        1.3092741981795244,
        9.066522578499743,
        0,
        -1.0709999799728394,
        -1.0709999799728394,
        -1.0709999799728394,
        1
       ],
       "_camera_str": "orthographic",
       "_gui_theme": null,
       "_ibtn_fullscreen": "IPY_MODEL_5afab9aba57f4fc18275512baaf1802f",
       "_igui": null,
       "_iplayer": "IPY_MODEL_085400a735304d808dfe3fa2e63c1071",
       "_ngl_color_dict": {},
       "_ngl_coordinate_resource": {},
       "_ngl_full_stage_parameters": {
        "ambientColor": 14540253,
        "ambientIntensity": 0.2,
        "backgroundColor": "white",
        "cameraEyeSep": 0.3,
        "cameraFov": 40,
        "cameraType": "perspective",
        "clipDist": 10,
        "clipFar": 100,
        "clipNear": 0,
        "fogFar": 100,
        "fogNear": 50,
        "hoverTimeout": 0,
        "impostor": true,
        "lightColor": 14540253,
        "lightIntensity": 1,
        "mousePreset": "default",
        "panSpeed": 1,
        "quality": "medium",
        "rotateSpeed": 2,
        "sampleLevel": 0,
        "tooltip": true,
        "workerDefault": true,
        "zoomSpeed": 1.2
       },
       "_ngl_msg_archive": [
        {
         "args": [
          {
           "binary": false,
           "data": "MODEL        0\nATOM      1  H   MOL A   1       0.000   0.000   0.000  1.00  0.00          H   \nATOM      2  H   MOL A   1       0.714   0.714   0.000  1.00  0.00          H   \nATOM      3  H   MOL A   1       0.714   0.000   0.714  1.00  0.00          H   \nATOM      4  H   MOL A   1       0.000   0.714   0.714  1.00  0.00          H   \nATOM      5  H   MOL A   1       1.428   0.000   0.000  1.00  0.00          H   \nATOM      6  H   MOL A   1       2.142   0.714   0.000  1.00  0.00          H   \nATOM      7  H   MOL A   1       2.142   0.000   0.714  1.00  0.00          H   \nATOM      8  H   MOL A   1       1.428   0.714   0.714  1.00  0.00          H   \nATOM      9  H   MOL A   1       0.000   1.428   0.000  1.00  0.00          H   \nATOM     10  H   MOL A   1       0.714   2.142   0.000  1.00  0.00          H   \nATOM     11  H   MOL A   1       0.714   1.428   0.714  1.00  0.00          H   \nATOM     12  H   MOL A   1       0.000   2.142   0.714  1.00  0.00          H   \nATOM     13  H   MOL A   1       1.428   1.428   0.000  1.00  0.00          H   \nATOM     14  H   MOL A   1       2.142   2.142   0.000  1.00  0.00          H   \nATOM     15  H   MOL A   1       2.142   1.428   0.714  1.00  0.00          H   \nATOM     16  H   MOL A   1       1.428   2.142   0.714  1.00  0.00          H   \nATOM     17  H   MOL A   1       0.000   0.000   1.428  1.00  0.00          H   \nATOM     18  H   MOL A   1       0.714   0.714   1.428  1.00  0.00          H   \nATOM     19  H   MOL A   1       0.714   0.000   2.142  1.00  0.00          H   \nATOM     20  H   MOL A   1       0.000   0.714   2.142  1.00  0.00          H   \nATOM     21  H   MOL A   1       1.428   0.000   1.428  1.00  0.00          H   \nATOM     22  H   MOL A   1       2.142   0.714   1.428  1.00  0.00          H   \nATOM     23  H   MOL A   1       2.142   0.000   2.142  1.00  0.00          H   \nATOM     24  H   MOL A   1       1.428   0.714   2.142  1.00  0.00          H   \nATOM     25  H   MOL A   1       0.000   1.428   1.428  1.00  0.00          H   \nATOM     26  H   MOL A   1       0.714   2.142   1.428  1.00  0.00          H   \nATOM     27  H   MOL A   1       0.714   1.428   2.142  1.00  0.00          H   \nATOM     28  H   MOL A   1       0.000   2.142   2.142  1.00  0.00          H   \nATOM     29  H   MOL A   1       1.428   1.428   1.428  1.00  0.00          H   \nATOM     30  H   MOL A   1       2.142   2.142   1.428  1.00  0.00          H   \nATOM     31  H   MOL A   1       2.142   1.428   2.142  1.00  0.00          H   \nATOM     32  H   MOL A   1       1.428   2.142   2.142  1.00  0.00          H   \nTER      33      MOL A   1\nENDMDL\nEND\n",
           "type": "blob"
          }
         ],
         "kwargs": {
          "defaultRepresentation": true,
          "ext": "pdb"
         },
         "methodName": "loadFile",
         "reconstruc_color_scheme": false,
         "target": "Stage",
         "type": "call_method"
        }
       ],
       "_ngl_original_stage_parameters": {
        "ambientColor": 14540253,
        "ambientIntensity": 0.2,
        "backgroundColor": "white",
        "cameraEyeSep": 0.3,
        "cameraFov": 40,
        "cameraType": "perspective",
        "clipDist": 10,
        "clipFar": 100,
        "clipNear": 0,
        "fogFar": 100,
        "fogNear": 50,
        "hoverTimeout": 0,
        "impostor": true,
        "lightColor": 14540253,
        "lightIntensity": 1,
        "mousePreset": "default",
        "panSpeed": 1,
        "quality": "medium",
        "rotateSpeed": 2,
        "sampleLevel": 0,
        "tooltip": true,
        "workerDefault": true,
        "zoomSpeed": 1.2
       },
       "_ngl_repr_dict": {
        "0": {
         "0": {
          "params": {
           "aspectRatio": 1.5,
           "assembly": "default",
           "bondScale": 0.3,
           "bondSpacing": 0.75,
           "clipCenter": {
            "x": 0,
            "y": 0,
            "z": 0
           },
           "clipNear": 0,
           "clipRadius": 0,
           "colorMode": "hcl",
           "colorReverse": false,
           "colorScale": "",
           "colorScheme": "element",
           "colorValue": 9474192,
           "cylinderOnly": false,
           "defaultAssembly": "",
           "depthWrite": true,
           "diffuse": 16777215,
           "diffuseInterior": false,
           "disableImpostor": false,
           "disablePicking": false,
           "flatShaded": false,
           "interiorColor": 2236962,
           "interiorDarkening": 0,
           "lazy": false,
           "lineOnly": false,
           "linewidth": 2,
           "matrix": {
            "elements": [
             1,
             0,
             0,
             0,
             0,
             1,
             0,
             0,
             0,
             0,
             1,
             0,
             0,
             0,
             0,
             1
            ]
           },
           "metalness": 0,
           "multipleBond": "off",
           "opacity": 1,
           "openEnded": true,
           "quality": "high",
           "radialSegments": 20,
           "radiusData": {},
           "radiusScale": 2,
           "radiusSize": 0.15,
           "radiusType": "size",
           "roughness": 0.4,
           "sele": "",
           "side": "double",
           "sphereDetail": 2,
           "useInteriorColor": true,
           "visible": true,
           "wireframe": false
          },
          "type": "ball+stick"
         }
        }
       },
       "_ngl_serialize": false,
       "_ngl_version": "2.0.0-dev.36",
       "_ngl_view_id": [
        "C2E8E3A3-05E1-4842-BB40-603808823629"
       ],
       "_player_dict": {},
       "_scene_position": {},
       "_scene_rotation": {},
       "_synced_model_ids": [],
       "_synced_repr_model_ids": [],
       "_view_height": "",
       "_view_width": "",
       "background": "white",
       "frame": 2,
       "gui_style": null,
       "layout": "IPY_MODEL_3f6cb8e6552c47eca452c98ec774939a",
       "max_frame": 9,
       "n_components": 1,
       "picked": {}
      }
     },
     "7ecb28a3438e4543b9dfce4d64f82ea3": {
      "model_module": "@jupyter-widgets/controls",
      "model_module_version": "1.5.0",
      "model_name": "ImageModel",
      "state": {
       "layout": "IPY_MODEL_fdb3a42df0ca4ca6b4d9953f3f61ad6c",
       "width": "900.0"
      }
     },
     "7f9535eb44d149f3b12e725b6c0f0087": {
      "model_module": "@jupyter-widgets/base",
      "model_module_version": "1.2.0",
      "model_name": "LayoutModel",
      "state": {
       "width": "34px"
      }
     },
     "7f979132188f419d8b11b4f24d3d0873": {
      "model_module": "@jupyter-widgets/controls",
      "model_module_version": "1.5.0",
      "model_name": "ButtonStyleModel",
      "state": {}
     },
     "802ce26bd62e46239788c9ec0645c917": {
      "model_module": "@jupyter-widgets/controls",
      "model_module_version": "1.5.0",
      "model_name": "ImageModel",
      "state": {
       "layout": "IPY_MODEL_e0af12da828d47f8bd59a92c0993e9fc",
       "width": "900.0"
      }
     },
     "80648a5374d848d0a4d62d3f04362224": {
      "model_module": "@jupyter-widgets/controls",
      "model_module_version": "1.5.0",
      "model_name": "LinkModel",
      "state": {
       "source": [
        "IPY_MODEL_53fcd88449be450f83847a48d055e7e8",
        "value"
       ],
       "target": [
        "IPY_MODEL_44266402920d438ebde9bec8e0bceb25",
        "value"
       ]
      }
     },
     "80dba5a566d64b27ae750758ca56fd64": {
      "model_module": "@jupyter-widgets/base",
      "model_module_version": "1.2.0",
      "model_name": "LayoutModel",
      "state": {}
     },
     "80fb833a22e642d29e00b6a143a5f89f": {
      "model_module": "@jupyter-widgets/base",
      "model_module_version": "1.2.0",
      "model_name": "LayoutModel",
      "state": {}
     },
     "81a2c1c672f54df680a2ba6a8b6deb84": {
      "model_module": "@jupyter-widgets/controls",
      "model_module_version": "1.5.0",
      "model_name": "IntSliderModel",
      "state": {
       "layout": "IPY_MODEL_6f35efd6c4554eb79ec087a61c465f17",
       "max": 0,
       "style": "IPY_MODEL_eeccffd4506f4486a74dc9ae0567b3f0"
      }
     },
     "8234052850c0471f88c66da1fa5b04fb": {
      "model_module": "@jupyter-widgets/controls",
      "model_module_version": "1.5.0",
      "model_name": "IntSliderModel",
      "state": {
       "layout": "IPY_MODEL_e4d8b3f73d4b4085beae427a782eaea0",
       "max": 29,
       "style": "IPY_MODEL_9100feab201c4e1cb3783f896415f35d",
       "value": 18
      }
     },
     "8263044a38104358be87481d23504643": {
      "model_module": "@jupyter-widgets/controls",
      "model_module_version": "1.5.0",
      "model_name": "PlayModel",
      "state": {
       "layout": "IPY_MODEL_9511b8387a5947aa8a72a017521aeb47",
       "max": 29,
       "style": "IPY_MODEL_d57287d60e8c4788a19d8132416120f0"
      }
     },
     "82bec41b23604754ba1973c57f6c8e2b": {
      "model_module": "@jupyter-widgets/base",
      "model_module_version": "1.2.0",
      "model_name": "LayoutModel",
      "state": {}
     },
     "830e64eb0a0c420aa13623e01e6c7e0f": {
      "model_module": "@jupyter-widgets/controls",
      "model_module_version": "1.5.0",
      "model_name": "ButtonStyleModel",
      "state": {}
     },
     "83ee10d7d7184b049f720b89e95f2a6f": {
      "model_module": "@jupyter-widgets/controls",
      "model_module_version": "1.5.0",
      "model_name": "ImageModel",
      "state": {
       "layout": "IPY_MODEL_26f07185daad4c31bd9aefb87a5fca02",
       "width": "900.0"
      }
     },
     "841bec608ba9458ba312036c6c9f40fc": {
      "model_module": "nglview-js-widgets",
      "model_module_version": "2.7.1",
      "model_name": "NGLModel",
      "state": {
       "_camera_orientation": [
        10,
        0,
        0,
        0,
        0,
        10,
        0,
        0,
        0,
        0,
        10,
        0,
        0,
        0,
        0,
        1
       ],
       "_camera_str": "orthographic",
       "_gui_theme": null,
       "_ibtn_fullscreen": "IPY_MODEL_2017b9d33ae44495a26c7cefa34fc4a0",
       "_igui": null,
       "_iplayer": "IPY_MODEL_661b08c8356c4706bc5c6fa34075dd93",
       "_ngl_color_dict": {},
       "_ngl_coordinate_resource": {},
       "_ngl_full_stage_parameters": {
        "ambientColor": 14540253,
        "ambientIntensity": 0.2,
        "backgroundColor": "white",
        "cameraEyeSep": 0.3,
        "cameraFov": 40,
        "cameraType": "perspective",
        "clipDist": 10,
        "clipFar": 100,
        "clipNear": 0,
        "fogFar": 100,
        "fogNear": 50,
        "hoverTimeout": 0,
        "impostor": true,
        "lightColor": 14540253,
        "lightIntensity": 1,
        "mousePreset": "default",
        "panSpeed": 1,
        "quality": "medium",
        "rotateSpeed": 2,
        "sampleLevel": 0,
        "tooltip": true,
        "workerDefault": true,
        "zoomSpeed": 1.2
       },
       "_ngl_msg_archive": [
        {
         "args": [
          {
           "binary": false,
           "data": "MODEL        0\nATOM      1  H   MOL A   1       0.000   0.000   0.000  1.00  0.00          H   \nATOM      2  H   MOL A   1       0.000   0.000   0.000  1.00  0.00          H   \nATOM      3  H   MOL A   1       0.000   0.000   0.000  1.00  0.00          H   \nATOM      4  H   MOL A   1       0.000   0.000   0.000  1.00  0.00          H   \nATOM      5  H   MOL A   1       0.000   0.000   0.000  1.00  0.00          H   \nATOM      6  H   MOL A   1       0.000   0.000   0.000  1.00  0.00          H   \nATOM      7  H   MOL A   1       0.000   0.000   0.000  1.00  0.00          H   \nATOM      8  H   MOL A   1       0.000   0.000   0.000  1.00  0.00          H   \nATOM      9  H   MOL A   1       0.000   0.000   0.000  1.00  0.00          H   \nATOM     10  H   MOL A   1       0.000   0.000   0.000  1.00  0.00          H   \nATOM     11  H   MOL A   1       0.000   0.000   0.000  1.00  0.00          H   \nATOM     12  H   MOL A   1       0.000   0.000   0.000  1.00  0.00          H   \nATOM     13  H   MOL A   1       0.000   0.000   0.000  1.00  0.00          H   \nATOM     14  H   MOL A   1       0.000   0.000   0.000  1.00  0.00          H   \nATOM     15  H   MOL A   1       0.000   0.000   0.000  1.00  0.00          H   \nATOM     16  H   MOL A   1       0.000   0.000   0.000  1.00  0.00          H   \nATOM     17  H   MOL A   1       0.000   0.000   0.000  1.00  0.00          H   \nATOM     18  H   MOL A   1       0.000   0.000   0.000  1.00  0.00          H   \nATOM     19  H   MOL A   1       0.000   0.000   0.000  1.00  0.00          H   \nATOM     20  H   MOL A   1       0.000   0.000   0.000  1.00  0.00          H   \nATOM     21  H   MOL A   1       0.000   0.000   0.000  1.00  0.00          H   \nATOM     22  H   MOL A   1       0.000   0.000   0.000  1.00  0.00          H   \nATOM     23  H   MOL A   1       0.000   0.000   0.000  1.00  0.00          H   \nATOM     24  H   MOL A   1       0.000   0.000   0.000  1.00  0.00          H   \nATOM     25  H   MOL A   1       0.000   0.000   0.000  1.00  0.00          H   \nATOM     26  H   MOL A   1       0.000   0.000   0.000  1.00  0.00          H   \nATOM     27  H   MOL A   1       0.000   0.000   0.000  1.00  0.00          H   \nATOM     28  H   MOL A   1       0.000   0.000   0.000  1.00  0.00          H   \nATOM     29  H   MOL A   1       0.000   0.000   0.000  1.00  0.00          H   \nATOM     30  H   MOL A   1       0.000   0.000   0.000  1.00  0.00          H   \nATOM     31  H   MOL A   1       0.000   0.000   0.000  1.00  0.00          H   \nATOM     32  H   MOL A   1       0.000   0.000   0.000  1.00  0.00          H   \nTER      33      MOL A   1\nENDMDL\nEND\n",
           "type": "blob"
          }
         ],
         "kwargs": {
          "defaultRepresentation": true,
          "ext": "pdb"
         },
         "methodName": "loadFile",
         "reconstruc_color_scheme": false,
         "target": "Stage",
         "type": "call_method"
        }
       ],
       "_ngl_original_stage_parameters": {
        "ambientColor": 14540253,
        "ambientIntensity": 0.2,
        "backgroundColor": "white",
        "cameraEyeSep": 0.3,
        "cameraFov": 40,
        "cameraType": "perspective",
        "clipDist": 10,
        "clipFar": 100,
        "clipNear": 0,
        "fogFar": 100,
        "fogNear": 50,
        "hoverTimeout": 0,
        "impostor": true,
        "lightColor": 14540253,
        "lightIntensity": 1,
        "mousePreset": "default",
        "panSpeed": 1,
        "quality": "medium",
        "rotateSpeed": 2,
        "sampleLevel": 0,
        "tooltip": true,
        "workerDefault": true,
        "zoomSpeed": 1.2
       },
       "_ngl_repr_dict": {
        "0": {
         "0": {
          "params": {
           "aspectRatio": 1.5,
           "assembly": "default",
           "bondScale": 0.3,
           "bondSpacing": 0.75,
           "clipCenter": {
            "x": 0,
            "y": 0,
            "z": 0
           },
           "clipNear": 0,
           "clipRadius": 0,
           "colorMode": "hcl",
           "colorReverse": false,
           "colorScale": "",
           "colorScheme": "element",
           "colorValue": 9474192,
           "cylinderOnly": false,
           "defaultAssembly": "",
           "depthWrite": true,
           "diffuse": 16777215,
           "diffuseInterior": false,
           "disableImpostor": false,
           "disablePicking": false,
           "flatShaded": false,
           "interiorColor": 2236962,
           "interiorDarkening": 0,
           "lazy": false,
           "lineOnly": false,
           "linewidth": 2,
           "matrix": {
            "elements": [
             1,
             0,
             0,
             0,
             0,
             1,
             0,
             0,
             0,
             0,
             1,
             0,
             0,
             0,
             0,
             1
            ]
           },
           "metalness": 0,
           "multipleBond": "off",
           "opacity": 1,
           "openEnded": true,
           "quality": "high",
           "radialSegments": 20,
           "radiusData": {},
           "radiusScale": 2,
           "radiusSize": 0.15,
           "radiusType": "size",
           "roughness": 0.4,
           "sele": "",
           "side": "double",
           "sphereDetail": 2,
           "useInteriorColor": true,
           "visible": true,
           "wireframe": false
          },
          "type": "ball+stick"
         }
        }
       },
       "_ngl_serialize": false,
       "_ngl_version": "2.0.0-dev.36",
       "_ngl_view_id": [
        "8D1F6E75-6B4B-4128-85E0-65510E1EC3BC"
       ],
       "_player_dict": {},
       "_scene_position": {},
       "_scene_rotation": {},
       "_synced_model_ids": [],
       "_synced_repr_model_ids": [],
       "_view_height": "",
       "_view_width": "",
       "background": "white",
       "frame": 0,
       "gui_style": null,
       "layout": "IPY_MODEL_82bec41b23604754ba1973c57f6c8e2b",
       "max_frame": 29,
       "n_components": 1,
       "picked": {}
      }
     },
     "85a63cc195ce4441b4bb7ef785f73d27": {
      "model_module": "@jupyter-widgets/controls",
      "model_module_version": "1.5.0",
      "model_name": "ButtonStyleModel",
      "state": {}
     },
     "85e085bacfd2491e8917b04dedf8fe8b": {
      "model_module": "@jupyter-widgets/controls",
      "model_module_version": "1.5.0",
      "model_name": "LinkModel",
      "state": {
       "source": [
        "IPY_MODEL_28ac3a1f20df4e0083759774f7494fa6",
        "max"
       ],
       "target": [
        "IPY_MODEL_7e2696d74b40450ca3f5438a07e8f45c",
        "max_frame"
       ]
      }
     },
     "8615c1588a69456380b03579d4932abf": {
      "model_module": "@jupyter-widgets/controls",
      "model_module_version": "1.5.0",
      "model_name": "ImageModel",
      "state": {
       "layout": "IPY_MODEL_df5bebe731d841c4a1064f1c86ff00db",
       "width": "900.0"
      }
     },
     "87825c3e76e74f60b830c3dec999c4bd": {
      "model_module": "@jupyter-widgets/base",
      "model_module_version": "1.2.0",
      "model_name": "LayoutModel",
      "state": {
       "width": "34px"
      }
     },
     "88cfbc89c13f42688b8fbf826124f0d2": {
      "model_module": "@jupyter-widgets/controls",
      "model_module_version": "1.5.0",
      "model_name": "LinkModel",
      "state": {
       "source": [
        "IPY_MODEL_9edd37bcee6440f9a8d956c2cec48202",
        "max"
       ],
       "target": [
        "IPY_MODEL_c7c86ad6a0f84cc5baf0fe79fed38ea5",
        "max_frame"
       ]
      }
     },
     "88fa5c150f5f4f07b2016883016b14c4": {
      "model_module": "@jupyter-widgets/controls",
      "model_module_version": "1.5.0",
      "model_name": "HBoxModel",
      "state": {
       "children": [
        "IPY_MODEL_5fcfa0cf40fd4ba88c074fbc04e6a7bc",
        "IPY_MODEL_aa9d8ffa895243c7af11c0bcbe19bc32"
       ],
       "layout": "IPY_MODEL_232d43b9536d40f7b10d89d11b740f9b"
      }
     },
     "8aa038d5ed264929a5f4c13493fe2881": {
      "model_module": "@jupyter-widgets/controls",
      "model_module_version": "1.5.0",
      "model_name": "LinkModel",
      "state": {
       "source": [
        "IPY_MODEL_323133e0a73040bb88adb31a255e502b",
        "value"
       ],
       "target": [
        "IPY_MODEL_ba4e6088e5994b098f1bbdb0f712f390",
        "value"
       ]
      }
     },
     "8ad2b20bd523465284e5ba7990409a2b": {
      "model_module": "@jupyter-widgets/controls",
      "model_module_version": "1.5.0",
      "model_name": "LinkModel",
      "state": {
       "source": [
        "IPY_MODEL_b818839b61f943d7b39a8e3809285863",
        "max"
       ],
       "target": [
        "IPY_MODEL_7e2696d74b40450ca3f5438a07e8f45c",
        "max_frame"
       ]
      }
     },
     "8b31875f6d7941c7b6d7d6b95be39392": {
      "model_module": "@jupyter-widgets/controls",
      "model_module_version": "1.5.0",
      "model_name": "ButtonStyleModel",
      "state": {}
     },
     "8ba8066cc5d44e7899baf024536066ef": {
      "model_module": "@jupyter-widgets/controls",
      "model_module_version": "1.5.0",
      "model_name": "LinkModel",
      "state": {
       "source": [
        "IPY_MODEL_3e7ef5ef5e7a42fca583a38fb7243073",
        "value"
       ],
       "target": [
        "IPY_MODEL_943fbe0567e64a3d8dc3b431d9830198",
        "frame"
       ]
      }
     },
     "8be17601cd97428289c6dc0e5dcfe7c1": {
      "model_module": "nglview-js-widgets",
      "model_module_version": "2.7.1",
      "model_name": "NGLModel",
      "state": {
       "_camera_orientation": [
        15.213666673390488,
        0,
        0,
        0,
        0,
        15.213666673390488,
        0,
        0,
        0,
        0,
        15.213666673390488,
        0,
        -0.6884999871253967,
        -0.6884999871253967,
        -0.6884999871253967,
        1
       ],
       "_camera_str": "orthographic",
       "_gui_theme": null,
       "_ibtn_fullscreen": "IPY_MODEL_dbb8de6899e9470a859cab53017b6225",
       "_igui": null,
       "_iplayer": "IPY_MODEL_1d67ff51e039430a8dc0a7b9047ed4d0",
       "_ngl_color_dict": {},
       "_ngl_coordinate_resource": {},
       "_ngl_full_stage_parameters": {
        "ambientColor": 14540253,
        "ambientIntensity": 0.2,
        "backgroundColor": "white",
        "cameraEyeSep": 0.3,
        "cameraFov": 40,
        "cameraType": "perspective",
        "clipDist": 10,
        "clipFar": 100,
        "clipNear": 0,
        "fogFar": 100,
        "fogNear": 50,
        "hoverTimeout": 0,
        "impostor": true,
        "lightColor": 14540253,
        "lightIntensity": 1,
        "mousePreset": "default",
        "panSpeed": 1,
        "quality": "medium",
        "rotateSpeed": 2,
        "sampleLevel": 0,
        "tooltip": true,
        "workerDefault": true,
        "zoomSpeed": 1.2
       },
       "_ngl_msg_archive": [
        {
         "args": [
          {
           "binary": false,
           "data": "CRYST1    1.836    1.836    1.836  90.00  90.00  90.00 P 1\nMODEL     1\nATOM      0    H MOL     1       0.000   0.000   0.000  1.00  0.00           H  \nATOM      1    H MOL     1       0.459   0.459   0.000  1.00  0.00           H  \nATOM      2    H MOL     1       0.459   0.000   0.459  1.00  0.00           H  \nATOM      3    H MOL     1       0.000   0.459   0.459  1.00  0.00           H  \nATOM      4    H MOL     1       0.918   0.000   0.000  1.00  0.00           H  \nATOM      5    H MOL     1       1.377   0.459   0.000  1.00  0.00           H  \nATOM      6    H MOL     1       1.377   0.000   0.459  1.00  0.00           H  \nATOM      7    H MOL     1       0.918   0.459   0.459  1.00  0.00           H  \nATOM      8    H MOL     1       0.000   0.918   0.000  1.00  0.00           H  \nATOM      9    H MOL     1       0.459   1.377   0.000  1.00  0.00           H  \nATOM     10    H MOL     1       0.459   0.918   0.459  1.00  0.00           H  \nATOM     11    H MOL     1       0.000   1.377   0.459  1.00  0.00           H  \nATOM     12    H MOL     1       0.918   0.918   0.000  1.00  0.00           H  \nATOM     13    H MOL     1       1.377   1.377   0.000  1.00  0.00           H  \nATOM     14    H MOL     1       1.377   0.918   0.459  1.00  0.00           H  \nATOM     15    H MOL     1       0.918   1.377   0.459  1.00  0.00           H  \nATOM     16    H MOL     1       0.000   0.000   0.918  1.00  0.00           H  \nATOM     17    H MOL     1       0.459   0.459   0.918  1.00  0.00           H  \nATOM     18    H MOL     1       0.459   0.000   1.377  1.00  0.00           H  \nATOM     19    H MOL     1       0.000   0.459   1.377  1.00  0.00           H  \nATOM     20    H MOL     1       0.918   0.000   0.918  1.00  0.00           H  \nATOM     21    H MOL     1       1.377   0.459   0.918  1.00  0.00           H  \nATOM     22    H MOL     1       1.377   0.000   1.377  1.00  0.00           H  \nATOM     23    H MOL     1       0.918   0.459   1.377  1.00  0.00           H  \nATOM     24    H MOL     1       0.000   0.918   0.918  1.00  0.00           H  \nATOM     25    H MOL     1       0.459   1.377   0.918  1.00  0.00           H  \nATOM     26    H MOL     1       0.459   0.918   1.377  1.00  0.00           H  \nATOM     27    H MOL     1       0.000   1.377   1.377  1.00  0.00           H  \nATOM     28    H MOL     1       0.918   0.918   0.918  1.00  0.00           H  \nATOM     29    H MOL     1       1.377   1.377   0.918  1.00  0.00           H  \nATOM     30    H MOL     1       1.377   0.918   1.377  1.00  0.00           H  \nATOM     31    H MOL     1       0.918   1.377   1.377  1.00  0.00           H  \nENDMDL\n",
           "type": "blob"
          }
         ],
         "kwargs": {
          "defaultRepresentation": true,
          "ext": "pdb"
         },
         "methodName": "loadFile",
         "reconstruc_color_scheme": false,
         "target": "Stage",
         "type": "call_method"
        }
       ],
       "_ngl_original_stage_parameters": {
        "ambientColor": 14540253,
        "ambientIntensity": 0.2,
        "backgroundColor": "white",
        "cameraEyeSep": 0.3,
        "cameraFov": 40,
        "cameraType": "perspective",
        "clipDist": 10,
        "clipFar": 100,
        "clipNear": 0,
        "fogFar": 100,
        "fogNear": 50,
        "hoverTimeout": 0,
        "impostor": true,
        "lightColor": 14540253,
        "lightIntensity": 1,
        "mousePreset": "default",
        "panSpeed": 1,
        "quality": "medium",
        "rotateSpeed": 2,
        "sampleLevel": 0,
        "tooltip": true,
        "workerDefault": true,
        "zoomSpeed": 1.2
       },
       "_ngl_repr_dict": {
        "0": {
         "0": {
          "params": {
           "aspectRatio": 1.5,
           "assembly": "default",
           "bondScale": 0.3,
           "bondSpacing": 0.75,
           "clipCenter": {
            "x": 0,
            "y": 0,
            "z": 0
           },
           "clipNear": 0,
           "clipRadius": 0,
           "colorMode": "hcl",
           "colorReverse": false,
           "colorScale": "",
           "colorScheme": "element",
           "colorValue": 9474192,
           "cylinderOnly": false,
           "defaultAssembly": "",
           "depthWrite": true,
           "diffuse": 16777215,
           "diffuseInterior": false,
           "disableImpostor": false,
           "disablePicking": false,
           "flatShaded": false,
           "interiorColor": 2236962,
           "interiorDarkening": 0,
           "lazy": false,
           "lineOnly": false,
           "linewidth": 2,
           "matrix": {
            "elements": [
             1,
             0,
             0,
             0,
             0,
             1,
             0,
             0,
             0,
             0,
             1,
             0,
             0,
             0,
             0,
             1
            ]
           },
           "metalness": 0,
           "multipleBond": "off",
           "opacity": 1,
           "openEnded": true,
           "quality": "high",
           "radialSegments": 20,
           "radiusData": {},
           "radiusScale": 2,
           "radiusSize": 0.15,
           "radiusType": "size",
           "roughness": 0.4,
           "sele": "",
           "side": "double",
           "sphereDetail": 2,
           "useInteriorColor": true,
           "visible": true,
           "wireframe": false
          },
          "type": "ball+stick"
         }
        }
       },
       "_ngl_serialize": false,
       "_ngl_version": "2.0.0-dev.36",
       "_ngl_view_id": [
        "7175E4CC-237E-4B7A-9644-08B2A2A54DED"
       ],
       "_player_dict": {},
       "_scene_position": {},
       "_scene_rotation": {},
       "_synced_model_ids": [],
       "_synced_repr_model_ids": [],
       "_view_height": "",
       "_view_width": "",
       "background": "white",
       "frame": 0,
       "gui_style": null,
       "layout": "IPY_MODEL_994dd304b3914b5aa431b26d9944876c",
       "max_frame": 0,
       "n_components": 1,
       "picked": {}
      }
     },
     "8befc6494c174d939773878d46a55bd1": {
      "model_module": "nglview-js-widgets",
      "model_module_version": "2.7.1",
      "model_name": "NGLModel",
      "state": {
       "_camera_orientation": [
        -8.516089493582447,
        14.334706303925673,
        1.4722948933788174,
        0,
        -14.400394570939447,
        -8.402998601732829,
        -1.4810428880023792,
        0,
        -0.529238390637175,
        -2.020160145891301,
        16.607651761956117,
        0,
        -0.6884999871253967,
        -0.6884999871253967,
        -0.6884999871253967,
        1
       ],
       "_camera_str": "orthographic",
       "_gui_theme": null,
       "_ibtn_fullscreen": "IPY_MODEL_135428d5b1464f16bc80181a9af0cfc2",
       "_igui": null,
       "_iplayer": "IPY_MODEL_24e1f4b18d074da0aef73290ace4c675",
       "_ngl_color_dict": {},
       "_ngl_coordinate_resource": {},
       "_ngl_full_stage_parameters": {
        "ambientColor": 14540253,
        "ambientIntensity": 0.2,
        "backgroundColor": "white",
        "cameraEyeSep": 0.3,
        "cameraFov": 40,
        "cameraType": "perspective",
        "clipDist": 10,
        "clipFar": 100,
        "clipNear": 0,
        "fogFar": 100,
        "fogNear": 50,
        "hoverTimeout": 0,
        "impostor": true,
        "lightColor": 14540253,
        "lightIntensity": 1,
        "mousePreset": "default",
        "panSpeed": 1,
        "quality": "medium",
        "rotateSpeed": 2,
        "sampleLevel": 0,
        "tooltip": true,
        "workerDefault": true,
        "zoomSpeed": 1.2
       },
       "_ngl_msg_archive": [
        {
         "args": [
          {
           "binary": false,
           "data": "MODEL        0\nATOM      1  H   MOL A   1       0.000   0.000   0.000  1.00  0.00          H   \nATOM      2  H   MOL A   1       0.459   0.459   0.000  1.00  0.00          H   \nATOM      3  H   MOL A   1       0.459   0.000   0.459  1.00  0.00          H   \nATOM      4  H   MOL A   1       0.000   0.459   0.459  1.00  0.00          H   \nATOM      5  H   MOL A   1       0.918   0.000   0.000  1.00  0.00          H   \nATOM      6  H   MOL A   1       1.377   0.459   0.000  1.00  0.00          H   \nATOM      7  H   MOL A   1       1.377   0.000   0.459  1.00  0.00          H   \nATOM      8  H   MOL A   1       0.918   0.459   0.459  1.00  0.00          H   \nATOM      9  H   MOL A   1       0.000   0.918   0.000  1.00  0.00          H   \nATOM     10  H   MOL A   1       0.459   1.377   0.000  1.00  0.00          H   \nATOM     11  H   MOL A   1       0.459   0.918   0.459  1.00  0.00          H   \nATOM     12  H   MOL A   1       0.000   1.377   0.459  1.00  0.00          H   \nATOM     13  H   MOL A   1       0.918   0.918   0.000  1.00  0.00          H   \nATOM     14  H   MOL A   1       1.377   1.377   0.000  1.00  0.00          H   \nATOM     15  H   MOL A   1       1.377   0.918   0.459  1.00  0.00          H   \nATOM     16  H   MOL A   1       0.918   1.377   0.459  1.00  0.00          H   \nATOM     17  H   MOL A   1       0.000   0.000   0.918  1.00  0.00          H   \nATOM     18  H   MOL A   1       0.459   0.459   0.918  1.00  0.00          H   \nATOM     19  H   MOL A   1       0.459   0.000   1.377  1.00  0.00          H   \nATOM     20  H   MOL A   1       0.000   0.459   1.377  1.00  0.00          H   \nATOM     21  H   MOL A   1       0.918   0.000   0.918  1.00  0.00          H   \nATOM     22  H   MOL A   1       1.377   0.459   0.918  1.00  0.00          H   \nATOM     23  H   MOL A   1       1.377   0.000   1.377  1.00  0.00          H   \nATOM     24  H   MOL A   1       0.918   0.459   1.377  1.00  0.00          H   \nATOM     25  H   MOL A   1       0.000   0.918   0.918  1.00  0.00          H   \nATOM     26  H   MOL A   1       0.459   1.377   0.918  1.00  0.00          H   \nATOM     27  H   MOL A   1       0.459   0.918   1.377  1.00  0.00          H   \nATOM     28  H   MOL A   1       0.000   1.377   1.377  1.00  0.00          H   \nATOM     29  H   MOL A   1       0.918   0.918   0.918  1.00  0.00          H   \nATOM     30  H   MOL A   1       1.377   1.377   0.918  1.00  0.00          H   \nATOM     31  H   MOL A   1       1.377   0.918   1.377  1.00  0.00          H   \nATOM     32  H   MOL A   1       0.918   1.377   1.377  1.00  0.00          H   \nTER      33      MOL A   1\nENDMDL\nEND\n",
           "type": "blob"
          }
         ],
         "kwargs": {
          "defaultRepresentation": true,
          "ext": "pdb"
         },
         "methodName": "loadFile",
         "reconstruc_color_scheme": false,
         "target": "Stage",
         "type": "call_method"
        }
       ],
       "_ngl_original_stage_parameters": {
        "ambientColor": 14540253,
        "ambientIntensity": 0.2,
        "backgroundColor": "white",
        "cameraEyeSep": 0.3,
        "cameraFov": 40,
        "cameraType": "perspective",
        "clipDist": 10,
        "clipFar": 100,
        "clipNear": 0,
        "fogFar": 100,
        "fogNear": 50,
        "hoverTimeout": 0,
        "impostor": true,
        "lightColor": 14540253,
        "lightIntensity": 1,
        "mousePreset": "default",
        "panSpeed": 1,
        "quality": "medium",
        "rotateSpeed": 2,
        "sampleLevel": 0,
        "tooltip": true,
        "workerDefault": true,
        "zoomSpeed": 1.2
       },
       "_ngl_repr_dict": {
        "0": {
         "0": {
          "params": {
           "aspectRatio": 1.5,
           "assembly": "default",
           "bondScale": 0.3,
           "bondSpacing": 0.75,
           "clipCenter": {
            "x": 0,
            "y": 0,
            "z": 0
           },
           "clipNear": 0,
           "clipRadius": 0,
           "colorMode": "hcl",
           "colorReverse": false,
           "colorScale": "",
           "colorScheme": "element",
           "colorValue": 9474192,
           "cylinderOnly": false,
           "defaultAssembly": "",
           "depthWrite": true,
           "diffuse": 16777215,
           "diffuseInterior": false,
           "disableImpostor": false,
           "disablePicking": false,
           "flatShaded": false,
           "interiorColor": 2236962,
           "interiorDarkening": 0,
           "lazy": false,
           "lineOnly": false,
           "linewidth": 2,
           "matrix": {
            "elements": [
             1,
             0,
             0,
             0,
             0,
             1,
             0,
             0,
             0,
             0,
             1,
             0,
             0,
             0,
             0,
             1
            ]
           },
           "metalness": 0,
           "multipleBond": "off",
           "opacity": 1,
           "openEnded": true,
           "quality": "high",
           "radialSegments": 20,
           "radiusData": {},
           "radiusScale": 2,
           "radiusSize": 0.15,
           "radiusType": "size",
           "roughness": 0.4,
           "sele": "",
           "side": "double",
           "sphereDetail": 2,
           "useInteriorColor": true,
           "visible": true,
           "wireframe": false
          },
          "type": "ball+stick"
         }
        }
       },
       "_ngl_serialize": false,
       "_ngl_version": "2.0.0-dev.36",
       "_ngl_view_id": [
        "841F1444-C631-41F6-8AF1-638E3E5EB2C5"
       ],
       "_player_dict": {},
       "_scene_position": {},
       "_scene_rotation": {},
       "_synced_model_ids": [],
       "_synced_repr_model_ids": [],
       "_view_height": "",
       "_view_width": "",
       "background": "white",
       "frame": 4,
       "gui_style": null,
       "layout": "IPY_MODEL_733b384e668d44749afbf9cf7615e595",
       "max_frame": 9,
       "n_components": 1,
       "picked": {}
      }
     },
     "8c123ec95f7d41398f2152130e30bbd9": {
      "model_module": "@jupyter-widgets/controls",
      "model_module_version": "1.5.0",
      "model_name": "LinkModel",
      "state": {
       "source": [
        "IPY_MODEL_36ca4252a7c04bda929983d323768068",
        "value"
       ],
       "target": [
        "IPY_MODEL_90450bf43bad4e5a96e1be3ede3dba96",
        "value"
       ]
      }
     },
     "8c528952a08d4aa9ae2173986eb95adc": {
      "model_module": "@jupyter-widgets/base",
      "model_module_version": "1.2.0",
      "model_name": "LayoutModel",
      "state": {}
     },
     "8c9144d65f4c4d439f3c6da3eea53a68": {
      "model_module": "@jupyter-widgets/controls",
      "model_module_version": "1.5.0",
      "model_name": "LinkModel",
      "state": {
       "source": [
        "IPY_MODEL_4c5ade1957aa49a7a0899ab01bdd39ae",
        "value"
       ],
       "target": [
        "IPY_MODEL_347a2324c6564175aebba67a3219db62",
        "value"
       ]
      }
     },
     "8d177cc314cd41808091b2febf783d34": {
      "model_module": "@jupyter-widgets/controls",
      "model_module_version": "1.5.0",
      "model_name": "SliderStyleModel",
      "state": {
       "description_width": ""
      }
     },
     "8f32ebc93a384f0a8a8dba311a4080dc": {
      "model_module": "@jupyter-widgets/controls",
      "model_module_version": "1.5.0",
      "model_name": "LinkModel",
      "state": {
       "source": [
        "IPY_MODEL_e1bef34e3baf45adaf33e76d09f4bbea",
        "value"
       ],
       "target": [
        "IPY_MODEL_6b0b292c068947b38342d48d4603e8d3",
        "frame"
       ]
      }
     },
     "8fc5ff33c232456790694f239572f449": {
      "model_module": "@jupyter-widgets/controls",
      "model_module_version": "1.5.0",
      "model_name": "SliderStyleModel",
      "state": {
       "description_width": ""
      }
     },
     "8fd3ebdffd7442009e1569640287c207": {
      "model_module": "@jupyter-widgets/controls",
      "model_module_version": "1.5.0",
      "model_name": "SliderStyleModel",
      "state": {
       "description_width": ""
      }
     },
     "90450bf43bad4e5a96e1be3ede3dba96": {
      "model_module": "@jupyter-widgets/controls",
      "model_module_version": "1.5.0",
      "model_name": "IntSliderModel",
      "state": {
       "layout": "IPY_MODEL_6af6ced209794a71a85055d4e2bca5b4",
       "max": 19,
       "style": "IPY_MODEL_a18d9a281f9845ed9319796ca1c27c44",
       "value": 19
      }
     },
     "90ba277ead66471fb9c6af304a3ff768": {
      "model_module": "@jupyter-widgets/controls",
      "model_module_version": "1.5.0",
      "model_name": "LinkModel",
      "state": {
       "source": [
        "IPY_MODEL_5fcfa0cf40fd4ba88c074fbc04e6a7bc",
        "value"
       ],
       "target": [
        "IPY_MODEL_ab14bf5d9fca4fdfb4f52610535aec2e",
        "frame"
       ]
      }
     },
     "9100feab201c4e1cb3783f896415f35d": {
      "model_module": "@jupyter-widgets/controls",
      "model_module_version": "1.5.0",
      "model_name": "SliderStyleModel",
      "state": {
       "description_width": ""
      }
     },
     "9103b5bda31e49bbb0fcd372edd30359": {
      "model_module": "@jupyter-widgets/controls",
      "model_module_version": "1.5.0",
      "model_name": "DescriptionStyleModel",
      "state": {
       "description_width": ""
      }
     },
     "9229b9bfdf364382a511db6dd8dde3d4": {
      "model_module": "@jupyter-widgets/base",
      "model_module_version": "1.2.0",
      "model_name": "LayoutModel",
      "state": {}
     },
     "931ea9f2ebaa4a4694a7dca781e30378": {
      "model_module": "@jupyter-widgets/controls",
      "model_module_version": "1.5.0",
      "model_name": "HBoxModel",
      "state": {
       "children": [
        "IPY_MODEL_fa87e5803879480b852e136cb37b4083",
        "IPY_MODEL_3019a2b283334e57ac655bd383473aae"
       ],
       "layout": "IPY_MODEL_12c34913eaaf4003a7a037c916bb2bd6"
      }
     },
     "935091d1408e480ba80211652587a5b9": {
      "model_module": "@jupyter-widgets/base",
      "model_module_version": "1.2.0",
      "model_name": "LayoutModel",
      "state": {
       "width": "34px"
      }
     },
     "93f2ea95bdaf4682a5c48d8c029b1aa3": {
      "model_module": "@jupyter-widgets/base",
      "model_module_version": "1.2.0",
      "model_name": "LayoutModel",
      "state": {
       "width": "34px"
      }
     },
     "943fbe0567e64a3d8dc3b431d9830198": {
      "model_module": "nglview-js-widgets",
      "model_module_version": "2.7.1",
      "model_name": "NGLModel",
      "state": {
       "_camera_orientation": [
        -9.09616428614953,
        0.18405465283413025,
        1.0538715903764397,
        0,
        0.11460139935726397,
        9.138020454612219,
        -0.6067741385457734,
        0,
        -1.0636672240404017,
        -0.5894338136828589,
        -9.077769879251402,
        0,
        -0.6884999871253967,
        -0.6884999871253967,
        -0.6884999871253967,
        1
       ],
       "_camera_str": "orthographic",
       "_gui_theme": null,
       "_ibtn_fullscreen": "IPY_MODEL_c6d265cbfc374d209aa05008791f54a6",
       "_igui": null,
       "_iplayer": "IPY_MODEL_1f39f65b1ccb473989d93d0e054bddae",
       "_ngl_color_dict": {},
       "_ngl_coordinate_resource": {},
       "_ngl_full_stage_parameters": {
        "ambientColor": 14540253,
        "ambientIntensity": 0.2,
        "backgroundColor": "white",
        "cameraEyeSep": 0.3,
        "cameraFov": 40,
        "cameraType": "perspective",
        "clipDist": 10,
        "clipFar": 100,
        "clipNear": 0,
        "fogFar": 100,
        "fogNear": 50,
        "hoverTimeout": 0,
        "impostor": true,
        "lightColor": 14540253,
        "lightIntensity": 1,
        "mousePreset": "default",
        "panSpeed": 1,
        "quality": "medium",
        "rotateSpeed": 2,
        "sampleLevel": 0,
        "tooltip": true,
        "workerDefault": true,
        "zoomSpeed": 1.2
       },
       "_ngl_msg_archive": [
        {
         "args": [
          {
           "binary": false,
           "data": "CRYST1    1.836    1.836    1.836  90.00  90.00  90.00 P 1\nMODEL     1\nATOM      0    H MOL     1       0.000   0.000   0.000  1.00  0.00           H  \nATOM      1    H MOL     1       0.459   0.459   0.000  1.00  0.00           H  \nATOM      2    H MOL     1       0.459   0.000   0.459  1.00  0.00           H  \nATOM      3    H MOL     1       0.000   0.459   0.459  1.00  0.00           H  \nATOM      4    H MOL     1       0.918   0.000   0.000  1.00  0.00           H  \nATOM      5    H MOL     1       1.377   0.459   0.000  1.00  0.00           H  \nATOM      6    H MOL     1       1.377   0.000   0.459  1.00  0.00           H  \nATOM      7    H MOL     1       0.918   0.459   0.459  1.00  0.00           H  \nATOM      8    H MOL     1       0.000   0.918   0.000  1.00  0.00           H  \nATOM      9    H MOL     1       0.459   1.377   0.000  1.00  0.00           H  \nATOM     10    H MOL     1       0.459   0.918   0.459  1.00  0.00           H  \nATOM     11    H MOL     1       0.000   1.377   0.459  1.00  0.00           H  \nATOM     12    H MOL     1       0.918   0.918   0.000  1.00  0.00           H  \nATOM     13    H MOL     1       1.377   1.377   0.000  1.00  0.00           H  \nATOM     14    H MOL     1       1.377   0.918   0.459  1.00  0.00           H  \nATOM     15    H MOL     1       0.918   1.377   0.459  1.00  0.00           H  \nATOM     16    H MOL     1       0.000   0.000   0.918  1.00  0.00           H  \nATOM     17    H MOL     1       0.459   0.459   0.918  1.00  0.00           H  \nATOM     18    H MOL     1       0.459   0.000   1.377  1.00  0.00           H  \nATOM     19    H MOL     1       0.000   0.459   1.377  1.00  0.00           H  \nATOM     20    H MOL     1       0.918   0.000   0.918  1.00  0.00           H  \nATOM     21    H MOL     1       1.377   0.459   0.918  1.00  0.00           H  \nATOM     22    H MOL     1       1.377   0.000   1.377  1.00  0.00           H  \nATOM     23    H MOL     1       0.918   0.459   1.377  1.00  0.00           H  \nATOM     24    H MOL     1       0.000   0.918   0.918  1.00  0.00           H  \nATOM     25    H MOL     1       0.459   1.377   0.918  1.00  0.00           H  \nATOM     26    H MOL     1       0.459   0.918   1.377  1.00  0.00           H  \nATOM     27    H MOL     1       0.000   1.377   1.377  1.00  0.00           H  \nATOM     28    H MOL     1       0.918   0.918   0.918  1.00  0.00           H  \nATOM     29    H MOL     1       1.377   1.377   0.918  1.00  0.00           H  \nATOM     30    H MOL     1       1.377   0.918   1.377  1.00  0.00           H  \nATOM     31    H MOL     1       0.918   1.377   1.377  1.00  0.00           H  \nENDMDL\n",
           "type": "blob"
          }
         ],
         "kwargs": {
          "defaultRepresentation": true,
          "ext": "pdb"
         },
         "methodName": "loadFile",
         "reconstruc_color_scheme": false,
         "target": "Stage",
         "type": "call_method"
        }
       ],
       "_ngl_original_stage_parameters": {
        "ambientColor": 14540253,
        "ambientIntensity": 0.2,
        "backgroundColor": "white",
        "cameraEyeSep": 0.3,
        "cameraFov": 40,
        "cameraType": "perspective",
        "clipDist": 10,
        "clipFar": 100,
        "clipNear": 0,
        "fogFar": 100,
        "fogNear": 50,
        "hoverTimeout": 0,
        "impostor": true,
        "lightColor": 14540253,
        "lightIntensity": 1,
        "mousePreset": "default",
        "panSpeed": 1,
        "quality": "medium",
        "rotateSpeed": 2,
        "sampleLevel": 0,
        "tooltip": true,
        "workerDefault": true,
        "zoomSpeed": 1.2
       },
       "_ngl_repr_dict": {
        "0": {
         "0": {
          "params": {
           "aspectRatio": 1.5,
           "assembly": "default",
           "bondScale": 0.3,
           "bondSpacing": 0.75,
           "clipCenter": {
            "x": 0,
            "y": 0,
            "z": 0
           },
           "clipNear": 0,
           "clipRadius": 0,
           "colorMode": "hcl",
           "colorReverse": false,
           "colorScale": "",
           "colorScheme": "element",
           "colorValue": 9474192,
           "cylinderOnly": false,
           "defaultAssembly": "",
           "depthWrite": true,
           "diffuse": 16777215,
           "diffuseInterior": false,
           "disableImpostor": false,
           "disablePicking": false,
           "flatShaded": false,
           "interiorColor": 2236962,
           "interiorDarkening": 0,
           "lazy": false,
           "lineOnly": false,
           "linewidth": 2,
           "matrix": {
            "elements": [
             1,
             0,
             0,
             0,
             0,
             1,
             0,
             0,
             0,
             0,
             1,
             0,
             0,
             0,
             0,
             1
            ]
           },
           "metalness": 0,
           "multipleBond": "off",
           "opacity": 1,
           "openEnded": true,
           "quality": "high",
           "radialSegments": 20,
           "radiusData": {},
           "radiusScale": 2,
           "radiusSize": 0.15,
           "radiusType": "size",
           "roughness": 0.4,
           "sele": "",
           "side": "double",
           "sphereDetail": 2,
           "useInteriorColor": true,
           "visible": true,
           "wireframe": false
          },
          "type": "ball+stick"
         }
        }
       },
       "_ngl_serialize": false,
       "_ngl_version": "2.0.0-dev.36",
       "_ngl_view_id": [
        "C0A5D64B-73D7-4247-9467-BFD3F6479A8A"
       ],
       "_player_dict": {},
       "_scene_position": {},
       "_scene_rotation": {},
       "_synced_model_ids": [],
       "_synced_repr_model_ids": [],
       "_view_height": "",
       "_view_width": "",
       "background": "white",
       "frame": 0,
       "gui_style": null,
       "layout": "IPY_MODEL_e34cf079381b4cb5a64b3789455fcf11",
       "max_frame": 0,
       "n_components": 1,
       "picked": {}
      }
     },
     "94ca778e820a4e299f8c15a38dab5560": {
      "model_module": "@jupyter-widgets/controls",
      "model_module_version": "1.5.0",
      "model_name": "LinkModel",
      "state": {
       "source": [
        "IPY_MODEL_323133e0a73040bb88adb31a255e502b",
        "value"
       ],
       "target": [
        "IPY_MODEL_0f3fc75ab74d4935ba6d672e90207a52",
        "frame"
       ]
      }
     },
     "9511b8387a5947aa8a72a017521aeb47": {
      "model_module": "@jupyter-widgets/base",
      "model_module_version": "1.2.0",
      "model_name": "LayoutModel",
      "state": {}
     },
     "951f167a54714cb59c5366e990c72360": {
      "model_module": "@jupyter-widgets/controls",
      "model_module_version": "1.5.0",
      "model_name": "LinkModel",
      "state": {
       "source": [
        "IPY_MODEL_648c8e29c4894c6cbae3dd72be95011a",
        "value"
       ],
       "target": [
        "IPY_MODEL_81a2c1c672f54df680a2ba6a8b6deb84",
        "value"
       ]
      }
     },
     "95beb20a02104f9a9ab1f4899d4237db": {
      "model_module": "@jupyter-widgets/controls",
      "model_module_version": "1.5.0",
      "model_name": "ButtonModel",
      "state": {
       "icon": "compress",
       "layout": "IPY_MODEL_935091d1408e480ba80211652587a5b9",
       "style": "IPY_MODEL_e9ff8ec9e01b4dbabb83ede47e31417f"
      }
     },
     "95d3efd4799044f884d09da16bdf2018": {
      "model_module": "@jupyter-widgets/base",
      "model_module_version": "1.2.0",
      "model_name": "LayoutModel",
      "state": {}
     },
     "963359ecc3a14befbd39ef64498b5e8a": {
      "model_module": "nglview-js-widgets",
      "model_module_version": "2.7.1",
      "model_name": "NGLModel",
      "state": {
       "_camera_orientation": [
        0.5346229800909954,
        1.2230113845123627,
        12.793715939793382,
        0,
        -0.39668579005319665,
        12.80024977667914,
        -1.20705930434249,
        0,
        -12.845916268555577,
        -0.344376151298445,
        0.5697248575307083,
        0,
        -1.1475000381469727,
        -1.1475000381469727,
        -1.1475000381469727,
        1
       ],
       "_camera_str": "orthographic",
       "_gui_theme": null,
       "_ibtn_fullscreen": "IPY_MODEL_fe3f8c21fcbf4b2cb339925ab6b4f1ed",
       "_igui": null,
       "_iplayer": "IPY_MODEL_e632d8849bc64d4e883d63bccdf6adac",
       "_ngl_color_dict": {},
       "_ngl_coordinate_resource": {},
       "_ngl_full_stage_parameters": {
        "ambientColor": 14540253,
        "ambientIntensity": 0.2,
        "backgroundColor": "white",
        "cameraEyeSep": 0.3,
        "cameraFov": 40,
        "cameraType": "perspective",
        "clipDist": 10,
        "clipFar": 100,
        "clipNear": 0,
        "fogFar": 100,
        "fogNear": 50,
        "hoverTimeout": 0,
        "impostor": true,
        "lightColor": 14540253,
        "lightIntensity": 1,
        "mousePreset": "default",
        "panSpeed": 1,
        "quality": "medium",
        "rotateSpeed": 2,
        "sampleLevel": 0,
        "tooltip": true,
        "workerDefault": true,
        "zoomSpeed": 1.2
       },
       "_ngl_msg_archive": [
        {
         "args": [
          {
           "binary": false,
           "data": "CRYST1    2.754    2.754    2.754  90.00  90.00  90.00 P 1\nMODEL     1\nATOM      0    H MOL     1       0.000   0.000   0.000  1.00  0.00           H  \nATOM      1    H MOL     1       0.459   0.459   0.000  1.00  0.00           H  \nATOM      2    H MOL     1       0.459   0.000   0.459  1.00  0.00           H  \nATOM      3    H MOL     1       0.000   0.459   0.459  1.00  0.00           H  \nATOM      4    H MOL     1       0.918   0.000   0.000  1.00  0.00           H  \nATOM      5    H MOL     1       1.377   0.459   0.000  1.00  0.00           H  \nATOM      6    H MOL     1       1.377   0.000   0.459  1.00  0.00           H  \nATOM      7    H MOL     1       0.918   0.459   0.459  1.00  0.00           H  \nATOM      8    H MOL     1       1.836   0.000   0.000  1.00  0.00           H  \nATOM      9    H MOL     1       2.295   0.459   0.000  1.00  0.00           H  \nATOM     10    H MOL     1       2.295   0.000   0.459  1.00  0.00           H  \nATOM     11    H MOL     1       1.836   0.459   0.459  1.00  0.00           H  \nATOM     12    H MOL     1       0.000   0.918   0.000  1.00  0.00           H  \nATOM     13    H MOL     1       0.459   1.377   0.000  1.00  0.00           H  \nATOM     14    H MOL     1       0.459   0.918   0.459  1.00  0.00           H  \nATOM     15    H MOL     1       0.000   1.377   0.459  1.00  0.00           H  \nATOM     16    H MOL     1       0.918   0.918   0.000  1.00  0.00           H  \nATOM     17    H MOL     1       1.377   1.377   0.000  1.00  0.00           H  \nATOM     18    H MOL     1       1.377   0.918   0.459  1.00  0.00           H  \nATOM     19    H MOL     1       0.918   1.377   0.459  1.00  0.00           H  \nATOM     20    H MOL     1       1.836   0.918   0.000  1.00  0.00           H  \nATOM     21    H MOL     1       2.295   1.377   0.000  1.00  0.00           H  \nATOM     22    H MOL     1       2.295   0.918   0.459  1.00  0.00           H  \nATOM     23    H MOL     1       1.836   1.377   0.459  1.00  0.00           H  \nATOM     24    H MOL     1       0.000   1.836   0.000  1.00  0.00           H  \nATOM     25    H MOL     1       0.459   2.295   0.000  1.00  0.00           H  \nATOM     26    H MOL     1       0.459   1.836   0.459  1.00  0.00           H  \nATOM     27    H MOL     1       0.000   2.295   0.459  1.00  0.00           H  \nATOM     28    H MOL     1       0.918   1.836   0.000  1.00  0.00           H  \nATOM     29    H MOL     1       1.377   2.295   0.000  1.00  0.00           H  \nATOM     30    H MOL     1       1.377   1.836   0.459  1.00  0.00           H  \nATOM     31    H MOL     1       0.918   2.295   0.459  1.00  0.00           H  \nATOM     32    H MOL     1       1.836   1.836   0.000  1.00  0.00           H  \nATOM     33    H MOL     1       2.295   2.295   0.000  1.00  0.00           H  \nATOM     34    H MOL     1       2.295   1.836   0.459  1.00  0.00           H  \nATOM     35    H MOL     1       1.836   2.295   0.459  1.00  0.00           H  \nATOM     36    H MOL     1       0.000   0.000   0.918  1.00  0.00           H  \nATOM     37    H MOL     1       0.459   0.459   0.918  1.00  0.00           H  \nATOM     38    H MOL     1       0.459   0.000   1.377  1.00  0.00           H  \nATOM     39    H MOL     1       0.000   0.459   1.377  1.00  0.00           H  \nATOM     40    H MOL     1       0.918   0.000   0.918  1.00  0.00           H  \nATOM     41    H MOL     1       1.377   0.459   0.918  1.00  0.00           H  \nATOM     42    H MOL     1       1.377   0.000   1.377  1.00  0.00           H  \nATOM     43    H MOL     1       0.918   0.459   1.377  1.00  0.00           H  \nATOM     44    H MOL     1       1.836   0.000   0.918  1.00  0.00           H  \nATOM     45    H MOL     1       2.295   0.459   0.918  1.00  0.00           H  \nATOM     46    H MOL     1       2.295   0.000   1.377  1.00  0.00           H  \nATOM     47    H MOL     1       1.836   0.459   1.377  1.00  0.00           H  \nATOM     48    H MOL     1       0.000   0.918   0.918  1.00  0.00           H  \nATOM     49    H MOL     1       0.459   1.377   0.918  1.00  0.00           H  \nATOM     50    H MOL     1       0.459   0.918   1.377  1.00  0.00           H  \nATOM     51    H MOL     1       0.000   1.377   1.377  1.00  0.00           H  \nATOM     52    H MOL     1       0.918   0.918   0.918  1.00  0.00           H  \nATOM     53    H MOL     1       1.377   1.377   0.918  1.00  0.00           H  \nATOM     54    H MOL     1       1.377   0.918   1.377  1.00  0.00           H  \nATOM     55    H MOL     1       0.918   1.377   1.377  1.00  0.00           H  \nATOM     56    H MOL     1       1.836   0.918   0.918  1.00  0.00           H  \nATOM     57    H MOL     1       2.295   1.377   0.918  1.00  0.00           H  \nATOM     58    H MOL     1       2.295   0.918   1.377  1.00  0.00           H  \nATOM     59    H MOL     1       1.836   1.377   1.377  1.00  0.00           H  \nATOM     60    H MOL     1       0.000   1.836   0.918  1.00  0.00           H  \nATOM     61    H MOL     1       0.459   2.295   0.918  1.00  0.00           H  \nATOM     62    H MOL     1       0.459   1.836   1.377  1.00  0.00           H  \nATOM     63    H MOL     1       0.000   2.295   1.377  1.00  0.00           H  \nATOM     64    H MOL     1       0.918   1.836   0.918  1.00  0.00           H  \nATOM     65    H MOL     1       1.377   2.295   0.918  1.00  0.00           H  \nATOM     66    H MOL     1       1.377   1.836   1.377  1.00  0.00           H  \nATOM     67    H MOL     1       0.918   2.295   1.377  1.00  0.00           H  \nATOM     68    H MOL     1       1.836   1.836   0.918  1.00  0.00           H  \nATOM     69    H MOL     1       2.295   2.295   0.918  1.00  0.00           H  \nATOM     70    H MOL     1       2.295   1.836   1.377  1.00  0.00           H  \nATOM     71    H MOL     1       1.836   2.295   1.377  1.00  0.00           H  \nATOM     72    H MOL     1       0.000   0.000   1.836  1.00  0.00           H  \nATOM     73    H MOL     1       0.459   0.459   1.836  1.00  0.00           H  \nATOM     74    H MOL     1       0.459   0.000   2.295  1.00  0.00           H  \nATOM     75    H MOL     1       0.000   0.459   2.295  1.00  0.00           H  \nATOM     76    H MOL     1       0.918   0.000   1.836  1.00  0.00           H  \nATOM     77    H MOL     1       1.377   0.459   1.836  1.00  0.00           H  \nATOM     78    H MOL     1       1.377   0.000   2.295  1.00  0.00           H  \nATOM     79    H MOL     1       0.918   0.459   2.295  1.00  0.00           H  \nATOM     80    H MOL     1       1.836   0.000   1.836  1.00  0.00           H  \nATOM     81    H MOL     1       2.295   0.459   1.836  1.00  0.00           H  \nATOM     82    H MOL     1       2.295   0.000   2.295  1.00  0.00           H  \nATOM     83    H MOL     1       1.836   0.459   2.295  1.00  0.00           H  \nATOM     84    H MOL     1       0.000   0.918   1.836  1.00  0.00           H  \nATOM     85    H MOL     1       0.459   1.377   1.836  1.00  0.00           H  \nATOM     86    H MOL     1       0.459   0.918   2.295  1.00  0.00           H  \nATOM     87    H MOL     1       0.000   1.377   2.295  1.00  0.00           H  \nATOM     88    H MOL     1       0.918   0.918   1.836  1.00  0.00           H  \nATOM     89    H MOL     1       1.377   1.377   1.836  1.00  0.00           H  \nATOM     90    H MOL     1       1.377   0.918   2.295  1.00  0.00           H  \nATOM     91    H MOL     1       0.918   1.377   2.295  1.00  0.00           H  \nATOM     92    H MOL     1       1.836   0.918   1.836  1.00  0.00           H  \nATOM     93    H MOL     1       2.295   1.377   1.836  1.00  0.00           H  \nATOM     94    H MOL     1       2.295   0.918   2.295  1.00  0.00           H  \nATOM     95    H MOL     1       1.836   1.377   2.295  1.00  0.00           H  \nATOM     96    H MOL     1       0.000   1.836   1.836  1.00  0.00           H  \nATOM     97    H MOL     1       0.459   2.295   1.836  1.00  0.00           H  \nATOM     98    H MOL     1       0.459   1.836   2.295  1.00  0.00           H  \nATOM     99    H MOL     1       0.000   2.295   2.295  1.00  0.00           H  \nATOM    100    H MOL     1       0.918   1.836   1.836  1.00  0.00           H  \nATOM    101    H MOL     1       1.377   2.295   1.836  1.00  0.00           H  \nATOM    102    H MOL     1       1.377   1.836   2.295  1.00  0.00           H  \nATOM    103    H MOL     1       0.918   2.295   2.295  1.00  0.00           H  \nATOM    104    H MOL     1       1.836   1.836   1.836  1.00  0.00           H  \nATOM    105    H MOL     1       2.295   2.295   1.836  1.00  0.00           H  \nATOM    106    H MOL     1       2.295   1.836   2.295  1.00  0.00           H  \nATOM    107    H MOL     1       1.836   2.295   2.295  1.00  0.00           H  \nENDMDL\n",
           "type": "blob"
          }
         ],
         "kwargs": {
          "defaultRepresentation": true,
          "ext": "pdb"
         },
         "methodName": "loadFile",
         "reconstruc_color_scheme": false,
         "target": "Stage",
         "type": "call_method"
        }
       ],
       "_ngl_original_stage_parameters": {
        "ambientColor": 14540253,
        "ambientIntensity": 0.2,
        "backgroundColor": "white",
        "cameraEyeSep": 0.3,
        "cameraFov": 40,
        "cameraType": "perspective",
        "clipDist": 10,
        "clipFar": 100,
        "clipNear": 0,
        "fogFar": 100,
        "fogNear": 50,
        "hoverTimeout": 0,
        "impostor": true,
        "lightColor": 14540253,
        "lightIntensity": 1,
        "mousePreset": "default",
        "panSpeed": 1,
        "quality": "medium",
        "rotateSpeed": 2,
        "sampleLevel": 0,
        "tooltip": true,
        "workerDefault": true,
        "zoomSpeed": 1.2
       },
       "_ngl_repr_dict": {
        "0": {
         "0": {
          "params": {
           "aspectRatio": 1.5,
           "assembly": "default",
           "bondScale": 0.3,
           "bondSpacing": 0.75,
           "clipCenter": {
            "x": 0,
            "y": 0,
            "z": 0
           },
           "clipNear": 0,
           "clipRadius": 0,
           "colorMode": "hcl",
           "colorReverse": false,
           "colorScale": "",
           "colorScheme": "element",
           "colorValue": 9474192,
           "cylinderOnly": false,
           "defaultAssembly": "",
           "depthWrite": true,
           "diffuse": 16777215,
           "diffuseInterior": false,
           "disableImpostor": false,
           "disablePicking": false,
           "flatShaded": false,
           "interiorColor": 2236962,
           "interiorDarkening": 0,
           "lazy": false,
           "lineOnly": false,
           "linewidth": 2,
           "matrix": {
            "elements": [
             1,
             0,
             0,
             0,
             0,
             1,
             0,
             0,
             0,
             0,
             1,
             0,
             0,
             0,
             0,
             1
            ]
           },
           "metalness": 0,
           "multipleBond": "off",
           "opacity": 1,
           "openEnded": true,
           "quality": "high",
           "radialSegments": 20,
           "radiusData": {},
           "radiusScale": 2,
           "radiusSize": 0.15,
           "radiusType": "size",
           "roughness": 0.4,
           "sele": "",
           "side": "double",
           "sphereDetail": 2,
           "useInteriorColor": true,
           "visible": true,
           "wireframe": false
          },
          "type": "ball+stick"
         }
        }
       },
       "_ngl_serialize": false,
       "_ngl_version": "2.0.0-dev.36",
       "_ngl_view_id": [
        "86439F19-7046-4413-B48A-FA976B2A5F37"
       ],
       "_player_dict": {},
       "_scene_position": {},
       "_scene_rotation": {},
       "_synced_model_ids": [],
       "_synced_repr_model_ids": [],
       "_view_height": "",
       "_view_width": "",
       "background": "white",
       "frame": 0,
       "gui_style": null,
       "layout": "IPY_MODEL_c27415541ea14153b038a8312773961f",
       "max_frame": 0,
       "n_components": 1,
       "picked": {}
      }
     },
     "96361ea0df324b44a2f91c2d2285be9b": {
      "model_module": "@jupyter-widgets/base",
      "model_module_version": "1.2.0",
      "model_name": "LayoutModel",
      "state": {}
     },
     "9698e1e5b6e64479b3d637803a0e8815": {
      "model_module": "@jupyter-widgets/base",
      "model_module_version": "1.2.0",
      "model_name": "LayoutModel",
      "state": {}
     },
     "96beb977289745408b48eb4e397eb296": {
      "model_module": "@jupyter-widgets/controls",
      "model_module_version": "1.5.0",
      "model_name": "HBoxModel",
      "state": {
       "children": [
        "IPY_MODEL_553e987de45246929a61bd7e59c543cc",
        "IPY_MODEL_ac59ca0c124d4d7d83e4d1b5a19503c4"
       ],
       "layout": "IPY_MODEL_f65425d674154996af3bde170ccbfbd1"
      }
     },
     "97575e3cca494fdea2774f9e234b8ed3": {
      "model_module": "@jupyter-widgets/controls",
      "model_module_version": "1.5.0",
      "model_name": "HBoxModel",
      "state": {
       "children": [
        "IPY_MODEL_e1bef34e3baf45adaf33e76d09f4bbea",
        "IPY_MODEL_cdcf4af4adba41849411e5c0d29e9ffe"
       ],
       "layout": "IPY_MODEL_304937d284a8441d961e78d85fb243c9"
      }
     },
     "990a5ee4d52e40989c6ba31f80ff0bf1": {
      "model_module": "@jupyter-widgets/controls",
      "model_module_version": "1.5.0",
      "model_name": "LinkModel",
      "state": {
       "source": [
        "IPY_MODEL_07306369a76a4b94bb6c0829eb28ec4a",
        "value"
       ],
       "target": [
        "IPY_MODEL_08855dc0711f457c8e1894b33f4fb70b",
        "frame"
       ]
      }
     },
     "9912bafa93ef47f78767f400c9b84d61": {
      "model_module": "@jupyter-widgets/controls",
      "model_module_version": "1.5.0",
      "model_name": "SliderStyleModel",
      "state": {
       "description_width": ""
      }
     },
     "994dd304b3914b5aa431b26d9944876c": {
      "model_module": "@jupyter-widgets/base",
      "model_module_version": "1.2.0",
      "model_name": "LayoutModel",
      "state": {}
     },
     "9a761a94086049c7a2224c0502d45f7b": {
      "model_module": "@jupyter-widgets/base",
      "model_module_version": "1.2.0",
      "model_name": "LayoutModel",
      "state": {}
     },
     "9b5f46d34ca34862ba1ab8318d9c80be": {
      "model_module": "@jupyter-widgets/controls",
      "model_module_version": "1.5.0",
      "model_name": "LinkModel",
      "state": {
       "source": [
        "IPY_MODEL_5fcfa0cf40fd4ba88c074fbc04e6a7bc",
        "value"
       ],
       "target": [
        "IPY_MODEL_aa9d8ffa895243c7af11c0bcbe19bc32",
        "value"
       ]
      }
     },
     "9bc3dc08d717498b927a17a5fbf27f14": {
      "model_module": "@jupyter-widgets/controls",
      "model_module_version": "1.5.0",
      "model_name": "ButtonStyleModel",
      "state": {}
     },
     "9c7852b62da84fbeb3215fd85e795b21": {
      "model_module": "@jupyter-widgets/controls",
      "model_module_version": "1.5.0",
      "model_name": "ImageModel",
      "state": {
       "layout": "IPY_MODEL_3683a29915b64e1c8269514f3a741751",
       "width": "900.0"
      }
     },
     "9dd0cd785b384446ae5eb0b243aff0dc": {
      "model_module": "@jupyter-widgets/controls",
      "model_module_version": "1.5.0",
      "model_name": "ButtonModel",
      "state": {
       "icon": "compress",
       "layout": "IPY_MODEL_eab96e85d3184887a6fc94d1468b07f6",
       "style": "IPY_MODEL_e6a77e4d5385472490365b5e67219bf8"
      }
     },
     "9dfbca854cdc458e876f7f35d76bb091": {
      "model_module": "@jupyter-widgets/controls",
      "model_module_version": "1.5.0",
      "model_name": "ButtonModel",
      "state": {
       "icon": "compress",
       "layout": "IPY_MODEL_5bb9714e0a91431b9e047d9d48984e59",
       "style": "IPY_MODEL_7df25367919b4a8a9d96641a7380c7c7"
      }
     },
     "9edd37bcee6440f9a8d956c2cec48202": {
      "model_module": "@jupyter-widgets/controls",
      "model_module_version": "1.5.0",
      "model_name": "IntSliderModel",
      "state": {
       "layout": "IPY_MODEL_5064e1f5287b4b0ab6beb7ed6187400c",
       "max": 29,
       "style": "IPY_MODEL_752615963de7410e838e7ec56a771366"
      }
     },
     "a0360ba5957048cc9abacc71a307c3b1": {
      "model_module": "@jupyter-widgets/controls",
      "model_module_version": "1.5.0",
      "model_name": "LinkModel",
      "state": {
       "source": [
        "IPY_MODEL_cd4d664a993d4ed093ccc7aa90992ff6",
        "value"
       ],
       "target": [
        "IPY_MODEL_064ec2c5e692402780720c9da8155788",
        "frame"
       ]
      }
     },
     "a13c3db380f34cf48a5e5a659867124e": {
      "model_module": "@jupyter-widgets/controls",
      "model_module_version": "1.5.0",
      "model_name": "DescriptionStyleModel",
      "state": {
       "description_width": ""
      }
     },
     "a18d9a281f9845ed9319796ca1c27c44": {
      "model_module": "@jupyter-widgets/controls",
      "model_module_version": "1.5.0",
      "model_name": "SliderStyleModel",
      "state": {
       "description_width": ""
      }
     },
     "a1cc89975bb14e80adb419b5df7effaa": {
      "model_module": "@jupyter-widgets/base",
      "model_module_version": "1.2.0",
      "model_name": "LayoutModel",
      "state": {}
     },
     "a2f55e8c8f47495aa77bff7ed3e09b3a": {
      "model_module": "@jupyter-widgets/controls",
      "model_module_version": "1.5.0",
      "model_name": "ButtonModel",
      "state": {
       "icon": "compress",
       "layout": "IPY_MODEL_d5cdbad44de5461ca648c3e4ffc0d649",
       "style": "IPY_MODEL_7f979132188f419d8b11b4f24d3d0873"
      }
     },
     "a411a10cb0f24bb5a151e3a8a4048806": {
      "model_module": "@jupyter-widgets/base",
      "model_module_version": "1.2.0",
      "model_name": "LayoutModel",
      "state": {}
     },
     "a5d22483709e41bca2ce23b8a345fbbe": {
      "model_module": "@jupyter-widgets/controls",
      "model_module_version": "1.5.0",
      "model_name": "LinkModel",
      "state": {
       "source": [
        "IPY_MODEL_394a5d4ef6ae4365810109d2e469bc51",
        "max"
       ],
       "target": [
        "IPY_MODEL_e997f9b1ba1d4b2280950f1b1eb80339",
        "max_frame"
       ]
      }
     },
     "a6b0e605d0be464999dff4fbff3c5e74": {
      "model_module": "@jupyter-widgets/controls",
      "model_module_version": "1.5.0",
      "model_name": "SliderStyleModel",
      "state": {
       "description_width": ""
      }
     },
     "a731fbf2f6b34935be5c3d428381d08c": {
      "model_module": "@jupyter-widgets/controls",
      "model_module_version": "1.5.0",
      "model_name": "HBoxModel",
      "state": {
       "children": [
        "IPY_MODEL_0351dbe513344fdabea2e00331dc0fe2",
        "IPY_MODEL_3eb379ba5d4b4003b74ef455cd3eb85f"
       ],
       "layout": "IPY_MODEL_e80187468856493db26feb02a1387c54"
      }
     },
     "a7e3bdf6ed1e422ab590092762b107f5": {
      "model_module": "@jupyter-widgets/base",
      "model_module_version": "1.2.0",
      "model_name": "LayoutModel",
      "state": {}
     },
     "a7f1fac863d847729efa3036f7cbf979": {
      "model_module": "@jupyter-widgets/controls",
      "model_module_version": "1.5.0",
      "model_name": "PlayModel",
      "state": {
       "layout": "IPY_MODEL_54b7e58589e14e93a45b083884901efd",
       "max": 9,
       "style": "IPY_MODEL_45ef030edcd341eebca88fa68d372a37"
      }
     },
     "a9131aba5dce49b3a656cc915b57dbd9": {
      "model_module": "@jupyter-widgets/base",
      "model_module_version": "1.2.0",
      "model_name": "LayoutModel",
      "state": {}
     },
     "a953c79fda0f46e097e72d4d977ef612": {
      "model_module": "@jupyter-widgets/base",
      "model_module_version": "1.2.0",
      "model_name": "LayoutModel",
      "state": {}
     },
     "aa891e9f8e1145f8a72815b303ee4a3b": {
      "model_module": "@jupyter-widgets/base",
      "model_module_version": "1.2.0",
      "model_name": "LayoutModel",
      "state": {
       "width": "34px"
      }
     },
     "aa9d8ffa895243c7af11c0bcbe19bc32": {
      "model_module": "@jupyter-widgets/controls",
      "model_module_version": "1.5.0",
      "model_name": "IntSliderModel",
      "state": {
       "layout": "IPY_MODEL_8c528952a08d4aa9ae2173986eb95adc",
       "max": 0,
       "style": "IPY_MODEL_ad9283c0eae6411fb2ff7f2d6ddb6952"
      }
     },
     "ab14bf5d9fca4fdfb4f52610535aec2e": {
      "model_module": "nglview-js-widgets",
      "model_module_version": "2.7.1",
      "model_name": "NGLModel",
      "state": {
       "_camera_orientation": [
        15.271925906981508,
        0,
        0,
        0,
        0,
        15.271925906981508,
        0,
        0,
        0,
        0,
        15.271925906981508,
        0,
        -1.0709999799728394,
        -1.0709999799728394,
        -1.0709999799728394,
        1
       ],
       "_camera_str": "orthographic",
       "_gui_theme": null,
       "_ibtn_fullscreen": "IPY_MODEL_0bdfe695765048e1871a1f5ee205a0f2",
       "_igui": null,
       "_iplayer": "IPY_MODEL_88fa5c150f5f4f07b2016883016b14c4",
       "_ngl_color_dict": {},
       "_ngl_coordinate_resource": {},
       "_ngl_full_stage_parameters": {
        "ambientColor": 14540253,
        "ambientIntensity": 0.2,
        "backgroundColor": "white",
        "cameraEyeSep": 0.3,
        "cameraFov": 40,
        "cameraType": "perspective",
        "clipDist": 10,
        "clipFar": 100,
        "clipNear": 0,
        "fogFar": 100,
        "fogNear": 50,
        "hoverTimeout": 0,
        "impostor": true,
        "lightColor": 14540253,
        "lightIntensity": 1,
        "mousePreset": "default",
        "panSpeed": 1,
        "quality": "medium",
        "rotateSpeed": 2,
        "sampleLevel": 0,
        "tooltip": true,
        "workerDefault": true,
        "zoomSpeed": 1.2
       },
       "_ngl_msg_archive": [
        {
         "args": [
          {
           "binary": false,
           "data": "CRYST1    2.856    2.856    2.856  90.00  90.00  90.00 P 1\nMODEL     1\nATOM      0    H MOL     1       0.000   0.000   0.000  1.00  0.00           H  \nATOM      1    H MOL     1       0.714   0.714   0.000  1.00  0.00           H  \nATOM      2    H MOL     1       0.714   0.000   0.714  1.00  0.00           H  \nATOM      3    H MOL     1       0.000   0.714   0.714  1.00  0.00           H  \nATOM      4    H MOL     1       1.428   0.000   0.000  1.00  0.00           H  \nATOM      5    H MOL     1       2.142   0.714   0.000  1.00  0.00           H  \nATOM      6    H MOL     1       2.142   0.000   0.714  1.00  0.00           H  \nATOM      7    H MOL     1       1.428   0.714   0.714  1.00  0.00           H  \nATOM      8    H MOL     1       0.000   1.428   0.000  1.00  0.00           H  \nATOM      9    H MOL     1       0.714   2.142   0.000  1.00  0.00           H  \nATOM     10    H MOL     1       0.714   1.428   0.714  1.00  0.00           H  \nATOM     11    H MOL     1       0.000   2.142   0.714  1.00  0.00           H  \nATOM     12    H MOL     1       1.428   1.428   0.000  1.00  0.00           H  \nATOM     13    H MOL     1       2.142   2.142   0.000  1.00  0.00           H  \nATOM     14    H MOL     1       2.142   1.428   0.714  1.00  0.00           H  \nATOM     15    H MOL     1       1.428   2.142   0.714  1.00  0.00           H  \nATOM     16    H MOL     1       0.000   0.000   1.428  1.00  0.00           H  \nATOM     17    H MOL     1       0.714   0.714   1.428  1.00  0.00           H  \nATOM     18    H MOL     1       0.714   0.000   2.142  1.00  0.00           H  \nATOM     19    H MOL     1       0.000   0.714   2.142  1.00  0.00           H  \nATOM     20    H MOL     1       1.428   0.000   1.428  1.00  0.00           H  \nATOM     21    H MOL     1       2.142   0.714   1.428  1.00  0.00           H  \nATOM     22    H MOL     1       2.142   0.000   2.142  1.00  0.00           H  \nATOM     23    H MOL     1       1.428   0.714   2.142  1.00  0.00           H  \nATOM     24    H MOL     1       0.000   1.428   1.428  1.00  0.00           H  \nATOM     25    H MOL     1       0.714   2.142   1.428  1.00  0.00           H  \nATOM     26    H MOL     1       0.714   1.428   2.142  1.00  0.00           H  \nATOM     27    H MOL     1       0.000   2.142   2.142  1.00  0.00           H  \nATOM     28    H MOL     1       1.428   1.428   1.428  1.00  0.00           H  \nATOM     29    H MOL     1       2.142   2.142   1.428  1.00  0.00           H  \nATOM     30    H MOL     1       2.142   1.428   2.142  1.00  0.00           H  \nATOM     31    H MOL     1       1.428   2.142   2.142  1.00  0.00           H  \nENDMDL\n",
           "type": "blob"
          }
         ],
         "kwargs": {
          "defaultRepresentation": true,
          "ext": "pdb"
         },
         "methodName": "loadFile",
         "reconstruc_color_scheme": false,
         "target": "Stage",
         "type": "call_method"
        }
       ],
       "_ngl_original_stage_parameters": {
        "ambientColor": 14540253,
        "ambientIntensity": 0.2,
        "backgroundColor": "white",
        "cameraEyeSep": 0.3,
        "cameraFov": 40,
        "cameraType": "perspective",
        "clipDist": 10,
        "clipFar": 100,
        "clipNear": 0,
        "fogFar": 100,
        "fogNear": 50,
        "hoverTimeout": 0,
        "impostor": true,
        "lightColor": 14540253,
        "lightIntensity": 1,
        "mousePreset": "default",
        "panSpeed": 1,
        "quality": "medium",
        "rotateSpeed": 2,
        "sampleLevel": 0,
        "tooltip": true,
        "workerDefault": true,
        "zoomSpeed": 1.2
       },
       "_ngl_repr_dict": {
        "0": {
         "0": {
          "params": {
           "aspectRatio": 1.5,
           "assembly": "default",
           "bondScale": 0.3,
           "bondSpacing": 0.75,
           "clipCenter": {
            "x": 0,
            "y": 0,
            "z": 0
           },
           "clipNear": 0,
           "clipRadius": 0,
           "colorMode": "hcl",
           "colorReverse": false,
           "colorScale": "",
           "colorScheme": "element",
           "colorValue": 9474192,
           "cylinderOnly": false,
           "defaultAssembly": "",
           "depthWrite": true,
           "diffuse": 16777215,
           "diffuseInterior": false,
           "disableImpostor": false,
           "disablePicking": false,
           "flatShaded": false,
           "interiorColor": 2236962,
           "interiorDarkening": 0,
           "lazy": false,
           "lineOnly": false,
           "linewidth": 2,
           "matrix": {
            "elements": [
             1,
             0,
             0,
             0,
             0,
             1,
             0,
             0,
             0,
             0,
             1,
             0,
             0,
             0,
             0,
             1
            ]
           },
           "metalness": 0,
           "multipleBond": "off",
           "opacity": 1,
           "openEnded": true,
           "quality": "high",
           "radialSegments": 20,
           "radiusData": {},
           "radiusScale": 2,
           "radiusSize": 0.15,
           "radiusType": "size",
           "roughness": 0.4,
           "sele": "",
           "side": "double",
           "sphereDetail": 2,
           "useInteriorColor": true,
           "visible": true,
           "wireframe": false
          },
          "type": "ball+stick"
         }
        }
       },
       "_ngl_serialize": false,
       "_ngl_version": "2.0.0-dev.36",
       "_ngl_view_id": [
        "4DF649D6-0FCC-417A-BB88-88AE71CB6B50"
       ],
       "_player_dict": {},
       "_scene_position": {},
       "_scene_rotation": {},
       "_synced_model_ids": [],
       "_synced_repr_model_ids": [],
       "_view_height": "",
       "_view_width": "",
       "background": "white",
       "frame": 0,
       "gui_style": null,
       "layout": "IPY_MODEL_5e59af434f5c4ca2b011ad57dca474ff",
       "max_frame": 0,
       "n_components": 1,
       "picked": {}
      }
     },
     "abf4951ef07142eea669ac09313b4921": {
      "model_module": "@jupyter-widgets/controls",
      "model_module_version": "1.5.0",
      "model_name": "LinkModel",
      "state": {
       "source": [
        "IPY_MODEL_fa87e5803879480b852e136cb37b4083",
        "max"
       ],
       "target": [
        "IPY_MODEL_04a95c66e4fd4abf9a743740a829102e",
        "max_frame"
       ]
      }
     },
     "abfcf814e35c4704a960b8e5c755facb": {
      "model_module": "@jupyter-widgets/controls",
      "model_module_version": "1.5.0",
      "model_name": "HBoxModel",
      "state": {
       "children": [
        "IPY_MODEL_36ca4252a7c04bda929983d323768068",
        "IPY_MODEL_90450bf43bad4e5a96e1be3ede3dba96"
       ],
       "layout": "IPY_MODEL_023d1a46033b4421b27426f8341ae5b4"
      }
     },
     "ac27164f993d47b2af4675c07bff5569": {
      "model_module": "@jupyter-widgets/controls",
      "model_module_version": "1.5.0",
      "model_name": "LinkModel",
      "state": {
       "source": [
        "IPY_MODEL_f9ab86a4cf8c49f2ab260f0053e076f1",
        "max"
       ],
       "target": [
        "IPY_MODEL_4061cd674c5544d99f13d751b7b38aea",
        "max_frame"
       ]
      }
     },
     "ac59ca0c124d4d7d83e4d1b5a19503c4": {
      "model_module": "@jupyter-widgets/controls",
      "model_module_version": "1.5.0",
      "model_name": "IntSliderModel",
      "state": {
       "layout": "IPY_MODEL_449af4441f934f6eafeede7fe30821bb",
       "max": 4,
       "style": "IPY_MODEL_8d177cc314cd41808091b2febf783d34",
       "value": 4
      }
     },
     "ac795900010345bd8db0ad9d7029d51d": {
      "model_module": "@jupyter-widgets/controls",
      "model_module_version": "1.5.0",
      "model_name": "DescriptionStyleModel",
      "state": {
       "description_width": ""
      }
     },
     "ad9283c0eae6411fb2ff7f2d6ddb6952": {
      "model_module": "@jupyter-widgets/controls",
      "model_module_version": "1.5.0",
      "model_name": "SliderStyleModel",
      "state": {
       "description_width": ""
      }
     },
     "ae2734d400504896b968becd5fa76d9a": {
      "model_module": "nglview-js-widgets",
      "model_module_version": "2.7.1",
      "model_name": "NGLModel",
      "state": {
       "_camera_orientation": [
        2.654925024244412,
        -2.4086326100430098,
        14.845254560761592,
        0,
        -14.791726650032556,
        2.30627415615963,
        3.019543531012398,
        0,
        -2.7180722460393834,
        -14.903399255700082,
        -1.9319665625581866,
        0,
        -1.0709999799728394,
        -1.0709999799728394,
        -1.0709999799728394,
        1
       ],
       "_camera_str": "orthographic",
       "_gui_theme": null,
       "_ibtn_fullscreen": "IPY_MODEL_d9604ad9d87b4a31bbbf7e6d41321f51",
       "_igui": null,
       "_iplayer": "IPY_MODEL_b64b0500403846cea232e2b44b4f1839",
       "_ngl_color_dict": {},
       "_ngl_coordinate_resource": {},
       "_ngl_full_stage_parameters": {
        "ambientColor": 14540253,
        "ambientIntensity": 0.2,
        "backgroundColor": "white",
        "cameraEyeSep": 0.3,
        "cameraFov": 40,
        "cameraType": "perspective",
        "clipDist": 10,
        "clipFar": 100,
        "clipNear": 0,
        "fogFar": 100,
        "fogNear": 50,
        "hoverTimeout": 0,
        "impostor": true,
        "lightColor": 14540253,
        "lightIntensity": 1,
        "mousePreset": "default",
        "panSpeed": 1,
        "quality": "medium",
        "rotateSpeed": 2,
        "sampleLevel": 0,
        "tooltip": true,
        "workerDefault": true,
        "zoomSpeed": 1.2
       },
       "_ngl_msg_archive": [
        {
         "args": [
          {
           "binary": false,
           "data": "MODEL        0\nATOM      1  H   MOL A   1       0.000   0.000   0.000  1.00  0.00          H   \nATOM      2  H   MOL A   1       0.714   0.714   0.000  1.00  0.00          H   \nATOM      3  H   MOL A   1       0.714   0.000   0.714  1.00  0.00          H   \nATOM      4  H   MOL A   1       0.000   0.714   0.714  1.00  0.00          H   \nATOM      5  H   MOL A   1       1.428   0.000   0.000  1.00  0.00          H   \nATOM      6  H   MOL A   1       2.142   0.714   0.000  1.00  0.00          H   \nATOM      7  H   MOL A   1       2.142   0.000   0.714  1.00  0.00          H   \nATOM      8  H   MOL A   1       1.428   0.714   0.714  1.00  0.00          H   \nATOM      9  H   MOL A   1       0.000   1.428   0.000  1.00  0.00          H   \nATOM     10  H   MOL A   1       0.714   2.142   0.000  1.00  0.00          H   \nATOM     11  H   MOL A   1       0.714   1.428   0.714  1.00  0.00          H   \nATOM     12  H   MOL A   1       0.000   2.142   0.714  1.00  0.00          H   \nATOM     13  H   MOL A   1       1.428   1.428   0.000  1.00  0.00          H   \nATOM     14  H   MOL A   1       2.142   2.142   0.000  1.00  0.00          H   \nATOM     15  H   MOL A   1       2.142   1.428   0.714  1.00  0.00          H   \nATOM     16  H   MOL A   1       1.428   2.142   0.714  1.00  0.00          H   \nATOM     17  H   MOL A   1       0.000   0.000   1.428  1.00  0.00          H   \nATOM     18  H   MOL A   1       0.714   0.714   1.428  1.00  0.00          H   \nATOM     19  H   MOL A   1       0.714   0.000   2.142  1.00  0.00          H   \nATOM     20  H   MOL A   1       0.000   0.714   2.142  1.00  0.00          H   \nATOM     21  H   MOL A   1       1.428   0.000   1.428  1.00  0.00          H   \nATOM     22  H   MOL A   1       2.142   0.714   1.428  1.00  0.00          H   \nATOM     23  H   MOL A   1       2.142   0.000   2.142  1.00  0.00          H   \nATOM     24  H   MOL A   1       1.428   0.714   2.142  1.00  0.00          H   \nATOM     25  H   MOL A   1       0.000   1.428   1.428  1.00  0.00          H   \nATOM     26  H   MOL A   1       0.714   2.142   1.428  1.00  0.00          H   \nATOM     27  H   MOL A   1       0.714   1.428   2.142  1.00  0.00          H   \nATOM     28  H   MOL A   1       0.000   2.142   2.142  1.00  0.00          H   \nATOM     29  H   MOL A   1       1.428   1.428   1.428  1.00  0.00          H   \nATOM     30  H   MOL A   1       2.142   2.142   1.428  1.00  0.00          H   \nATOM     31  H   MOL A   1       2.142   1.428   2.142  1.00  0.00          H   \nATOM     32  H   MOL A   1       1.428   2.142   2.142  1.00  0.00          H   \nTER      33      MOL A   1\nENDMDL\nEND\n",
           "type": "blob"
          }
         ],
         "kwargs": {
          "defaultRepresentation": true,
          "ext": "pdb"
         },
         "methodName": "loadFile",
         "reconstruc_color_scheme": false,
         "target": "Stage",
         "type": "call_method"
        }
       ],
       "_ngl_original_stage_parameters": {
        "ambientColor": 14540253,
        "ambientIntensity": 0.2,
        "backgroundColor": "white",
        "cameraEyeSep": 0.3,
        "cameraFov": 40,
        "cameraType": "perspective",
        "clipDist": 10,
        "clipFar": 100,
        "clipNear": 0,
        "fogFar": 100,
        "fogNear": 50,
        "hoverTimeout": 0,
        "impostor": true,
        "lightColor": 14540253,
        "lightIntensity": 1,
        "mousePreset": "default",
        "panSpeed": 1,
        "quality": "medium",
        "rotateSpeed": 2,
        "sampleLevel": 0,
        "tooltip": true,
        "workerDefault": true,
        "zoomSpeed": 1.2
       },
       "_ngl_repr_dict": {
        "0": {
         "0": {
          "params": {
           "aspectRatio": 1.5,
           "assembly": "default",
           "bondScale": 0.3,
           "bondSpacing": 0.75,
           "clipCenter": {
            "x": 0,
            "y": 0,
            "z": 0
           },
           "clipNear": 0,
           "clipRadius": 0,
           "colorMode": "hcl",
           "colorReverse": false,
           "colorScale": "",
           "colorScheme": "element",
           "colorValue": 9474192,
           "cylinderOnly": false,
           "defaultAssembly": "",
           "depthWrite": true,
           "diffuse": 16777215,
           "diffuseInterior": false,
           "disableImpostor": false,
           "disablePicking": false,
           "flatShaded": false,
           "interiorColor": 2236962,
           "interiorDarkening": 0,
           "lazy": false,
           "lineOnly": false,
           "linewidth": 2,
           "matrix": {
            "elements": [
             1,
             0,
             0,
             0,
             0,
             1,
             0,
             0,
             0,
             0,
             1,
             0,
             0,
             0,
             0,
             1
            ]
           },
           "metalness": 0,
           "multipleBond": "off",
           "opacity": 1,
           "openEnded": true,
           "quality": "high",
           "radialSegments": 20,
           "radiusData": {},
           "radiusScale": 2,
           "radiusSize": 0.15,
           "radiusType": "size",
           "roughness": 0.4,
           "sele": "",
           "side": "double",
           "sphereDetail": 2,
           "useInteriorColor": true,
           "visible": true,
           "wireframe": false
          },
          "type": "ball+stick"
         }
        }
       },
       "_ngl_serialize": false,
       "_ngl_version": "2.0.0-dev.36",
       "_ngl_view_id": [
        "0B5AA762-60AB-438F-952C-807EDAC4E589"
       ],
       "_player_dict": {},
       "_scene_position": {},
       "_scene_rotation": {},
       "_synced_model_ids": [],
       "_synced_repr_model_ids": [],
       "_view_height": "",
       "_view_width": "",
       "background": "white",
       "frame": 9,
       "gui_style": null,
       "layout": "IPY_MODEL_96361ea0df324b44a2f91c2d2285be9b",
       "max_frame": 9,
       "n_components": 1,
       "picked": {}
      }
     },
     "af0ac1e9c6b9432ca1018c162a0a5a3d": {
      "model_module": "@jupyter-widgets/base",
      "model_module_version": "1.2.0",
      "model_name": "LayoutModel",
      "state": {}
     },
     "b00fdf89c77042b3a8e5a0e55fddde4b": {
      "model_module": "@jupyter-widgets/controls",
      "model_module_version": "1.5.0",
      "model_name": "ButtonModel",
      "state": {
       "icon": "compress",
       "layout": "IPY_MODEL_3a3129c3da5c49c5a16fc5457e699536",
       "style": "IPY_MODEL_52e7c6c5a57543dd8d0a8fdbbc92c678"
      }
     },
     "b058ef10596548b98ddc439d4993d66e": {
      "model_module": "@jupyter-widgets/base",
      "model_module_version": "1.2.0",
      "model_name": "LayoutModel",
      "state": {}
     },
     "b38b39066d6a4ed9a252decc6815bfcc": {
      "model_module": "@jupyter-widgets/controls",
      "model_module_version": "1.5.0",
      "model_name": "ButtonStyleModel",
      "state": {}
     },
     "b3e2a61929224b9598f93a78b1412668": {
      "model_module": "@jupyter-widgets/controls",
      "model_module_version": "1.5.0",
      "model_name": "ButtonStyleModel",
      "state": {}
     },
     "b44374cc8e3c4e599ae8f6e74f3b5863": {
      "model_module": "@jupyter-widgets/controls",
      "model_module_version": "1.5.0",
      "model_name": "HBoxModel",
      "state": {
       "children": [
        "IPY_MODEL_f9ab86a4cf8c49f2ab260f0053e076f1",
        "IPY_MODEL_8234052850c0471f88c66da1fa5b04fb"
       ],
       "layout": "IPY_MODEL_7149c80f3cc1415ea782d4fe4e747d01"
      }
     },
     "b5a6f6f08eec4618bd68892486e01115": {
      "model_module": "@jupyter-widgets/base",
      "model_module_version": "1.2.0",
      "model_name": "LayoutModel",
      "state": {}
     },
     "b64b0500403846cea232e2b44b4f1839": {
      "model_module": "@jupyter-widgets/controls",
      "model_module_version": "1.5.0",
      "model_name": "HBoxModel",
      "state": {
       "children": [
        "IPY_MODEL_609f35daacf14941b3699a266ad02df2",
        "IPY_MODEL_f078b430faf24993bcf069231512d873"
       ],
       "layout": "IPY_MODEL_cd79f54c110f478eb1b398e8468f78ab"
      }
     },
     "b683c30822e64dfea1e5af3d537ef48b": {
      "model_module": "@jupyter-widgets/controls",
      "model_module_version": "1.5.0",
      "model_name": "LinkModel",
      "state": {
       "source": [
        "IPY_MODEL_f0e2403069824cac9606e868de1698b9",
        "max"
       ],
       "target": [
        "IPY_MODEL_7d76bd00a3c54748b92cf22aa5d858f6",
        "max_frame"
       ]
      }
     },
     "b687a9fae4a94b30aaf97686d9118f45": {
      "model_module": "@jupyter-widgets/controls",
      "model_module_version": "1.5.0",
      "model_name": "HBoxModel",
      "state": {
       "children": [
        "IPY_MODEL_394a5d4ef6ae4365810109d2e469bc51",
        "IPY_MODEL_cdb0627079ca4994826ffeb7f442d654"
       ],
       "layout": "IPY_MODEL_b8de57e078dc439888a7cf4145776d40"
      }
     },
     "b746361bcc0b4037ad616f23db91a7c0": {
      "model_module": "@jupyter-widgets/controls",
      "model_module_version": "1.5.0",
      "model_name": "LinkModel",
      "state": {
       "source": [
        "IPY_MODEL_53fcd88449be450f83847a48d055e7e8",
        "max"
       ],
       "target": [
        "IPY_MODEL_8be17601cd97428289c6dc0e5dcfe7c1",
        "max_frame"
       ]
      }
     },
     "b818839b61f943d7b39a8e3809285863": {
      "model_module": "@jupyter-widgets/controls",
      "model_module_version": "1.5.0",
      "model_name": "PlayModel",
      "state": {
       "layout": "IPY_MODEL_c611053d7a5341a7a5da907a25fd214c",
       "max": 9,
       "style": "IPY_MODEL_2cc10412cbcf48048f3869a416f77b73",
       "value": 2
      }
     },
     "b8de57e078dc439888a7cf4145776d40": {
      "model_module": "@jupyter-widgets/base",
      "model_module_version": "1.2.0",
      "model_name": "LayoutModel",
      "state": {}
     },
     "ba4e6088e5994b098f1bbdb0f712f390": {
      "model_module": "@jupyter-widgets/controls",
      "model_module_version": "1.5.0",
      "model_name": "IntSliderModel",
      "state": {
       "layout": "IPY_MODEL_c701ad8d55154c84a939034e366dc9d9",
       "max": 4,
       "style": "IPY_MODEL_56516162c62a4e29ad87bf9527bbcbab",
       "value": 4
      }
     },
     "ba81268bdb334bab882e134f383e2339": {
      "model_module": "@jupyter-widgets/controls",
      "model_module_version": "1.5.0",
      "model_name": "ImageModel",
      "state": {
       "layout": "IPY_MODEL_ba97997acb6f4a2c9cd943b89d476f1b",
       "width": "900.0"
      }
     },
     "ba97997acb6f4a2c9cd943b89d476f1b": {
      "model_module": "@jupyter-widgets/base",
      "model_module_version": "1.2.0",
      "model_name": "LayoutModel",
      "state": {}
     },
     "bc3d7fce8e8444e48215b8fe32d2687d": {
      "model_module": "@jupyter-widgets/controls",
      "model_module_version": "1.5.0",
      "model_name": "ImageModel",
      "state": {
       "layout": "IPY_MODEL_a7e3bdf6ed1e422ab590092762b107f5",
       "width": "900.0"
      }
     },
     "bc56de5d29a941c098cd5088cc996aa2": {
      "model_module": "@jupyter-widgets/base",
      "model_module_version": "1.2.0",
      "model_name": "LayoutModel",
      "state": {}
     },
     "bcb43685074948428eec5df6f89c52c8": {
      "model_module": "@jupyter-widgets/controls",
      "model_module_version": "1.5.0",
      "model_name": "ButtonStyleModel",
      "state": {}
     },
     "bd69f8ff6da54580b3deee4ce1086f3d": {
      "model_module": "@jupyter-widgets/controls",
      "model_module_version": "1.5.0",
      "model_name": "LinkModel",
      "state": {
       "source": [
        "IPY_MODEL_a7f1fac863d847729efa3036f7cbf979",
        "value"
       ],
       "target": [
        "IPY_MODEL_751112a2a255448b97af6db087fcd76f",
        "frame"
       ]
      }
     },
     "bd8107008fbb42fdba9dc2d077ff3559": {
      "model_module": "@jupyter-widgets/controls",
      "model_module_version": "1.5.0",
      "model_name": "DescriptionStyleModel",
      "state": {
       "description_width": ""
      }
     },
     "bd92cb4efaab49ca801b2c807b289c20": {
      "model_module": "@jupyter-widgets/controls",
      "model_module_version": "1.5.0",
      "model_name": "SliderStyleModel",
      "state": {
       "description_width": ""
      }
     },
     "be3722e1151a4477858472c7a677fd00": {
      "model_module": "@jupyter-widgets/controls",
      "model_module_version": "1.5.0",
      "model_name": "ImageModel",
      "state": {
       "layout": "IPY_MODEL_ea855ddcfca548129ed9bfe3bc0506c1",
       "width": "900.0"
      }
     },
     "be4422fa30384922be13a1bd71f60c1d": {
      "model_module": "@jupyter-widgets/base",
      "model_module_version": "1.2.0",
      "model_name": "LayoutModel",
      "state": {}
     },
     "be4d77fc06b04eb0825a4a933c505933": {
      "model_module": "@jupyter-widgets/base",
      "model_module_version": "1.2.0",
      "model_name": "LayoutModel",
      "state": {}
     },
     "be5a412e6f4a4810bbffaefedf240bbd": {
      "model_module": "@jupyter-widgets/base",
      "model_module_version": "1.2.0",
      "model_name": "LayoutModel",
      "state": {}
     },
     "be73302aabd64cb784f05c9530134db5": {
      "model_module": "@jupyter-widgets/controls",
      "model_module_version": "1.5.0",
      "model_name": "ButtonModel",
      "state": {
       "icon": "compress",
       "layout": "IPY_MODEL_3a91e8dcbbe04d718befd904e20fafdf",
       "style": "IPY_MODEL_28315f10df844483b00aa678ad85e88e"
      }
     },
     "bf7142d62c684a7287c4ff930b5fc2a7": {
      "model_module": "@jupyter-widgets/base",
      "model_module_version": "1.2.0",
      "model_name": "LayoutModel",
      "state": {}
     },
     "bf7d25108aa844cfa893e5001d57cacb": {
      "model_module": "@jupyter-widgets/controls",
      "model_module_version": "1.5.0",
      "model_name": "ImageModel",
      "state": {
       "layout": "IPY_MODEL_21216b65a3e9499bb3c7cca919c762d6",
       "width": "900.0"
      }
     },
     "c0407fa66e7d4362997b3f5a39f94505": {
      "model_module": "@jupyter-widgets/controls",
      "model_module_version": "1.5.0",
      "model_name": "ImageModel",
      "state": {
       "layout": "IPY_MODEL_599501e663ce4365b8928b0296712951",
       "width": "900.0"
      }
     },
     "c04971b0ba51422599917e03d9e64f1d": {
      "model_module": "@jupyter-widgets/base",
      "model_module_version": "1.2.0",
      "model_name": "LayoutModel",
      "state": {
       "width": "34px"
      }
     },
     "c1026b67e18b430eba8a76a1462cfb2e": {
      "model_module": "@jupyter-widgets/controls",
      "model_module_version": "1.5.0",
      "model_name": "SliderStyleModel",
      "state": {
       "description_width": ""
      }
     },
     "c266328e44d2464e910c51d517636fa8": {
      "model_module": "@jupyter-widgets/controls",
      "model_module_version": "1.5.0",
      "model_name": "ButtonStyleModel",
      "state": {}
     },
     "c27415541ea14153b038a8312773961f": {
      "model_module": "@jupyter-widgets/base",
      "model_module_version": "1.2.0",
      "model_name": "LayoutModel",
      "state": {}
     },
     "c2ce8151d518474f8bc24e9b60c256ee": {
      "model_module": "@jupyter-widgets/controls",
      "model_module_version": "1.5.0",
      "model_name": "SliderStyleModel",
      "state": {
       "description_width": ""
      }
     },
     "c2f9b1264908438c9897c993a0a43c29": {
      "model_module": "@jupyter-widgets/controls",
      "model_module_version": "1.5.0",
      "model_name": "PlayModel",
      "state": {
       "layout": "IPY_MODEL_de53f47c8ded4b38b55a04c37bd7cf38",
       "max": 9,
       "style": "IPY_MODEL_6a784a632b214ed9a77f7571b3ac46b5",
       "value": 4
      }
     },
     "c3fd4c5570b2492eb4f7ccfbd3dc5585": {
      "model_module": "@jupyter-widgets/controls",
      "model_module_version": "1.5.0",
      "model_name": "LinkModel",
      "state": {
       "source": [
        "IPY_MODEL_09533ace67b944e0abba177f1af50d24",
        "max"
       ],
       "target": [
        "IPY_MODEL_8befc6494c174d939773878d46a55bd1",
        "max_frame"
       ]
      }
     },
     "c611053d7a5341a7a5da907a25fd214c": {
      "model_module": "@jupyter-widgets/base",
      "model_module_version": "1.2.0",
      "model_name": "LayoutModel",
      "state": {}
     },
     "c6d265cbfc374d209aa05008791f54a6": {
      "model_module": "@jupyter-widgets/controls",
      "model_module_version": "1.5.0",
      "model_name": "ButtonModel",
      "state": {
       "icon": "compress",
       "layout": "IPY_MODEL_1c2ba25f3f7844419e2bc9d4fc5d3ef5",
       "style": "IPY_MODEL_dc4c132e7f2241dfb6c8903bfe877569"
      }
     },
     "c6e38c2e3a424cd28e7ea11689c64e6d": {
      "model_module": "@jupyter-widgets/controls",
      "model_module_version": "1.5.0",
      "model_name": "ButtonStyleModel",
      "state": {}
     },
     "c701ad8d55154c84a939034e366dc9d9": {
      "model_module": "@jupyter-widgets/base",
      "model_module_version": "1.2.0",
      "model_name": "LayoutModel",
      "state": {}
     },
     "c7c86ad6a0f84cc5baf0fe79fed38ea5": {
      "model_module": "nglview-js-widgets",
      "model_module_version": "2.7.1",
      "model_name": "NGLModel",
      "state": {
       "_camera_orientation": [
        2.1929334202061024,
        15.05697561185576,
        3.169012993851489,
        0,
        15.334687276950982,
        -1.8752889338007415,
        -1.7014030826239797,
        0,
        -1.265908389000155,
        3.366733098334517,
        -15.120406711193889,
        0,
        -1.0709999799728394,
        -1.0709999799728394,
        -1.0709999799728394,
        1
       ],
       "_camera_str": "orthographic",
       "_gui_theme": null,
       "_ibtn_fullscreen": "IPY_MODEL_dc1ed8f3c2174c41a5a03b458cf81a29",
       "_igui": null,
       "_iplayer": "IPY_MODEL_cb857ca1e67a4b78997dc8ebda6e5252",
       "_ngl_color_dict": {},
       "_ngl_coordinate_resource": {},
       "_ngl_full_stage_parameters": {
        "ambientColor": 14540253,
        "ambientIntensity": 0.2,
        "backgroundColor": "white",
        "cameraEyeSep": 0.3,
        "cameraFov": 40,
        "cameraType": "perspective",
        "clipDist": 10,
        "clipFar": 100,
        "clipNear": 0,
        "fogFar": 100,
        "fogNear": 50,
        "hoverTimeout": 0,
        "impostor": true,
        "lightColor": 14540253,
        "lightIntensity": 1,
        "mousePreset": "default",
        "panSpeed": 1,
        "quality": "medium",
        "rotateSpeed": 2,
        "sampleLevel": 0,
        "tooltip": true,
        "workerDefault": true,
        "zoomSpeed": 1.2
       },
       "_ngl_msg_archive": [
        {
         "args": [
          {
           "binary": false,
           "data": "MODEL        0\nATOM      1  H   MOL A   1       0.000   0.000   0.000  1.00  0.00          H   \nATOM      2  H   MOL A   1       0.714   0.714   0.000  1.00  0.00          H   \nATOM      3  H   MOL A   1       0.714   0.000   0.714  1.00  0.00          H   \nATOM      4  H   MOL A   1       0.000   0.714   0.714  1.00  0.00          H   \nATOM      5  H   MOL A   1       1.428   0.000   0.000  1.00  0.00          H   \nATOM      6  H   MOL A   1       2.142   0.714   0.000  1.00  0.00          H   \nATOM      7  H   MOL A   1       2.142   0.000   0.714  1.00  0.00          H   \nATOM      8  H   MOL A   1       1.428   0.714   0.714  1.00  0.00          H   \nATOM      9  H   MOL A   1       0.000   1.428   0.000  1.00  0.00          H   \nATOM     10  H   MOL A   1       0.714   2.142   0.000  1.00  0.00          H   \nATOM     11  H   MOL A   1       0.714   1.428   0.714  1.00  0.00          H   \nATOM     12  H   MOL A   1       0.000   2.142   0.714  1.00  0.00          H   \nATOM     13  H   MOL A   1       1.428   1.428   0.000  1.00  0.00          H   \nATOM     14  H   MOL A   1       2.142   2.142   0.000  1.00  0.00          H   \nATOM     15  H   MOL A   1       2.142   1.428   0.714  1.00  0.00          H   \nATOM     16  H   MOL A   1       1.428   2.142   0.714  1.00  0.00          H   \nATOM     17  H   MOL A   1       0.000   0.000   1.428  1.00  0.00          H   \nATOM     18  H   MOL A   1       0.714   0.714   1.428  1.00  0.00          H   \nATOM     19  H   MOL A   1       0.714   0.000   2.142  1.00  0.00          H   \nATOM     20  H   MOL A   1       0.000   0.714   2.142  1.00  0.00          H   \nATOM     21  H   MOL A   1       1.428   0.000   1.428  1.00  0.00          H   \nATOM     22  H   MOL A   1       2.142   0.714   1.428  1.00  0.00          H   \nATOM     23  H   MOL A   1       2.142   0.000   2.142  1.00  0.00          H   \nATOM     24  H   MOL A   1       1.428   0.714   2.142  1.00  0.00          H   \nATOM     25  H   MOL A   1       0.000   1.428   1.428  1.00  0.00          H   \nATOM     26  H   MOL A   1       0.714   2.142   1.428  1.00  0.00          H   \nATOM     27  H   MOL A   1       0.714   1.428   2.142  1.00  0.00          H   \nATOM     28  H   MOL A   1       0.000   2.142   2.142  1.00  0.00          H   \nATOM     29  H   MOL A   1       1.428   1.428   1.428  1.00  0.00          H   \nATOM     30  H   MOL A   1       2.142   2.142   1.428  1.00  0.00          H   \nATOM     31  H   MOL A   1       2.142   1.428   2.142  1.00  0.00          H   \nATOM     32  H   MOL A   1       1.428   2.142   2.142  1.00  0.00          H   \nTER      33      MOL A   1\nENDMDL\nEND\n",
           "type": "blob"
          }
         ],
         "kwargs": {
          "defaultRepresentation": true,
          "ext": "pdb"
         },
         "methodName": "loadFile",
         "reconstruc_color_scheme": false,
         "target": "Stage",
         "type": "call_method"
        }
       ],
       "_ngl_original_stage_parameters": {
        "ambientColor": 14540253,
        "ambientIntensity": 0.2,
        "backgroundColor": "white",
        "cameraEyeSep": 0.3,
        "cameraFov": 40,
        "cameraType": "perspective",
        "clipDist": 10,
        "clipFar": 100,
        "clipNear": 0,
        "fogFar": 100,
        "fogNear": 50,
        "hoverTimeout": 0,
        "impostor": true,
        "lightColor": 14540253,
        "lightIntensity": 1,
        "mousePreset": "default",
        "panSpeed": 1,
        "quality": "medium",
        "rotateSpeed": 2,
        "sampleLevel": 0,
        "tooltip": true,
        "workerDefault": true,
        "zoomSpeed": 1.2
       },
       "_ngl_repr_dict": {
        "0": {
         "0": {
          "params": {
           "aspectRatio": 1.5,
           "assembly": "default",
           "bondScale": 0.3,
           "bondSpacing": 0.75,
           "clipCenter": {
            "x": 0,
            "y": 0,
            "z": 0
           },
           "clipNear": 0,
           "clipRadius": 0,
           "colorMode": "hcl",
           "colorReverse": false,
           "colorScale": "",
           "colorScheme": "element",
           "colorValue": 9474192,
           "cylinderOnly": false,
           "defaultAssembly": "",
           "depthWrite": true,
           "diffuse": 16777215,
           "diffuseInterior": false,
           "disableImpostor": false,
           "disablePicking": false,
           "flatShaded": false,
           "interiorColor": 2236962,
           "interiorDarkening": 0,
           "lazy": false,
           "lineOnly": false,
           "linewidth": 2,
           "matrix": {
            "elements": [
             1,
             0,
             0,
             0,
             0,
             1,
             0,
             0,
             0,
             0,
             1,
             0,
             0,
             0,
             0,
             1
            ]
           },
           "metalness": 0,
           "multipleBond": "off",
           "opacity": 1,
           "openEnded": true,
           "quality": "high",
           "radialSegments": 20,
           "radiusData": {},
           "radiusScale": 2,
           "radiusSize": 0.15,
           "radiusType": "size",
           "roughness": 0.4,
           "sele": "",
           "side": "double",
           "sphereDetail": 2,
           "useInteriorColor": true,
           "visible": true,
           "wireframe": false
          },
          "type": "ball+stick"
         }
        }
       },
       "_ngl_serialize": false,
       "_ngl_version": "2.0.0-dev.36",
       "_ngl_view_id": [
        "EA7AC833-5B36-4712-9E0C-85486CDA077A"
       ],
       "_player_dict": {},
       "_scene_position": {},
       "_scene_rotation": {},
       "_synced_model_ids": [],
       "_synced_repr_model_ids": [],
       "_view_height": "",
       "_view_width": "",
       "background": "white",
       "frame": 0,
       "gui_style": null,
       "layout": "IPY_MODEL_36e7fff00ebb48969c6beadae7790130",
       "max_frame": 29,
       "n_components": 1,
       "picked": {}
      }
     },
     "c89074d59d5940299c1cdc75c370b5a3": {
      "model_module": "@jupyter-widgets/controls",
      "model_module_version": "1.5.0",
      "model_name": "LinkModel",
      "state": {
       "source": [
        "IPY_MODEL_44266402920d438ebde9bec8e0bceb25",
        "max"
       ],
       "target": [
        "IPY_MODEL_8be17601cd97428289c6dc0e5dcfe7c1",
        "max_frame"
       ]
      }
     },
     "cb857ca1e67a4b78997dc8ebda6e5252": {
      "model_module": "@jupyter-widgets/controls",
      "model_module_version": "1.5.0",
      "model_name": "HBoxModel",
      "state": {
       "children": [
        "IPY_MODEL_8263044a38104358be87481d23504643",
        "IPY_MODEL_9edd37bcee6440f9a8d956c2cec48202"
       ],
       "layout": "IPY_MODEL_cd1311d7d2254c2b84f8b97683102844"
      }
     },
     "cc2209b5ac6346c793dd7247ac12a759": {
      "model_module": "@jupyter-widgets/controls",
      "model_module_version": "1.5.0",
      "model_name": "LinkModel",
      "state": {
       "source": [
        "IPY_MODEL_347a2324c6564175aebba67a3219db62",
        "max"
       ],
       "target": [
        "IPY_MODEL_841bec608ba9458ba312036c6c9f40fc",
        "max_frame"
       ]
      }
     },
     "ccafa08b654b40b092cebcd5749a9539": {
      "model_module": "@jupyter-widgets/base",
      "model_module_version": "1.2.0",
      "model_name": "LayoutModel",
      "state": {}
     },
     "ccd6888c1731415c86bda408a080350b": {
      "model_module": "@jupyter-widgets/controls",
      "model_module_version": "1.5.0",
      "model_name": "LinkModel",
      "state": {
       "source": [
        "IPY_MODEL_e1bef34e3baf45adaf33e76d09f4bbea",
        "max"
       ],
       "target": [
        "IPY_MODEL_6b0b292c068947b38342d48d4603e8d3",
        "max_frame"
       ]
      }
     },
     "cd1311d7d2254c2b84f8b97683102844": {
      "model_module": "@jupyter-widgets/base",
      "model_module_version": "1.2.0",
      "model_name": "LayoutModel",
      "state": {}
     },
     "cd28d5e05130493d9d8de7f120808bb4": {
      "model_module": "@jupyter-widgets/base",
      "model_module_version": "1.2.0",
      "model_name": "LayoutModel",
      "state": {}
     },
     "cd3a2171a95d4fe98bad380f3d625d7e": {
      "model_module": "@jupyter-widgets/controls",
      "model_module_version": "1.5.0",
      "model_name": "LinkModel",
      "state": {
       "source": [
        "IPY_MODEL_ba4e6088e5994b098f1bbdb0f712f390",
        "max"
       ],
       "target": [
        "IPY_MODEL_0f3fc75ab74d4935ba6d672e90207a52",
        "max_frame"
       ]
      }
     },
     "cd479b52dbfb413f981cb2c19c58614b": {
      "model_module": "@jupyter-widgets/base",
      "model_module_version": "1.2.0",
      "model_name": "LayoutModel",
      "state": {}
     },
     "cd4882335c5e4c3684b668af8b63df7f": {
      "model_module": "@jupyter-widgets/base",
      "model_module_version": "1.2.0",
      "model_name": "LayoutModel",
      "state": {}
     },
     "cd4d664a993d4ed093ccc7aa90992ff6": {
      "model_module": "@jupyter-widgets/controls",
      "model_module_version": "1.5.0",
      "model_name": "PlayModel",
      "state": {
       "layout": "IPY_MODEL_1330d2371e7d4e2d9917a2bae5caa50a",
       "max": 0,
       "style": "IPY_MODEL_0b74097e1ec04cda91c8ec7e6fbe81c7"
      }
     },
     "cd79f54c110f478eb1b398e8468f78ab": {
      "model_module": "@jupyter-widgets/base",
      "model_module_version": "1.2.0",
      "model_name": "LayoutModel",
      "state": {}
     },
     "cdb0627079ca4994826ffeb7f442d654": {
      "model_module": "@jupyter-widgets/controls",
      "model_module_version": "1.5.0",
      "model_name": "IntSliderModel",
      "state": {
       "layout": "IPY_MODEL_ccafa08b654b40b092cebcd5749a9539",
       "max": 9,
       "style": "IPY_MODEL_c1026b67e18b430eba8a76a1462cfb2e",
       "value": 9
      }
     },
     "cdcf4af4adba41849411e5c0d29e9ffe": {
      "model_module": "@jupyter-widgets/controls",
      "model_module_version": "1.5.0",
      "model_name": "IntSliderModel",
      "state": {
       "layout": "IPY_MODEL_3f21a7be45c04b149c31718f888408cb",
       "max": 9,
       "style": "IPY_MODEL_05935b143dad449dbf60d10e8b8b88bd",
       "value": 9
      }
     },
     "ce53e9a0b40743e0a5a16253404c726a": {
      "model_module": "@jupyter-widgets/controls",
      "model_module_version": "1.5.0",
      "model_name": "LinkModel",
      "state": {
       "source": [
        "IPY_MODEL_20f0365692964fdbab572d556d0789f6",
        "max"
       ],
       "target": [
        "IPY_MODEL_963359ecc3a14befbd39ef64498b5e8a",
        "max_frame"
       ]
      }
     },
     "d0349a46c734426b9de5bb3a52e28cc8": {
      "model_module": "@jupyter-widgets/base",
      "model_module_version": "1.2.0",
      "model_name": "LayoutModel",
      "state": {
       "width": "34px"
      }
     },
     "d122192eebed41e2ae6ce153e735e97c": {
      "model_module": "@jupyter-widgets/controls",
      "model_module_version": "1.5.0",
      "model_name": "LinkModel",
      "state": {
       "source": [
        "IPY_MODEL_2e85c4b6b3ea4d58a38c5bf391d955ea",
        "value"
       ],
       "target": [
        "IPY_MODEL_ff7eee6bf2634a8687d8eb0453d4517a",
        "value"
       ]
      }
     },
     "d2781610b5554edd952b02a7b679a222": {
      "model_module": "@jupyter-widgets/controls",
      "model_module_version": "1.5.0",
      "model_name": "ButtonModel",
      "state": {
       "icon": "compress",
       "layout": "IPY_MODEL_453ff62121a144f987ad7252e75951c3",
       "style": "IPY_MODEL_9bc3dc08d717498b927a17a5fbf27f14"
      }
     },
     "d466202eb431469d9dee56b3713997e5": {
      "model_module": "@jupyter-widgets/base",
      "model_module_version": "1.2.0",
      "model_name": "LayoutModel",
      "state": {
       "width": "34px"
      }
     },
     "d49ac5f5da9449c98d7b09fb0a4eecce": {
      "model_module": "@jupyter-widgets/controls",
      "model_module_version": "1.5.0",
      "model_name": "HBoxModel",
      "state": {
       "children": [
        "IPY_MODEL_07306369a76a4b94bb6c0829eb28ec4a",
        "IPY_MODEL_7ddb8764deb24be5ae66d74121aa2aff"
       ],
       "layout": "IPY_MODEL_1c9f1bebd1d747e5b6459ad680199a4a"
      }
     },
     "d4e9b46bd5134db7a9d5e5a8ab2d0aee": {
      "model_module": "@jupyter-widgets/controls",
      "model_module_version": "1.5.0",
      "model_name": "ImageModel",
      "state": {
       "layout": "IPY_MODEL_e5e79aa04f8c4cd6a834f83f6db11985",
       "width": "900.0"
      }
     },
     "d566a9417a224aeabe092971187e4cae": {
      "model_module": "@jupyter-widgets/controls",
      "model_module_version": "1.5.0",
      "model_name": "LinkModel",
      "state": {
       "source": [
        "IPY_MODEL_0351dbe513344fdabea2e00331dc0fe2",
        "value"
       ],
       "target": [
        "IPY_MODEL_11fcba7ae3b945eeaed42225e12278ad",
        "frame"
       ]
      }
     },
     "d5727585504c4b9a8809f7d4f31c41d9": {
      "model_module": "@jupyter-widgets/base",
      "model_module_version": "1.2.0",
      "model_name": "LayoutModel",
      "state": {}
     },
     "d57287d60e8c4788a19d8132416120f0": {
      "model_module": "@jupyter-widgets/controls",
      "model_module_version": "1.5.0",
      "model_name": "DescriptionStyleModel",
      "state": {
       "description_width": ""
      }
     },
     "d5cdbad44de5461ca648c3e4ffc0d649": {
      "model_module": "@jupyter-widgets/base",
      "model_module_version": "1.2.0",
      "model_name": "LayoutModel",
      "state": {
       "width": "34px"
      }
     },
     "d6274ead559845df9d7026c6a91f6e6f": {
      "model_module": "@jupyter-widgets/controls",
      "model_module_version": "1.5.0",
      "model_name": "LinkModel",
      "state": {
       "source": [
        "IPY_MODEL_8263044a38104358be87481d23504643",
        "value"
       ],
       "target": [
        "IPY_MODEL_c7c86ad6a0f84cc5baf0fe79fed38ea5",
        "frame"
       ]
      }
     },
     "d643b68e0bce41fabf129b0f009eaf0e": {
      "model_module": "@jupyter-widgets/base",
      "model_module_version": "1.2.0",
      "model_name": "LayoutModel",
      "state": {}
     },
     "d6596d3a77b548c2b026baa59c63083c": {
      "model_module": "@jupyter-widgets/controls",
      "model_module_version": "1.5.0",
      "model_name": "LinkModel",
      "state": {
       "source": [
        "IPY_MODEL_ac59ca0c124d4d7d83e4d1b5a19503c4",
        "max"
       ],
       "target": [
        "IPY_MODEL_4c90e1e15a4d4fabbcda3ebe56acaed3",
        "max_frame"
       ]
      }
     },
     "d753863b407c432095e65ab57e7fa4ab": {
      "model_module": "@jupyter-widgets/base",
      "model_module_version": "1.2.0",
      "model_name": "LayoutModel",
      "state": {}
     },
     "d8310eba695646fb826cdf987ba2189a": {
      "model_module": "@jupyter-widgets/controls",
      "model_module_version": "1.5.0",
      "model_name": "DescriptionStyleModel",
      "state": {
       "description_width": ""
      }
     },
     "d8404cb862f548d38427527ae0320eb2": {
      "model_module": "@jupyter-widgets/base",
      "model_module_version": "1.2.0",
      "model_name": "LayoutModel",
      "state": {}
     },
     "d917416a23df403e848145eda4bc129f": {
      "model_module": "@jupyter-widgets/base",
      "model_module_version": "1.2.0",
      "model_name": "LayoutModel",
      "state": {}
     },
     "d9604ad9d87b4a31bbbf7e6d41321f51": {
      "model_module": "@jupyter-widgets/controls",
      "model_module_version": "1.5.0",
      "model_name": "ButtonModel",
      "state": {
       "icon": "compress",
       "layout": "IPY_MODEL_fa5522f7f19a412a9405a0dd9f05fe0d",
       "style": "IPY_MODEL_c266328e44d2464e910c51d517636fa8"
      }
     },
     "d96abb2d9a6c41ed9b9b3a5a40242626": {
      "model_module": "@jupyter-widgets/controls",
      "model_module_version": "1.5.0",
      "model_name": "LinkModel",
      "state": {
       "source": [
        "IPY_MODEL_90450bf43bad4e5a96e1be3ede3dba96",
        "max"
       ],
       "target": [
        "IPY_MODEL_dab0742bd71e4c4cabfa4baa93bd2cdf",
        "max_frame"
       ]
      }
     },
     "da6f178142c64c478a016c033cddbd2f": {
      "model_module": "@jupyter-widgets/controls",
      "model_module_version": "1.5.0",
      "model_name": "LinkModel",
      "state": {
       "source": [
        "IPY_MODEL_0351dbe513344fdabea2e00331dc0fe2",
        "value"
       ],
       "target": [
        "IPY_MODEL_3eb379ba5d4b4003b74ef455cd3eb85f",
        "value"
       ]
      }
     },
     "dab0742bd71e4c4cabfa4baa93bd2cdf": {
      "model_module": "nglview-js-widgets",
      "model_module_version": "2.7.1",
      "model_name": "NGLModel",
      "state": {
       "_camera_orientation": [
        -8.594870933264835,
        0.39540096468537167,
        -12.617589810497952,
        0,
        -2.060788364490265,
        15.015717942952598,
        1.8743230465439686,
        0,
        12.454439604640491,
        2.757461449077818,
        -8.397324657267282,
        0,
        -1.0709999799728394,
        -1.0709999799728394,
        -1.0709999799728394,
        1
       ],
       "_camera_str": "orthographic",
       "_gui_theme": null,
       "_ibtn_fullscreen": "IPY_MODEL_648d74e751274811aca5232d694d2593",
       "_igui": null,
       "_iplayer": "IPY_MODEL_abfcf814e35c4704a960b8e5c755facb",
       "_ngl_color_dict": {},
       "_ngl_coordinate_resource": {},
       "_ngl_full_stage_parameters": {
        "ambientColor": 14540253,
        "ambientIntensity": 0.2,
        "backgroundColor": "white",
        "cameraEyeSep": 0.3,
        "cameraFov": 40,
        "cameraType": "perspective",
        "clipDist": 10,
        "clipFar": 100,
        "clipNear": 0,
        "fogFar": 100,
        "fogNear": 50,
        "hoverTimeout": 0,
        "impostor": true,
        "lightColor": 14540253,
        "lightIntensity": 1,
        "mousePreset": "default",
        "panSpeed": 1,
        "quality": "medium",
        "rotateSpeed": 2,
        "sampleLevel": 0,
        "tooltip": true,
        "workerDefault": true,
        "zoomSpeed": 1.2
       },
       "_ngl_msg_archive": [
        {
         "args": [
          {
           "binary": false,
           "data": "MODEL        0\nATOM      1  H   MOL A   1       0.000   0.000   0.000  1.00  0.00          H   \nATOM      2  H   MOL A   1       0.714   0.714   0.000  1.00  0.00          H   \nATOM      3  H   MOL A   1       0.714   0.000   0.714  1.00  0.00          H   \nATOM      4  H   MOL A   1       0.000   0.714   0.714  1.00  0.00          H   \nATOM      5  H   MOL A   1       1.428   0.000   0.000  1.00  0.00          H   \nATOM      6  H   MOL A   1       2.142   0.714   0.000  1.00  0.00          H   \nATOM      7  H   MOL A   1       2.142   0.000   0.714  1.00  0.00          H   \nATOM      8  H   MOL A   1       1.428   0.714   0.714  1.00  0.00          H   \nATOM      9  H   MOL A   1       0.000   1.428   0.000  1.00  0.00          H   \nATOM     10  H   MOL A   1       0.714   2.142   0.000  1.00  0.00          H   \nATOM     11  H   MOL A   1       0.714   1.428   0.714  1.00  0.00          H   \nATOM     12  H   MOL A   1       0.000   2.142   0.714  1.00  0.00          H   \nATOM     13  H   MOL A   1       1.428   1.428   0.000  1.00  0.00          H   \nATOM     14  H   MOL A   1       2.142   2.142   0.000  1.00  0.00          H   \nATOM     15  H   MOL A   1       2.142   1.428   0.714  1.00  0.00          H   \nATOM     16  H   MOL A   1       1.428   2.142   0.714  1.00  0.00          H   \nATOM     17  H   MOL A   1       0.000   0.000   1.428  1.00  0.00          H   \nATOM     18  H   MOL A   1       0.714   0.714   1.428  1.00  0.00          H   \nATOM     19  H   MOL A   1       0.714   0.000   2.142  1.00  0.00          H   \nATOM     20  H   MOL A   1       0.000   0.714   2.142  1.00  0.00          H   \nATOM     21  H   MOL A   1       1.428   0.000   1.428  1.00  0.00          H   \nATOM     22  H   MOL A   1       2.142   0.714   1.428  1.00  0.00          H   \nATOM     23  H   MOL A   1       2.142   0.000   2.142  1.00  0.00          H   \nATOM     24  H   MOL A   1       1.428   0.714   2.142  1.00  0.00          H   \nATOM     25  H   MOL A   1       0.000   1.428   1.428  1.00  0.00          H   \nATOM     26  H   MOL A   1       0.714   2.142   1.428  1.00  0.00          H   \nATOM     27  H   MOL A   1       0.714   1.428   2.142  1.00  0.00          H   \nATOM     28  H   MOL A   1       0.000   2.142   2.142  1.00  0.00          H   \nATOM     29  H   MOL A   1       1.428   1.428   1.428  1.00  0.00          H   \nATOM     30  H   MOL A   1       2.142   2.142   1.428  1.00  0.00          H   \nATOM     31  H   MOL A   1       2.142   1.428   2.142  1.00  0.00          H   \nATOM     32  H   MOL A   1       1.428   2.142   2.142  1.00  0.00          H   \nTER      33      MOL A   1\nENDMDL\nEND\n",
           "type": "blob"
          }
         ],
         "kwargs": {
          "defaultRepresentation": true,
          "ext": "pdb"
         },
         "methodName": "loadFile",
         "reconstruc_color_scheme": false,
         "target": "Stage",
         "type": "call_method"
        }
       ],
       "_ngl_original_stage_parameters": {
        "ambientColor": 14540253,
        "ambientIntensity": 0.2,
        "backgroundColor": "white",
        "cameraEyeSep": 0.3,
        "cameraFov": 40,
        "cameraType": "perspective",
        "clipDist": 10,
        "clipFar": 100,
        "clipNear": 0,
        "fogFar": 100,
        "fogNear": 50,
        "hoverTimeout": 0,
        "impostor": true,
        "lightColor": 14540253,
        "lightIntensity": 1,
        "mousePreset": "default",
        "panSpeed": 1,
        "quality": "medium",
        "rotateSpeed": 2,
        "sampleLevel": 0,
        "tooltip": true,
        "workerDefault": true,
        "zoomSpeed": 1.2
       },
       "_ngl_repr_dict": {
        "0": {
         "0": {
          "params": {
           "aspectRatio": 1.5,
           "assembly": "default",
           "bondScale": 0.3,
           "bondSpacing": 0.75,
           "clipCenter": {
            "x": 0,
            "y": 0,
            "z": 0
           },
           "clipNear": 0,
           "clipRadius": 0,
           "colorMode": "hcl",
           "colorReverse": false,
           "colorScale": "",
           "colorScheme": "element",
           "colorValue": 9474192,
           "cylinderOnly": false,
           "defaultAssembly": "",
           "depthWrite": true,
           "diffuse": 16777215,
           "diffuseInterior": false,
           "disableImpostor": false,
           "disablePicking": false,
           "flatShaded": false,
           "interiorColor": 2236962,
           "interiorDarkening": 0,
           "lazy": false,
           "lineOnly": false,
           "linewidth": 2,
           "matrix": {
            "elements": [
             1,
             0,
             0,
             0,
             0,
             1,
             0,
             0,
             0,
             0,
             1,
             0,
             0,
             0,
             0,
             1
            ]
           },
           "metalness": 0,
           "multipleBond": "off",
           "opacity": 1,
           "openEnded": true,
           "quality": "high",
           "radialSegments": 20,
           "radiusData": {},
           "radiusScale": 2,
           "radiusSize": 0.15,
           "radiusType": "size",
           "roughness": 0.4,
           "sele": "",
           "side": "double",
           "sphereDetail": 2,
           "useInteriorColor": true,
           "visible": true,
           "wireframe": false
          },
          "type": "ball+stick"
         }
        }
       },
       "_ngl_serialize": false,
       "_ngl_version": "2.0.0-dev.36",
       "_ngl_view_id": [
        "437C163D-90B9-4952-813F-09D71E9EB274"
       ],
       "_player_dict": {},
       "_scene_position": {},
       "_scene_rotation": {},
       "_synced_model_ids": [],
       "_synced_repr_model_ids": [],
       "_view_height": "",
       "_view_width": "",
       "background": "white",
       "frame": 19,
       "gui_style": null,
       "layout": "IPY_MODEL_95d3efd4799044f884d09da16bdf2018",
       "max_frame": 19,
       "n_components": 1,
       "picked": {}
      }
     },
     "dbb8de6899e9470a859cab53017b6225": {
      "model_module": "@jupyter-widgets/controls",
      "model_module_version": "1.5.0",
      "model_name": "ButtonModel",
      "state": {
       "icon": "compress",
       "layout": "IPY_MODEL_5a1cfca4dbff4570bded521e0e8be617",
       "style": "IPY_MODEL_b3e2a61929224b9598f93a78b1412668"
      }
     },
     "dbfb521742554c439d16bb3c691b4346": {
      "model_module": "@jupyter-widgets/controls",
      "model_module_version": "1.5.0",
      "model_name": "PlayModel",
      "state": {
       "layout": "IPY_MODEL_a953c79fda0f46e097e72d4d977ef612",
       "max": 4,
       "style": "IPY_MODEL_7861a1014b8847068a0c75bc732f33d4"
      }
     },
     "dc1ed8f3c2174c41a5a03b458cf81a29": {
      "model_module": "@jupyter-widgets/controls",
      "model_module_version": "1.5.0",
      "model_name": "ButtonModel",
      "state": {
       "icon": "compress",
       "layout": "IPY_MODEL_aa891e9f8e1145f8a72815b303ee4a3b",
       "style": "IPY_MODEL_01a6be1e3ec24233abf367fedb75b735"
      }
     },
     "dc4c132e7f2241dfb6c8903bfe877569": {
      "model_module": "@jupyter-widgets/controls",
      "model_module_version": "1.5.0",
      "model_name": "ButtonStyleModel",
      "state": {}
     },
     "de10e6e500984535a8db2b51dfe2ecd5": {
      "model_module": "@jupyter-widgets/controls",
      "model_module_version": "1.5.0",
      "model_name": "ImageModel",
      "state": {
       "layout": "IPY_MODEL_4f543fb9119a476eacfe271cd8a06104",
       "width": "900.0"
      }
     },
     "de53f47c8ded4b38b55a04c37bd7cf38": {
      "model_module": "@jupyter-widgets/base",
      "model_module_version": "1.2.0",
      "model_name": "LayoutModel",
      "state": {}
     },
     "de644eb83c3e48dda3231ce6673b86fa": {
      "model_module": "@jupyter-widgets/controls",
      "model_module_version": "1.5.0",
      "model_name": "ButtonStyleModel",
      "state": {}
     },
     "df5bebe731d841c4a1064f1c86ff00db": {
      "model_module": "@jupyter-widgets/base",
      "model_module_version": "1.2.0",
      "model_name": "LayoutModel",
      "state": {}
     },
     "df5bf4b469ec40b69132522820c4329c": {
      "model_module": "@jupyter-widgets/controls",
      "model_module_version": "1.5.0",
      "model_name": "IntSliderModel",
      "state": {
       "layout": "IPY_MODEL_cd479b52dbfb413f981cb2c19c58614b",
       "max": 0,
       "style": "IPY_MODEL_06fc26dc636948a59d78c1889a69ac54"
      }
     },
     "dfeabc8c033e4904b4dd7a67fd292a54": {
      "model_module": "@jupyter-widgets/controls",
      "model_module_version": "1.5.0",
      "model_name": "LinkModel",
      "state": {
       "source": [
        "IPY_MODEL_a7f1fac863d847729efa3036f7cbf979",
        "value"
       ],
       "target": [
        "IPY_MODEL_e6a28fe3f5d54f338bd9d4a44d032f42",
        "value"
       ]
      }
     },
     "e0141e2e1a994851a01ab3e5f5db604b": {
      "model_module": "@jupyter-widgets/controls",
      "model_module_version": "1.5.0",
      "model_name": "DescriptionStyleModel",
      "state": {
       "description_width": ""
      }
     },
     "e016275b53784b209221fea4f1e4c0c4": {
      "model_module": "@jupyter-widgets/base",
      "model_module_version": "1.2.0",
      "model_name": "LayoutModel",
      "state": {}
     },
     "e0a449b369894031a6846b274634b470": {
      "model_module": "@jupyter-widgets/controls",
      "model_module_version": "1.5.0",
      "model_name": "LinkModel",
      "state": {
       "source": [
        "IPY_MODEL_cd4d664a993d4ed093ccc7aa90992ff6",
        "max"
       ],
       "target": [
        "IPY_MODEL_064ec2c5e692402780720c9da8155788",
        "max_frame"
       ]
      }
     },
     "e0af12da828d47f8bd59a92c0993e9fc": {
      "model_module": "@jupyter-widgets/base",
      "model_module_version": "1.2.0",
      "model_name": "LayoutModel",
      "state": {}
     },
     "e1bef34e3baf45adaf33e76d09f4bbea": {
      "model_module": "@jupyter-widgets/controls",
      "model_module_version": "1.5.0",
      "model_name": "PlayModel",
      "state": {
       "layout": "IPY_MODEL_50c852076eb3420da14fbcffec00a5ed",
       "max": 9,
       "style": "IPY_MODEL_f36cd9c8b60a46298c052cfefba2b8fc",
       "value": 9
      }
     },
     "e34cf079381b4cb5a64b3789455fcf11": {
      "model_module": "@jupyter-widgets/base",
      "model_module_version": "1.2.0",
      "model_name": "LayoutModel",
      "state": {}
     },
     "e3b179e3d94c4a7dbb917ccc3b1fc505": {
      "model_module": "@jupyter-widgets/controls",
      "model_module_version": "1.5.0",
      "model_name": "LinkModel",
      "state": {
       "source": [
        "IPY_MODEL_2e85c4b6b3ea4d58a38c5bf391d955ea",
        "value"
       ],
       "target": [
        "IPY_MODEL_1d62d16cd14048f1a63b120716fd3746",
        "frame"
       ]
      }
     },
     "e3c631af90c94e7699bc58f164413b75": {
      "model_module": "@jupyter-widgets/controls",
      "model_module_version": "1.5.0",
      "model_name": "LinkModel",
      "state": {
       "source": [
        "IPY_MODEL_aa9d8ffa895243c7af11c0bcbe19bc32",
        "max"
       ],
       "target": [
        "IPY_MODEL_ab14bf5d9fca4fdfb4f52610535aec2e",
        "max_frame"
       ]
      }
     },
     "e43283f81bef4779a25d0ba0cc6218cf": {
      "model_module": "@jupyter-widgets/base",
      "model_module_version": "1.2.0",
      "model_name": "LayoutModel",
      "state": {}
     },
     "e445fc81a0764055a64c6e7d6ffd4198": {
      "model_module": "@jupyter-widgets/controls",
      "model_module_version": "1.5.0",
      "model_name": "LinkModel",
      "state": {
       "source": [
        "IPY_MODEL_3e7ef5ef5e7a42fca583a38fb7243073",
        "value"
       ],
       "target": [
        "IPY_MODEL_df5bf4b469ec40b69132522820c4329c",
        "value"
       ]
      }
     },
     "e4561b26d90d4eab91a4c04edfb48a84": {
      "model_module": "@jupyter-widgets/controls",
      "model_module_version": "1.5.0",
      "model_name": "DescriptionStyleModel",
      "state": {
       "description_width": ""
      }
     },
     "e4d8b3f73d4b4085beae427a782eaea0": {
      "model_module": "@jupyter-widgets/base",
      "model_module_version": "1.2.0",
      "model_name": "LayoutModel",
      "state": {}
     },
     "e59d5e1ba83e4adba755300e28a50c3f": {
      "model_module": "@jupyter-widgets/controls",
      "model_module_version": "1.5.0",
      "model_name": "LinkModel",
      "state": {
       "source": [
        "IPY_MODEL_4c5ade1957aa49a7a0899ab01bdd39ae",
        "value"
       ],
       "target": [
        "IPY_MODEL_841bec608ba9458ba312036c6c9f40fc",
        "frame"
       ]
      }
     },
     "e5e79aa04f8c4cd6a834f83f6db11985": {
      "model_module": "@jupyter-widgets/base",
      "model_module_version": "1.2.0",
      "model_name": "LayoutModel",
      "state": {}
     },
     "e632d8849bc64d4e883d63bccdf6adac": {
      "model_module": "@jupyter-widgets/controls",
      "model_module_version": "1.5.0",
      "model_name": "HBoxModel",
      "state": {
       "children": [
        "IPY_MODEL_6e8d2f82ba0b40daafcc1ed7137bb374",
        "IPY_MODEL_20f0365692964fdbab572d556d0789f6"
       ],
       "layout": "IPY_MODEL_a1cc89975bb14e80adb419b5df7effaa"
      }
     },
     "e6a28fe3f5d54f338bd9d4a44d032f42": {
      "model_module": "@jupyter-widgets/controls",
      "model_module_version": "1.5.0",
      "model_name": "IntSliderModel",
      "state": {
       "layout": "IPY_MODEL_bf7142d62c684a7287c4ff930b5fc2a7",
       "max": 9,
       "style": "IPY_MODEL_6bef035269b74b8986f1a0edb09caf55"
      }
     },
     "e6a77e4d5385472490365b5e67219bf8": {
      "model_module": "@jupyter-widgets/controls",
      "model_module_version": "1.5.0",
      "model_name": "ButtonStyleModel",
      "state": {}
     },
     "e7a7da1d2c254f59aeab7154e21d9321": {
      "model_module": "@jupyter-widgets/controls",
      "model_module_version": "1.5.0",
      "model_name": "ButtonModel",
      "state": {
       "icon": "compress",
       "layout": "IPY_MODEL_d466202eb431469d9dee56b3713997e5",
       "style": "IPY_MODEL_c6e38c2e3a424cd28e7ea11689c64e6d"
      }
     },
     "e80187468856493db26feb02a1387c54": {
      "model_module": "@jupyter-widgets/base",
      "model_module_version": "1.2.0",
      "model_name": "LayoutModel",
      "state": {}
     },
     "e9399acb1323412b8b9fd2222f55ba98": {
      "model_module": "@jupyter-widgets/controls",
      "model_module_version": "1.5.0",
      "model_name": "LinkModel",
      "state": {
       "source": [
        "IPY_MODEL_cdb0627079ca4994826ffeb7f442d654",
        "max"
       ],
       "target": [
        "IPY_MODEL_e997f9b1ba1d4b2280950f1b1eb80339",
        "max_frame"
       ]
      }
     },
     "e96814accc4c4899a8e0ec4d317d7ab8": {
      "model_module": "@jupyter-widgets/controls",
      "model_module_version": "1.5.0",
      "model_name": "LinkModel",
      "state": {
       "source": [
        "IPY_MODEL_c2f9b1264908438c9897c993a0a43c29",
        "value"
       ],
       "target": [
        "IPY_MODEL_8befc6494c174d939773878d46a55bd1",
        "frame"
       ]
      }
     },
     "e997f9b1ba1d4b2280950f1b1eb80339": {
      "model_module": "nglview-js-widgets",
      "model_module_version": "2.7.1",
      "model_name": "NGLModel",
      "state": {
       "_camera_orientation": [
        -39.15654438006246,
        0.20957631871681281,
        2.8850840022882087,
        0,
        0.018030974133785783,
        39.17698674087446,
        -2.6011506128530533,
        0,
        -2.8926297408410275,
        -2.5927567169727164,
        -39.07061434774762,
        0,
        -6.574999809265137,
        -6.574999809265137,
        -6.574999809265137,
        1
       ],
       "_camera_str": "orthographic",
       "_gui_theme": null,
       "_ibtn_fullscreen": "IPY_MODEL_d2781610b5554edd952b02a7b679a222",
       "_igui": null,
       "_iplayer": "IPY_MODEL_b687a9fae4a94b30aaf97686d9118f45",
       "_ngl_color_dict": {},
       "_ngl_coordinate_resource": {},
       "_ngl_full_stage_parameters": {
        "ambientColor": 14540253,
        "ambientIntensity": 0.2,
        "backgroundColor": "white",
        "cameraEyeSep": 0.3,
        "cameraFov": 40,
        "cameraType": "perspective",
        "clipDist": 10,
        "clipFar": 100,
        "clipNear": 0,
        "fogFar": 100,
        "fogNear": 50,
        "hoverTimeout": 0,
        "impostor": true,
        "lightColor": 14540253,
        "lightIntensity": 1,
        "mousePreset": "default",
        "panSpeed": 1,
        "quality": "medium",
        "rotateSpeed": 2,
        "sampleLevel": 0,
        "tooltip": true,
        "workerDefault": true,
        "zoomSpeed": 1.2
       },
       "_ngl_msg_archive": [
        {
         "args": [
          {
           "binary": false,
           "data": "MODEL        0\nATOM      1 Ar   MOL A   1       0.000   0.000   0.000  1.00  0.00          Ar  \nATOM      2 Ar   MOL A   1       2.630   2.630   0.000  1.00  0.00          Ar  \nATOM      3 Ar   MOL A   1       2.630   0.000   2.630  1.00  0.00          Ar  \nATOM      4 Ar   MOL A   1       0.000   2.630   2.630  1.00  0.00          Ar  \nATOM      5 Ar   MOL A   1       5.260   0.000   0.000  1.00  0.00          Ar  \nATOM      6 Ar   MOL A   1       7.890   2.630   0.000  1.00  0.00          Ar  \nATOM      7 Ar   MOL A   1       7.890   0.000   2.630  1.00  0.00          Ar  \nATOM      8 Ar   MOL A   1       5.260   2.630   2.630  1.00  0.00          Ar  \nATOM      9 Ar   MOL A   1      10.520   0.000   0.000  1.00  0.00          Ar  \nATOM     10 Ar   MOL A   1      13.150   2.630   0.000  1.00  0.00          Ar  \nATOM     11 Ar   MOL A   1      13.150   0.000   2.630  1.00  0.00          Ar  \nATOM     12 Ar   MOL A   1      10.520   2.630   2.630  1.00  0.00          Ar  \nATOM     13 Ar   MOL A   1       0.000   5.260   0.000  1.00  0.00          Ar  \nATOM     14 Ar   MOL A   1       2.630   7.890   0.000  1.00  0.00          Ar  \nATOM     15 Ar   MOL A   1       2.630   5.260   2.630  1.00  0.00          Ar  \nATOM     16 Ar   MOL A   1       0.000   7.890   2.630  1.00  0.00          Ar  \nATOM     17 Ar   MOL A   1       5.260   5.260   0.000  1.00  0.00          Ar  \nATOM     18 Ar   MOL A   1       7.890   7.890   0.000  1.00  0.00          Ar  \nATOM     19 Ar   MOL A   1       7.890   5.260   2.630  1.00  0.00          Ar  \nATOM     20 Ar   MOL A   1       5.260   7.890   2.630  1.00  0.00          Ar  \nATOM     21 Ar   MOL A   1      10.520   5.260   0.000  1.00  0.00          Ar  \nATOM     22 Ar   MOL A   1      13.150   7.890   0.000  1.00  0.00          Ar  \nATOM     23 Ar   MOL A   1      13.150   5.260   2.630  1.00  0.00          Ar  \nATOM     24 Ar   MOL A   1      10.520   7.890   2.630  1.00  0.00          Ar  \nATOM     25 Ar   MOL A   1       0.000  10.520   0.000  1.00  0.00          Ar  \nATOM     26 Ar   MOL A   1       2.630  13.150   0.000  1.00  0.00          Ar  \nATOM     27 Ar   MOL A   1       2.630  10.520   2.630  1.00  0.00          Ar  \nATOM     28 Ar   MOL A   1       0.000  13.150   2.630  1.00  0.00          Ar  \nATOM     29 Ar   MOL A   1       5.260  10.520   0.000  1.00  0.00          Ar  \nATOM     30 Ar   MOL A   1       7.890  13.150   0.000  1.00  0.00          Ar  \nATOM     31 Ar   MOL A   1       7.890  10.520   2.630  1.00  0.00          Ar  \nATOM     32 Ar   MOL A   1       5.260  13.150   2.630  1.00  0.00          Ar  \nATOM     33 Ar   MOL A   1      10.520  10.520   0.000  1.00  0.00          Ar  \nATOM     34 Ar   MOL A   1      13.150  13.150   0.000  1.00  0.00          Ar  \nATOM     35 Ar   MOL A   1      13.150  10.520   2.630  1.00  0.00          Ar  \nATOM     36 Ar   MOL A   1      10.520  13.150   2.630  1.00  0.00          Ar  \nATOM     37 Ar   MOL A   1       0.000   0.000   5.260  1.00  0.00          Ar  \nATOM     38 Ar   MOL A   1       2.630   2.630   5.260  1.00  0.00          Ar  \nATOM     39 Ar   MOL A   1       2.630   0.000   7.890  1.00  0.00          Ar  \nATOM     40 Ar   MOL A   1       0.000   2.630   7.890  1.00  0.00          Ar  \nATOM     41 Ar   MOL A   1       5.260   0.000   5.260  1.00  0.00          Ar  \nATOM     42 Ar   MOL A   1       7.890   2.630   5.260  1.00  0.00          Ar  \nATOM     43 Ar   MOL A   1       7.890   0.000   7.890  1.00  0.00          Ar  \nATOM     44 Ar   MOL A   1       5.260   2.630   7.890  1.00  0.00          Ar  \nATOM     45 Ar   MOL A   1      10.520   0.000   5.260  1.00  0.00          Ar  \nATOM     46 Ar   MOL A   1      13.150   2.630   5.260  1.00  0.00          Ar  \nATOM     47 Ar   MOL A   1      13.150   0.000   7.890  1.00  0.00          Ar  \nATOM     48 Ar   MOL A   1      10.520   2.630   7.890  1.00  0.00          Ar  \nATOM     49 Ar   MOL A   1       0.000   5.260   5.260  1.00  0.00          Ar  \nATOM     50 Ar   MOL A   1       2.630   7.890   5.260  1.00  0.00          Ar  \nATOM     51 Ar   MOL A   1       2.630   5.260   7.890  1.00  0.00          Ar  \nATOM     52 Ar   MOL A   1       0.000   7.890   7.890  1.00  0.00          Ar  \nATOM     53 Ar   MOL A   1       5.260   5.260   5.260  1.00  0.00          Ar  \nATOM     54 Ar   MOL A   1       7.890   7.890   5.260  1.00  0.00          Ar  \nATOM     55 Ar   MOL A   1       7.890   5.260   7.890  1.00  0.00          Ar  \nATOM     56 Ar   MOL A   1       5.260   7.890   7.890  1.00  0.00          Ar  \nATOM     57 Ar   MOL A   1      10.520   5.260   5.260  1.00  0.00          Ar  \nATOM     58 Ar   MOL A   1      13.150   7.890   5.260  1.00  0.00          Ar  \nATOM     59 Ar   MOL A   1      13.150   5.260   7.890  1.00  0.00          Ar  \nATOM     60 Ar   MOL A   1      10.520   7.890   7.890  1.00  0.00          Ar  \nATOM     61 Ar   MOL A   1       0.000  10.520   5.260  1.00  0.00          Ar  \nATOM     62 Ar   MOL A   1       2.630  13.150   5.260  1.00  0.00          Ar  \nATOM     63 Ar   MOL A   1       2.630  10.520   7.890  1.00  0.00          Ar  \nATOM     64 Ar   MOL A   1       0.000  13.150   7.890  1.00  0.00          Ar  \nATOM     65 Ar   MOL A   1       5.260  10.520   5.260  1.00  0.00          Ar  \nATOM     66 Ar   MOL A   1       7.890  13.150   5.260  1.00  0.00          Ar  \nATOM     67 Ar   MOL A   1       7.890  10.520   7.890  1.00  0.00          Ar  \nATOM     68 Ar   MOL A   1       5.260  13.150   7.890  1.00  0.00          Ar  \nATOM     69 Ar   MOL A   1      10.520  10.520   5.260  1.00  0.00          Ar  \nATOM     70 Ar   MOL A   1      13.150  13.150   5.260  1.00  0.00          Ar  \nATOM     71 Ar   MOL A   1      13.150  10.520   7.890  1.00  0.00          Ar  \nATOM     72 Ar   MOL A   1      10.520  13.150   7.890  1.00  0.00          Ar  \nATOM     73 Ar   MOL A   1       0.000   0.000  10.520  1.00  0.00          Ar  \nATOM     74 Ar   MOL A   1       2.630   2.630  10.520  1.00  0.00          Ar  \nATOM     75 Ar   MOL A   1       2.630   0.000  13.150  1.00  0.00          Ar  \nATOM     76 Ar   MOL A   1       0.000   2.630  13.150  1.00  0.00          Ar  \nATOM     77 Ar   MOL A   1       5.260   0.000  10.520  1.00  0.00          Ar  \nATOM     78 Ar   MOL A   1       7.890   2.630  10.520  1.00  0.00          Ar  \nATOM     79 Ar   MOL A   1       7.890   0.000  13.150  1.00  0.00          Ar  \nATOM     80 Ar   MOL A   1       5.260   2.630  13.150  1.00  0.00          Ar  \nATOM     81 Ar   MOL A   1      10.520   0.000  10.520  1.00  0.00          Ar  \nATOM     82 Ar   MOL A   1      13.150   2.630  10.520  1.00  0.00          Ar  \nATOM     83 Ar   MOL A   1      13.150   0.000  13.150  1.00  0.00          Ar  \nATOM     84 Ar   MOL A   1      10.520   2.630  13.150  1.00  0.00          Ar  \nATOM     85 Ar   MOL A   1       0.000   5.260  10.520  1.00  0.00          Ar  \nATOM     86 Ar   MOL A   1       2.630   7.890  10.520  1.00  0.00          Ar  \nATOM     87 Ar   MOL A   1       2.630   5.260  13.150  1.00  0.00          Ar  \nATOM     88 Ar   MOL A   1       0.000   7.890  13.150  1.00  0.00          Ar  \nATOM     89 Ar   MOL A   1       5.260   5.260  10.520  1.00  0.00          Ar  \nATOM     90 Ar   MOL A   1       7.890   7.890  10.520  1.00  0.00          Ar  \nATOM     91 Ar   MOL A   1       7.890   5.260  13.150  1.00  0.00          Ar  \nATOM     92 Ar   MOL A   1       5.260   7.890  13.150  1.00  0.00          Ar  \nATOM     93 Ar   MOL A   1      10.520   5.260  10.520  1.00  0.00          Ar  \nATOM     94 Ar   MOL A   1      13.150   7.890  10.520  1.00  0.00          Ar  \nATOM     95 Ar   MOL A   1      13.150   5.260  13.150  1.00  0.00          Ar  \nATOM     96 Ar   MOL A   1      10.520   7.890  13.150  1.00  0.00          Ar  \nATOM     97 Ar   MOL A   1       0.000  10.520  10.520  1.00  0.00          Ar  \nATOM     98 Ar   MOL A   1       2.630  13.150  10.520  1.00  0.00          Ar  \nATOM     99 Ar   MOL A   1       2.630  10.520  13.150  1.00  0.00          Ar  \nATOM    100 Ar   MOL A   1       0.000  13.150  13.150  1.00  0.00          Ar  \nATOM    101 Ar   MOL A   1       5.260  10.520  10.520  1.00  0.00          Ar  \nATOM    102 Ar   MOL A   1       7.890  13.150  10.520  1.00  0.00          Ar  \nATOM    103 Ar   MOL A   1       7.890  10.520  13.150  1.00  0.00          Ar  \nATOM    104 Ar   MOL A   1       5.260  13.150  13.150  1.00  0.00          Ar  \nATOM    105 Ar   MOL A   1      10.520  10.520  10.520  1.00  0.00          Ar  \nATOM    106 Ar   MOL A   1      13.150  13.150  10.520  1.00  0.00          Ar  \nATOM    107 Ar   MOL A   1      13.150  10.520  13.150  1.00  0.00          Ar  \nATOM    108 Ar   MOL A   1      10.520  13.150  13.150  1.00  0.00          Ar  \nTER     109      MOL A   1\nENDMDL\nEND\n",
           "type": "blob"
          }
         ],
         "kwargs": {
          "defaultRepresentation": false,
          "ext": "pdb"
         },
         "methodName": "loadFile",
         "reconstruc_color_scheme": false,
         "target": "Stage",
         "type": "call_method"
        }
       ],
       "_ngl_original_stage_parameters": {
        "ambientColor": 14540253,
        "ambientIntensity": 0.2,
        "backgroundColor": "white",
        "cameraEyeSep": 0.3,
        "cameraFov": 40,
        "cameraType": "perspective",
        "clipDist": 10,
        "clipFar": 100,
        "clipNear": 0,
        "fogFar": 100,
        "fogNear": 50,
        "hoverTimeout": 0,
        "impostor": true,
        "lightColor": 14540253,
        "lightIntensity": 1,
        "mousePreset": "default",
        "panSpeed": 1,
        "quality": "medium",
        "rotateSpeed": 2,
        "sampleLevel": 0,
        "tooltip": true,
        "workerDefault": true,
        "zoomSpeed": 1.2
       },
       "_ngl_repr_dict": {
        "0": {
         "0": {
          "params": {
           "aspectRatio": 1.5,
           "assembly": "default",
           "bondScale": 0.3,
           "bondSpacing": 0.75,
           "clipCenter": {
            "x": 0,
            "y": 0,
            "z": 0
           },
           "clipNear": 0,
           "clipRadius": 0,
           "colorMode": "hcl",
           "colorReverse": false,
           "colorScale": "",
           "colorScheme": "element",
           "colorValue": 9474192,
           "cylinderOnly": false,
           "defaultAssembly": "",
           "depthWrite": true,
           "diffuse": 16777215,
           "diffuseInterior": false,
           "disableImpostor": false,
           "disablePicking": false,
           "flatShaded": false,
           "interiorColor": 2236962,
           "interiorDarkening": 0,
           "lazy": false,
           "lineOnly": false,
           "linewidth": 2,
           "matrix": {
            "elements": [
             1,
             0,
             0,
             0,
             0,
             1,
             0,
             0,
             0,
             0,
             1,
             0,
             0,
             0,
             0,
             1
            ]
           },
           "metalness": 0,
           "multipleBond": "off",
           "opacity": 1,
           "openEnded": true,
           "quality": "high",
           "radialSegments": 20,
           "radiusData": {},
           "radiusScale": 2,
           "radiusSize": 0.15,
           "radiusType": "size",
           "roughness": 0.4,
           "sele": "",
           "side": "double",
           "sphereDetail": 2,
           "useInteriorColor": true,
           "useWorker": true,
           "visible": true,
           "wireframe": false
          },
          "type": "ball+stick"
         }
        }
       },
       "_ngl_serialize": false,
       "_ngl_version": "2.0.0-dev.36",
       "_ngl_view_id": [
        "EDE2086F-7672-4B26-947C-BDCC099F2CC9",
        "836FC31A-D69F-4AB7-A7BD-EC31F34657F6"
       ],
       "_player_dict": {},
       "_scene_position": {},
       "_scene_rotation": {},
       "_synced_model_ids": [],
       "_synced_repr_model_ids": [],
       "_view_height": "",
       "_view_width": "",
       "background": "white",
       "frame": 9,
       "gui_style": null,
       "layout": "IPY_MODEL_0c3551933ac74267b5fbbead19ced971",
       "max_frame": 9,
       "n_components": 1,
       "picked": {}
      }
     },
     "e9ff8ec9e01b4dbabb83ede47e31417f": {
      "model_module": "@jupyter-widgets/controls",
      "model_module_version": "1.5.0",
      "model_name": "ButtonStyleModel",
      "state": {}
     },
     "ea6eb3ed55384e348965a44edf653809": {
      "model_module": "@jupyter-widgets/base",
      "model_module_version": "1.2.0",
      "model_name": "LayoutModel",
      "state": {}
     },
     "ea855ddcfca548129ed9bfe3bc0506c1": {
      "model_module": "@jupyter-widgets/base",
      "model_module_version": "1.2.0",
      "model_name": "LayoutModel",
      "state": {}
     },
     "eab96e85d3184887a6fc94d1468b07f6": {
      "model_module": "@jupyter-widgets/base",
      "model_module_version": "1.2.0",
      "model_name": "LayoutModel",
      "state": {
       "width": "34px"
      }
     },
     "eb7a821c12e145999e11d7bde806505e": {
      "model_module": "@jupyter-widgets/controls",
      "model_module_version": "1.5.0",
      "model_name": "DescriptionStyleModel",
      "state": {
       "description_width": ""
      }
     },
     "ed07d7652758420295d462a10ab668ee": {
      "model_module": "@jupyter-widgets/base",
      "model_module_version": "1.2.0",
      "model_name": "LayoutModel",
      "state": {}
     },
     "ed193703ede34a9fb8e5f72778f29209": {
      "model_module": "@jupyter-widgets/controls",
      "model_module_version": "1.5.0",
      "model_name": "DescriptionStyleModel",
      "state": {
       "description_width": ""
      }
     },
     "edb6e898697941d4b7096bf8ebedb053": {
      "model_module": "@jupyter-widgets/controls",
      "model_module_version": "1.5.0",
      "model_name": "SliderStyleModel",
      "state": {
       "description_width": ""
      }
     },
     "ee16aab9595047f882379a2eae1a162e": {
      "model_module": "nglview-js-widgets",
      "model_module_version": "2.7.1",
      "model_name": "ColormakerRegistryModel",
      "state": {
       "_msg_ar": [],
       "_msg_q": [],
       "_ready": true,
       "layout": "IPY_MODEL_17004d1e0d6c43c7a062c2ec8fd14865"
      }
     },
     "ee24b8388e454d4792f06a85f1eaf621": {
      "model_module": "@jupyter-widgets/controls",
      "model_module_version": "1.5.0",
      "model_name": "DescriptionStyleModel",
      "state": {
       "description_width": ""
      }
     },
     "ee4a2c7739b94cbf9f463c569f039b08": {
      "model_module": "@jupyter-widgets/controls",
      "model_module_version": "1.5.0",
      "model_name": "LinkModel",
      "state": {
       "source": [
        "IPY_MODEL_6e8d2f82ba0b40daafcc1ed7137bb374",
        "max"
       ],
       "target": [
        "IPY_MODEL_963359ecc3a14befbd39ef64498b5e8a",
        "max_frame"
       ]
      }
     },
     "ee695f6a77d8409084c12e43ef2e3bbc": {
      "model_module": "@jupyter-widgets/controls",
      "model_module_version": "1.5.0",
      "model_name": "LinkModel",
      "state": {
       "source": [
        "IPY_MODEL_ff0bacfb9b964a3da1fe96d8aa93e6f1",
        "value"
       ],
       "target": [
        "IPY_MODEL_7d76bd00a3c54748b92cf22aa5d858f6",
        "frame"
       ]
      }
     },
     "eeb01a2f910a48dd8b8fb6eb219c4a63": {
      "model_module": "@jupyter-widgets/controls",
      "model_module_version": "1.5.0",
      "model_name": "LinkModel",
      "state": {
       "source": [
        "IPY_MODEL_ff7eee6bf2634a8687d8eb0453d4517a",
        "max"
       ],
       "target": [
        "IPY_MODEL_1d62d16cd14048f1a63b120716fd3746",
        "max_frame"
       ]
      }
     },
     "eeccffd4506f4486a74dc9ae0567b3f0": {
      "model_module": "@jupyter-widgets/controls",
      "model_module_version": "1.5.0",
      "model_name": "SliderStyleModel",
      "state": {
       "description_width": ""
      }
     },
     "ef00e4a1839244fcbd9cf3c970aefce7": {
      "model_module": "@jupyter-widgets/controls",
      "model_module_version": "1.5.0",
      "model_name": "SliderStyleModel",
      "state": {
       "description_width": ""
      }
     },
     "ef408bc0833249479cdc9059d117a5b9": {
      "model_module": "@jupyter-widgets/controls",
      "model_module_version": "1.5.0",
      "model_name": "DescriptionStyleModel",
      "state": {
       "description_width": ""
      }
     },
     "ef4d1dcea8bc490fbe950ec6a760004c": {
      "model_module": "@jupyter-widgets/controls",
      "model_module_version": "1.5.0",
      "model_name": "DescriptionStyleModel",
      "state": {
       "description_width": ""
      }
     },
     "ef5894db7f994accbca4f795ec57a1e5": {
      "model_module": "@jupyter-widgets/base",
      "model_module_version": "1.2.0",
      "model_name": "LayoutModel",
      "state": {}
     },
     "f078b430faf24993bcf069231512d873": {
      "model_module": "@jupyter-widgets/controls",
      "model_module_version": "1.5.0",
      "model_name": "IntSliderModel",
      "state": {
       "layout": "IPY_MODEL_0852e88c0ef0418394106aaa4cf3120c",
       "max": 9,
       "style": "IPY_MODEL_8fc5ff33c232456790694f239572f449",
       "value": 9
      }
     },
     "f0e2403069824cac9606e868de1698b9": {
      "model_module": "@jupyter-widgets/controls",
      "model_module_version": "1.5.0",
      "model_name": "IntSliderModel",
      "state": {
       "layout": "IPY_MODEL_03cec4135d0c47a5974232f6a6ece4c5",
       "max": 1,
       "style": "IPY_MODEL_2e67408ed1f64ea8bcd7c4f1cf10d7e7",
       "value": 1
      }
     },
     "f149096d86024e6ca16924b537523f12": {
      "model_module": "@jupyter-widgets/controls",
      "model_module_version": "1.5.0",
      "model_name": "LinkModel",
      "state": {
       "source": [
        "IPY_MODEL_6e8d2f82ba0b40daafcc1ed7137bb374",
        "value"
       ],
       "target": [
        "IPY_MODEL_963359ecc3a14befbd39ef64498b5e8a",
        "frame"
       ]
      }
     },
     "f181b3b91d2a47218df328532774d102": {
      "model_module": "@jupyter-widgets/controls",
      "model_module_version": "1.5.0",
      "model_name": "LinkModel",
      "state": {
       "source": [
        "IPY_MODEL_609f35daacf14941b3699a266ad02df2",
        "max"
       ],
       "target": [
        "IPY_MODEL_ae2734d400504896b968becd5fa76d9a",
        "max_frame"
       ]
      }
     },
     "f1e7f5495d544c32b1e284c93350aec0": {
      "model_module": "@jupyter-widgets/controls",
      "model_module_version": "1.5.0",
      "model_name": "ImageModel",
      "state": {
       "layout": "IPY_MODEL_03fd44048fc345eb863b98fa928d658b",
       "width": "900.0"
      }
     },
     "f2a2990cc80a486e83e9914b0e1ac11c": {
      "model_module": "@jupyter-widgets/controls",
      "model_module_version": "1.5.0",
      "model_name": "LinkModel",
      "state": {
       "source": [
        "IPY_MODEL_c2f9b1264908438c9897c993a0a43c29",
        "max"
       ],
       "target": [
        "IPY_MODEL_8befc6494c174d939773878d46a55bd1",
        "max_frame"
       ]
      }
     },
     "f36cd9c8b60a46298c052cfefba2b8fc": {
      "model_module": "@jupyter-widgets/controls",
      "model_module_version": "1.5.0",
      "model_name": "DescriptionStyleModel",
      "state": {
       "description_width": ""
      }
     },
     "f3edc35f0a07490988697c634a070db4": {
      "model_module": "@jupyter-widgets/controls",
      "model_module_version": "1.5.0",
      "model_name": "LinkModel",
      "state": {
       "source": [
        "IPY_MODEL_a7f1fac863d847729efa3036f7cbf979",
        "max"
       ],
       "target": [
        "IPY_MODEL_751112a2a255448b97af6db087fcd76f",
        "max_frame"
       ]
      }
     },
     "f426e64c285a43a6b135fce46f649fe2": {
      "model_module": "@jupyter-widgets/controls",
      "model_module_version": "1.5.0",
      "model_name": "LinkModel",
      "state": {
       "source": [
        "IPY_MODEL_553e987de45246929a61bd7e59c543cc",
        "value"
       ],
       "target": [
        "IPY_MODEL_ac59ca0c124d4d7d83e4d1b5a19503c4",
        "value"
       ]
      }
     },
     "f4ca441a23a94b61ac20e5622e1e571c": {
      "model_module": "@jupyter-widgets/controls",
      "model_module_version": "1.5.0",
      "model_name": "ButtonModel",
      "state": {
       "icon": "compress",
       "layout": "IPY_MODEL_0d3f3bbc17dc44a58a078a02594cf82c",
       "style": "IPY_MODEL_8b31875f6d7941c7b6d7d6b95be39392"
      }
     },
     "f50afba46d3342d3885383061f569792": {
      "model_module": "@jupyter-widgets/controls",
      "model_module_version": "1.5.0",
      "model_name": "LinkModel",
      "state": {
       "source": [
        "IPY_MODEL_648c8e29c4894c6cbae3dd72be95011a",
        "max"
       ],
       "target": [
        "IPY_MODEL_5207f4643b0e44c482840d9ea9332830",
        "max_frame"
       ]
      }
     },
     "f65425d674154996af3bde170ccbfbd1": {
      "model_module": "@jupyter-widgets/base",
      "model_module_version": "1.2.0",
      "model_name": "LayoutModel",
      "state": {}
     },
     "f6f78817fdb64dc49b75a1b50ea5de4c": {
      "model_module": "@jupyter-widgets/controls",
      "model_module_version": "1.5.0",
      "model_name": "LinkModel",
      "state": {
       "source": [
        "IPY_MODEL_6e8d2f82ba0b40daafcc1ed7137bb374",
        "value"
       ],
       "target": [
        "IPY_MODEL_20f0365692964fdbab572d556d0789f6",
        "value"
       ]
      }
     },
     "f818ad409c864091ba92ebd2b1377779": {
      "model_module": "@jupyter-widgets/controls",
      "model_module_version": "1.5.0",
      "model_name": "HBoxModel",
      "state": {
       "children": [
        "IPY_MODEL_cd4d664a993d4ed093ccc7aa90992ff6",
        "IPY_MODEL_018e25077ebe4f359ec1eaef6fd1d82f"
       ],
       "layout": "IPY_MODEL_d643b68e0bce41fabf129b0f009eaf0e"
      }
     },
     "f8b2d174493b4e1195f322d70b1e6984": {
      "model_module": "@jupyter-widgets/base",
      "model_module_version": "1.2.0",
      "model_name": "LayoutModel",
      "state": {}
     },
     "f8b420f991a04f979ec4d813113c226e": {
      "model_module": "@jupyter-widgets/controls",
      "model_module_version": "1.5.0",
      "model_name": "LinkModel",
      "state": {
       "source": [
        "IPY_MODEL_8263044a38104358be87481d23504643",
        "value"
       ],
       "target": [
        "IPY_MODEL_9edd37bcee6440f9a8d956c2cec48202",
        "value"
       ]
      }
     },
     "f991da76f74a4e46b972a101d70eeb8c": {
      "model_module": "@jupyter-widgets/base",
      "model_module_version": "1.2.0",
      "model_name": "LayoutModel",
      "state": {}
     },
     "f9ab86a4cf8c49f2ab260f0053e076f1": {
      "model_module": "@jupyter-widgets/controls",
      "model_module_version": "1.5.0",
      "model_name": "PlayModel",
      "state": {
       "layout": "IPY_MODEL_2d5c3a81dfec4dc1a7037fd62f3358d1",
       "max": 29,
       "style": "IPY_MODEL_eb7a821c12e145999e11d7bde806505e",
       "value": 18
      }
     },
     "fa5522f7f19a412a9405a0dd9f05fe0d": {
      "model_module": "@jupyter-widgets/base",
      "model_module_version": "1.2.0",
      "model_name": "LayoutModel",
      "state": {
       "width": "34px"
      }
     },
     "fa5c63e548f24abf97af79ac290e041a": {
      "model_module": "@jupyter-widgets/controls",
      "model_module_version": "1.5.0",
      "model_name": "LinkModel",
      "state": {
       "source": [
        "IPY_MODEL_8234052850c0471f88c66da1fa5b04fb",
        "max"
       ],
       "target": [
        "IPY_MODEL_4061cd674c5544d99f13d751b7b38aea",
        "max_frame"
       ]
      }
     },
     "fa87e5803879480b852e136cb37b4083": {
      "model_module": "@jupyter-widgets/controls",
      "model_module_version": "1.5.0",
      "model_name": "PlayModel",
      "state": {
       "layout": "IPY_MODEL_b058ef10596548b98ddc439d4993d66e",
       "max": 0,
       "style": "IPY_MODEL_0afb1f1a7de64fabb17bd3f30a59ff44"
      }
     },
     "fb0177857d2f4e50bc70e3ee4c77cd8d": {
      "model_module": "@jupyter-widgets/controls",
      "model_module_version": "1.5.0",
      "model_name": "ButtonStyleModel",
      "state": {}
     },
     "fcd99ed5f36947a7a770bdc6143238b8": {
      "model_module": "nglview-js-widgets",
      "model_module_version": "2.7.1",
      "model_name": "NGLModel",
      "state": {
       "_camera_orientation": [
        15.271925906981508,
        0,
        0,
        0,
        0,
        15.271925906981508,
        0,
        0,
        0,
        0,
        15.271925906981508,
        0,
        -1.0709999799728394,
        -1.0709999799728394,
        -1.0709999799728394,
        1
       ],
       "_camera_str": "orthographic",
       "_gui_theme": null,
       "_ibtn_fullscreen": "IPY_MODEL_1ce8e98926d44bbca1101339e44e978d",
       "_igui": null,
       "_iplayer": "IPY_MODEL_425e64a3c92a42b2b9cad9bb827164bb",
       "_ngl_color_dict": {},
       "_ngl_coordinate_resource": {},
       "_ngl_full_stage_parameters": {
        "ambientColor": 14540253,
        "ambientIntensity": 0.2,
        "backgroundColor": "white",
        "cameraEyeSep": 0.3,
        "cameraFov": 40,
        "cameraType": "perspective",
        "clipDist": 10,
        "clipFar": 100,
        "clipNear": 0,
        "fogFar": 100,
        "fogNear": 50,
        "hoverTimeout": 0,
        "impostor": true,
        "lightColor": 14540253,
        "lightIntensity": 1,
        "mousePreset": "default",
        "panSpeed": 1,
        "quality": "medium",
        "rotateSpeed": 2,
        "sampleLevel": 0,
        "tooltip": true,
        "workerDefault": true,
        "zoomSpeed": 1.2
       },
       "_ngl_msg_archive": [
        {
         "args": [
          {
           "binary": false,
           "data": "MODEL        0\nATOM      1  H   MOL A   1       0.000   0.000   0.000  1.00  0.00          H   \nATOM      2  H   MOL A   1       0.714   0.714   0.000  1.00  0.00          H   \nATOM      3  H   MOL A   1       0.714   0.000   0.714  1.00  0.00          H   \nATOM      4  H   MOL A   1       0.000   0.714   0.714  1.00  0.00          H   \nATOM      5  H   MOL A   1       1.428   0.000   0.000  1.00  0.00          H   \nATOM      6  H   MOL A   1       2.142   0.714   0.000  1.00  0.00          H   \nATOM      7  H   MOL A   1       2.142   0.000   0.714  1.00  0.00          H   \nATOM      8  H   MOL A   1       1.428   0.714   0.714  1.00  0.00          H   \nATOM      9  H   MOL A   1       0.000   1.428   0.000  1.00  0.00          H   \nATOM     10  H   MOL A   1       0.714   2.142   0.000  1.00  0.00          H   \nATOM     11  H   MOL A   1       0.714   1.428   0.714  1.00  0.00          H   \nATOM     12  H   MOL A   1       0.000   2.142   0.714  1.00  0.00          H   \nATOM     13  H   MOL A   1       1.428   1.428   0.000  1.00  0.00          H   \nATOM     14  H   MOL A   1       2.142   2.142   0.000  1.00  0.00          H   \nATOM     15  H   MOL A   1       2.142   1.428   0.714  1.00  0.00          H   \nATOM     16  H   MOL A   1       1.428   2.142   0.714  1.00  0.00          H   \nATOM     17  H   MOL A   1       0.000   0.000   1.428  1.00  0.00          H   \nATOM     18  H   MOL A   1       0.714   0.714   1.428  1.00  0.00          H   \nATOM     19  H   MOL A   1       0.714   0.000   2.142  1.00  0.00          H   \nATOM     20  H   MOL A   1       0.000   0.714   2.142  1.00  0.00          H   \nATOM     21  H   MOL A   1       1.428   0.000   1.428  1.00  0.00          H   \nATOM     22  H   MOL A   1       2.142   0.714   1.428  1.00  0.00          H   \nATOM     23  H   MOL A   1       2.142   0.000   2.142  1.00  0.00          H   \nATOM     24  H   MOL A   1       1.428   0.714   2.142  1.00  0.00          H   \nATOM     25  H   MOL A   1       0.000   1.428   1.428  1.00  0.00          H   \nATOM     26  H   MOL A   1       0.714   2.142   1.428  1.00  0.00          H   \nATOM     27  H   MOL A   1       0.714   1.428   2.142  1.00  0.00          H   \nATOM     28  H   MOL A   1       0.000   2.142   2.142  1.00  0.00          H   \nATOM     29  H   MOL A   1       1.428   1.428   1.428  1.00  0.00          H   \nATOM     30  H   MOL A   1       2.142   2.142   1.428  1.00  0.00          H   \nATOM     31  H   MOL A   1       2.142   1.428   2.142  1.00  0.00          H   \nATOM     32  H   MOL A   1       1.428   2.142   2.142  1.00  0.00          H   \nTER      33      MOL A   1\nENDMDL\nEND\n",
           "type": "blob"
          }
         ],
         "kwargs": {
          "defaultRepresentation": true,
          "ext": "pdb"
         },
         "methodName": "loadFile",
         "reconstruc_color_scheme": false,
         "target": "Stage",
         "type": "call_method"
        }
       ],
       "_ngl_original_stage_parameters": {
        "ambientColor": 14540253,
        "ambientIntensity": 0.2,
        "backgroundColor": "white",
        "cameraEyeSep": 0.3,
        "cameraFov": 40,
        "cameraType": "perspective",
        "clipDist": 10,
        "clipFar": 100,
        "clipNear": 0,
        "fogFar": 100,
        "fogNear": 50,
        "hoverTimeout": 0,
        "impostor": true,
        "lightColor": 14540253,
        "lightIntensity": 1,
        "mousePreset": "default",
        "panSpeed": 1,
        "quality": "medium",
        "rotateSpeed": 2,
        "sampleLevel": 0,
        "tooltip": true,
        "workerDefault": true,
        "zoomSpeed": 1.2
       },
       "_ngl_repr_dict": {
        "0": {
         "0": {
          "params": {
           "aspectRatio": 1.5,
           "assembly": "default",
           "bondScale": 0.3,
           "bondSpacing": 0.75,
           "clipCenter": {
            "x": 0,
            "y": 0,
            "z": 0
           },
           "clipNear": 0,
           "clipRadius": 0,
           "colorMode": "hcl",
           "colorReverse": false,
           "colorScale": "",
           "colorScheme": "element",
           "colorValue": 9474192,
           "cylinderOnly": false,
           "defaultAssembly": "",
           "depthWrite": true,
           "diffuse": 16777215,
           "diffuseInterior": false,
           "disableImpostor": false,
           "disablePicking": false,
           "flatShaded": false,
           "interiorColor": 2236962,
           "interiorDarkening": 0,
           "lazy": false,
           "lineOnly": false,
           "linewidth": 2,
           "matrix": {
            "elements": [
             1,
             0,
             0,
             0,
             0,
             1,
             0,
             0,
             0,
             0,
             1,
             0,
             0,
             0,
             0,
             1
            ]
           },
           "metalness": 0,
           "multipleBond": "off",
           "opacity": 1,
           "openEnded": true,
           "quality": "high",
           "radialSegments": 20,
           "radiusData": {},
           "radiusScale": 2,
           "radiusSize": 0.15,
           "radiusType": "size",
           "roughness": 0.4,
           "sele": "",
           "side": "double",
           "sphereDetail": 2,
           "useInteriorColor": true,
           "visible": true,
           "wireframe": false
          },
          "type": "ball+stick"
         }
        }
       },
       "_ngl_serialize": false,
       "_ngl_version": "2.0.0-dev.36",
       "_ngl_view_id": [
        "A69DE9C7-2E13-4E93-8BCE-B6BB9C7C070A"
       ],
       "_player_dict": {},
       "_scene_position": {},
       "_scene_rotation": {},
       "_synced_model_ids": [],
       "_synced_repr_model_ids": [],
       "_view_height": "",
       "_view_width": "",
       "background": "white",
       "frame": 0,
       "gui_style": null,
       "layout": "IPY_MODEL_d917416a23df403e848145eda4bc129f",
       "max_frame": 4,
       "n_components": 1,
       "picked": {}
      }
     },
     "fd0a36d70d2943d28cd278610a526450": {
      "model_module": "@jupyter-widgets/base",
      "model_module_version": "1.2.0",
      "model_name": "LayoutModel",
      "state": {}
     },
     "fdb3a42df0ca4ca6b4d9953f3f61ad6c": {
      "model_module": "@jupyter-widgets/base",
      "model_module_version": "1.2.0",
      "model_name": "LayoutModel",
      "state": {}
     },
     "fe3f8c21fcbf4b2cb339925ab6b4f1ed": {
      "model_module": "@jupyter-widgets/controls",
      "model_module_version": "1.5.0",
      "model_name": "ButtonModel",
      "state": {
       "icon": "compress",
       "layout": "IPY_MODEL_0adf0f069bc44cf09175541ecb228bbd",
       "style": "IPY_MODEL_466b6a0e65194963b820a9774049d2e0"
      }
     },
     "feb00edf98a94546a5d010e4f6083012": {
      "model_module": "@jupyter-widgets/controls",
      "model_module_version": "1.5.0",
      "model_name": "ButtonStyleModel",
      "state": {}
     },
     "feceaf8cc7fc4c97b72143b587d00d90": {
      "model_module": "@jupyter-widgets/base",
      "model_module_version": "1.2.0",
      "model_name": "LayoutModel",
      "state": {}
     },
     "fed021f119d242b9a9d22164dbfd9000": {
      "model_module": "@jupyter-widgets/controls",
      "model_module_version": "1.5.0",
      "model_name": "LinkModel",
      "state": {
       "source": [
        "IPY_MODEL_f078b430faf24993bcf069231512d873",
        "max"
       ],
       "target": [
        "IPY_MODEL_ae2734d400504896b968becd5fa76d9a",
        "max_frame"
       ]
      }
     },
     "fede47f33ce04887a2d29b5966ab0894": {
      "model_module": "@jupyter-widgets/controls",
      "model_module_version": "1.5.0",
      "model_name": "LinkModel",
      "state": {
       "source": [
        "IPY_MODEL_e1bef34e3baf45adaf33e76d09f4bbea",
        "value"
       ],
       "target": [
        "IPY_MODEL_cdcf4af4adba41849411e5c0d29e9ffe",
        "value"
       ]
      }
     },
     "ff0bacfb9b964a3da1fe96d8aa93e6f1": {
      "model_module": "@jupyter-widgets/controls",
      "model_module_version": "1.5.0",
      "model_name": "PlayModel",
      "state": {
       "layout": "IPY_MODEL_164cdecd38ca4e03af405d643d589fae",
       "max": 1,
       "style": "IPY_MODEL_d8310eba695646fb826cdf987ba2189a",
       "value": 1
      }
     },
     "ff7eee6bf2634a8687d8eb0453d4517a": {
      "model_module": "@jupyter-widgets/controls",
      "model_module_version": "1.5.0",
      "model_name": "IntSliderModel",
      "state": {
       "layout": "IPY_MODEL_5f3359ee9c1c4b71a72fa732b647ce9a",
       "max": 99,
       "style": "IPY_MODEL_a6b0e605d0be464999dff4fbff3c5e74",
       "value": 99
      }
     }
    },
    "version_major": 2,
    "version_minor": 0
   }
  }
 },
 "nbformat": 4,
 "nbformat_minor": 2
}
